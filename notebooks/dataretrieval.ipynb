{
 "cells": [
  {
   "cell_type": "code",
   "execution_count": 1,
   "metadata": {},
   "outputs": [],
   "source": [
    "import bm25s"
   ]
  },
  {
   "cell_type": "code",
   "execution_count": 2,
   "metadata": {},
   "outputs": [
    {
     "name": "stdout",
     "output_type": "stream",
     "text": [
      "{'extraction_info': {'apiVersion': '2024-07-31-preview', 'modelID': 'prebuilt-layout'}, 'meta_info_file': {'source': 'Annual-Report-2023_8_9_15_120.pdf', 'stringIndexType': <StringIndexType.TEXT_ELEMENTS: 'textElements'>, 'pagesTotal': 2, 'paragraphsTotal': 23, 'handwritten': True, 'tablesTotal': 0, 'figuresTotal': 0}, 'pages': [{'page_number': 1, 'meta_page': {'width': 8.2639, 'height': 11.6806, 'unit': 'inch'}, 'structure_page': {'footnote': [], 'page_header': ['Deutsche Bank Annual Report 2023', 'Letter from the Chairman of the Supervisory Board'], 'page_footer': [], 'page_title': ['Letter from the Chairman of the Supervisory Board'], 'section_headings': []}, 'content_page': {'handwritten': [], 'paragraphs': [{'role': None, 'reading_order': 4, 'raw_text': 'Dear Shareholders,', 'bounding_box': [0.8758, 2.0298, 1.9059, 2.035, 1.9052, 2.1761, 0.8751, 2.1709]}, {'role': None, 'reading_order': 5, 'raw_text': \"Last year, Deutsche Bank proved its resilience in a volatile environment, further increasing revenues and delivering its best pre-tax profit in 16 years. Thanks to its prudent risk management, the bank has a strong and stable balance sheet and has further strengthened its capital base. As a result, we are this year once again in a position to substantially increase capital distributions to shareholders and we are pleased that the Supervisory Board and Management Board will propose to you a 50% increase in the dividend to € 0.45 per share at this year's Annual General Meeting.\", 'bounding_box': [0.8674, 2.3327, 7.3878, 2.3355, 7.3875, 3.1058, 0.8671, 3.103]}, {'role': None, 'reading_order': 6, 'raw_text': \"In this economic environment, the resilience and sustainable profitability of our bank were also focus topics for the Supervisory Board. It was the Risk Committee's task to keep an eye on our capital adequacy as well as to oversee the bank's risk management and the development of non-financial risks. Another priority was to set the course for future growth. The Supervisory Board closely monitored the strategic development of the bank's culture and business model together with its financial targets and capital objectives up to 2025. The Supervisory Board expressly supports the bank's even sharper focus on its role as a Global Hausbank. Part of this is supporting clients in their sustainable and digital transformation. This strategy not only enables the bank to play its role within the German and European economy but also - of this the Supervisory Board is convinced - it is the right way to generate sustainable profits and returns for you as shareholders. In this context, the Supervisory Board welcomes and supports the Management Board's work on clearly defining the bank's purpose, its vision and aspirational culture, guided by the conviction that our top priority must be an even stronger focus on placing our clients at the center of everything we do.\", 'bounding_box': [0.8669, 3.2452, 7.3937, 3.249, 7.3927, 4.9384, 0.8659, 4.9346]}, {'role': None, 'reading_order': 7, 'raw_text': \"Effective controls protect both our bank and our clients. Further improving these controls was another important topic last year. The Supervisory Board regularly discussed significant regulatory issues as well as progress in the processing of material litigation cases. We are aware that there is still more to do. The Management Board and Supervisory Board are in close dialogue with regulators and are focused on delivering the necessary improvements. To achieve this, the bank spent about € 1.2 billion on controls in 2023 and hired around 1,000 dedicated professionals across all regions. More details on these important issues can be found in Deutsche Bank's Non-Financial Report, which is published in parallel with this Annual Report.\", 'bounding_box': [0.8673, 5.076, 7.3912, 5.0744, 7.3914, 5.9998, 0.8675, 6.0015]}, {'role': None, 'reading_order': 8, 'raw_text': \"One of the issues that the Supervisory Board addressed intensively last year was the restrictions for our clients following the migration of Postbank's IT to a common platform. The Management Board regularly reported to the Supervisory Board on the progress made in resolving the backlogs that had arisen, which were able to be reduced substantially over the past months. Nevertheless, it is clear that we have not lived up to our service and quality standards here and have disappointed our clients. On behalf of the Supervisory Board I would like to express my sincere apologies for the delays and problems caused to our clients. The Supervisory Board has taken action as a result and reduced the variable compensation of several current and departed Management Board members. Details can be found in our Compensation Report.\", 'bounding_box': [0.8724, 6.1486, 7.3834, 6.1486, 7.3834, 7.22, 0.8724, 7.22]}, {'role': None, 'reading_order': 9, 'raw_text': \"There you will also find information on how we intend to develop the Management Board compensation system for 2024 and beyond. In our review, we incorporated feedback from investors and are addressing two main concerns: first, we want to simplify the system, making it more transparent for our external stakeholders, by significantly reducing the number of targets and indicators on which variable compensation depends. Second, we aim to align how we evaluate Management Board members' performance even more closely with the interests of our shareholders. This applies above all to the long-term component of variable compensation, which in future will no longer be measured against past years' results. In the new system, both financial and ESG targets will be forward-looking over a period of three years. In addition, we aim to be more ambitious when it comes to setting targets for certain key performance indicators. We will submit the revised compensation system to you for voting at the Annual General Meeting in May; it is to be applied as early as this year.\", 'bounding_box': [0.8639, 7.37, 7.3858, 7.3679, 7.3862, 8.749, 0.8643, 8.751]}, {'role': None, 'reading_order': 10, 'raw_text': \"In 2023, the Supervisory Board also addressed personnel decisions in the Management Board. At the Annual General Meeting, we bid farewell to Christiana Riley, Americas CEO, and Karl von Rohr, President and Head of Private Bank, who left the bank at the end of October after 25 years of service. Claudio de Sanctis subsequently assumed responsibility for the Private Bank and joined the Management Board in July. He has been with Deutsche Bank since 2018 and has successfully transformed the International Private Bank in recent years and focused it on its strengths in the advisory business. Stefan Simon assumed responsibility for the Americas region - in addition to his global responsibility for Legal, Regulatory Affairs and Anti-Financial Crime. Besides client coverage, the structure of the US market requires significant coordination and dialogue with regulators. Responsible for maintaining closer connections between the regions and our home market is Alexander von zur Mühlen. He assumed responsibility for Germany and Europe, Middle East and Africa (EMEA) in July. He also continues to oversee the Asia-Pacific region. Rebecca Short was given an extended mandate on the Management Board with a view to making the bank more efficient. In addition to her responsibility for Human Resources, she was appointed Chief Operating Officer with overall responsibility for the Group's costs.\", 'bounding_box': [0.8677, 8.8944, 7.3906, 8.8919, 7.3913, 10.7263, 0.8684, 10.7288]}], 'tables': [], 'figures': []}}, {'page_number': 2, 'meta_page': {'width': 8.2639, 'height': 11.6806, 'unit': 'inch'}, 'structure_page': {'footnote': [], 'page_header': ['Deutsche Bank Annual Report 2023', 'Letter from the Chairman of the Supervisory Board'], 'page_footer': [], 'page_title': [], 'section_headings': []}, 'content_page': {'handwritten': [{'reading order': 19, 'confidence': 1, 'offset': 8773, 'span_length': 13, 'raw_text': 'Alex Wynandts', 'bounding_box': [0.9615, 6.5351, 2.4119, 6.5234, 2.4147, 6.8633, 0.9643, 6.875]}], 'paragraphs': [{'role': None, 'reading_order': 14, 'raw_text': \"As part of personnel reorganization measures, the Management Board was reduced from ten to nine members to make it more efficient. With this new composition, we do, however, fall short of our own commitment regarding the share of women on the Management Board. The Supervisory Board is focused on raising the proportion of women in leadership roles, both at Management Board level and below. As part of the bank's new compensation system, we seek to integrate the latter more firmly into the performance goals of our Management Board members.\", 'bounding_box': [0.867, 1.3907, 7.39, 1.3878, 7.3904, 2.1489, 0.8673, 2.1518]}, {'role': None, 'reading_order': 15, 'raw_text': \"On the Supervisory Board, there was a routine change as a result of last year's elections, with Susanne Bleidt, Claudia Fieber, Brigit Laumen, Gerlinde Siebert, Frank Schulze, Stephan Szukalski and Jürgen Tögel being newly elected as employee representatives, while Jan Duscheck, Manja Eifert and Timo Heider were re-elected for a further term of office. In January 2024, Birgit Laumen resigned from her mandate and the court subsequently appointed Florian Haggenmiller as her successor. I would like to once again welcome all those who joined the Supervisory Board. My special thanks go to Frank Schulze, one of my deputies, for the close cooperation and partnership since the very beginning.\", 'bounding_box': [0.8711, 2.2969, 7.3851, 2.2975, 7.385, 3.2201, 0.8711, 3.2195]}, {'role': None, 'reading_order': 16, 'raw_text': 'On the shareholder side, continuity was the order of the day. Four shareholder representatives, whose term of office expired in 2023, were each re-elected by the Annual General Meeting for another four years. We look forward to continuing our valuable collaboration with Mayree Clark, John Thain, Michele Trogni and Norbert Winkeljohann.', 'bounding_box': [0.8695, 3.3676, 7.385, 3.3698, 7.3848, 3.8284, 0.8694, 3.8262]}, {'role': None, 'reading_order': 17, 'raw_text': 'In 2024, our Annual General Meeting will again be held virtually. The experience of the past few years has convinced us to take this step; this inclusive format offers numerous benefits. We have received recognition for the transparent implementation and quality of the answers to shareholder questions, which will again be submitted in advance this year. At the same time, we aim to enable an enhanced dialogue with shareholders on the day of the Annual General Meeting.', 'bounding_box': [0.8679, 3.9795, 7.3867, 3.9787, 7.3868, 4.5918, 0.8679, 4.5925]}, {'role': None, 'reading_order': 18, 'raw_text': 'Dear shareholders, the Supervisory Board is confident that your Deutsche Bank is on the right track. The bank has the right set-up and a strong management team. We will do everything we can to support them in the next phase of their growth strategy and to put our clients at the heart of everything we do. I am convinced that if we focus on our clients and our strengths, we will continue to create sustainable value for you, our shareholders.', 'bounding_box': [0.8716, 4.7395, 7.3887, 4.7411, 7.3886, 5.3533, 0.8714, 5.3517]}, {'role': None, 'reading_order': 19, 'raw_text': 'Sincerely,', 'bounding_box': [0.8731, 5.8121, 1.4009, 5.8186, 1.3991, 5.9626, 0.8713, 5.9562]}, {'role': None, 'reading_order': 20, 'raw_text': 'Alex Wynandts', 'bounding_box': [0.9615, 6.5351, 2.4119, 6.5234, 2.4147, 6.8633, 0.9643, 6.875]}, {'role': None, 'reading_order': 21, 'raw_text': 'Alex Wynaendts', 'bounding_box': [0.8723, 7.2704, 1.7417, 7.2727, 1.7413, 7.4144, 0.872, 7.4122]}, {'role': None, 'reading_order': 22, 'raw_text': 'Chairman of the Supervisory Board', 'bounding_box': [0.875, 7.5723, 2.7331, 7.5728, 2.7331, 7.7249, 0.875, 7.7244]}], 'tables': [], 'figures': []}}]}\n"
     ]
    }
   ],
   "source": [
    "#Load the result from the pickle file\n",
    "import pickle\n",
    "import os\n",
    "output_dir = '/Users/ann-kathrin/repositories/PDFDataToolkit/data/output_azuredocintelligence'\n",
    "output_filepath = os.path.join(output_dir, 'document_info_1.pkl')\n",
    "\n",
    "# Load from pickle file\n",
    "with open(output_filepath, 'rb') as f:\n",
    "    result = pickle.load(f)\n",
    "\n",
    "print(result)"
   ]
  },
  {
   "cell_type": "code",
   "execution_count": 3,
   "metadata": {},
   "outputs": [
    {
     "name": "stdout",
     "output_type": "stream",
     "text": [
      "{'apiVersion': '2024-07-31-preview', 'modelId': 'prebuilt-layout', 'stringIndexType': 'textElements', 'content': '<!-- PageHeader=\"Deutsche Bank Annual Report 2023\" -->\\n<!-- PageHeader=\"Letter from the Chairman of the Supervisory Board\" -->\\n\\n\\n# Letter from the Chairman of the Supervisory Board\\n\\nDear Shareholders,\\n\\nLast year, Deutsche Bank proved its resilience in a volatile environment, further increasing revenues and delivering its best\\npre-tax profit in 16 years. Thanks to its prudent risk management, the bank has a strong and stable balance sheet and has\\nfurther strengthened its capital base. As a result, we are this year once again in a position to substantially increase capital\\ndistributions to shareholders and we are pleased that the Supervisory Board and Management Board will propose to you a\\n50% increase in the dividend to € 0.45 per share at this year\\'s Annual General Meeting.\\n\\nIn this economic environment, the resilience and sustainable profitability of our bank were also focus topics for the Supervisory\\nBoard. It was the Risk Committee\\'s task to keep an eye on our capital adequacy as well as to oversee the bank\\'s risk\\nmanagement and the development of non-financial risks. Another priority was to set the course for future growth. The\\nSupervisory Board closely monitored the strategic development of the bank\\'s culture and business model together with its\\nfinancial targets and capital objectives up to 2025. The Supervisory Board expressly supports the bank\\'s even sharper focus\\non its role as a Global Hausbank. Part of this is supporting clients in their sustainable and digital transformation. This strategy\\nnot only enables the bank to play its role within the German and European economy but also - of this the Supervisory Board\\nis convinced - it is the right way to generate sustainable profits and returns for you as shareholders. In this context, the\\nSupervisory Board welcomes and supports the Management Board\\'s work on clearly defining the bank\\'s purpose, its vision\\nand aspirational culture, guided by the conviction that our top priority must be an even stronger focus on placing our clients at\\nthe center of everything we do.\\n\\nEffective controls protect both our bank and our clients. Further improving these controls was another important topic last\\nyear. The Supervisory Board regularly discussed significant regulatory issues as well as progress in the processing of material\\nlitigation cases. We are aware that there is still more to do. The Management Board and Supervisory Board are in close\\ndialogue with regulators and are focused on delivering the necessary improvements. To achieve this, the bank spent about\\n€ 1.2 billion on controls in 2023 and hired around 1,000 dedicated professionals across all regions. More details on these\\nimportant issues can be found in Deutsche Bank\\'s Non-Financial Report, which is published in parallel with this Annual Report.\\n\\nOne of the issues that the Supervisory Board addressed intensively last year was the restrictions for our clients following the\\nmigration of Postbank\\'s IT to a common platform. The Management Board regularly reported to the Supervisory Board on the\\nprogress made in resolving the backlogs that had arisen, which were able to be reduced substantially over the past months.\\nNevertheless, it is clear that we have not lived up to our service and quality standards here and have disappointed our clients.\\nOn behalf of the Supervisory Board I would like to express my sincere apologies for the delays and problems caused to our\\nclients. The Supervisory Board has taken action as a result and reduced the variable compensation of several current and\\ndeparted Management Board members. Details can be found in our Compensation Report.\\n\\nThere you will also find information on how we intend to develop the Management Board compensation system for 2024 and\\nbeyond. In our review, we incorporated feedback from investors and are addressing two main concerns: first, we want to\\nsimplify the system, making it more transparent for our external stakeholders, by significantly reducing the number of targets\\nand indicators on which variable compensation depends. Second, we aim to align how we evaluate Management Board\\nmembers\\' performance even more closely with the interests of our shareholders. This applies above all to the long-term\\ncomponent of variable compensation, which in future will no longer be measured against past years\\' results. In the new system,\\nboth financial and ESG targets will be forward-looking over a period of three years. In addition, we aim to be more ambitious\\nwhen it comes to setting targets for certain key performance indicators. We will submit the revised compensation system to\\nyou for voting at the Annual General Meeting in May; it is to be applied as early as this year.\\n\\nIn 2023, the Supervisory Board also addressed personnel decisions in the Management Board. At the Annual General\\nMeeting, we bid farewell to Christiana Riley, Americas CEO, and Karl von Rohr, President and Head of Private Bank, who left\\nthe bank at the end of October after 25 years of service. Claudio de Sanctis subsequently assumed responsibility for the\\nPrivate Bank and joined the Management Board in July. He has been with Deutsche Bank since 2018 and has successfully\\ntransformed the International Private Bank in recent years and focused it on its strengths in the advisory business. Stefan\\nSimon assumed responsibility for the Americas region - in addition to his global responsibility for Legal, Regulatory Affairs\\nand Anti-Financial Crime. Besides client coverage, the structure of the US market requires significant coordination and\\ndialogue with regulators. Responsible for maintaining closer connections between the regions and our home market is\\nAlexander von zur Mühlen. He assumed responsibility for Germany and Europe, Middle East and Africa (EMEA) in July. He\\nalso continues to oversee the Asia-Pacific region. Rebecca Short was given an extended mandate on the Management Board\\nwith a view to making the bank more efficient. In addition to her responsibility for Human Resources, she was appointed Chief\\nOperating Officer with overall responsibility for the Group\\'s costs.\\n\\n<!-- PageNumber=\"VI\" -->\\n<!-- PageBreak -->\\n\\n<!-- PageHeader=\"Deutsche Bank Annual Report 2023\" -->\\n<!-- PageHeader=\"Letter from the Chairman of the Supervisory Board\" -->\\n\\nAs part of personnel reorganization measures, the Management Board was reduced from ten to nine members to make it\\nmore efficient. With this new composition, we do, however, fall short of our own commitment regarding the share of women\\non the Management Board. The Supervisory Board is focused on raising the proportion of women in leadership roles, both at\\nManagement Board level and below. As part of the bank\\'s new compensation system, we seek to integrate the latter more\\nfirmly into the performance goals of our Management Board members.\\n\\nOn the Supervisory Board, there was a routine change as a result of last year\\'s elections, with Susanne Bleidt, Claudia Fieber,\\nBrigit Laumen, Gerlinde Siebert, Frank Schulze, Stephan Szukalski and Jürgen Tögel being newly elected as employee\\nrepresentatives, while Jan Duscheck, Manja Eifert and Timo Heider were re-elected for a further term of office. In January\\n2024, Birgit Laumen resigned from her mandate and the court subsequently appointed Florian Haggenmiller as her successor.\\nI would like to once again welcome all those who joined the Supervisory Board. My special thanks go to Frank Schulze, one\\nof my deputies, for the close cooperation and partnership since the very beginning.\\n\\nOn the shareholder side, continuity was the order of the day. Four shareholder representatives, whose term of office expired\\nin 2023, were each re-elected by the Annual General Meeting for another four years. We look forward to continuing our\\nvaluable collaboration with Mayree Clark, John Thain, Michele Trogni and Norbert Winkeljohann.\\n\\nIn 2024, our Annual General Meeting will again be held virtually. The experience of the past few years has convinced us to\\ntake this step; this inclusive format offers numerous benefits. We have received recognition for the transparent implementation\\nand quality of the answers to shareholder questions, which will again be submitted in advance this year. At the same time, we\\naim to enable an enhanced dialogue with shareholders on the day of the Annual General Meeting.\\n\\nDear shareholders, the Supervisory Board is confident that your Deutsche Bank is on the right track. The bank has the right\\nset-up and a strong management team. We will do everything we can to support them in the next phase of their growth strategy\\nand to put our clients at the heart of everything we do. I am convinced that if we focus on our clients and our strengths, we will\\ncontinue to create sustainable value for you, our shareholders.\\n\\nSincerely,\\n\\nAlex Wynandts\\n\\nAlex Wynaendts\\n\\nChairman of the Supervisory Board\\n\\n<!-- PageNumber=\"VII\" -->\\n', 'pages': [{'pageNumber': 1, 'angle': 0.0003804186126217246, 'width': 8.2639, 'height': 11.6806, 'unit': 'inch', 'words': [{'content': 'Deutsche', 'polygon': [0.8752, 0.3904, 1.287, 0.3908, 1.2869, 0.5062, 0.875, 0.5046], 'confidence': 0.996, 'span': {'offset': 17, 'length': 8}}, {'content': 'Bank', 'polygon': [1.3191, 0.391, 1.5466, 0.3912, 1.5466, 0.5056, 1.3189, 0.5061], 'confidence': 0.994, 'span': {'offset': 26, 'length': 4}}, {'content': 'Annual', 'polygon': [0.869, 0.5031, 1.1781, 0.5035, 1.1782, 0.6199, 0.8691, 0.6185], 'confidence': 0.995, 'span': {'offset': 31, 'length': 6}}, {'content': 'Report', 'polygon': [1.2123, 0.503, 1.4967, 0.5029, 1.4967, 0.6197, 1.2123, 0.6202], 'confidence': 0.996, 'span': {'offset': 38, 'length': 6}}, {'content': '2023', 'polygon': [1.5214, 0.5029, 1.7407, 0.5023, 1.7407, 0.6174, 1.5213, 0.6194], 'confidence': 0.988, 'span': {'offset': 45, 'length': 4}}, {'content': 'Letter', 'polygon': [3.3522, 0.3874, 3.5742, 0.3868, 3.5739, 0.4969, 3.3518, 0.4963], 'confidence': 0.995, 'span': {'offset': 72, 'length': 6}}, {'content': 'from', 'polygon': [3.596, 0.3868, 3.7834, 0.3869, 3.783, 0.4974, 3.5957, 0.497], 'confidence': 0.991, 'span': {'offset': 79, 'length': 4}}, {'content': 'the', 'polygon': [3.8107, 0.3869, 3.9326, 0.3871, 3.9322, 0.4982, 3.8103, 0.4976], 'confidence': 0.998, 'span': {'offset': 84, 'length': 3}}, {'content': 'Chairman', 'polygon': [3.9618, 0.3871, 4.3311, 0.3875, 4.3308, 0.4984, 3.9613, 0.4982], 'confidence': 0.995, 'span': {'offset': 88, 'length': 8}}, {'content': 'of', 'polygon': [4.362, 0.3875, 4.4257, 0.3876, 4.4254, 0.4983, 4.3617, 0.4984], 'confidence': 0.999, 'span': {'offset': 97, 'length': 2}}, {'content': 'the', 'polygon': [4.4476, 0.3876, 4.5822, 0.388, 4.5819, 0.4988, 4.4473, 0.4983], 'confidence': 0.999, 'span': {'offset': 100, 'length': 3}}, {'content': 'Supervisory', 'polygon': [4.6113, 0.3881, 5.068, 0.3879, 5.0675, 0.5004, 4.611, 0.4989], 'confidence': 0.988, 'span': {'offset': 104, 'length': 11}}, {'content': 'Board', 'polygon': [5.0989, 0.388, 5.3361, 0.3895, 5.3361, 0.5006, 5.0984, 0.5006], 'confidence': 0.995, 'span': {'offset': 116, 'length': 5}}, {'content': 'Letter', 'polygon': [0.8867, 1.4161, 1.6123, 1.4168, 1.6115, 1.6982, 0.8859, 1.6977], 'confidence': 0.996, 'span': {'offset': 131, 'length': 6}}, {'content': 'from', 'polygon': [1.6839, 1.4167, 2.2328, 1.4172, 2.2321, 1.6994, 1.6831, 1.6983], 'confidence': 0.99, 'span': {'offset': 138, 'length': 4}}, {'content': 'the', 'polygon': [2.314, 1.417, 2.7006, 1.4164, 2.6999, 1.7019, 2.3132, 1.6998], 'confidence': 0.999, 'span': {'offset': 143, 'length': 3}}, {'content': 'Chairman', 'polygon': [2.7913, 1.4166, 3.9322, 1.4176, 3.9312, 1.7057, 2.7906, 1.7024], 'confidence': 0.996, 'span': {'offset': 147, 'length': 8}}, {'content': 'of', 'polygon': [4.0276, 1.4174, 4.2568, 1.4167, 4.2559, 1.709, 4.0267, 1.7067], 'confidence': 0.999, 'span': {'offset': 156, 'length': 2}}, {'content': 'the', 'polygon': [4.3236, 1.4164, 4.7055, 1.4161, 4.7045, 1.711, 4.3227, 1.7097], 'confidence': 0.999, 'span': {'offset': 159, 'length': 3}}, {'content': 'Supervisory', 'polygon': [4.7914, 1.4161, 6.1948, 1.4114, 6.1944, 1.711, 4.7904, 1.711], 'confidence': 0.994, 'span': {'offset': 163, 'length': 11}}, {'content': 'Board', 'polygon': [6.2855, 1.4114, 7.0026, 1.4104, 7.0026, 1.711, 6.2851, 1.711], 'confidence': 0.997, 'span': {'offset': 175, 'length': 5}}, {'content': 'Dear', 'polygon': [0.8758, 2.0321, 1.142, 2.0322, 1.142, 2.1727, 0.8761, 2.1718], 'confidence': 0.994, 'span': {'offset': 182, 'length': 4}}, {'content': 'Shareholders,', 'polygon': [1.1744, 2.0322, 1.9062, 2.0357, 1.9062, 2.1777, 1.1744, 2.1729], 'confidence': 0.995, 'span': {'offset': 187, 'length': 13}}, {'content': 'Last', 'polygon': [0.8722, 2.3376, 1.0929, 2.3379, 1.0927, 2.4921, 0.8718, 2.4918], 'confidence': 0.99, 'span': {'offset': 202, 'length': 4}}, {'content': 'year,', 'polygon': [1.1237, 2.3379, 1.3982, 2.3379, 1.3982, 2.4925, 1.1235, 2.4921], 'confidence': 0.993, 'span': {'offset': 207, 'length': 5}}, {'content': 'Deutsche', 'polygon': [1.4469, 2.3378, 1.9421, 2.3371, 1.9418, 2.4929, 1.4469, 2.4925], 'confidence': 0.996, 'span': {'offset': 213, 'length': 8}}, {'content': 'Bank', 'polygon': [1.9857, 2.3372, 2.2525, 2.3381, 2.2523, 2.4927, 1.9854, 2.4928], 'confidence': 0.985, 'span': {'offset': 222, 'length': 4}}, {'content': 'proved', 'polygon': [2.2936, 2.338, 2.6323, 2.3368, 2.632, 2.4925, 2.2933, 2.4927], 'confidence': 0.997, 'span': {'offset': 227, 'length': 6}}, {'content': 'its', 'polygon': [2.663, 2.3367, 2.8016, 2.3367, 2.8013, 2.4924, 2.6628, 2.4924], 'confidence': 0.998, 'span': {'offset': 234, 'length': 3}}, {'content': 'resilience', 'polygon': [2.8452, 2.3368, 3.3404, 2.3378, 3.3401, 2.4926, 2.845, 2.4924], 'confidence': 0.996, 'span': {'offset': 238, 'length': 10}}, {'content': 'in', 'polygon': [3.3814, 2.3378, 3.4635, 2.3377, 3.4633, 2.4927, 3.3812, 2.4926], 'confidence': 0.999, 'span': {'offset': 249, 'length': 2}}, {'content': 'a', 'polygon': [3.5071, 2.3376, 3.5687, 2.3376, 3.5685, 2.4927, 3.5069, 2.4927], 'confidence': 0.998, 'span': {'offset': 252, 'length': 1}}, {'content': 'volatile', 'polygon': [3.6098, 2.3375, 3.9767, 2.3368, 3.9764, 2.4926, 3.6096, 2.4928], 'confidence': 0.996, 'span': {'offset': 254, 'length': 8}}, {'content': 'environment,', 'polygon': [4.0177, 2.3367, 4.6925, 2.3359, 4.6922, 2.4941, 4.0174, 2.4926], 'confidence': 0.993, 'span': {'offset': 263, 'length': 12}}, {'content': 'further', 'polygon': [4.7335, 2.3358, 5.0645, 2.3353, 5.0641, 2.4952, 4.7332, 2.4942], 'confidence': 0.995, 'span': {'offset': 276, 'length': 7}}, {'content': 'increasing', 'polygon': [5.0953, 2.3354, 5.6495, 2.3366, 5.649, 2.4936, 5.0949, 2.4951], 'confidence': 0.991, 'span': {'offset': 284, 'length': 10}}, {'content': 'revenues', 'polygon': [5.6982, 2.3365, 6.1754, 2.3358, 6.175, 2.4929, 5.6978, 2.4935], 'confidence': 0.994, 'span': {'offset': 295, 'length': 8}}, {'content': 'and', 'polygon': [6.2165, 2.3357, 6.4089, 2.3352, 6.4085, 2.4928, 6.2161, 2.4929], 'confidence': 0.998, 'span': {'offset': 304, 'length': 3}}, {'content': 'delivering', 'polygon': [6.4499, 2.3351, 6.9502, 2.3373, 6.9499, 2.4949, 6.4495, 2.4928], 'confidence': 0.995, 'span': {'offset': 308, 'length': 10}}, {'content': 'its', 'polygon': [6.999, 2.3373, 7.1093, 2.3373, 7.109, 2.4954, 6.9987, 2.495], 'confidence': 0.997, 'span': {'offset': 319, 'length': 3}}, {'content': 'best', 'polygon': [7.1529, 2.3373, 7.3907, 2.3374, 7.3907, 2.4963, 7.1526, 2.4955], 'confidence': 0.993, 'span': {'offset': 323, 'length': 4}}, {'content': 'pre-tax', 'polygon': [0.8715, 2.4966, 1.2491, 2.4959, 1.2493, 2.6464, 0.8714, 2.6464], 'confidence': 0.995, 'span': {'offset': 328, 'length': 7}}, {'content': 'profit', 'polygon': [1.2916, 2.4959, 1.5367, 2.4951, 1.5369, 2.6464, 1.2919, 2.6464], 'confidence': 0.995, 'span': {'offset': 336, 'length': 6}}, {'content': 'in', 'polygon': [1.5667, 2.495, 1.6768, 2.4946, 1.6769, 2.6464, 1.5669, 2.6464], 'confidence': 0.999, 'span': {'offset': 343, 'length': 2}}, {'content': '16', 'polygon': [1.7268, 2.4944, 1.8493, 2.4941, 1.8495, 2.6464, 1.7269, 2.6464], 'confidence': 0.998, 'span': {'offset': 346, 'length': 2}}, {'content': 'years.', 'polygon': [1.8893, 2.494, 2.2045, 2.4937, 2.2047, 2.646, 1.8895, 2.6464], 'confidence': 0.991, 'span': {'offset': 349, 'length': 6}}, {'content': 'Thanks', 'polygon': [2.247, 2.4936, 2.6346, 2.4928, 2.6348, 2.6455, 2.2473, 2.6459], 'confidence': 0.996, 'span': {'offset': 356, 'length': 6}}, {'content': 'to', 'polygon': [2.6721, 2.4927, 2.7571, 2.4926, 2.7574, 2.6454, 2.6723, 2.6454], 'confidence': 0.998, 'span': {'offset': 363, 'length': 2}}, {'content': 'its', 'polygon': [2.7872, 2.4927, 2.9272, 2.493, 2.9276, 2.6457, 2.7874, 2.6454], 'confidence': 0.997, 'span': {'offset': 366, 'length': 3}}, {'content': 'prudent', 'polygon': [2.9697, 2.4931, 3.3674, 2.4931, 3.3678, 2.6461, 2.9702, 2.6458], 'confidence': 0.995, 'span': {'offset': 370, 'length': 7}}, {'content': 'risk', 'polygon': [3.4074, 2.493, 3.5774, 2.4924, 3.5777, 2.6461, 3.4078, 2.6461], 'confidence': 0.991, 'span': {'offset': 378, 'length': 4}}, {'content': 'management,', 'polygon': [3.6075, 2.4923, 4.3377, 2.4926, 4.3378, 2.6464, 3.6077, 2.6461], 'confidence': 0.993, 'span': {'offset': 383, 'length': 11}}, {'content': 'the', 'polygon': [4.3852, 2.4926, 4.5453, 2.4924, 4.5454, 2.6464, 4.3853, 2.6464], 'confidence': 0.998, 'span': {'offset': 395, 'length': 3}}, {'content': 'bank', 'polygon': [4.5903, 2.4924, 4.8454, 2.4924, 4.8455, 2.6464, 4.5904, 2.6464], 'confidence': 0.994, 'span': {'offset': 399, 'length': 4}}, {'content': 'has', 'polygon': [4.8879, 2.4924, 5.0705, 2.4924, 5.0706, 2.6464, 4.888, 2.6464], 'confidence': 0.998, 'span': {'offset': 404, 'length': 3}}, {'content': 'a', 'polygon': [5.1105, 2.4924, 5.173, 2.4925, 5.1731, 2.6464, 5.1106, 2.6464], 'confidence': 0.997, 'span': {'offset': 408, 'length': 1}}, {'content': 'strong', 'polygon': [5.213, 2.4926, 5.5356, 2.493, 5.5357, 2.6441, 5.2131, 2.6462], 'confidence': 0.996, 'span': {'offset': 410, 'length': 6}}, {'content': 'and', 'polygon': [5.5807, 2.493, 5.7707, 2.4928, 5.7708, 2.6441, 5.5807, 2.6441], 'confidence': 0.998, 'span': {'offset': 417, 'length': 3}}, {'content': 'stable', 'polygon': [5.8157, 2.4927, 6.1184, 2.4921, 6.1184, 2.6439, 5.8158, 2.6441], 'confidence': 0.996, 'span': {'offset': 421, 'length': 6}}, {'content': 'balance', 'polygon': [6.1484, 2.492, 6.581, 2.491, 6.5811, 2.6428, 6.1484, 2.6438], 'confidence': 0.996, 'span': {'offset': 428, 'length': 7}}, {'content': 'sheet', 'polygon': [6.621, 2.491, 6.9111, 2.4909, 6.9113, 2.6413, 6.6212, 2.6426], 'confidence': 0.996, 'span': {'offset': 436, 'length': 5}}, {'content': 'and', 'polygon': [6.9487, 2.4909, 7.1387, 2.4911, 7.1389, 2.6422, 6.9488, 2.6415], 'confidence': 0.998, 'span': {'offset': 442, 'length': 3}}, {'content': 'has', 'polygon': [7.1862, 2.4911, 7.3838, 2.4913, 7.384, 2.6431, 7.1864, 2.6424], 'confidence': 0.998, 'span': {'offset': 446, 'length': 3}}, {'content': 'further', 'polygon': [0.8675, 2.6379, 1.2277, 2.6395, 1.2275, 2.7933, 0.8673, 2.7911], 'confidence': 0.996, 'span': {'offset': 450, 'length': 7}}, {'content': 'strengthened', 'polygon': [1.2657, 2.6397, 1.9378, 2.6404, 1.9377, 2.7947, 1.2656, 2.7935], 'confidence': 0.992, 'span': {'offset': 458, 'length': 12}}, {'content': 'its', 'polygon': [1.9682, 2.6404, 2.1103, 2.6406, 2.1102, 2.7943, 1.9682, 2.7946], 'confidence': 0.99, 'span': {'offset': 471, 'length': 3}}, {'content': 'capital', 'polygon': [2.1534, 2.6406, 2.4881, 2.6405, 2.4882, 2.7939, 2.1534, 2.7942], 'confidence': 0.996, 'span': {'offset': 475, 'length': 7}}, {'content': 'base.', 'polygon': [2.5389, 2.6404, 2.8178, 2.6406, 2.8178, 2.7941, 2.5389, 2.7939], 'confidence': 0.996, 'span': {'offset': 483, 'length': 5}}, {'content': 'As', 'polygon': [2.861, 2.6408, 3.0004, 2.6414, 3.0004, 2.7945, 2.861, 2.7942], 'confidence': 0.997, 'span': {'offset': 489, 'length': 2}}, {'content': 'a', 'polygon': [3.041, 2.6416, 3.0943, 2.6418, 3.0943, 2.7948, 3.041, 2.7946], 'confidence': 0.998, 'span': {'offset': 492, 'length': 1}}, {'content': 'result,', 'polygon': [3.1247, 2.6419, 3.462, 2.6411, 3.462, 2.7955, 3.1247, 2.7948], 'confidence': 0.992, 'span': {'offset': 494, 'length': 7}}, {'content': 'we', 'polygon': [3.5051, 2.6409, 3.6573, 2.6402, 3.6572, 2.7959, 3.5051, 2.7956], 'confidence': 0.999, 'span': {'offset': 502, 'length': 2}}, {'content': 'are', 'polygon': [3.7004, 2.6403, 3.8678, 2.6406, 3.8676, 2.7957, 3.7003, 2.7958], 'confidence': 0.998, 'span': {'offset': 505, 'length': 3}}, {'content': 'this', 'polygon': [3.9109, 2.6406, 4.0935, 2.6409, 4.0932, 2.7956, 3.9107, 2.7957], 'confidence': 0.991, 'span': {'offset': 509, 'length': 4}}, {'content': 'year', 'polygon': [4.1341, 2.641, 4.3674, 2.641, 4.3671, 2.7965, 4.1337, 2.7956], 'confidence': 0.992, 'span': {'offset': 514, 'length': 4}}, {'content': 'once', 'polygon': [4.4055, 2.641, 4.6591, 2.6409, 4.6589, 2.7972, 4.4052, 2.7967], 'confidence': 0.994, 'span': {'offset': 519, 'length': 4}}, {'content': 'again', 'polygon': [4.7022, 2.6409, 4.9863, 2.6408, 4.9861, 2.7966, 4.702, 2.7972], 'confidence': 0.996, 'span': {'offset': 524, 'length': 5}}, {'content': 'in', 'polygon': [5.0344, 2.6408, 5.1181, 2.6409, 5.1179, 2.7962, 5.0342, 2.7965], 'confidence': 0.999, 'span': {'offset': 530, 'length': 2}}, {'content': 'a', 'polygon': [5.1612, 2.6411, 5.2246, 2.6413, 5.2244, 2.796, 5.161, 2.7961], 'confidence': 0.997, 'span': {'offset': 533, 'length': 1}}, {'content': 'position', 'polygon': [5.2728, 2.6414, 5.671, 2.6417, 5.6707, 2.7951, 5.2726, 2.7958], 'confidence': 0.994, 'span': {'offset': 535, 'length': 8}}, {'content': 'to', 'polygon': [5.7141, 2.6415, 5.8105, 2.6412, 5.8102, 2.7951, 5.7138, 2.7951], 'confidence': 0.998, 'span': {'offset': 544, 'length': 2}}, {'content': 'substantially', 'polygon': [5.8562, 2.6411, 6.5054, 2.6392, 6.5051, 2.7945, 5.8558, 2.7951], 'confidence': 0.988, 'span': {'offset': 547, 'length': 13}}, {'content': 'increase', 'polygon': [6.5485, 2.6392, 6.9873, 2.639, 6.9872, 2.7952, 6.5483, 2.7945], 'confidence': 0.995, 'span': {'offset': 561, 'length': 8}}, {'content': 'capital', 'polygon': [7.0304, 2.6391, 7.385, 2.6398, 7.385, 2.797, 7.0303, 2.7954], 'confidence': 0.988, 'span': {'offset': 570, 'length': 7}}, {'content': 'distributions', 'polygon': [0.8732, 2.7933, 1.4984, 2.7953, 1.4985, 2.9458, 0.873, 2.9428], 'confidence': 0.994, 'span': {'offset': 578, 'length': 13}}, {'content': 'to', 'polygon': [1.5284, 2.7954, 1.6485, 2.7955, 1.6484, 2.9466, 1.5284, 2.9459], 'confidence': 0.998, 'span': {'offset': 592, 'length': 2}}, {'content': 'shareholders', 'polygon': [1.691, 2.7956, 2.3687, 2.7962, 2.3686, 2.9469, 1.6909, 2.9469], 'confidence': 0.995, 'span': {'offset': 595, 'length': 12}}, {'content': 'and', 'polygon': [2.4112, 2.7962, 2.6012, 2.7965, 2.6012, 2.9472, 2.4111, 2.947], 'confidence': 0.999, 'span': {'offset': 608, 'length': 3}}, {'content': 'we', 'polygon': [2.6462, 2.7965, 2.7963, 2.7967, 2.7963, 2.9476, 2.6462, 2.9472], 'confidence': 0.998, 'span': {'offset': 612, 'length': 2}}, {'content': 'are', 'polygon': [2.8388, 2.7968, 3.0063, 2.797, 3.0063, 2.9485, 2.8388, 2.9478], 'confidence': 0.998, 'span': {'offset': 615, 'length': 3}}, {'content': 'pleased', 'polygon': [3.0513, 2.797, 3.454, 2.7964, 3.4539, 2.949, 3.0514, 2.9487], 'confidence': 0.993, 'span': {'offset': 619, 'length': 7}}, {'content': 'that', 'polygon': [3.4965, 2.7962, 3.6965, 2.7956, 3.6964, 2.9488, 3.4964, 2.949], 'confidence': 0.994, 'span': {'offset': 627, 'length': 4}}, {'content': 'the', 'polygon': [3.734, 2.7956, 3.8966, 2.7954, 3.8963, 2.9487, 3.7339, 2.9488], 'confidence': 0.998, 'span': {'offset': 632, 'length': 3}}, {'content': 'Supervisory', 'polygon': [3.9391, 2.7953, 4.5618, 2.7959, 4.5616, 2.9493, 3.9388, 2.9487], 'confidence': 0.993, 'span': {'offset': 636, 'length': 11}}, {'content': 'Board', 'polygon': [4.6043, 2.7959, 4.9094, 2.7954, 4.9091, 2.9498, 4.6041, 2.9494], 'confidence': 0.996, 'span': {'offset': 648, 'length': 5}}, {'content': 'and', 'polygon': [4.9544, 2.7953, 5.1469, 2.7957, 5.1466, 2.9499, 4.9541, 2.9499], 'confidence': 0.998, 'span': {'offset': 654, 'length': 3}}, {'content': 'Management', 'polygon': [5.1969, 2.796, 5.8796, 2.7966, 5.8793, 2.9498, 5.1966, 2.9499], 'confidence': 0.993, 'span': {'offset': 658, 'length': 10}}, {'content': 'Board', 'polygon': [5.9221, 2.7965, 6.2272, 2.796, 6.2269, 2.9503, 5.9218, 2.9498], 'confidence': 0.997, 'span': {'offset': 669, 'length': 5}}, {'content': 'will', 'polygon': [6.2697, 2.7959, 6.4298, 2.7958, 6.4295, 2.9506, 6.2694, 2.9503], 'confidence': 0.995, 'span': {'offset': 675, 'length': 4}}, {'content': 'propose', 'polygon': [6.4798, 2.7959, 6.8999, 2.7975, 6.8997, 2.9517, 6.4795, 2.9507], 'confidence': 0.995, 'span': {'offset': 680, 'length': 7}}, {'content': 'to', 'polygon': [6.9399, 2.7977, 7.0374, 2.7979, 7.0372, 2.9518, 6.9397, 2.9517], 'confidence': 0.998, 'span': {'offset': 688, 'length': 2}}, {'content': 'you', 'polygon': [7.0774, 2.798, 7.265, 2.7984, 7.2649, 2.9519, 7.0773, 2.9518], 'confidence': 0.998, 'span': {'offset': 691, 'length': 3}}, {'content': 'a', 'polygon': [7.3075, 2.7984, 7.385, 2.7986, 7.385, 2.9519, 7.3074, 2.9519], 'confidence': 0.997, 'span': {'offset': 695, 'length': 1}}, {'content': '50%', 'polygon': [0.8752, 2.945, 1.0935, 2.9453, 1.0933, 3.0978, 0.8748, 3.0972], 'confidence': 0.989, 'span': {'offset': 697, 'length': 3}}, {'content': 'increase', 'polygon': [1.124, 2.9453, 1.581, 2.9455, 1.5809, 3.0983, 1.1238, 3.0979], 'confidence': 0.996, 'span': {'offset': 701, 'length': 8}}, {'content': 'in', 'polygon': [1.6115, 2.9455, 1.7029, 2.9456, 1.7027, 3.0987, 1.6113, 3.0984], 'confidence': 0.998, 'span': {'offset': 710, 'length': 2}}, {'content': 'the', 'polygon': [1.7334, 2.9456, 1.9162, 2.9456, 1.9159, 3.0993, 1.7331, 3.0988], 'confidence': 0.999, 'span': {'offset': 713, 'length': 3}}, {'content': 'dividend', 'polygon': [1.9543, 2.9456, 2.3859, 2.9454, 2.3856, 3.0996, 1.954, 3.0993], 'confidence': 0.996, 'span': {'offset': 717, 'length': 8}}, {'content': 'to', 'polygon': [2.424, 2.9454, 2.5205, 2.9454, 2.5201, 3.0997, 2.4237, 3.0996], 'confidence': 0.998, 'span': {'offset': 726, 'length': 2}}, {'content': '€', 'polygon': [2.551, 2.9455, 2.6195, 2.9456, 2.6192, 3.0998, 2.5506, 3.0998], 'confidence': 0.98, 'span': {'offset': 729, 'length': 1}}, {'content': '0.45', 'polygon': [2.6576, 2.9456, 2.881, 2.9459, 2.8808, 3.1005, 2.6573, 3.0999], 'confidence': 0.994, 'span': {'offset': 731, 'length': 4}}, {'content': 'per', 'polygon': [2.9217, 2.9461, 3.0918, 2.9465, 3.0914, 3.1019, 2.9214, 3.1007], 'confidence': 0.998, 'span': {'offset': 736, 'length': 3}}, {'content': 'share', 'polygon': [3.1223, 2.9466, 3.4142, 2.9467, 3.4138, 3.1028, 3.1219, 3.1021], 'confidence': 0.996, 'span': {'offset': 740, 'length': 5}}, {'content': 'at', 'polygon': [3.4498, 2.9466, 3.531, 2.9467, 3.5306, 3.1029, 3.4494, 3.1028], 'confidence': 0.998, 'span': {'offset': 746, 'length': 2}}, {'content': 'this', 'polygon': [3.5615, 2.9467, 3.7621, 2.9471, 3.7616, 3.1029, 3.5611, 3.1029], 'confidence': 0.99, 'span': {'offset': 749, 'length': 4}}, {'content': \"year's\", 'polygon': [3.7951, 2.9471, 4.1074, 2.9468, 4.1067, 3.103, 3.7946, 3.1029], 'confidence': 0.994, 'span': {'offset': 754, 'length': 6}}, {'content': 'Annual', 'polygon': [4.1379, 2.9468, 4.5035, 2.9472, 4.5028, 3.1025, 4.1372, 3.103], 'confidence': 0.994, 'span': {'offset': 761, 'length': 6}}, {'content': 'General', 'polygon': [4.5441, 2.9473, 4.9529, 2.9475, 4.9521, 3.1039, 4.5434, 3.1027], 'confidence': 0.996, 'span': {'offset': 768, 'length': 7}}, {'content': 'Meeting.', 'polygon': [4.9961, 2.9476, 5.4503, 2.9506, 5.4503, 3.1077, 4.9953, 3.1039], 'confidence': 0.994, 'span': {'offset': 776, 'length': 8}}, {'content': 'In', 'polygon': [0.8727, 3.2475, 0.951, 3.2477, 0.9506, 3.4024, 0.8723, 3.4022], 'confidence': 0.991, 'span': {'offset': 786, 'length': 2}}, {'content': 'this', 'polygon': [0.9823, 3.2477, 1.1701, 3.2482, 1.1698, 3.403, 0.9819, 3.4025], 'confidence': 0.993, 'span': {'offset': 789, 'length': 4}}, {'content': 'economic', 'polygon': [1.2014, 3.2482, 1.7127, 3.2487, 1.7123, 3.4047, 1.2012, 3.403], 'confidence': 0.995, 'span': {'offset': 794, 'length': 8}}, {'content': 'environment,', 'polygon': [1.744, 3.2487, 2.4275, 3.2486, 2.427, 3.4054, 1.7435, 3.4048], 'confidence': 0.994, 'span': {'offset': 803, 'length': 12}}, {'content': 'the', 'polygon': [2.4588, 3.2486, 2.5996, 3.2486, 2.5992, 3.4058, 2.4583, 3.4055], 'confidence': 0.998, 'span': {'offset': 816, 'length': 3}}, {'content': 'resilience', 'polygon': [2.6309, 3.2486, 3.1318, 3.2482, 3.1314, 3.407, 2.6305, 3.4059], 'confidence': 0.995, 'span': {'offset': 820, 'length': 10}}, {'content': 'and', 'polygon': [3.1631, 3.2482, 3.3692, 3.2478, 3.3688, 3.4074, 3.1627, 3.4071], 'confidence': 0.998, 'span': {'offset': 831, 'length': 3}}, {'content': 'sustainable', 'polygon': [3.4031, 3.2477, 3.977, 3.2461, 3.9765, 3.4073, 3.4027, 3.4074], 'confidence': 0.992, 'span': {'offset': 835, 'length': 11}}, {'content': 'profitability', 'polygon': [4.0083, 3.246, 4.5717, 3.2463, 4.5713, 3.408, 4.0078, 3.4073], 'confidence': 0.99, 'span': {'offset': 847, 'length': 13}}, {'content': 'of', 'polygon': [4.603, 3.2464, 4.7074, 3.2464, 4.7069, 3.4082, 4.6026, 3.4081], 'confidence': 0.998, 'span': {'offset': 861, 'length': 2}}, {'content': 'our', 'polygon': [4.7387, 3.2464, 4.8952, 3.2465, 4.8947, 3.4084, 4.7382, 3.4082], 'confidence': 0.997, 'span': {'offset': 864, 'length': 3}}, {'content': 'bank', 'polygon': [4.9265, 3.2465, 5.1769, 3.2471, 5.1764, 3.4083, 4.926, 3.4085], 'confidence': 0.994, 'span': {'offset': 868, 'length': 4}}, {'content': 'were', 'polygon': [5.2082, 3.2472, 5.4691, 3.2482, 5.4686, 3.4075, 5.2078, 3.4082], 'confidence': 0.994, 'span': {'offset': 873, 'length': 4}}, {'content': 'also', 'polygon': [5.5004, 3.2483, 5.7091, 3.2483, 5.7087, 3.4075, 5.4999, 3.4074], 'confidence': 0.991, 'span': {'offset': 878, 'length': 4}}, {'content': 'focus', 'polygon': [5.7404, 3.2482, 6.0117, 3.2479, 6.0113, 3.4078, 5.74, 3.4075], 'confidence': 0.995, 'span': {'offset': 883, 'length': 5}}, {'content': 'topics', 'polygon': [6.043, 3.2479, 6.3456, 3.2474, 6.3452, 3.4078, 6.0426, 3.4078], 'confidence': 0.994, 'span': {'offset': 889, 'length': 6}}, {'content': 'for', 'polygon': [6.3769, 3.2473, 6.5125, 3.2476, 6.5121, 3.4082, 6.3765, 3.4078], 'confidence': 0.992, 'span': {'offset': 896, 'length': 3}}, {'content': 'the', 'polygon': [6.5438, 3.2479, 6.7238, 3.2492, 6.7233, 3.4095, 6.5434, 3.4084], 'confidence': 0.997, 'span': {'offset': 900, 'length': 3}}, {'content': 'Supervisory', 'polygon': [6.7551, 3.2495, 7.3907, 3.254, 7.3907, 3.4161, 6.7546, 3.4097], 'confidence': 0.994, 'span': {'offset': 904, 'length': 11}}, {'content': 'Board.', 'polygon': [0.8733, 3.4014, 1.2248, 3.4027, 1.2248, 3.5555, 0.8732, 3.5549], 'confidence': 0.994, 'span': {'offset': 916, 'length': 6}}, {'content': 'It', 'polygon': [1.2884, 3.4029, 1.3495, 3.4031, 1.3497, 3.5557, 1.2885, 3.5556], 'confidence': 0.986, 'span': {'offset': 923, 'length': 2}}, {'content': 'was', 'polygon': [1.3954, 3.403, 1.6068, 3.4028, 1.6068, 3.5568, 1.3955, 3.5559], 'confidence': 0.998, 'span': {'offset': 926, 'length': 3}}, {'content': 'the', 'polygon': [1.6577, 3.4028, 1.8207, 3.4026, 1.8207, 3.5576, 1.6578, 3.557], 'confidence': 0.998, 'span': {'offset': 930, 'length': 3}}, {'content': 'Risk', 'polygon': [1.8793, 3.4027, 2.1034, 3.4029, 2.1035, 3.5575, 1.8793, 3.5575], 'confidence': 0.994, 'span': {'offset': 934, 'length': 4}}, {'content': \"Committee's\", 'polygon': [2.1543, 3.4029, 2.8063, 3.4036, 2.8064, 3.5584, 2.1544, 3.5575], 'confidence': 0.985, 'span': {'offset': 939, 'length': 11}}, {'content': 'task', 'polygon': [2.8572, 3.4037, 3.0762, 3.404, 3.0763, 3.5593, 2.8573, 3.5586], 'confidence': 0.99, 'span': {'offset': 951, 'length': 4}}, {'content': 'to', 'polygon': [3.1246, 3.4041, 3.2239, 3.4041, 3.224, 3.5598, 3.1247, 3.5594], 'confidence': 0.998, 'span': {'offset': 956, 'length': 2}}, {'content': 'keep', 'polygon': [3.2799, 3.4041, 3.527, 3.4038, 3.5271, 3.5614, 3.2801, 3.5601], 'confidence': 0.994, 'span': {'offset': 959, 'length': 4}}, {'content': 'an', 'polygon': [3.583, 3.4037, 3.7078, 3.4038, 3.7079, 3.562, 3.5831, 3.5616], 'confidence': 0.998, 'span': {'offset': 964, 'length': 2}}, {'content': 'eye', 'polygon': [3.7638, 3.4039, 3.9523, 3.4045, 3.9523, 3.5619, 3.7639, 3.562], 'confidence': 0.996, 'span': {'offset': 967, 'length': 3}}, {'content': 'on', 'polygon': [4.0083, 3.4047, 4.1356, 3.4051, 4.1356, 3.5617, 4.0083, 3.5618], 'confidence': 0.998, 'span': {'offset': 971, 'length': 2}}, {'content': 'our', 'polygon': [4.1866, 3.4051, 4.3648, 3.4053, 4.3649, 3.5622, 4.1866, 3.5618], 'confidence': 0.997, 'span': {'offset': 974, 'length': 3}}, {'content': 'capital', 'polygon': [4.4107, 3.4053, 4.7443, 3.4054, 4.7443, 3.5628, 4.4107, 3.5622], 'confidence': 0.995, 'span': {'offset': 978, 'length': 7}}, {'content': 'adequacy', 'polygon': [4.8029, 3.4053, 5.3148, 3.4056, 5.3148, 3.5617, 4.8029, 3.5628], 'confidence': 0.995, 'span': {'offset': 986, 'length': 8}}, {'content': 'as', 'polygon': [5.3657, 3.4057, 5.4879, 3.4059, 5.488, 3.5607, 5.3657, 3.5614], 'confidence': 0.998, 'span': {'offset': 995, 'length': 2}}, {'content': 'well', 'polygon': [5.5389, 3.4059, 5.735, 3.4055, 5.735, 3.56, 5.5389, 3.5605], 'confidence': 0.993, 'span': {'offset': 998, 'length': 4}}, {'content': 'as', 'polygon': [5.7935, 3.4054, 5.9158, 3.4051, 5.9158, 3.5595, 5.7936, 3.5598], 'confidence': 0.998, 'span': {'offset': 1003, 'length': 2}}, {'content': 'to', 'polygon': [5.9667, 3.405, 6.066, 3.4047, 6.066, 3.5592, 5.9667, 3.5594], 'confidence': 0.998, 'span': {'offset': 1006, 'length': 2}}, {'content': 'oversee', 'polygon': [6.117, 3.4045, 6.5346, 3.403, 6.5346, 3.5579, 6.117, 3.559], 'confidence': 0.995, 'span': {'offset': 1009, 'length': 7}}, {'content': 'the', 'polygon': [6.5881, 3.4029, 6.7485, 3.4025, 6.7486, 3.5569, 6.5881, 3.5577], 'confidence': 0.998, 'span': {'offset': 1017, 'length': 3}}, {'content': \"bank's\", 'polygon': [6.8046, 3.4023, 7.1382, 3.4022, 7.1382, 3.5569, 6.8046, 3.5567], 'confidence': 0.995, 'span': {'offset': 1021, 'length': 6}}, {'content': 'risk', 'polygon': [7.1942, 3.4022, 7.3907, 3.4024, 7.3907, 3.5578, 7.1942, 3.5571], 'confidence': 0.994, 'span': {'offset': 1028, 'length': 4}}, {'content': 'management', 'polygon': [0.8733, 3.5605, 1.574, 3.5604, 1.5741, 3.7129, 0.8731, 3.7124], 'confidence': 0.995, 'span': {'offset': 1033, 'length': 10}}, {'content': 'and', 'polygon': [1.6292, 3.5602, 1.8201, 3.5594, 1.8201, 3.7129, 1.6293, 3.7129], 'confidence': 0.999, 'span': {'offset': 1044, 'length': 3}}, {'content': 'the', 'polygon': [1.8753, 3.5594, 2.041, 3.5592, 2.0411, 3.7129, 1.8754, 3.7129], 'confidence': 0.995, 'span': {'offset': 1048, 'length': 3}}, {'content': 'development', 'polygon': [2.0963, 3.5592, 2.7768, 3.5591, 2.777, 3.7118, 2.0963, 3.7129], 'confidence': 0.995, 'span': {'offset': 1052, 'length': 11}}, {'content': 'of', 'polygon': [2.8296, 3.559, 2.9325, 3.5589, 2.9327, 3.7114, 2.8297, 3.7116], 'confidence': 0.999, 'span': {'offset': 1064, 'length': 2}}, {'content': 'non-financial', 'polygon': [2.9853, 3.5588, 3.6457, 3.5578, 3.6459, 3.7118, 2.9854, 3.7112], 'confidence': 0.985, 'span': {'offset': 1067, 'length': 13}}, {'content': 'risks.', 'polygon': [3.711, 3.5578, 3.9772, 3.5577, 3.9772, 3.7119, 3.7112, 3.7118], 'confidence': 0.995, 'span': {'offset': 1081, 'length': 6}}, {'content': 'Another', 'polygon': [4.0375, 3.5577, 4.4544, 3.5578, 4.4543, 3.7121, 4.0374, 3.7119], 'confidence': 0.995, 'span': {'offset': 1088, 'length': 7}}, {'content': 'priority', 'polygon': [4.5121, 3.5579, 4.8612, 3.5581, 4.8612, 3.7124, 4.5121, 3.7122], 'confidence': 0.995, 'span': {'offset': 1096, 'length': 8}}, {'content': 'was', 'polygon': [4.9139, 3.5581, 5.1249, 3.5584, 5.1249, 3.7122, 4.914, 3.7124], 'confidence': 0.998, 'span': {'offset': 1105, 'length': 3}}, {'content': 'to', 'polygon': [5.1801, 3.5586, 5.2781, 3.5588, 5.2781, 3.7116, 5.1802, 3.712], 'confidence': 0.999, 'span': {'offset': 1109, 'length': 2}}, {'content': 'set', 'polygon': [5.3358, 3.5589, 5.494, 3.5593, 5.494, 3.7108, 5.3359, 3.7114], 'confidence': 0.998, 'span': {'offset': 1112, 'length': 3}}, {'content': 'the', 'polygon': [5.5468, 3.5594, 5.71, 3.5591, 5.7101, 3.7109, 5.5468, 3.7107], 'confidence': 0.998, 'span': {'offset': 1116, 'length': 3}}, {'content': 'course', 'polygon': [5.7678, 3.559, 6.1218, 3.5582, 6.1219, 3.7111, 5.7678, 3.711], 'confidence': 0.996, 'span': {'offset': 1120, 'length': 6}}, {'content': 'for', 'polygon': [6.1746, 3.558, 6.3177, 3.5575, 6.3177, 3.7111, 6.1746, 3.7111], 'confidence': 0.999, 'span': {'offset': 1127, 'length': 3}}, {'content': 'future', 'polygon': [6.3654, 3.5573, 6.6693, 3.5567, 6.6693, 3.7104, 6.3654, 3.711], 'confidence': 0.996, 'span': {'offset': 1131, 'length': 6}}, {'content': 'growth.', 'polygon': [6.7271, 3.5566, 7.1439, 3.5566, 7.1439, 3.7098, 6.7271, 3.7103], 'confidence': 0.995, 'span': {'offset': 1138, 'length': 7}}, {'content': 'The', 'polygon': [7.1766, 3.5567, 7.385, 3.557, 7.385, 3.7098, 7.1766, 3.7098], 'confidence': 0.999, 'span': {'offset': 1146, 'length': 3}}, {'content': 'Supervisory', 'polygon': [0.8709, 3.7117, 1.5078, 3.7129, 1.5079, 3.8669, 0.8705, 3.8648], 'confidence': 0.995, 'span': {'offset': 1150, 'length': 11}}, {'content': 'Board', 'polygon': [1.5535, 3.7129, 1.8555, 3.7128, 1.8554, 3.8669, 1.5535, 3.8669], 'confidence': 0.996, 'span': {'offset': 1162, 'length': 5}}, {'content': 'closely', 'polygon': [1.9063, 3.7128, 2.2565, 3.7133, 2.2564, 3.8669, 1.9062, 3.8669], 'confidence': 0.994, 'span': {'offset': 1168, 'length': 7}}, {'content': 'monitored', 'polygon': [2.2869, 3.7132, 2.83, 3.7118, 2.83, 3.8669, 2.2869, 3.8669], 'confidence': 0.996, 'span': {'offset': 1176, 'length': 9}}, {'content': 'the', 'polygon': [2.8731, 3.7118, 3.0381, 3.7117, 3.0381, 3.8669, 2.8731, 3.8669], 'confidence': 0.999, 'span': {'offset': 1186, 'length': 3}}, {'content': 'strategic', 'polygon': [3.0837, 3.7116, 3.5278, 3.7115, 3.5278, 3.8669, 3.0837, 3.8669], 'confidence': 0.993, 'span': {'offset': 1190, 'length': 9}}, {'content': 'development', 'polygon': [3.571, 3.7115, 4.246, 3.7107, 4.2459, 3.8663, 3.5709, 3.8669], 'confidence': 0.994, 'span': {'offset': 1200, 'length': 11}}, {'content': 'of', 'polygon': [4.2892, 3.7107, 4.378, 3.7107, 4.3779, 3.8663, 4.2891, 3.8663], 'confidence': 0.999, 'span': {'offset': 1212, 'length': 2}}, {'content': 'the', 'polygon': [4.4084, 3.7106, 4.5886, 3.7106, 4.5885, 3.8663, 4.4084, 3.8663], 'confidence': 0.994, 'span': {'offset': 1215, 'length': 3}}, {'content': \"bank's\", 'polygon': [4.6394, 3.7106, 4.9769, 3.7107, 4.9767, 3.8661, 4.6393, 3.8662], 'confidence': 0.988, 'span': {'offset': 1219, 'length': 6}}, {'content': 'culture', 'polygon': [5.02, 3.7107, 5.3753, 3.7125, 5.3751, 3.8661, 5.0198, 3.8661], 'confidence': 0.994, 'span': {'offset': 1226, 'length': 7}}, {'content': 'and', 'polygon': [5.4184, 3.7127, 5.6088, 3.713, 5.6086, 3.866, 5.4183, 3.8661], 'confidence': 0.998, 'span': {'offset': 1234, 'length': 3}}, {'content': 'business', 'polygon': [5.6646, 3.7128, 6.1239, 3.7117, 6.1238, 3.8652, 5.6645, 3.8659], 'confidence': 0.996, 'span': {'offset': 1238, 'length': 8}}, {'content': 'model', 'polygon': [6.1721, 3.7116, 6.4817, 3.7111, 6.4816, 3.8649, 6.172, 3.8651], 'confidence': 0.996, 'span': {'offset': 1247, 'length': 5}}, {'content': 'together', 'polygon': [6.5274, 3.7112, 6.9664, 3.7114, 6.9664, 3.865, 6.5273, 3.8649], 'confidence': 0.995, 'span': {'offset': 1253, 'length': 8}}, {'content': 'with', 'polygon': [7.002, 3.7114, 7.2101, 3.7115, 7.21, 3.8651, 7.0019, 3.865], 'confidence': 0.994, 'span': {'offset': 1262, 'length': 4}}, {'content': 'its', 'polygon': [7.2634, 3.7116, 7.3907, 3.7116, 7.3907, 3.8653, 7.2633, 3.8652], 'confidence': 0.997, 'span': {'offset': 1267, 'length': 3}}, {'content': 'financial', 'polygon': [0.8667, 3.8607, 1.2944, 3.8609, 1.2944, 4.0166, 0.8665, 4.0147], 'confidence': 0.994, 'span': {'offset': 1271, 'length': 9}}, {'content': 'targets', 'polygon': [1.3253, 3.8609, 1.7091, 3.8609, 1.7091, 4.0179, 1.3253, 4.0168], 'confidence': 0.994, 'span': {'offset': 1281, 'length': 7}}, {'content': 'and', 'polygon': [1.7426, 3.8609, 1.9358, 3.8606, 1.9358, 4.0179, 1.7426, 4.018], 'confidence': 0.998, 'span': {'offset': 1289, 'length': 3}}, {'content': 'capital', 'polygon': [1.9771, 3.8605, 2.3094, 3.8598, 2.3094, 4.0172, 1.977, 4.0178], 'confidence': 0.993, 'span': {'offset': 1293, 'length': 7}}, {'content': 'objectives', 'polygon': [2.3506, 3.8596, 2.8736, 3.8587, 2.8736, 4.0168, 2.3506, 4.0171], 'confidence': 0.994, 'span': {'offset': 1301, 'length': 10}}, {'content': 'up', 'polygon': [2.9122, 3.8588, 3.0359, 3.8589, 3.0359, 4.0172, 2.9123, 4.0169], 'confidence': 0.992, 'span': {'offset': 1312, 'length': 2}}, {'content': 'to', 'polygon': [3.0719, 3.859, 3.1698, 3.8591, 3.1699, 4.0175, 3.072, 4.0173], 'confidence': 0.998, 'span': {'offset': 1315, 'length': 2}}, {'content': '2025.', 'polygon': [3.2059, 3.8591, 3.4944, 3.8586, 3.4944, 4.0178, 3.206, 4.0176], 'confidence': 0.995, 'span': {'offset': 1318, 'length': 5}}, {'content': 'The', 'polygon': [3.5305, 3.8585, 3.7366, 3.8584, 3.7364, 4.0181, 3.5304, 4.0178], 'confidence': 0.998, 'span': {'offset': 1324, 'length': 3}}, {'content': 'Supervisory', 'polygon': [3.7752, 3.8584, 4.3961, 3.8592, 4.3959, 4.0184, 3.7751, 4.0182], 'confidence': 0.994, 'span': {'offset': 1328, 'length': 11}}, {'content': 'Board', 'polygon': [4.4321, 3.8592, 4.7387, 3.8596, 4.7385, 4.0182, 4.432, 4.0184], 'confidence': 0.996, 'span': {'offset': 1340, 'length': 5}}, {'content': 'expressly', 'polygon': [4.7773, 3.8597, 5.2771, 3.861, 5.2769, 4.0176, 4.7772, 4.0182], 'confidence': 0.995, 'span': {'offset': 1346, 'length': 9}}, {'content': 'supports', 'polygon': [5.3106, 3.8611, 5.7588, 3.8618, 5.7587, 4.0171, 5.3104, 4.0175], 'confidence': 0.994, 'span': {'offset': 1356, 'length': 8}}, {'content': 'the', 'polygon': [5.7949, 3.8617, 5.9572, 3.8617, 5.9571, 4.0174, 5.7948, 4.0172], 'confidence': 0.996, 'span': {'offset': 1365, 'length': 3}}, {'content': \"bank's\", 'polygon': [5.9958, 3.8617, 6.3333, 3.8607, 6.3332, 4.0166, 5.9957, 4.0174], 'confidence': 0.992, 'span': {'offset': 1369, 'length': 6}}, {'content': 'even', 'polygon': [6.3694, 3.8606, 6.6193, 3.8604, 6.6192, 4.0161, 6.3693, 4.0165], 'confidence': 0.994, 'span': {'offset': 1376, 'length': 4}}, {'content': 'sharper', 'polygon': [6.6579, 3.8604, 7.0443, 3.8605, 7.0443, 4.0162, 6.6578, 4.016], 'confidence': 0.995, 'span': {'offset': 1381, 'length': 7}}, {'content': 'focus', 'polygon': [7.0752, 3.8605, 7.385, 3.861, 7.385, 4.0179, 7.0752, 4.0164], 'confidence': 0.996, 'span': {'offset': 1389, 'length': 5}}, {'content': 'on', 'polygon': [0.8714, 4.0148, 0.9883, 4.0151, 0.9881, 4.1665, 0.8712, 4.1664], 'confidence': 0.998, 'span': {'offset': 1395, 'length': 2}}, {'content': 'its', 'polygon': [1.0188, 4.0151, 1.1407, 4.0154, 1.1407, 4.1668, 1.0186, 4.1666], 'confidence': 0.995, 'span': {'offset': 1398, 'length': 3}}, {'content': 'role', 'polygon': [1.1712, 4.0155, 1.3897, 4.0158, 1.3897, 4.1673, 1.1712, 4.1668], 'confidence': 0.995, 'span': {'offset': 1402, 'length': 4}}, {'content': 'as', 'polygon': [1.4253, 4.0157, 1.5447, 4.0154, 1.5447, 4.1677, 1.4253, 4.1674], 'confidence': 0.998, 'span': {'offset': 1407, 'length': 2}}, {'content': 'a', 'polygon': [1.5777, 4.0154, 1.6387, 4.0152, 1.6387, 4.168, 1.5777, 4.1678], 'confidence': 0.997, 'span': {'offset': 1410, 'length': 1}}, {'content': 'Global', 'polygon': [1.6793, 4.0151, 2.0122, 4.0149, 2.0121, 4.1684, 1.6793, 4.1681], 'confidence': 0.996, 'span': {'offset': 1412, 'length': 6}}, {'content': 'Hausbank.', 'polygon': [2.0553, 4.0149, 2.6067, 4.0144, 2.6066, 4.1684, 2.0553, 4.1684], 'confidence': 0.995, 'span': {'offset': 1419, 'length': 9}}, {'content': 'Part', 'polygon': [2.6473, 4.0143, 2.8607, 4.0137, 2.8606, 4.1685, 2.6472, 4.1684], 'confidence': 0.995, 'span': {'offset': 1429, 'length': 4}}, {'content': 'of', 'polygon': [2.8912, 4.0136, 2.97, 4.0133, 2.9699, 4.1685, 2.8911, 4.1685], 'confidence': 0.999, 'span': {'offset': 1434, 'length': 2}}, {'content': 'this', 'polygon': [3.0005, 4.0132, 3.1834, 4.0125, 3.1833, 4.1685, 3.0004, 4.1685], 'confidence': 0.991, 'span': {'offset': 1437, 'length': 4}}, {'content': 'is', 'polygon': [3.2139, 4.0125, 3.3206, 4.0125, 3.3205, 4.169, 3.2137, 4.1686], 'confidence': 0.998, 'span': {'offset': 1442, 'length': 2}}, {'content': 'supporting', 'polygon': [3.3562, 4.0125, 3.8999, 4.0126, 3.8997, 4.1697, 3.356, 4.1691], 'confidence': 0.995, 'span': {'offset': 1445, 'length': 10}}, {'content': 'clients', 'polygon': [3.938, 4.0127, 4.2505, 4.0128, 4.2503, 4.1693, 3.9378, 4.1696], 'confidence': 0.995, 'span': {'offset': 1456, 'length': 7}}, {'content': 'in', 'polygon': [4.281, 4.0128, 4.3877, 4.0128, 4.3875, 4.1694, 4.2808, 4.1693], 'confidence': 0.991, 'span': {'offset': 1464, 'length': 2}}, {'content': 'their', 'polygon': [4.4207, 4.0128, 4.6468, 4.0129, 4.6466, 4.1694, 4.4205, 4.1694], 'confidence': 0.995, 'span': {'offset': 1467, 'length': 5}}, {'content': 'sustainable', 'polygon': [4.6773, 4.013, 5.282, 4.0141, 5.2818, 4.1699, 4.6771, 4.1695], 'confidence': 0.993, 'span': {'offset': 1473, 'length': 11}}, {'content': 'and', 'polygon': [5.3175, 4.0142, 5.5081, 4.0145, 5.5079, 4.1699, 5.3173, 4.1699], 'confidence': 0.998, 'span': {'offset': 1485, 'length': 3}}, {'content': 'digital', 'polygon': [5.5437, 4.0145, 5.846, 4.0144, 5.8458, 4.1704, 5.5435, 4.1699], 'confidence': 0.994, 'span': {'offset': 1489, 'length': 7}}, {'content': 'transformation.', 'polygon': [5.8816, 4.0144, 6.6641, 4.0147, 6.6638, 4.1696, 5.8814, 4.1704], 'confidence': 0.993, 'span': {'offset': 1497, 'length': 15}}, {'content': 'This', 'polygon': [6.6997, 4.0149, 6.9232, 4.016, 6.9228, 4.1709, 6.6994, 4.1698], 'confidence': 0.991, 'span': {'offset': 1513, 'length': 4}}, {'content': 'strategy', 'polygon': [6.9563, 4.0163, 7.385, 4.0204, 7.385, 4.1749, 6.9559, 4.1712], 'confidence': 0.994, 'span': {'offset': 1518, 'length': 8}}, {'content': 'not', 'polygon': [0.8717, 4.1708, 1.0492, 4.1712, 1.0493, 4.3229, 0.8717, 4.3227], 'confidence': 0.997, 'span': {'offset': 1527, 'length': 3}}, {'content': 'only', 'polygon': [1.0822, 4.1713, 1.2977, 4.1718, 1.298, 4.3231, 1.0823, 4.3229], 'confidence': 0.995, 'span': {'offset': 1531, 'length': 4}}, {'content': 'enables', 'polygon': [1.3307, 4.1718, 1.7415, 4.17, 1.7416, 4.3231, 1.331, 4.3231], 'confidence': 0.995, 'span': {'offset': 1536, 'length': 7}}, {'content': 'the', 'polygon': [1.777, 4.1699, 1.9392, 4.1696, 1.9394, 4.3232, 1.7771, 4.3231], 'confidence': 0.998, 'span': {'offset': 1544, 'length': 3}}, {'content': 'bank', 'polygon': [1.9798, 4.1696, 2.2309, 4.1693, 2.231, 4.3232, 1.9799, 4.3232], 'confidence': 0.995, 'span': {'offset': 1548, 'length': 4}}, {'content': 'to', 'polygon': [2.2638, 4.1693, 2.3475, 4.1691, 2.3476, 4.3232, 2.2639, 4.3232], 'confidence': 0.998, 'span': {'offset': 1553, 'length': 2}}, {'content': 'play', 'polygon': [2.3779, 4.169, 2.5909, 4.1685, 2.5911, 4.3232, 2.378, 4.3232], 'confidence': 0.995, 'span': {'offset': 1556, 'length': 4}}, {'content': 'its', 'polygon': [2.6214, 4.1685, 2.7431, 4.1682, 2.7432, 4.3232, 2.6215, 4.3232], 'confidence': 0.995, 'span': {'offset': 1561, 'length': 3}}, {'content': 'role', 'polygon': [2.7735, 4.1683, 2.9916, 4.1685, 2.9917, 4.3232, 2.7736, 4.3232], 'confidence': 0.994, 'span': {'offset': 1565, 'length': 4}}, {'content': 'within', 'polygon': [3.0245, 4.1685, 3.3263, 4.1685, 3.3264, 4.3232, 3.0247, 4.3232], 'confidence': 0.996, 'span': {'offset': 1570, 'length': 6}}, {'content': 'the', 'polygon': [3.3592, 4.1685, 3.5241, 4.1683, 3.5242, 4.3232, 3.3594, 4.3232], 'confidence': 0.998, 'span': {'offset': 1577, 'length': 3}}, {'content': 'German', 'polygon': [3.5621, 4.1682, 3.983, 4.1676, 3.983, 4.3232, 3.5622, 4.3232], 'confidence': 0.995, 'span': {'offset': 1581, 'length': 6}}, {'content': 'and', 'polygon': [4.0211, 4.1675, 4.2112, 4.1676, 4.2112, 4.3232, 4.021, 4.3232], 'confidence': 0.997, 'span': {'offset': 1588, 'length': 3}}, {'content': 'European', 'polygon': [4.2569, 4.1678, 4.759, 4.1685, 4.759, 4.3232, 4.2569, 4.3232], 'confidence': 0.995, 'span': {'offset': 1592, 'length': 8}}, {'content': 'economy', 'polygon': [4.797, 4.1684, 5.2585, 4.1684, 5.2585, 4.3232, 4.797, 4.3232], 'confidence': 0.992, 'span': {'offset': 1601, 'length': 7}}, {'content': 'but', 'polygon': [5.2889, 4.1685, 5.474, 4.1691, 5.4741, 4.3231, 5.2889, 4.3232], 'confidence': 0.991, 'span': {'offset': 1609, 'length': 3}}, {'content': 'also', 'polygon': [5.5045, 4.1692, 5.7048, 4.1688, 5.7048, 4.3228, 5.5045, 4.323], 'confidence': 0.987, 'span': {'offset': 1613, 'length': 4}}, {'content': '-', 'polygon': [5.7352, 4.1687, 5.8265, 4.1684, 5.8265, 4.3227, 5.7352, 4.3228], 'confidence': 0.993, 'span': {'offset': 1618, 'length': 1}}, {'content': 'of', 'polygon': [5.8569, 4.1684, 5.9381, 4.1681, 5.9381, 4.3226, 5.8569, 4.3226], 'confidence': 0.998, 'span': {'offset': 1620, 'length': 2}}, {'content': 'this', 'polygon': [5.9685, 4.1681, 6.1688, 4.1678, 6.1688, 4.3219, 5.9685, 4.3226], 'confidence': 0.994, 'span': {'offset': 1623, 'length': 4}}, {'content': 'the', 'polygon': [6.2068, 4.1678, 6.3691, 4.1676, 6.3691, 4.3213, 6.2068, 4.3218], 'confidence': 0.998, 'span': {'offset': 1628, 'length': 3}}, {'content': 'Supervisory', 'polygon': [6.4072, 4.1676, 7.0284, 4.1689, 7.0284, 4.3232, 6.4072, 4.3212], 'confidence': 0.974, 'span': {'offset': 1632, 'length': 11}}, {'content': 'Board', 'polygon': [7.0665, 4.1687, 7.3907, 4.1668, 7.3907, 4.3232, 7.0665, 4.3232], 'confidence': 0.997, 'span': {'offset': 1644, 'length': 5}}, {'content': 'is', 'polygon': [0.8711, 4.3227, 0.9682, 4.3227, 0.968, 4.4755, 0.8708, 4.4754], 'confidence': 0.994, 'span': {'offset': 1650, 'length': 2}}, {'content': 'convinced', 'polygon': [1.0142, 4.3227, 1.5406, 4.3221, 1.5406, 4.4772, 1.014, 4.4756], 'confidence': 0.995, 'span': {'offset': 1653, 'length': 9}}, {'content': '-', 'polygon': [1.5892, 4.3219, 1.6505, 4.3218, 1.6505, 4.4778, 1.5892, 4.4775], 'confidence': 0.995, 'span': {'offset': 1663, 'length': 1}}, {'content': 'it', 'polygon': [1.6837, 4.3217, 1.7553, 4.3216, 1.7552, 4.4783, 1.6837, 4.478], 'confidence': 0.998, 'span': {'offset': 1665, 'length': 2}}, {'content': 'is', 'polygon': [1.7859, 4.3215, 1.8958, 4.3218, 1.8957, 4.4787, 1.7859, 4.4785], 'confidence': 0.998, 'span': {'offset': 1668, 'length': 2}}, {'content': 'the', 'polygon': [1.9444, 4.322, 2.1054, 4.3225, 2.1053, 4.4791, 1.9443, 4.4788], 'confidence': 0.998, 'span': {'offset': 1671, 'length': 3}}, {'content': 'right', 'polygon': [2.159, 4.3227, 2.3865, 4.3228, 2.3864, 4.4794, 2.159, 4.4792], 'confidence': 0.994, 'span': {'offset': 1675, 'length': 5}}, {'content': 'way', 'polygon': [2.4299, 4.3227, 2.6446, 4.3222, 2.6446, 4.4795, 2.4299, 4.4794], 'confidence': 0.998, 'span': {'offset': 1681, 'length': 3}}, {'content': 'to', 'polygon': [2.6855, 4.3221, 2.7851, 4.322, 2.7852, 4.4793, 2.6855, 4.4795], 'confidence': 0.994, 'span': {'offset': 1685, 'length': 2}}, {'content': 'generate', 'polygon': [2.8337, 4.3219, 3.2988, 4.3216, 3.2988, 4.4789, 2.8337, 4.4792], 'confidence': 0.995, 'span': {'offset': 1688, 'length': 8}}, {'content': 'sustainable', 'polygon': [3.3473, 4.3216, 3.9428, 4.3213, 3.9427, 4.4789, 3.3473, 4.4791], 'confidence': 0.994, 'span': {'offset': 1697, 'length': 11}}, {'content': 'profits', 'polygon': [3.9964, 4.3212, 4.3082, 4.3214, 4.3081, 4.4783, 3.9963, 4.4787], 'confidence': 0.993, 'span': {'offset': 1709, 'length': 7}}, {'content': 'and', 'polygon': [4.3593, 4.3215, 4.5484, 4.3218, 4.5483, 4.4787, 4.3592, 4.4784], 'confidence': 0.996, 'span': {'offset': 1717, 'length': 3}}, {'content': 'returns', 'polygon': [4.6072, 4.3219, 4.9675, 4.3219, 4.9674, 4.4785, 4.6071, 4.4788], 'confidence': 0.992, 'span': {'offset': 1721, 'length': 7}}, {'content': 'for', 'polygon': [5.0135, 4.3219, 5.1592, 4.3219, 5.1591, 4.4781, 5.0134, 4.4784], 'confidence': 0.992, 'span': {'offset': 1729, 'length': 3}}, {'content': 'you', 'polygon': [5.2001, 4.322, 5.3866, 4.3221, 5.3865, 4.4774, 5.2, 4.478], 'confidence': 0.998, 'span': {'offset': 1733, 'length': 3}}, {'content': 'as', 'polygon': [5.4377, 4.3221, 5.5629, 4.3222, 5.5629, 4.477, 5.4376, 4.4773], 'confidence': 0.998, 'span': {'offset': 1737, 'length': 2}}, {'content': 'shareholders.', 'polygon': [5.6141, 4.3221, 6.3219, 4.3209, 6.3219, 4.4756, 5.614, 4.4768], 'confidence': 0.969, 'span': {'offset': 1740, 'length': 13}}, {'content': 'In', 'polygon': [6.3833, 4.3207, 6.4676, 4.3205, 6.4675, 4.4754, 6.3832, 4.4756], 'confidence': 0.987, 'span': {'offset': 1754, 'length': 2}}, {'content': 'this', 'polygon': [6.5187, 4.3205, 6.7027, 4.3204, 6.7026, 4.4749, 6.5186, 4.4753], 'confidence': 0.995, 'span': {'offset': 1757, 'length': 4}}, {'content': 'context,', 'polygon': [6.7512, 4.3204, 7.1576, 4.3202, 7.1575, 4.4754, 6.7511, 4.4748], 'confidence': 0.995, 'span': {'offset': 1762, 'length': 8}}, {'content': 'the', 'polygon': [7.2087, 4.3202, 7.385, 4.3201, 7.385, 4.4763, 7.2086, 4.4756], 'confidence': 0.998, 'span': {'offset': 1771, 'length': 3}}, {'content': 'Supervisory', 'polygon': [0.8733, 4.4669, 1.5061, 4.4696, 1.506, 4.626, 0.8726, 4.6236], 'confidence': 0.989, 'span': {'offset': 1775, 'length': 11}}, {'content': 'Board', 'polygon': [1.5499, 4.4697, 1.8534, 4.4704, 1.8533, 4.6276, 1.5498, 4.6263], 'confidence': 0.992, 'span': {'offset': 1787, 'length': 5}}, {'content': 'welcomes', 'polygon': [1.892, 4.4705, 2.4194, 4.4711, 2.4193, 4.6274, 1.8919, 4.6276], 'confidence': 0.995, 'span': {'offset': 1793, 'length': 8}}, {'content': 'and', 'polygon': [2.458, 4.471, 2.6484, 4.4704, 2.6483, 4.6266, 2.4579, 4.6272], 'confidence': 0.998, 'span': {'offset': 1802, 'length': 3}}, {'content': 'supports', 'polygon': [2.6973, 4.4702, 3.1449, 4.4697, 3.1448, 4.627, 2.6972, 4.6265], 'confidence': 0.991, 'span': {'offset': 1806, 'length': 8}}, {'content': 'the', 'polygon': [3.1809, 4.4696, 3.3456, 4.4695, 3.3454, 4.6273, 3.1808, 4.6271], 'confidence': 0.998, 'span': {'offset': 1815, 'length': 3}}, {'content': 'Management', 'polygon': [3.3893, 4.4694, 4.0788, 4.4689, 4.0786, 4.627, 3.3892, 4.6273], 'confidence': 0.995, 'span': {'offset': 1819, 'length': 10}}, {'content': \"Board's\", 'polygon': [4.1174, 4.4689, 4.5136, 4.4696, 4.5133, 4.627, 4.1172, 4.6269], 'confidence': 0.993, 'span': {'offset': 1830, 'length': 7}}, {'content': 'work', 'polygon': [4.5496, 4.4697, 4.8017, 4.4698, 4.8014, 4.6271, 4.5493, 4.627], 'confidence': 0.993, 'span': {'offset': 1838, 'length': 4}}, {'content': 'on', 'polygon': [4.8377, 4.4698, 4.9664, 4.4699, 4.9661, 4.6272, 4.8375, 4.6271], 'confidence': 0.998, 'span': {'offset': 1843, 'length': 2}}, {'content': 'clearly', 'polygon': [5.0075, 4.4699, 5.3497, 4.4703, 5.3494, 4.6268, 5.0073, 4.6273], 'confidence': 0.994, 'span': {'offset': 1846, 'length': 7}}, {'content': 'defining', 'polygon': [5.3857, 4.4703, 5.7948, 4.4704, 5.7945, 4.6271, 5.3854, 4.6267], 'confidence': 0.996, 'span': {'offset': 1854, 'length': 8}}, {'content': 'the', 'polygon': [5.8359, 4.4703, 5.998, 4.4703, 5.9977, 4.6275, 5.8356, 4.6272], 'confidence': 0.998, 'span': {'offset': 1863, 'length': 3}}, {'content': \"bank's\", 'polygon': [6.0418, 4.4703, 6.3814, 4.4703, 6.381, 4.627, 6.0414, 4.6275], 'confidence': 0.995, 'span': {'offset': 1867, 'length': 6}}, {'content': 'purpose,', 'polygon': [6.4225, 4.4703, 6.8702, 4.4713, 6.87, 4.6265, 6.4222, 4.627], 'confidence': 0.991, 'span': {'offset': 1874, 'length': 8}}, {'content': 'its', 'polygon': [6.919, 4.4714, 7.0297, 4.4713, 7.0295, 4.6269, 6.9189, 4.6266], 'confidence': 0.996, 'span': {'offset': 1883, 'length': 3}}, {'content': 'vision', 'polygon': [7.0683, 4.4712, 7.385, 4.4709, 7.385, 4.6281, 7.0681, 4.6271], 'confidence': 0.995, 'span': {'offset': 1887, 'length': 6}}, {'content': 'and', 'polygon': [0.8714, 4.6261, 1.0734, 4.6266, 1.0732, 4.78, 0.871, 4.7794], 'confidence': 0.997, 'span': {'offset': 1894, 'length': 3}}, {'content': 'aspirational', 'polygon': [1.1117, 4.6267, 1.7074, 4.6273, 1.7074, 4.7817, 1.1116, 4.7801], 'confidence': 0.993, 'span': {'offset': 1898, 'length': 12}}, {'content': 'culture,', 'polygon': [1.7458, 4.6273, 2.1242, 4.6276, 2.1241, 4.7833, 1.7458, 4.7818], 'confidence': 0.992, 'span': {'offset': 1911, 'length': 8}}, {'content': 'guided', 'polygon': [2.1651, 4.6276, 2.5128, 4.627, 2.5127, 4.7834, 2.165, 4.7835], 'confidence': 0.993, 'span': {'offset': 1920, 'length': 6}}, {'content': 'by', 'polygon': [2.5537, 4.6269, 2.656, 4.6266, 2.6559, 4.783, 2.5536, 4.7833], 'confidence': 0.998, 'span': {'offset': 1927, 'length': 2}}, {'content': 'the', 'polygon': [2.6866, 4.6265, 2.8656, 4.6265, 2.8656, 4.7832, 2.6866, 4.783], 'confidence': 0.998, 'span': {'offset': 1930, 'length': 3}}, {'content': 'conviction', 'polygon': [2.9014, 4.6266, 3.4025, 4.6264, 3.4024, 4.7837, 2.9014, 4.7833], 'confidence': 0.995, 'span': {'offset': 1934, 'length': 10}}, {'content': 'that', 'polygon': [3.4332, 4.6263, 3.6531, 4.6257, 3.653, 4.7834, 3.4331, 4.7837], 'confidence': 0.995, 'span': {'offset': 1945, 'length': 4}}, {'content': 'our', 'polygon': [3.6838, 4.6256, 3.832, 4.6254, 3.8319, 4.7834, 3.6837, 4.7834], 'confidence': 0.997, 'span': {'offset': 1950, 'length': 3}}, {'content': 'top', 'polygon': [3.8627, 4.6254, 4.0468, 4.6251, 4.0466, 4.7833, 3.8626, 4.7834], 'confidence': 0.998, 'span': {'offset': 1954, 'length': 3}}, {'content': 'priority', 'polygon': [4.0826, 4.6251, 4.415, 4.6256, 4.4148, 4.7823, 4.0824, 4.7833], 'confidence': 0.994, 'span': {'offset': 1958, 'length': 8}}, {'content': 'must', 'polygon': [4.4457, 4.6256, 4.7013, 4.6258, 4.7012, 4.7818, 4.4455, 4.7822], 'confidence': 0.995, 'span': {'offset': 1967, 'length': 4}}, {'content': 'be', 'polygon': [4.732, 4.6258, 4.8803, 4.6256, 4.8801, 4.782, 4.7319, 4.7819], 'confidence': 0.994, 'span': {'offset': 1972, 'length': 2}}, {'content': 'an', 'polygon': [4.9161, 4.6256, 5.0414, 4.6254, 5.0412, 4.7821, 4.9159, 4.782], 'confidence': 0.998, 'span': {'offset': 1975, 'length': 2}}, {'content': 'even', 'polygon': [5.0772, 4.6255, 5.3303, 4.6268, 5.3301, 4.7824, 5.077, 4.7821], 'confidence': 0.995, 'span': {'offset': 1978, 'length': 4}}, {'content': 'stronger', 'polygon': [5.3661, 4.627, 5.7751, 4.6266, 5.7749, 4.7821, 5.3659, 4.7824], 'confidence': 0.992, 'span': {'offset': 1983, 'length': 8}}, {'content': 'focus', 'polygon': [5.8058, 4.6264, 6.1101, 4.6252, 6.1099, 4.7816, 5.8056, 4.7821], 'confidence': 0.995, 'span': {'offset': 1992, 'length': 5}}, {'content': 'on', 'polygon': [6.1433, 4.6251, 6.2558, 4.6249, 6.2556, 4.7815, 6.1431, 4.7816], 'confidence': 0.998, 'span': {'offset': 1998, 'length': 2}}, {'content': 'placing', 'polygon': [6.2865, 4.6248, 6.6725, 4.6243, 6.6724, 4.7804, 6.2863, 4.7815], 'confidence': 0.994, 'span': {'offset': 2001, 'length': 7}}, {'content': 'our', 'polygon': [6.7109, 4.6243, 6.8694, 4.6242, 6.8693, 4.7794, 6.7108, 4.7802], 'confidence': 0.992, 'span': {'offset': 2009, 'length': 3}}, {'content': 'clients', 'polygon': [6.9001, 4.6242, 7.2453, 4.6241, 7.2451, 4.7796, 6.9, 4.7793], 'confidence': 0.993, 'span': {'offset': 2013, 'length': 7}}, {'content': 'at', 'polygon': [7.2785, 4.6241, 7.3961, 4.6241, 7.3959, 4.7798, 7.2783, 4.7796], 'confidence': 0.998, 'span': {'offset': 2021, 'length': 2}}, {'content': 'the', 'polygon': [0.8682, 4.7798, 1.0452, 4.7811, 1.0452, 4.9299, 0.868, 4.9297], 'confidence': 0.998, 'span': {'offset': 2024, 'length': 3}}, {'content': 'center', 'polygon': [1.0801, 4.7813, 1.4117, 4.7809, 1.4117, 4.9333, 1.0802, 4.9303], 'confidence': 0.994, 'span': {'offset': 2028, 'length': 6}}, {'content': 'of', 'polygon': [1.4416, 4.781, 1.5438, 4.7809, 1.5438, 4.9341, 1.4416, 4.9336], 'confidence': 0.999, 'span': {'offset': 2035, 'length': 2}}, {'content': 'everything', 'polygon': [1.5738, 4.7808, 2.1123, 4.7822, 2.1121, 4.9363, 1.5737, 4.9342], 'confidence': 0.996, 'span': {'offset': 2038, 'length': 10}}, {'content': 'we', 'polygon': [2.1472, 4.7822, 2.2993, 4.7826, 2.299, 4.9355, 2.147, 4.9362], 'confidence': 0.999, 'span': {'offset': 2049, 'length': 2}}, {'content': 'do.', 'polygon': [2.3342, 4.7829, 2.4997, 4.7832, 2.4997, 4.9355, 2.334, 4.9353], 'confidence': 0.995, 'span': {'offset': 2052, 'length': 3}}, {'content': 'Effective', 'polygon': [0.8744, 5.0779, 1.3341, 5.0787, 1.3338, 5.2336, 0.8741, 5.2326], 'confidence': 0.995, 'span': {'offset': 2057, 'length': 9}}, {'content': 'controls', 'polygon': [1.3806, 5.0788, 1.7912, 5.0793, 1.7909, 5.2356, 1.3803, 5.2339], 'confidence': 0.995, 'span': {'offset': 2067, 'length': 8}}, {'content': 'protect', 'polygon': [1.8403, 5.0792, 2.1967, 5.0787, 2.1964, 5.2356, 1.84, 5.2357], 'confidence': 0.993, 'span': {'offset': 2076, 'length': 7}}, {'content': 'both', 'polygon': [2.2458, 5.0786, 2.4653, 5.0786, 2.465, 5.2357, 2.2455, 5.2356], 'confidence': 0.993, 'span': {'offset': 2084, 'length': 4}}, {'content': 'our', 'polygon': [2.5144, 5.0786, 2.6874, 5.0787, 2.6871, 5.2357, 2.5141, 5.2357], 'confidence': 0.998, 'span': {'offset': 2089, 'length': 3}}, {'content': 'bank', 'polygon': [2.7313, 5.0787, 2.9844, 5.079, 2.9841, 5.2361, 2.731, 5.2357], 'confidence': 0.994, 'span': {'offset': 2093, 'length': 4}}, {'content': 'and', 'polygon': [3.0283, 5.0791, 3.2194, 5.0793, 3.2191, 5.2364, 3.028, 5.2361], 'confidence': 0.998, 'span': {'offset': 2098, 'length': 3}}, {'content': 'our', 'polygon': [3.2685, 5.0792, 3.4415, 5.0789, 3.4412, 5.237, 3.2682, 5.2366], 'confidence': 0.997, 'span': {'offset': 2102, 'length': 3}}, {'content': 'clients.', 'polygon': [3.4829, 5.0788, 3.8418, 5.0777, 3.8415, 5.2376, 3.4826, 5.2371], 'confidence': 0.993, 'span': {'offset': 2106, 'length': 8}}, {'content': 'Further', 'polygon': [3.8987, 5.0774, 4.2783, 5.0769, 4.2779, 5.2379, 3.8983, 5.2377], 'confidence': 0.994, 'span': {'offset': 2115, 'length': 7}}, {'content': 'improving', 'polygon': [4.3222, 5.0771, 4.8258, 5.078, 4.8254, 5.2383, 4.3218, 5.2379], 'confidence': 0.994, 'span': {'offset': 2123, 'length': 9}}, {'content': 'these', 'polygon': [4.8723, 5.078, 5.159, 5.0784, 5.1585, 5.2378, 4.8719, 5.2383], 'confidence': 0.996, 'span': {'offset': 2133, 'length': 5}}, {'content': 'controls', 'polygon': [5.2081, 5.0786, 5.6161, 5.0799, 5.6157, 5.2359, 5.2076, 5.2375], 'confidence': 0.994, 'span': {'offset': 2139, 'length': 8}}, {'content': 'was', 'polygon': [5.66, 5.0799, 5.8718, 5.0797, 5.8714, 5.2361, 5.6596, 5.2359], 'confidence': 0.998, 'span': {'offset': 2148, 'length': 3}}, {'content': 'another', 'polygon': [5.9157, 5.0797, 6.3031, 5.0789, 6.3028, 5.2352, 5.9153, 5.2361], 'confidence': 0.995, 'span': {'offset': 2152, 'length': 7}}, {'content': 'important', 'polygon': [6.3341, 5.0788, 6.8532, 5.0793, 6.8529, 5.2355, 6.3338, 5.2351], 'confidence': 0.995, 'span': {'offset': 2160, 'length': 9}}, {'content': 'topic', 'polygon': [6.8919, 5.0794, 7.145, 5.0785, 7.1448, 5.2363, 6.8917, 5.2356], 'confidence': 0.995, 'span': {'offset': 2170, 'length': 5}}, {'content': 'last', 'polygon': [7.1915, 5.0783, 7.3907, 5.0776, 7.3907, 5.2369, 7.1913, 5.2364], 'confidence': 0.995, 'span': {'offset': 2176, 'length': 4}}, {'content': 'year.', 'polygon': [0.8673, 5.2382, 1.1404, 5.2372, 1.1405, 5.3954, 0.8675, 5.3954], 'confidence': 0.995, 'span': {'offset': 2181, 'length': 5}}, {'content': 'The', 'polygon': [1.1719, 5.2371, 1.374, 5.2365, 1.3741, 5.3951, 1.172, 5.3953], 'confidence': 0.998, 'span': {'offset': 2187, 'length': 3}}, {'content': 'Supervisory', 'polygon': [1.4082, 5.2365, 2.0068, 5.2355, 2.0068, 5.3954, 1.4083, 5.3952], 'confidence': 0.991, 'span': {'offset': 2191, 'length': 11}}, {'content': 'Board', 'polygon': [2.0383, 5.2354, 2.3428, 5.2348, 2.3428, 5.3954, 2.0383, 5.3954], 'confidence': 0.996, 'span': {'offset': 2203, 'length': 5}}, {'content': 'regularly', 'polygon': [2.3743, 5.2348, 2.8364, 5.2355, 2.8365, 5.3954, 2.3743, 5.3954], 'confidence': 0.994, 'span': {'offset': 2209, 'length': 9}}, {'content': 'discussed', 'polygon': [2.8679, 5.2355, 3.3957, 5.2353, 3.3957, 5.3954, 2.868, 5.3954], 'confidence': 0.991, 'span': {'offset': 2219, 'length': 9}}, {'content': 'significant', 'polygon': [3.4298, 5.2352, 3.9286, 5.2345, 3.9286, 5.3954, 3.4299, 5.3954], 'confidence': 0.986, 'span': {'offset': 2229, 'length': 11}}, {'content': 'regulatory', 'polygon': [3.9601, 5.2344, 4.4852, 5.2341, 4.4852, 5.3948, 3.9601, 5.3954], 'confidence': 0.992, 'span': {'offset': 2241, 'length': 10}}, {'content': 'issues', 'polygon': [4.5167, 5.2341, 4.8685, 5.2343, 4.8684, 5.3949, 4.5167, 5.3946], 'confidence': 0.995, 'span': {'offset': 2252, 'length': 6}}, {'content': 'as', 'polygon': [4.9, 5.2343, 4.9998, 5.2343, 4.9996, 5.3951, 4.8999, 5.3949], 'confidence': 0.998, 'span': {'offset': 2259, 'length': 2}}, {'content': 'well', 'polygon': [5.0313, 5.2343, 5.2492, 5.2349, 5.2491, 5.3945, 5.0311, 5.3952], 'confidence': 0.994, 'span': {'offset': 2262, 'length': 4}}, {'content': 'as', 'polygon': [5.2834, 5.235, 5.4041, 5.2354, 5.404, 5.3939, 5.2832, 5.3944], 'confidence': 0.998, 'span': {'offset': 2267, 'length': 2}}, {'content': 'progress', 'polygon': [5.4383, 5.2355, 5.861, 5.2356, 5.8608, 5.3947, 5.4381, 5.3938], 'confidence': 0.995, 'span': {'offset': 2270, 'length': 8}}, {'content': 'in', 'polygon': [5.8925, 5.2355, 5.987, 5.2355, 5.9868, 5.3952, 5.8923, 5.3949], 'confidence': 0.998, 'span': {'offset': 2279, 'length': 2}}, {'content': 'the', 'polygon': [6.0185, 5.2354, 6.2023, 5.2345, 6.2021, 5.3946, 6.0183, 5.3951], 'confidence': 0.998, 'span': {'offset': 2282, 'length': 3}}, {'content': 'processing', 'polygon': [6.2364, 5.2344, 6.7956, 5.2328, 6.7956, 5.3922, 6.2362, 5.3945], 'confidence': 0.993, 'span': {'offset': 2286, 'length': 10}}, {'content': 'of', 'polygon': [6.8298, 5.2327, 6.9112, 5.2326, 6.9111, 5.3917, 6.8297, 5.3921], 'confidence': 0.996, 'span': {'offset': 2297, 'length': 2}}, {'content': 'material', 'polygon': [6.9427, 5.2325, 7.385, 5.2308, 7.385, 5.3918, 6.9426, 5.3917], 'confidence': 0.992, 'span': {'offset': 2300, 'length': 8}}, {'content': 'litigation', 'polygon': [0.8717, 5.3865, 1.312, 5.3879, 1.3121, 5.5419, 0.8714, 5.543], 'confidence': 0.985, 'span': {'offset': 2309, 'length': 10}}, {'content': 'cases.', 'polygon': [1.3632, 5.388, 1.696, 5.3884, 1.696, 5.5434, 1.3633, 5.542], 'confidence': 0.994, 'span': {'offset': 2320, 'length': 6}}, {'content': 'We', 'polygon': [1.7447, 5.3884, 1.9239, 5.3888, 1.9238, 5.5437, 1.7446, 5.5436], 'confidence': 0.999, 'span': {'offset': 2327, 'length': 2}}, {'content': 'are', 'polygon': [1.9725, 5.3889, 2.1389, 5.3893, 2.1389, 5.5437, 1.9724, 5.5437], 'confidence': 0.998, 'span': {'offset': 2330, 'length': 3}}, {'content': 'aware', 'polygon': [2.1876, 5.3894, 2.505, 5.3885, 2.5049, 5.5434, 2.1875, 5.5437], 'confidence': 0.996, 'span': {'offset': 2334, 'length': 5}}, {'content': 'that', 'polygon': [2.5537, 5.3883, 2.7508, 5.3875, 2.7507, 5.5428, 2.5536, 5.5433], 'confidence': 0.993, 'span': {'offset': 2340, 'length': 4}}, {'content': 'there', 'polygon': [2.7943, 5.3874, 3.0631, 5.3874, 3.063, 5.5432, 2.7942, 5.5428], 'confidence': 0.996, 'span': {'offset': 2345, 'length': 5}}, {'content': 'is', 'polygon': [3.1143, 5.3873, 3.1962, 5.3873, 3.1962, 5.5434, 3.1142, 5.5433], 'confidence': 0.998, 'span': {'offset': 2351, 'length': 2}}, {'content': 'still', 'polygon': [3.2449, 5.3872, 3.4062, 5.3871, 3.4061, 5.5435, 3.2448, 5.5434], 'confidence': 0.995, 'span': {'offset': 2354, 'length': 5}}, {'content': 'more', 'polygon': [3.4625, 5.387, 3.7236, 5.3867, 3.7236, 5.5437, 3.4625, 5.5436], 'confidence': 0.995, 'span': {'offset': 2360, 'length': 4}}, {'content': 'to', 'polygon': [3.7723, 5.3866, 3.8696, 5.3864, 3.8695, 5.5437, 3.7723, 5.5437], 'confidence': 0.998, 'span': {'offset': 2365, 'length': 2}}, {'content': 'do.', 'polygon': [3.9156, 5.3863, 4.0744, 5.3861, 4.0743, 5.5437, 3.9156, 5.5437], 'confidence': 0.992, 'span': {'offset': 2368, 'length': 3}}, {'content': 'The', 'polygon': [4.1256, 5.386, 4.3278, 5.3866, 4.3277, 5.5437, 4.1255, 5.5437], 'confidence': 0.998, 'span': {'offset': 2372, 'length': 3}}, {'content': 'Management', 'polygon': [4.3816, 5.3867, 5.0651, 5.3871, 5.065, 5.5437, 4.3815, 5.5437], 'confidence': 0.995, 'span': {'offset': 2376, 'length': 10}}, {'content': 'Board', 'polygon': [5.1138, 5.3872, 5.421, 5.388, 5.4208, 5.5437, 5.1136, 5.5437], 'confidence': 0.996, 'span': {'offset': 2387, 'length': 5}}, {'content': 'and', 'polygon': [5.4696, 5.3881, 5.6616, 5.3881, 5.6614, 5.5437, 5.4694, 5.5437], 'confidence': 0.992, 'span': {'offset': 2393, 'length': 3}}, {'content': 'Supervisory', 'polygon': [5.7154, 5.388, 6.335, 5.3874, 6.3348, 5.5437, 5.7152, 5.5437], 'confidence': 0.993, 'span': {'offset': 2397, 'length': 11}}, {'content': 'Board', 'polygon': [6.3862, 5.3873, 6.6908, 5.3878, 6.6907, 5.5431, 6.386, 5.5437], 'confidence': 0.996, 'span': {'offset': 2409, 'length': 5}}, {'content': 'are', 'polygon': [6.7446, 5.3879, 6.911, 5.3882, 6.9109, 5.5424, 6.7445, 5.5429], 'confidence': 0.997, 'span': {'offset': 2415, 'length': 3}}, {'content': 'in', 'polygon': [6.9622, 5.3881, 7.0441, 5.3879, 7.0441, 5.5427, 6.9621, 5.5425], 'confidence': 0.999, 'span': {'offset': 2419, 'length': 2}}, {'content': 'close', 'polygon': [7.0979, 5.3878, 7.3793, 5.3872, 7.3793, 5.5435, 7.0979, 5.5428], 'confidence': 0.996, 'span': {'offset': 2422, 'length': 5}}, {'content': 'dialogue', 'polygon': [0.8718, 5.5431, 1.3283, 5.5437, 1.3284, 5.6995, 0.8716, 5.6987], 'confidence': 0.994, 'span': {'offset': 2428, 'length': 8}}, {'content': 'with', 'polygon': [1.3668, 5.5436, 1.5745, 5.5432, 1.5746, 5.7, 1.3669, 5.6996], 'confidence': 0.994, 'span': {'offset': 2437, 'length': 4}}, {'content': 'regulators', 'polygon': [1.6181, 5.5431, 2.1387, 5.5435, 2.1388, 5.7003, 1.6182, 5.7], 'confidence': 0.994, 'span': {'offset': 2442, 'length': 10}}, {'content': 'and', 'polygon': [2.1798, 5.5435, 2.3696, 5.5435, 2.3697, 5.7, 2.1799, 5.7003], 'confidence': 0.998, 'span': {'offset': 2453, 'length': 3}}, {'content': 'are', 'polygon': [2.4157, 5.5434, 2.5824, 5.543, 2.5826, 5.6995, 2.4158, 5.6999], 'confidence': 0.999, 'span': {'offset': 2457, 'length': 3}}, {'content': 'focused', 'polygon': [2.6209, 5.5429, 3.0312, 5.543, 3.0313, 5.6997, 2.621, 5.6994], 'confidence': 0.996, 'span': {'offset': 2461, 'length': 7}}, {'content': 'on', 'polygon': [3.0748, 5.5431, 3.2005, 5.5432, 3.2006, 5.7, 3.0749, 5.6998], 'confidence': 0.999, 'span': {'offset': 2469, 'length': 2}}, {'content': 'delivering', 'polygon': [3.2441, 5.5431, 3.7442, 5.5419, 3.7442, 5.7009, 3.2442, 5.7002], 'confidence': 0.993, 'span': {'offset': 2472, 'length': 10}}, {'content': 'the', 'polygon': [3.7878, 5.5419, 3.9493, 5.5416, 3.9494, 5.7005, 3.7878, 5.7008], 'confidence': 0.997, 'span': {'offset': 2483, 'length': 3}}, {'content': 'necessary', 'polygon': [3.9929, 5.5416, 4.5084, 5.5421, 4.5084, 5.6997, 3.993, 5.7004], 'confidence': 0.994, 'span': {'offset': 2487, 'length': 9}}, {'content': 'improvements.', 'polygon': [4.5392, 5.5422, 5.3368, 5.5424, 5.3368, 5.698, 4.5392, 5.6996], 'confidence': 0.994, 'span': {'offset': 2497, 'length': 13}}, {'content': 'To', 'polygon': [5.3778, 5.5424, 5.5189, 5.5425, 5.5189, 5.6971, 5.3778, 5.6978], 'confidence': 0.998, 'span': {'offset': 2511, 'length': 2}}, {'content': 'achieve', 'polygon': [5.5573, 5.5425, 5.9626, 5.5421, 5.9625, 5.6972, 5.5573, 5.6971], 'confidence': 0.993, 'span': {'offset': 2514, 'length': 7}}, {'content': 'this,', 'polygon': [6.001, 5.542, 6.2139, 5.5414, 6.2138, 5.6966, 6.0009, 5.6972], 'confidence': 0.995, 'span': {'offset': 2522, 'length': 5}}, {'content': 'the', 'polygon': [6.2575, 5.5412, 6.419, 5.5408, 6.419, 5.696, 6.2574, 5.6965], 'confidence': 0.998, 'span': {'offset': 2528, 'length': 3}}, {'content': 'bank', 'polygon': [6.4626, 5.5406, 6.7165, 5.5413, 6.7165, 5.6961, 6.4626, 5.6959], 'confidence': 0.995, 'span': {'offset': 2532, 'length': 4}}, {'content': 'spent', 'polygon': [6.755, 5.5414, 7.0422, 5.5416, 7.0423, 5.6962, 6.755, 5.6961], 'confidence': 0.997, 'span': {'offset': 2537, 'length': 5}}, {'content': 'about', 'polygon': [7.0833, 5.5415, 7.3962, 5.5409, 7.3962, 5.6962, 7.0833, 5.6962], 'confidence': 0.986, 'span': {'offset': 2543, 'length': 5}}, {'content': '€', 'polygon': [0.8686, 5.6942, 0.9474, 5.6946, 0.9471, 5.8474, 0.8683, 5.8474], 'confidence': 0.99, 'span': {'offset': 2549, 'length': 1}}, {'content': '1.2', 'polygon': [0.9905, 5.6948, 1.1277, 5.6954, 1.1275, 5.8474, 0.9903, 5.8474], 'confidence': 0.991, 'span': {'offset': 2551, 'length': 3}}, {'content': 'billion', 'polygon': [1.1582, 5.6956, 1.4781, 5.6966, 1.478, 5.8479, 1.158, 5.8474], 'confidence': 0.994, 'span': {'offset': 2555, 'length': 7}}, {'content': 'on', 'polygon': [1.5264, 5.6967, 1.6508, 5.697, 1.6508, 5.8486, 1.5263, 5.8481], 'confidence': 0.999, 'span': {'offset': 2563, 'length': 2}}, {'content': 'controls', 'polygon': [1.6991, 5.6971, 2.1029, 5.696, 2.1028, 5.8492, 1.6991, 5.8488], 'confidence': 0.993, 'span': {'offset': 2566, 'length': 8}}, {'content': 'in', 'polygon': [2.1334, 5.6959, 2.2451, 5.6954, 2.245, 5.8491, 2.1333, 5.8491], 'confidence': 0.999, 'span': {'offset': 2575, 'length': 2}}, {'content': '2023', 'polygon': [2.2934, 5.6953, 2.5549, 5.6953, 2.5548, 5.8492, 2.2932, 5.8491], 'confidence': 0.992, 'span': {'offset': 2578, 'length': 4}}, {'content': 'and', 'polygon': [2.6032, 5.6953, 2.7911, 5.6953, 2.791, 5.8496, 2.6031, 5.8492], 'confidence': 0.998, 'span': {'offset': 2583, 'length': 3}}, {'content': 'hired', 'polygon': [2.8445, 5.6953, 3.0984, 5.6953, 3.0983, 5.8511, 2.8443, 5.8498], 'confidence': 0.996, 'span': {'offset': 2587, 'length': 5}}, {'content': 'around', 'polygon': [3.1467, 5.6953, 3.5098, 5.6946, 3.5096, 5.8515, 3.1465, 5.8513], 'confidence': 0.995, 'span': {'offset': 2593, 'length': 6}}, {'content': '1,000', 'polygon': [3.5682, 5.6945, 3.8527, 5.6942, 3.8524, 5.8517, 3.568, 5.8515], 'confidence': 0.995, 'span': {'offset': 2600, 'length': 5}}, {'content': 'dedicated', 'polygon': [3.9009, 5.6942, 4.4038, 5.6953, 4.4035, 5.8517, 3.9007, 5.8517], 'confidence': 0.994, 'span': {'offset': 2606, 'length': 9}}, {'content': 'professionals', 'polygon': [4.4596, 5.6955, 5.1479, 5.6963, 5.1474, 5.8517, 4.4594, 5.8517], 'confidence': 0.991, 'span': {'offset': 2616, 'length': 13}}, {'content': 'across', 'polygon': [5.1961, 5.6964, 5.5415, 5.6968, 5.5411, 5.8517, 5.1957, 5.8517], 'confidence': 0.995, 'span': {'offset': 2630, 'length': 6}}, {'content': 'all', 'polygon': [5.5872, 5.6969, 5.699, 5.697, 5.6987, 5.8517, 5.5869, 5.8517], 'confidence': 0.998, 'span': {'offset': 2637, 'length': 3}}, {'content': 'regions.', 'polygon': [5.7523, 5.697, 6.1612, 5.6964, 6.161, 5.8516, 5.752, 5.8517], 'confidence': 0.99, 'span': {'offset': 2641, 'length': 8}}, {'content': 'More', 'polygon': [6.217, 5.6962, 6.4786, 5.6951, 6.4784, 5.8505, 6.2168, 5.8514], 'confidence': 0.994, 'span': {'offset': 2650, 'length': 4}}, {'content': 'details', 'polygon': [6.5269, 5.6951, 6.8646, 5.6953, 6.8644, 5.8488, 6.5267, 5.8503], 'confidence': 0.994, 'span': {'offset': 2655, 'length': 7}}, {'content': 'on', 'polygon': [6.9104, 5.6953, 7.0348, 5.6952, 7.0346, 5.8494, 6.9102, 5.8485], 'confidence': 0.993, 'span': {'offset': 2663, 'length': 2}}, {'content': 'these', 'polygon': [7.0831, 5.6952, 7.385, 5.6952, 7.385, 5.8517, 7.0829, 5.8497], 'confidence': 0.996, 'span': {'offset': 2666, 'length': 5}}, {'content': 'important', 'polygon': [0.869, 5.8447, 1.3445, 5.8452, 1.3446, 5.9977, 0.8689, 5.999], 'confidence': 0.991, 'span': {'offset': 2672, 'length': 9}}, {'content': 'issues', 'polygon': [1.3752, 5.8452, 1.7229, 5.8457, 1.7228, 5.9992, 1.3753, 5.9979], 'confidence': 0.994, 'span': {'offset': 2682, 'length': 6}}, {'content': 'can', 'polygon': [1.7535, 5.8457, 1.9274, 5.846, 1.9273, 5.9999, 1.7535, 5.9994], 'confidence': 0.999, 'span': {'offset': 2689, 'length': 3}}, {'content': 'be', 'polygon': [1.9581, 5.8461, 2.0808, 5.8463, 2.0807, 6.0003, 1.958, 6], 'confidence': 0.998, 'span': {'offset': 2693, 'length': 2}}, {'content': 'found', 'polygon': [2.1114, 5.8463, 2.408, 5.8459, 2.408, 6.0005, 2.1114, 6.0004], 'confidence': 0.986, 'span': {'offset': 2696, 'length': 5}}, {'content': 'in', 'polygon': [2.4387, 5.8457, 2.5307, 5.8453, 2.5307, 6.0002, 2.4386, 6.0004], 'confidence': 0.999, 'span': {'offset': 2702, 'length': 2}}, {'content': 'Deutsche', 'polygon': [2.5614, 5.8451, 3.0727, 5.8442, 3.0726, 6, 2.5614, 6.0001], 'confidence': 0.994, 'span': {'offset': 2705, 'length': 8}}, {'content': \"Bank's\", 'polygon': [3.1059, 5.8442, 3.4306, 5.8436, 3.4304, 6.0003, 3.1058, 6], 'confidence': 0.993, 'span': {'offset': 2714, 'length': 6}}, {'content': 'Non-Financial', 'polygon': [3.4612, 5.8435, 4.2052, 5.8435, 4.2051, 6.0016, 3.4611, 6.0003], 'confidence': 0.991, 'span': {'offset': 2721, 'length': 13}}, {'content': 'Report,', 'polygon': [4.2435, 5.8437, 4.5963, 5.8448, 4.5963, 6.0026, 4.2434, 6.0017], 'confidence': 0.994, 'span': {'offset': 2735, 'length': 7}}, {'content': 'which', 'polygon': [4.627, 5.8449, 4.9235, 5.8452, 4.9234, 6.0029, 4.6269, 6.0026], 'confidence': 0.994, 'span': {'offset': 2743, 'length': 5}}, {'content': 'is', 'polygon': [4.9542, 5.8453, 5.0616, 5.8454, 5.0614, 6.003, 4.9541, 6.0029], 'confidence': 0.996, 'span': {'offset': 2749, 'length': 2}}, {'content': 'published', 'polygon': [5.0948, 5.8454, 5.5677, 5.8451, 5.5676, 6.0007, 5.0947, 6.0028], 'confidence': 0.995, 'span': {'offset': 2752, 'length': 9}}, {'content': 'in', 'polygon': [5.5984, 5.8451, 5.6904, 5.8452, 5.6903, 6.0008, 5.5983, 6.0008], 'confidence': 0.999, 'span': {'offset': 2762, 'length': 2}}, {'content': 'parallel', 'polygon': [5.7211, 5.8452, 6.0995, 5.8448, 6.0993, 6.0006, 5.721, 6.0008], 'confidence': 0.994, 'span': {'offset': 2765, 'length': 8}}, {'content': 'with', 'polygon': [6.1301, 5.8447, 6.3346, 5.844, 6.3345, 5.9998, 6.13, 6.0005], 'confidence': 0.993, 'span': {'offset': 2774, 'length': 4}}, {'content': 'this', 'polygon': [6.3653, 5.8439, 6.5596, 5.8436, 6.5594, 5.9994, 6.3652, 5.9997], 'confidence': 0.99, 'span': {'offset': 2779, 'length': 4}}, {'content': 'Annual', 'polygon': [6.5903, 5.8437, 6.9559, 5.8436, 6.9557, 5.9996, 6.5901, 5.9994], 'confidence': 0.994, 'span': {'offset': 2784, 'length': 6}}, {'content': 'Report.', 'polygon': [6.9942, 5.8435, 7.3793, 5.8422, 7.3793, 6.0004, 6.9941, 5.9997], 'confidence': 0.978, 'span': {'offset': 2791, 'length': 7}}, {'content': 'One', 'polygon': [0.8754, 6.1512, 1.1049, 6.1519, 1.1044, 6.3054, 0.8749, 6.3049], 'confidence': 0.998, 'span': {'offset': 2800, 'length': 3}}, {'content': 'of', 'polygon': [1.1409, 6.152, 1.2209, 6.1522, 1.2205, 6.3057, 1.1405, 6.3055], 'confidence': 0.998, 'span': {'offset': 2804, 'length': 2}}, {'content': 'the', 'polygon': [1.2518, 6.1523, 1.4168, 6.1526, 1.4164, 6.3064, 1.2514, 6.3057], 'confidence': 0.992, 'span': {'offset': 2807, 'length': 3}}, {'content': 'issues', 'polygon': [1.4477, 6.1527, 1.788, 6.1531, 1.7875, 6.308, 1.4473, 6.3065], 'confidence': 0.996, 'span': {'offset': 2811, 'length': 6}}, {'content': 'that', 'polygon': [1.819, 6.1531, 2.0149, 6.1526, 2.0143, 6.308, 1.8184, 6.308], 'confidence': 0.993, 'span': {'offset': 2818, 'length': 4}}, {'content': 'the', 'polygon': [2.0458, 6.1526, 2.2315, 6.1522, 2.2307, 6.308, 2.0452, 6.308], 'confidence': 0.998, 'span': {'offset': 2823, 'length': 3}}, {'content': 'Supervisory', 'polygon': [2.2701, 6.1521, 2.894, 6.1515, 2.8933, 6.308, 2.2694, 6.308], 'confidence': 0.995, 'span': {'offset': 2827, 'length': 11}}, {'content': 'Board', 'polygon': [2.9327, 6.1515, 3.2369, 6.1509, 3.2362, 6.308, 2.932, 6.308], 'confidence': 0.995, 'span': {'offset': 2839, 'length': 5}}, {'content': 'addressed', 'polygon': [3.2756, 6.1509, 3.8092, 6.1504, 3.8085, 6.308, 3.2748, 6.308], 'confidence': 0.995, 'span': {'offset': 2845, 'length': 9}}, {'content': 'intensively', 'polygon': [3.8401, 6.1503, 4.397, 6.1505, 4.3963, 6.308, 3.8395, 6.308], 'confidence': 0.994, 'span': {'offset': 2855, 'length': 11}}, {'content': 'last', 'polygon': [4.4279, 6.1505, 4.6316, 6.1509, 4.6309, 6.308, 4.4273, 6.308], 'confidence': 0.993, 'span': {'offset': 2867, 'length': 4}}, {'content': 'year', 'polygon': [4.6625, 6.151, 4.8817, 6.1512, 4.881, 6.308, 4.6619, 6.308], 'confidence': 0.993, 'span': {'offset': 2872, 'length': 4}}, {'content': 'was', 'polygon': [4.9126, 6.1512, 5.1369, 6.1513, 5.1362, 6.308, 4.9119, 6.308], 'confidence': 0.998, 'span': {'offset': 2877, 'length': 3}}, {'content': 'the', 'polygon': [5.1704, 6.1512, 5.3328, 6.151, 5.3321, 6.3075, 5.1697, 6.308], 'confidence': 0.998, 'span': {'offset': 2881, 'length': 3}}, {'content': 'restrictions', 'polygon': [5.3741, 6.151, 5.9361, 6.1511, 5.9355, 6.3075, 5.3734, 6.3072], 'confidence': 0.992, 'span': {'offset': 2885, 'length': 12}}, {'content': 'for', 'polygon': [5.9696, 6.1512, 6.114, 6.1508, 6.1133, 6.3075, 5.969, 6.3076], 'confidence': 0.991, 'span': {'offset': 2898, 'length': 3}}, {'content': 'our', 'polygon': [6.1449, 6.1507, 6.3176, 6.1502, 6.317, 6.3072, 6.1443, 6.3074], 'confidence': 0.998, 'span': {'offset': 2902, 'length': 3}}, {'content': 'clients', 'polygon': [6.3486, 6.1501, 6.6811, 6.1499, 6.6805, 6.3075, 6.3479, 6.3071], 'confidence': 0.994, 'span': {'offset': 2906, 'length': 7}}, {'content': 'following', 'polygon': [6.7146, 6.1499, 7.171, 6.1493, 7.1705, 6.308, 6.714, 6.3076], 'confidence': 0.995, 'span': {'offset': 2914, 'length': 9}}, {'content': 'the', 'polygon': [7.2096, 6.1491, 7.385, 6.1486, 7.385, 6.308, 7.2092, 6.308], 'confidence': 0.998, 'span': {'offset': 2924, 'length': 3}}, {'content': 'migration', 'polygon': [0.8735, 6.3093, 1.3645, 6.309, 1.3646, 6.4619, 0.8733, 6.4619], 'confidence': 0.991, 'span': {'offset': 2928, 'length': 9}}, {'content': 'of', 'polygon': [1.4001, 6.309, 1.5044, 6.3088, 1.5045, 6.4619, 1.4002, 6.4619], 'confidence': 0.998, 'span': {'offset': 2938, 'length': 2}}, {'content': \"Postbank's\", 'polygon': [1.5375, 6.3088, 2.0896, 6.3086, 2.0895, 6.4619, 1.5376, 6.4619], 'confidence': 0.988, 'span': {'offset': 2941, 'length': 10}}, {'content': 'IT', 'polygon': [2.1201, 6.3086, 2.2219, 6.3087, 2.2218, 6.4619, 2.12, 6.4619], 'confidence': 0.994, 'span': {'offset': 2952, 'length': 2}}, {'content': 'to', 'polygon': [2.2524, 6.3087, 2.3695, 6.3084, 2.3693, 6.4619, 2.2523, 6.4619], 'confidence': 0.998, 'span': {'offset': 2955, 'length': 2}}, {'content': 'a', 'polygon': [2.4026, 6.3082, 2.4636, 6.308, 2.4635, 6.4619, 2.4024, 6.4619], 'confidence': 0.997, 'span': {'offset': 2958, 'length': 1}}, {'content': 'common', 'polygon': [2.4992, 6.3079, 2.9445, 6.307, 2.9443, 6.4619, 2.4991, 6.4619], 'confidence': 0.996, 'span': {'offset': 2960, 'length': 6}}, {'content': 'platform.', 'polygon': [2.9877, 6.307, 3.4355, 6.3067, 3.4354, 6.4619, 2.9876, 6.4619], 'confidence': 0.993, 'span': {'offset': 2967, 'length': 9}}, {'content': 'The', 'polygon': [3.4686, 6.3067, 3.6569, 6.3065, 3.6567, 6.4619, 3.4684, 6.4619], 'confidence': 0.998, 'span': {'offset': 2977, 'length': 3}}, {'content': 'Management', 'polygon': [3.6874, 6.3065, 4.3794, 6.3072, 4.3793, 6.4619, 3.6872, 6.4619], 'confidence': 0.994, 'span': {'offset': 2981, 'length': 10}}, {'content': 'Board', 'polygon': [4.41, 6.3073, 4.7356, 6.3077, 4.7355, 6.4619, 4.4098, 6.4619], 'confidence': 0.996, 'span': {'offset': 2992, 'length': 5}}, {'content': 'regularly', 'polygon': [4.7763, 6.3077, 5.2038, 6.308, 5.2036, 6.4619, 4.7762, 6.4619], 'confidence': 0.994, 'span': {'offset': 2998, 'length': 9}}, {'content': 'reported', 'polygon': [5.2343, 6.3081, 5.6719, 6.3085, 5.6718, 6.4619, 5.2341, 6.4619], 'confidence': 0.995, 'span': {'offset': 3008, 'length': 8}}, {'content': 'to', 'polygon': [5.7025, 6.3083, 5.8042, 6.3079, 5.8041, 6.4619, 5.7023, 6.4619], 'confidence': 0.997, 'span': {'offset': 3017, 'length': 2}}, {'content': 'the', 'polygon': [5.8348, 6.3078, 6.0154, 6.3071, 6.0152, 6.4619, 5.8346, 6.4619], 'confidence': 0.992, 'span': {'offset': 3020, 'length': 3}}, {'content': 'Supervisory', 'polygon': [6.051, 6.3072, 6.6718, 6.3072, 6.6717, 6.4619, 6.0508, 6.4619], 'confidence': 0.992, 'span': {'offset': 3024, 'length': 11}}, {'content': 'Board', 'polygon': [6.7074, 6.3072, 7.0127, 6.3068, 7.0127, 6.4614, 6.7073, 6.4619], 'confidence': 0.996, 'span': {'offset': 3036, 'length': 5}}, {'content': 'on', 'polygon': [7.0509, 6.3066, 7.1578, 6.3062, 7.1577, 6.4611, 7.0509, 6.4613], 'confidence': 0.999, 'span': {'offset': 3042, 'length': 2}}, {'content': 'the', 'polygon': [7.1883, 6.306, 7.385, 6.3052, 7.385, 6.4604, 7.1883, 6.461], 'confidence': 0.998, 'span': {'offset': 3045, 'length': 3}}, {'content': 'progress', 'polygon': [0.8727, 6.4626, 1.3406, 6.4613, 1.341, 6.6122, 0.8726, 6.615], 'confidence': 0.996, 'span': {'offset': 3049, 'length': 8}}, {'content': 'made', 'polygon': [1.3834, 6.4611, 1.6526, 6.4597, 1.6528, 6.612, 1.3837, 6.6122], 'confidence': 0.995, 'span': {'offset': 3058, 'length': 4}}, {'content': 'in', 'polygon': [1.6827, 6.4596, 1.7834, 6.4591, 1.7836, 6.6119, 1.683, 6.612], 'confidence': 0.999, 'span': {'offset': 3063, 'length': 2}}, {'content': 'resolving', 'polygon': [1.8136, 6.459, 2.3016, 6.4586, 2.3017, 6.6135, 1.8138, 6.612], 'confidence': 0.995, 'span': {'offset': 3066, 'length': 9}}, {'content': 'the', 'polygon': [2.3419, 6.4584, 2.5054, 6.4576, 2.5055, 6.6128, 2.342, 6.6134], 'confidence': 0.998, 'span': {'offset': 3076, 'length': 3}}, {'content': 'backlogs', 'polygon': [2.5481, 6.4574, 2.9909, 6.4559, 2.991, 6.6117, 2.5483, 6.6126], 'confidence': 0.995, 'span': {'offset': 3080, 'length': 8}}, {'content': 'that', 'polygon': [3.0211, 6.4558, 3.2425, 6.4554, 3.2426, 6.6115, 3.0212, 6.6117], 'confidence': 0.991, 'span': {'offset': 3089, 'length': 4}}, {'content': 'had', 'polygon': [3.2777, 6.4555, 3.4664, 6.4557, 3.4665, 6.6112, 3.2778, 6.6114], 'confidence': 0.998, 'span': {'offset': 3094, 'length': 3}}, {'content': 'arisen,', 'polygon': [3.5066, 6.4557, 3.8563, 6.4555, 3.8564, 6.6105, 3.5067, 6.6112], 'confidence': 0.995, 'span': {'offset': 3098, 'length': 7}}, {'content': 'which', 'polygon': [3.894, 6.4554, 4.1934, 6.455, 4.1934, 6.6097, 3.8941, 6.6104], 'confidence': 0.997, 'span': {'offset': 3106, 'length': 5}}, {'content': 'were', 'polygon': [4.2312, 6.455, 4.4852, 6.4552, 4.4852, 6.609, 4.2311, 6.6096], 'confidence': 0.988, 'span': {'offset': 3112, 'length': 4}}, {'content': 'able', 'polygon': [4.5255, 6.4552, 4.7318, 6.4552, 4.7318, 6.6089, 4.5255, 6.6089], 'confidence': 0.994, 'span': {'offset': 3117, 'length': 4}}, {'content': 'to', 'polygon': [4.762, 6.4552, 4.8802, 6.4551, 4.8802, 6.6091, 4.7619, 6.609], 'confidence': 0.998, 'span': {'offset': 3122, 'length': 2}}, {'content': 'be', 'polygon': [4.9205, 6.4551, 5.0337, 6.455, 5.0336, 6.6092, 4.9204, 6.6091], 'confidence': 0.998, 'span': {'offset': 3125, 'length': 2}}, {'content': 'reduced', 'polygon': [5.0639, 6.455, 5.5066, 6.4569, 5.5065, 6.609, 5.0638, 6.6092], 'confidence': 0.996, 'span': {'offset': 3128, 'length': 7}}, {'content': 'substantially', 'polygon': [5.5444, 6.4569, 6.1959, 6.4559, 6.1959, 6.6084, 5.5443, 6.609], 'confidence': 0.991, 'span': {'offset': 3136, 'length': 13}}, {'content': 'over', 'polygon': [6.2311, 6.456, 6.4525, 6.4561, 6.4525, 6.6081, 6.2311, 6.6083], 'confidence': 0.994, 'span': {'offset': 3150, 'length': 4}}, {'content': 'the', 'polygon': [6.4827, 6.4562, 6.6563, 6.4563, 6.6564, 6.6081, 6.4827, 6.6081], 'confidence': 0.998, 'span': {'offset': 3155, 'length': 3}}, {'content': 'past', 'polygon': [6.6965, 6.4564, 6.9179, 6.4566, 6.918, 6.6081, 6.6966, 6.6081], 'confidence': 0.995, 'span': {'offset': 3159, 'length': 4}}, {'content': 'months.', 'polygon': [6.9557, 6.4564, 7.3793, 6.4548, 7.3793, 6.6071, 6.9558, 6.608], 'confidence': 0.993, 'span': {'offset': 3164, 'length': 7}}, {'content': 'Nevertheless,', 'polygon': [0.8731, 6.6087, 1.5842, 6.6104, 1.5841, 6.7622, 0.8729, 6.7596], 'confidence': 0.992, 'span': {'offset': 3172, 'length': 13}}, {'content': 'it', 'polygon': [1.6144, 6.6105, 1.6749, 6.6108, 1.6749, 6.7627, 1.6144, 6.7623], 'confidence': 0.998, 'span': {'offset': 3186, 'length': 2}}, {'content': 'is', 'polygon': [1.7052, 6.6109, 1.8086, 6.6112, 1.8085, 6.7634, 1.7051, 6.7628], 'confidence': 0.998, 'span': {'offset': 3189, 'length': 2}}, {'content': 'clear', 'polygon': [1.8414, 6.6112, 2.0784, 6.6109, 2.0782, 6.7633, 1.8413, 6.7634], 'confidence': 0.996, 'span': {'offset': 3192, 'length': 5}}, {'content': 'that', 'polygon': [2.1086, 6.6109, 2.3003, 6.6107, 2.3001, 6.7632, 2.1085, 6.7633], 'confidence': 0.989, 'span': {'offset': 3198, 'length': 4}}, {'content': 'we', 'polygon': [2.3305, 6.6107, 2.4818, 6.6106, 2.4816, 6.7632, 2.3303, 6.7632], 'confidence': 0.998, 'span': {'offset': 3203, 'length': 2}}, {'content': 'have', 'polygon': [2.5121, 6.6105, 2.7743, 6.6103, 2.7741, 6.7632, 2.5119, 6.7632], 'confidence': 0.994, 'span': {'offset': 3206, 'length': 4}}, {'content': 'not', 'polygon': [2.8045, 6.6103, 2.9659, 6.6101, 2.9657, 6.7635, 2.8043, 6.7632], 'confidence': 0.997, 'span': {'offset': 3211, 'length': 3}}, {'content': 'lived', 'polygon': [2.9962, 6.6101, 3.2508, 6.6098, 3.2506, 6.764, 2.9959, 6.7635], 'confidence': 0.996, 'span': {'offset': 3215, 'length': 5}}, {'content': 'up', 'polygon': [3.2912, 6.6098, 3.3996, 6.6098, 3.3994, 6.7642, 3.2909, 6.764], 'confidence': 0.998, 'span': {'offset': 3221, 'length': 2}}, {'content': 'to', 'polygon': [3.4298, 6.6098, 3.5433, 6.6097, 3.5431, 6.7642, 3.4296, 6.7642], 'confidence': 0.998, 'span': {'offset': 3224, 'length': 2}}, {'content': 'our', 'polygon': [3.5761, 6.6097, 3.7425, 6.6094, 3.7423, 6.7642, 3.5759, 6.7642], 'confidence': 0.998, 'span': {'offset': 3227, 'length': 3}}, {'content': 'service', 'polygon': [3.7728, 6.6094, 4.1484, 6.6084, 4.1482, 6.764, 3.7726, 6.7642], 'confidence': 0.992, 'span': {'offset': 3231, 'length': 7}}, {'content': 'and', 'polygon': [4.1837, 6.6085, 4.3729, 6.6088, 4.3726, 6.7642, 4.1835, 6.764], 'confidence': 0.998, 'span': {'offset': 3239, 'length': 3}}, {'content': 'quality', 'polygon': [4.4082, 6.6089, 4.7511, 6.6094, 4.7508, 6.7642, 4.4079, 6.7642], 'confidence': 0.99, 'span': {'offset': 3243, 'length': 7}}, {'content': 'standards', 'polygon': [4.7813, 6.6095, 5.2957, 6.6103, 5.2954, 6.7642, 4.7811, 6.7642], 'confidence': 0.995, 'span': {'offset': 3251, 'length': 9}}, {'content': 'here', 'polygon': [5.3335, 6.6103, 5.563, 6.6105, 5.5626, 6.7642, 5.3332, 6.7642], 'confidence': 0.993, 'span': {'offset': 3261, 'length': 4}}, {'content': 'and', 'polygon': [5.5957, 6.6105, 5.7874, 6.6102, 5.7871, 6.7642, 5.5954, 6.7642], 'confidence': 0.998, 'span': {'offset': 3266, 'length': 3}}, {'content': 'have', 'polygon': [5.8252, 6.6102, 6.0773, 6.6097, 6.077, 6.7642, 5.8249, 6.7642], 'confidence': 0.995, 'span': {'offset': 3270, 'length': 4}}, {'content': 'disappointed', 'polygon': [6.1076, 6.6096, 6.7707, 6.6085, 6.7705, 6.7623, 6.1073, 6.7642], 'confidence': 0.994, 'span': {'offset': 3275, 'length': 12}}, {'content': 'our', 'polygon': [6.8085, 6.6085, 6.9699, 6.6085, 6.9697, 6.7623, 6.8083, 6.7623], 'confidence': 0.998, 'span': {'offset': 3288, 'length': 3}}, {'content': 'clients.', 'polygon': [7.0002, 6.6085, 7.3793, 6.6086, 7.3793, 6.7636, 7, 6.7624], 'confidence': 0.987, 'span': {'offset': 3292, 'length': 8}}, {'content': 'On', 'polygon': [0.875, 6.7596, 1.0229, 6.7601, 1.0226, 6.9149, 0.8747, 6.9142], 'confidence': 0.998, 'span': {'offset': 3301, 'length': 2}}, {'content': 'behalf', 'polygon': [1.0535, 6.7601, 1.4054, 6.7611, 1.4052, 6.9168, 1.0532, 6.915], 'confidence': 0.995, 'span': {'offset': 3304, 'length': 6}}, {'content': 'of', 'polygon': [1.4359, 6.7612, 1.5124, 6.7614, 1.5122, 6.9175, 1.4358, 6.917], 'confidence': 0.999, 'span': {'offset': 3311, 'length': 2}}, {'content': 'the', 'polygon': [1.543, 6.7615, 1.7291, 6.762, 1.7289, 6.9188, 1.5428, 6.9177], 'confidence': 0.998, 'span': {'offset': 3314, 'length': 3}}, {'content': 'Supervisory', 'polygon': [1.7725, 6.7621, 2.3946, 6.7636, 2.3943, 6.9193, 1.7722, 6.9191], 'confidence': 0.982, 'span': {'offset': 3318, 'length': 11}}, {'content': 'Board', 'polygon': [2.4328, 6.7635, 2.726, 6.7626, 2.7258, 6.9186, 2.4326, 6.9192], 'confidence': 0.996, 'span': {'offset': 3330, 'length': 5}}, {'content': 'I', 'polygon': [2.7566, 6.7626, 2.8076, 6.7628, 2.8074, 6.9188, 2.7564, 6.9187], 'confidence': 0.744, 'span': {'offset': 3336, 'length': 1}}, {'content': 'would', 'polygon': [2.8484, 6.7629, 3.1442, 6.7636, 3.1439, 6.9198, 2.8482, 6.9189], 'confidence': 0.993, 'span': {'offset': 3338, 'length': 5}}, {'content': 'like', 'polygon': [3.1748, 6.7636, 3.3711, 6.7639, 3.3708, 6.9203, 3.1745, 6.9199], 'confidence': 0.99, 'span': {'offset': 3344, 'length': 4}}, {'content': 'to', 'polygon': [3.4068, 6.764, 3.5037, 6.7641, 3.5033, 6.9205, 3.4065, 6.9203], 'confidence': 0.998, 'span': {'offset': 3349, 'length': 2}}, {'content': 'express', 'polygon': [3.5419, 6.7642, 3.9549, 6.764, 3.9546, 6.9205, 3.5416, 6.9206], 'confidence': 0.995, 'span': {'offset': 3352, 'length': 7}}, {'content': 'my', 'polygon': [3.9957, 6.7639, 4.1487, 6.7637, 4.1484, 6.9204, 3.9954, 6.9205], 'confidence': 0.991, 'span': {'offset': 3360, 'length': 2}}, {'content': 'sincere', 'polygon': [4.1869, 6.7638, 4.5643, 6.7647, 4.5641, 6.9209, 4.1867, 6.9204], 'confidence': 0.995, 'span': {'offset': 3363, 'length': 7}}, {'content': 'apologies', 'polygon': [4.6025, 6.7647, 5.1048, 6.7641, 5.1046, 6.9217, 4.6023, 6.921], 'confidence': 0.995, 'span': {'offset': 3371, 'length': 9}}, {'content': 'for', 'polygon': [5.1405, 6.7642, 5.2654, 6.7644, 5.2651, 6.9212, 5.1403, 6.9216], 'confidence': 0.998, 'span': {'offset': 3381, 'length': 3}}, {'content': 'the', 'polygon': [5.296, 6.7644, 5.4796, 6.7647, 5.4792, 6.9206, 5.2957, 6.9211], 'confidence': 0.998, 'span': {'offset': 3385, 'length': 3}}, {'content': 'delays', 'polygon': [5.5178, 6.7648, 5.8569, 6.7649, 5.8566, 6.9202, 5.5174, 6.9204], 'confidence': 0.995, 'span': {'offset': 3389, 'length': 6}}, {'content': 'and', 'polygon': [5.8952, 6.7649, 6.0838, 6.7648, 6.0836, 6.9197, 5.8949, 6.9201], 'confidence': 0.997, 'span': {'offset': 3396, 'length': 3}}, {'content': 'problems', 'polygon': [6.1323, 6.7648, 6.6116, 6.7645, 6.6114, 6.9182, 6.1321, 6.9196], 'confidence': 0.991, 'span': {'offset': 3400, 'length': 8}}, {'content': 'caused', 'polygon': [6.6498, 6.7645, 7.0246, 6.7645, 7.0244, 6.9174, 6.6496, 6.9182], 'confidence': 0.995, 'span': {'offset': 3409, 'length': 6}}, {'content': 'to', 'polygon': [7.0654, 6.7645, 7.1623, 6.7646, 7.1621, 6.9171, 7.0652, 6.9173], 'confidence': 0.998, 'span': {'offset': 3416, 'length': 2}}, {'content': 'our', 'polygon': [7.2005, 6.7646, 7.385, 6.7646, 7.385, 6.9166, 7.2004, 6.917], 'confidence': 0.998, 'span': {'offset': 3419, 'length': 3}}, {'content': 'clients.', 'polygon': [0.8748, 6.9169, 1.2442, 6.9173, 1.244, 7.0707, 0.8745, 7.0695], 'confidence': 0.988, 'span': {'offset': 3423, 'length': 8}}, {'content': 'The', 'polygon': [1.2894, 6.9173, 1.4929, 6.9174, 1.4928, 7.0714, 1.2893, 7.0708], 'confidence': 0.999, 'span': {'offset': 3432, 'length': 3}}, {'content': 'Supervisory', 'polygon': [1.5381, 6.9174, 2.1587, 6.918, 2.1586, 7.0722, 1.538, 7.0716], 'confidence': 0.995, 'span': {'offset': 3436, 'length': 11}}, {'content': 'Board', 'polygon': [2.2039, 6.9181, 2.5104, 6.9176, 2.5103, 7.0717, 2.2038, 7.0722], 'confidence': 0.996, 'span': {'offset': 3448, 'length': 5}}, {'content': 'has', 'polygon': [2.5581, 6.9175, 2.7415, 6.9172, 2.7414, 7.071, 2.558, 7.0716], 'confidence': 0.998, 'span': {'offset': 3454, 'length': 3}}, {'content': 'taken', 'polygon': [2.7843, 6.9174, 3.0707, 6.9184, 3.0706, 7.0718, 2.7842, 7.0711], 'confidence': 0.996, 'span': {'offset': 3458, 'length': 5}}, {'content': 'action', 'polygon': [3.1159, 6.9186, 3.4224, 6.9185, 3.4224, 7.0715, 3.1159, 7.0719], 'confidence': 0.994, 'span': {'offset': 3464, 'length': 6}}, {'content': 'as', 'polygon': [3.4701, 6.9184, 3.5932, 6.9182, 3.5932, 7.0709, 3.4701, 7.0713], 'confidence': 0.998, 'span': {'offset': 3471, 'length': 2}}, {'content': 'a', 'polygon': [3.6334, 6.9182, 3.6962, 6.9181, 3.6962, 7.0706, 3.6334, 7.0708], 'confidence': 0.997, 'span': {'offset': 3474, 'length': 1}}, {'content': 'result', 'polygon': [3.7465, 6.918, 4.0304, 6.9179, 4.0303, 7.0696, 3.7464, 7.0705], 'confidence': 0.993, 'span': {'offset': 3476, 'length': 6}}, {'content': 'and', 'polygon': [4.0706, 6.9178, 4.2615, 6.9177, 4.2614, 7.0696, 4.0705, 7.0695], 'confidence': 0.998, 'span': {'offset': 3483, 'length': 3}}, {'content': 'reduced', 'polygon': [4.3118, 6.9176, 4.7288, 6.9173, 4.7287, 7.0703, 4.3117, 7.0696], 'confidence': 0.995, 'span': {'offset': 3487, 'length': 7}}, {'content': 'the', 'polygon': [4.7741, 6.9173, 4.9374, 6.9172, 4.9372, 7.0707, 4.7739, 7.0704], 'confidence': 0.996, 'span': {'offset': 3495, 'length': 3}}, {'content': 'variable', 'polygon': [4.9776, 6.9172, 5.3921, 6.9171, 5.3919, 7.0697, 4.9774, 7.0708], 'confidence': 0.995, 'span': {'offset': 3499, 'length': 8}}, {'content': 'compensation', 'polygon': [5.4348, 6.9171, 6.1634, 6.9165, 6.1632, 7.0691, 5.4346, 7.0696], 'confidence': 0.995, 'span': {'offset': 3508, 'length': 12}}, {'content': 'of', 'polygon': [6.2086, 6.9164, 6.3141, 6.9162, 6.3139, 7.0688, 6.2084, 7.069], 'confidence': 0.998, 'span': {'offset': 3521, 'length': 2}}, {'content': 'several', 'polygon': [6.3493, 6.9161, 6.7212, 6.9152, 6.721, 7.068, 6.3491, 7.0687], 'confidence': 0.995, 'span': {'offset': 3524, 'length': 7}}, {'content': 'current', 'polygon': [6.7689, 6.9151, 7.1357, 6.9145, 7.1356, 7.0683, 6.7688, 7.0679], 'confidence': 0.994, 'span': {'offset': 3532, 'length': 7}}, {'content': 'and', 'polygon': [7.1784, 6.9145, 7.385, 6.9142, 7.385, 7.069, 7.1784, 7.0684], 'confidence': 0.997, 'span': {'offset': 3540, 'length': 3}}, {'content': 'departed', 'polygon': [0.8744, 7.0629, 1.3294, 7.0648, 1.3293, 7.2205, 0.8742, 7.22], 'confidence': 0.994, 'span': {'offset': 3544, 'length': 8}}, {'content': 'Management', 'polygon': [1.3601, 7.065, 2.0732, 7.0659, 2.073, 7.2205, 1.36, 7.2205], 'confidence': 0.987, 'span': {'offset': 3553, 'length': 10}}, {'content': 'Board', 'polygon': [2.109, 7.0659, 2.4132, 7.0653, 2.4129, 7.2199, 2.1088, 7.2205], 'confidence': 0.995, 'span': {'offset': 3564, 'length': 5}}, {'content': 'members.', 'polygon': [2.4567, 7.0652, 2.9679, 7.0638, 2.9675, 7.2194, 2.4563, 7.2199], 'confidence': 0.994, 'span': {'offset': 3570, 'length': 8}}, {'content': 'Details', 'polygon': [3.0139, 7.0639, 3.3666, 7.0643, 3.3661, 7.2196, 3.0135, 7.2194], 'confidence': 0.995, 'span': {'offset': 3579, 'length': 7}}, {'content': 'can', 'polygon': [3.405, 7.0643, 3.589, 7.0646, 3.5886, 7.22, 3.4045, 7.2197], 'confidence': 0.998, 'span': {'offset': 3587, 'length': 3}}, {'content': 'be', 'polygon': [3.6325, 7.0646, 3.7552, 7.0645, 3.7547, 7.22, 3.6321, 7.22], 'confidence': 0.998, 'span': {'offset': 3591, 'length': 2}}, {'content': 'found', 'polygon': [3.7884, 7.0645, 4.0798, 7.064, 4.0792, 7.2202, 3.788, 7.2201], 'confidence': 0.997, 'span': {'offset': 3594, 'length': 5}}, {'content': 'in', 'polygon': [4.1232, 7.0639, 4.205, 7.0638, 4.2044, 7.2204, 4.1226, 7.2203], 'confidence': 0.998, 'span': {'offset': 3600, 'length': 2}}, {'content': 'our', 'polygon': [4.2434, 7.0637, 4.4172, 7.0644, 4.4165, 7.2205, 4.2427, 7.2204], 'confidence': 0.998, 'span': {'offset': 3603, 'length': 3}}, {'content': 'Compensation', 'polygon': [4.4479, 7.0645, 5.2019, 7.0662, 5.2015, 7.2205, 4.4472, 7.2205], 'confidence': 0.994, 'span': {'offset': 3607, 'length': 12}}, {'content': 'Report.', 'polygon': [5.2454, 7.0665, 5.6329, 7.0667, 5.6329, 7.2205, 5.2449, 7.2205], 'confidence': 0.994, 'span': {'offset': 3620, 'length': 7}}, {'content': 'There', 'polygon': [0.8716, 7.37, 1.1907, 7.3716, 1.1902, 7.5271, 0.8708, 7.5272], 'confidence': 0.995, 'span': {'offset': 3629, 'length': 5}}, {'content': 'you', 'polygon': [1.2241, 7.3717, 1.3913, 7.3722, 1.391, 7.5271, 1.2237, 7.5271], 'confidence': 0.999, 'span': {'offset': 3635, 'length': 3}}, {'content': 'will', 'polygon': [1.4222, 7.3721, 1.6075, 7.3717, 1.6071, 7.5271, 1.4219, 7.5271], 'confidence': 0.994, 'span': {'offset': 3639, 'length': 4}}, {'content': 'also', 'polygon': [1.6486, 7.3716, 1.8596, 7.3713, 1.8593, 7.5272, 1.6483, 7.5271], 'confidence': 0.992, 'span': {'offset': 3644, 'length': 4}}, {'content': 'find', 'polygon': [1.8931, 7.3714, 2.0603, 7.3717, 2.0599, 7.5274, 1.8927, 7.5272], 'confidence': 0.995, 'span': {'offset': 3649, 'length': 4}}, {'content': 'information', 'polygon': [2.0912, 7.3717, 2.6959, 7.3723, 2.6953, 7.5268, 2.0908, 7.5274], 'confidence': 0.994, 'span': {'offset': 3654, 'length': 11}}, {'content': 'on', 'polygon': [2.7345, 7.3724, 2.8605, 7.3722, 2.86, 7.5267, 2.7339, 7.5267], 'confidence': 0.999, 'span': {'offset': 3666, 'length': 2}}, {'content': 'how', 'polygon': [2.9043, 7.3722, 3.087, 7.372, 3.0864, 7.5265, 2.9037, 7.5266], 'confidence': 0.999, 'span': {'offset': 3669, 'length': 3}}, {'content': 'we', 'polygon': [3.1307, 7.372, 3.2748, 7.3717, 3.2743, 7.527, 3.1302, 7.5265], 'confidence': 0.999, 'span': {'offset': 3673, 'length': 2}}, {'content': 'intend', 'polygon': [3.3057, 7.3715, 3.6479, 7.3704, 3.6474, 7.5285, 3.3051, 7.5271], 'confidence': 0.997, 'span': {'offset': 3676, 'length': 6}}, {'content': 'to', 'polygon': [3.6865, 7.3704, 3.7688, 7.3704, 3.7683, 7.5285, 3.686, 7.5285], 'confidence': 0.999, 'span': {'offset': 3683, 'length': 2}}, {'content': 'develop', 'polygon': [3.7997, 7.3704, 4.2114, 7.3704, 4.2109, 7.5283, 3.7992, 7.5285], 'confidence': 0.995, 'span': {'offset': 3686, 'length': 7}}, {'content': 'the', 'polygon': [4.2422, 7.3703, 4.4275, 7.3701, 4.427, 7.5285, 4.2417, 7.5284], 'confidence': 0.998, 'span': {'offset': 3694, 'length': 3}}, {'content': 'Management', 'polygon': [4.4687, 7.37, 5.1376, 7.3705, 5.1371, 7.5285, 4.4682, 7.5285], 'confidence': 0.996, 'span': {'offset': 3698, 'length': 10}}, {'content': 'Board', 'polygon': [5.1685, 7.3705, 5.4953, 7.3703, 5.4947, 7.5283, 5.168, 7.5285], 'confidence': 0.997, 'span': {'offset': 3709, 'length': 5}}, {'content': 'compensation', 'polygon': [5.5364, 7.3703, 6.2646, 7.37, 6.2642, 7.527, 5.5359, 7.5282], 'confidence': 0.991, 'span': {'offset': 3715, 'length': 12}}, {'content': 'system', 'polygon': [6.3032, 7.3699, 6.6711, 7.3692, 6.6709, 7.5259, 6.3028, 7.5268], 'confidence': 0.996, 'span': {'offset': 3728, 'length': 6}}, {'content': 'for', 'polygon': [6.7072, 7.3691, 6.8487, 7.3687, 6.8485, 7.5255, 6.7069, 7.5258], 'confidence': 0.999, 'span': {'offset': 3735, 'length': 3}}, {'content': '2024', 'polygon': [6.8796, 7.3686, 7.1394, 7.3683, 7.1392, 7.5255, 6.8793, 7.5255], 'confidence': 0.991, 'span': {'offset': 3739, 'length': 4}}, {'content': 'and', 'polygon': [7.1754, 7.3682, 7.385, 7.3679, 7.385, 7.5255, 7.1753, 7.5255], 'confidence': 0.998, 'span': {'offset': 3744, 'length': 3}}, {'content': 'beyond.', 'polygon': [0.873, 7.5273, 1.2963, 7.529, 1.296, 7.6808, 0.8724, 7.6812], 'confidence': 0.996, 'span': {'offset': 3748, 'length': 7}}, {'content': 'In', 'polygon': [1.3564, 7.5292, 1.444, 7.5294, 1.4438, 7.6812, 1.3561, 7.6809], 'confidence': 0.99, 'span': {'offset': 3756, 'length': 2}}, {'content': 'our', 'polygon': [1.4916, 7.5296, 1.6669, 7.53, 1.6666, 7.6821, 1.4913, 7.6814], 'confidence': 0.998, 'span': {'offset': 3759, 'length': 3}}, {'content': 'review,', 'polygon': [1.7145, 7.5301, 2.0752, 7.5301, 2.0748, 7.6825, 1.7142, 7.6822], 'confidence': 0.995, 'span': {'offset': 3763, 'length': 7}}, {'content': 'we', 'polygon': [2.1253, 7.53, 2.2705, 7.5299, 2.2702, 7.6825, 2.1249, 7.6825], 'confidence': 0.999, 'span': {'offset': 3771, 'length': 2}}, {'content': 'incorporated', 'polygon': [2.3006, 7.5298, 2.9743, 7.5287, 2.974, 7.6808, 2.3003, 7.6824], 'confidence': 0.995, 'span': {'offset': 3774, 'length': 12}}, {'content': 'feedback', 'polygon': [3.0219, 7.5288, 3.5028, 7.5281, 3.5024, 7.6814, 3.0216, 7.681], 'confidence': 0.996, 'span': {'offset': 3787, 'length': 8}}, {'content': 'from', 'polygon': [3.5454, 7.5279, 3.7507, 7.5275, 3.7504, 7.6811, 3.545, 7.6814], 'confidence': 0.995, 'span': {'offset': 3796, 'length': 4}}, {'content': 'investors', 'polygon': [3.8033, 7.5275, 4.3017, 7.527, 4.3015, 7.6803, 3.803, 7.681], 'confidence': 0.996, 'span': {'offset': 3801, 'length': 9}}, {'content': 'and', 'polygon': [4.3493, 7.5269, 4.5372, 7.5264, 4.537, 7.6805, 4.3491, 7.6804], 'confidence': 0.999, 'span': {'offset': 3811, 'length': 3}}, {'content': 'are', 'polygon': [4.5872, 7.5262, 4.7601, 7.5264, 4.7598, 7.6811, 4.5871, 7.6805], 'confidence': 0.998, 'span': {'offset': 3815, 'length': 3}}, {'content': 'addressing', 'polygon': [4.8076, 7.5264, 5.3787, 7.5273, 5.3783, 7.6814, 4.8074, 7.6813], 'confidence': 0.996, 'span': {'offset': 3819, 'length': 10}}, {'content': 'two', 'polygon': [5.4263, 7.5274, 5.6116, 7.5277, 5.6112, 7.6807, 5.4259, 7.6813], 'confidence': 0.998, 'span': {'offset': 3830, 'length': 3}}, {'content': 'main', 'polygon': [5.6642, 7.5277, 5.9072, 7.5279, 5.9068, 7.6794, 5.6638, 7.6804], 'confidence': 0.994, 'span': {'offset': 3834, 'length': 4}}, {'content': 'concerns:', 'polygon': [5.9597, 7.5279, 6.4682, 7.5268, 6.4678, 7.6789, 5.9593, 7.6791], 'confidence': 0.991, 'span': {'offset': 3839, 'length': 9}}, {'content': 'first,', 'polygon': [6.5158, 7.5269, 6.7337, 7.527, 6.7334, 7.679, 6.5154, 7.6789], 'confidence': 0.994, 'span': {'offset': 3849, 'length': 6}}, {'content': 'we', 'polygon': [6.7812, 7.5271, 6.934, 7.5272, 6.9338, 7.679, 6.781, 7.679], 'confidence': 0.999, 'span': {'offset': 3856, 'length': 2}}, {'content': 'want', 'polygon': [6.9791, 7.5272, 7.2346, 7.5273, 7.2344, 7.6788, 6.9789, 7.6789], 'confidence': 0.991, 'span': {'offset': 3859, 'length': 4}}, {'content': 'to', 'polygon': [7.2746, 7.5273, 7.3848, 7.5273, 7.3847, 7.6786, 7.2745, 7.6787], 'confidence': 0.998, 'span': {'offset': 3864, 'length': 2}}, {'content': 'simplify', 'polygon': [0.8705, 7.6792, 1.2607, 7.6788, 1.2606, 7.8328, 0.8701, 7.8328], 'confidence': 0.995, 'span': {'offset': 3867, 'length': 8}}, {'content': 'the', 'polygon': [1.2911, 7.6788, 1.4711, 7.679, 1.471, 7.8331, 1.291, 7.8329], 'confidence': 0.998, 'span': {'offset': 3876, 'length': 3}}, {'content': 'system,', 'polygon': [1.5091, 7.6791, 1.9069, 7.6795, 1.9068, 7.8336, 1.509, 7.8332], 'confidence': 0.995, 'span': {'offset': 3880, 'length': 7}}, {'content': 'making', 'polygon': [1.9525, 7.6795, 2.3047, 7.6791, 2.3046, 7.8331, 1.9524, 7.8335], 'confidence': 0.997, 'span': {'offset': 3888, 'length': 6}}, {'content': 'it', 'polygon': [2.3351, 7.679, 2.4061, 7.6788, 2.406, 7.8328, 2.335, 7.833], 'confidence': 0.998, 'span': {'offset': 3895, 'length': 2}}, {'content': 'more', 'polygon': [2.4365, 7.6787, 2.7228, 7.6776, 2.7226, 7.832, 2.4364, 7.8327], 'confidence': 0.995, 'span': {'offset': 3898, 'length': 4}}, {'content': 'transparent', 'polygon': [2.7583, 7.6776, 3.3385, 7.6779, 3.3384, 7.8326, 2.7581, 7.832], 'confidence': 0.995, 'span': {'offset': 3903, 'length': 11}}, {'content': 'for', 'polygon': [3.369, 7.6779, 3.5311, 7.678, 3.531, 7.8326, 3.3688, 7.8326], 'confidence': 0.999, 'span': {'offset': 3915, 'length': 3}}, {'content': 'our', 'polygon': [3.5641, 7.678, 3.7364, 7.6779, 3.7362, 7.8324, 3.5639, 7.8326], 'confidence': 0.998, 'span': {'offset': 3919, 'length': 3}}, {'content': 'external', 'polygon': [3.7693, 7.6779, 4.1823, 7.6773, 4.1822, 7.8315, 3.7692, 7.8323], 'confidence': 0.994, 'span': {'offset': 3923, 'length': 8}}, {'content': 'stakeholders,', 'polygon': [4.2254, 7.6773, 4.9172, 7.6774, 4.917, 7.8337, 4.2253, 7.8317], 'confidence': 0.994, 'span': {'offset': 3932, 'length': 13}}, {'content': 'by', 'polygon': [4.9628, 7.6775, 5.0819, 7.6775, 5.0818, 7.834, 4.9627, 7.8339], 'confidence': 0.998, 'span': {'offset': 3946, 'length': 2}}, {'content': 'significantly', 'polygon': [5.1174, 7.6775, 5.7103, 7.6775, 5.7101, 7.833, 5.1172, 7.8339], 'confidence': 0.992, 'span': {'offset': 3949, 'length': 13}}, {'content': 'reducing', 'polygon': [5.7407, 7.6775, 6.2095, 7.6776, 6.2092, 7.8322, 5.7405, 7.833], 'confidence': 0.995, 'span': {'offset': 3963, 'length': 8}}, {'content': 'the', 'polygon': [6.2449, 7.6775, 6.4096, 7.6771, 6.4094, 7.8311, 6.2447, 7.832], 'confidence': 0.998, 'span': {'offset': 3972, 'length': 3}}, {'content': 'number', 'polygon': [6.4502, 7.6771, 6.848, 7.6779, 6.8478, 7.8306, 6.4499, 7.8309], 'confidence': 0.995, 'span': {'offset': 3976, 'length': 6}}, {'content': 'of', 'polygon': [6.881, 7.678, 6.9671, 7.678, 6.967, 7.8307, 6.8808, 7.8305], 'confidence': 0.999, 'span': {'offset': 3983, 'length': 2}}, {'content': 'targets', 'polygon': [6.9975, 7.6779, 7.385, 7.6772, 7.385, 7.8322, 6.9974, 7.8308], 'confidence': 0.994, 'span': {'offset': 3986, 'length': 7}}, {'content': 'and', 'polygon': [0.8698, 7.8293, 1.0731, 7.8299, 1.0729, 7.9804, 0.8694, 7.9799], 'confidence': 0.991, 'span': {'offset': 3994, 'length': 3}}, {'content': 'indicators', 'polygon': [1.1333, 7.8301, 1.6327, 7.8308, 1.6327, 7.9815, 1.1332, 7.9805], 'confidence': 0.996, 'span': {'offset': 3998, 'length': 10}}, {'content': 'on', 'polygon': [1.6829, 7.8308, 1.8084, 7.8308, 1.8083, 7.9818, 1.6829, 7.9816], 'confidence': 0.999, 'span': {'offset': 4009, 'length': 2}}, {'content': 'which', 'polygon': [1.8611, 7.8309, 2.1597, 7.8311, 2.1596, 7.9826, 1.861, 7.9819], 'confidence': 0.994, 'span': {'offset': 4012, 'length': 5}}, {'content': 'variable', 'polygon': [2.2124, 7.8312, 2.624, 7.8311, 2.6239, 7.9837, 2.2123, 7.9827], 'confidence': 0.995, 'span': {'offset': 4018, 'length': 8}}, {'content': 'compensation', 'polygon': [2.6767, 7.831, 3.4044, 7.8299, 3.4044, 7.9843, 2.6766, 7.9838], 'confidence': 0.995, 'span': {'offset': 4027, 'length': 12}}, {'content': 'depends.', 'polygon': [3.4596, 7.8299, 3.939, 7.8301, 3.9389, 7.9848, 3.4596, 7.9843], 'confidence': 0.995, 'span': {'offset': 4040, 'length': 8}}, {'content': 'Second,', 'polygon': [3.9967, 7.8302, 4.4183, 7.8304, 4.4182, 7.9848, 3.9967, 7.9848], 'confidence': 0.995, 'span': {'offset': 4049, 'length': 7}}, {'content': 'we', 'polygon': [4.471, 7.8304, 4.6241, 7.8303, 4.624, 7.9848, 4.4709, 7.9848], 'confidence': 0.999, 'span': {'offset': 4057, 'length': 2}}, {'content': 'aim', 'polygon': [4.6768, 7.8302, 4.8625, 7.8299, 4.8624, 7.9845, 4.6767, 7.9848], 'confidence': 0.992, 'span': {'offset': 4060, 'length': 3}}, {'content': 'to', 'polygon': [4.9127, 7.8298, 5.0106, 7.8296, 5.0104, 7.9844, 4.9126, 7.9845], 'confidence': 0.998, 'span': {'offset': 4064, 'length': 2}}, {'content': 'align', 'polygon': [5.0607, 7.8295, 5.3067, 7.8302, 5.3065, 7.9839, 5.0606, 7.9843], 'confidence': 0.995, 'span': {'offset': 4067, 'length': 5}}, {'content': 'how', 'polygon': [5.3619, 7.8303, 5.5777, 7.8306, 5.5775, 7.9834, 5.3617, 7.9838], 'confidence': 0.998, 'span': {'offset': 4073, 'length': 3}}, {'content': 'we', 'polygon': [5.6229, 7.8306, 5.7735, 7.8303, 5.7733, 7.9828, 5.6227, 7.9832], 'confidence': 0.998, 'span': {'offset': 4077, 'length': 2}}, {'content': 'evaluate', 'polygon': [5.8237, 7.8302, 6.2678, 7.8299, 6.2677, 7.9826, 5.8235, 7.9827], 'confidence': 0.994, 'span': {'offset': 4080, 'length': 8}}, {'content': 'Management', 'polygon': [6.3231, 7.8298, 7.0107, 7.8279, 7.0107, 7.9815, 6.3229, 7.9827], 'confidence': 0.995, 'span': {'offset': 4089, 'length': 10}}, {'content': 'Board', 'polygon': [7.0684, 7.8277, 7.3907, 7.8262, 7.3907, 7.9814, 7.0684, 7.9815], 'confidence': 0.997, 'span': {'offset': 4100, 'length': 5}}, {'content': \"members'\", 'polygon': [0.8734, 7.9868, 1.3975, 7.9882, 1.3975, 8.1366, 0.873, 8.1364], 'confidence': 0.993, 'span': {'offset': 4106, 'length': 8}}, {'content': 'performance', 'polygon': [1.4521, 7.9883, 2.1103, 7.9884, 2.1102, 8.1365, 1.4521, 8.1366], 'confidence': 0.994, 'span': {'offset': 4115, 'length': 11}}, {'content': 'even', 'polygon': [2.16, 7.9884, 2.4109, 7.9878, 2.4107, 8.1361, 2.1598, 8.1364], 'confidence': 0.995, 'span': {'offset': 4127, 'length': 4}}, {'content': 'more', 'polygon': [2.468, 7.9876, 2.7313, 7.9868, 2.7312, 8.1357, 2.4679, 8.136], 'confidence': 0.991, 'span': {'offset': 4132, 'length': 4}}, {'content': 'closely', 'polygon': [2.7834, 7.9867, 3.1436, 7.986, 3.1436, 8.1363, 2.7834, 8.1358], 'confidence': 0.995, 'span': {'offset': 4137, 'length': 7}}, {'content': 'with', 'polygon': [3.1883, 7.9859, 3.3945, 7.9853, 3.3945, 8.1366, 3.1884, 8.1364], 'confidence': 0.993, 'span': {'offset': 4145, 'length': 4}}, {'content': 'the', 'polygon': [3.4466, 7.9852, 3.6106, 7.9847, 3.6106, 8.1368, 3.4467, 8.1366], 'confidence': 0.999, 'span': {'offset': 4150, 'length': 3}}, {'content': 'interests', 'polygon': [3.6652, 7.9846, 4.1048, 7.9843, 4.1048, 8.1363, 3.6653, 8.1368], 'confidence': 0.994, 'span': {'offset': 4154, 'length': 9}}, {'content': 'of', 'polygon': [4.152, 7.9842, 4.2588, 7.9843, 4.2588, 8.1362, 4.152, 8.1363], 'confidence': 0.993, 'span': {'offset': 4164, 'length': 2}}, {'content': 'our', 'polygon': [4.3011, 7.9843, 4.4749, 7.9843, 4.4749, 8.136, 4.301, 8.1362], 'confidence': 0.998, 'span': {'offset': 4167, 'length': 3}}, {'content': 'shareholders.', 'polygon': [4.5196, 7.9843, 5.2598, 7.9842, 5.2596, 8.1382, 4.5196, 8.136], 'confidence': 0.993, 'span': {'offset': 4171, 'length': 13}}, {'content': 'This', 'polygon': [5.2896, 7.9843, 5.5057, 7.9848, 5.5054, 8.1377, 5.2894, 8.1381], 'confidence': 0.994, 'span': {'offset': 4185, 'length': 4}}, {'content': 'applies', 'polygon': [5.5554, 7.9849, 5.928, 7.9854, 5.9278, 8.1375, 5.5551, 8.1376], 'confidence': 0.994, 'span': {'offset': 4190, 'length': 7}}, {'content': 'above', 'polygon': [5.9776, 7.9855, 6.2956, 7.984, 6.2954, 8.1377, 5.9775, 8.1375], 'confidence': 0.996, 'span': {'offset': 4198, 'length': 5}}, {'content': 'all', 'polygon': [6.3477, 7.9838, 6.4595, 7.9833, 6.4593, 8.1377, 6.3476, 8.1377], 'confidence': 0.992, 'span': {'offset': 4204, 'length': 3}}, {'content': 'to', 'polygon': [6.5141, 7.9835, 6.611, 7.984, 6.6108, 8.1377, 6.5139, 8.1377], 'confidence': 0.998, 'span': {'offset': 4208, 'length': 2}}, {'content': 'the', 'polygon': [6.6582, 7.9842, 6.8221, 7.9849, 6.8218, 8.1378, 6.658, 8.1377], 'confidence': 0.998, 'span': {'offset': 4211, 'length': 3}}, {'content': 'long-term', 'polygon': [6.8743, 7.9851, 7.385, 7.9838, 7.385, 8.1387, 6.874, 8.1378], 'confidence': 0.994, 'span': {'offset': 4215, 'length': 9}}, {'content': 'component', 'polygon': [0.8749, 8.1419, 1.4472, 8.1418, 1.4475, 8.2914, 0.8745, 8.2905], 'confidence': 0.996, 'span': {'offset': 4225, 'length': 9}}, {'content': 'of', 'polygon': [1.4771, 8.1417, 1.5667, 8.1411, 1.5669, 8.291, 1.4773, 8.2913], 'confidence': 0.999, 'span': {'offset': 4235, 'length': 2}}, {'content': 'variable', 'polygon': [1.5966, 8.141, 2.0246, 8.1401, 2.0246, 8.2909, 1.5967, 8.2909], 'confidence': 0.996, 'span': {'offset': 4238, 'length': 8}}, {'content': 'compensation,', 'polygon': [2.0545, 8.1401, 2.7911, 8.1386, 2.7912, 8.2903, 2.0544, 8.291], 'confidence': 0.993, 'span': {'offset': 4247, 'length': 13}}, {'content': 'which', 'polygon': [2.8209, 8.1386, 3.1196, 8.1387, 3.1197, 8.2913, 2.821, 8.2904], 'confidence': 0.995, 'span': {'offset': 4261, 'length': 5}}, {'content': 'in', 'polygon': [3.1494, 8.1388, 3.239, 8.1388, 3.2392, 8.2915, 3.1496, 8.2914], 'confidence': 0.999, 'span': {'offset': 4267, 'length': 2}}, {'content': 'future', 'polygon': [3.2689, 8.1388, 3.5675, 8.1387, 3.5676, 8.2916, 3.269, 8.2916], 'confidence': 0.996, 'span': {'offset': 4270, 'length': 6}}, {'content': 'will', 'polygon': [3.5974, 8.1387, 3.7567, 8.1388, 3.7567, 8.2918, 3.5975, 8.2916], 'confidence': 0.995, 'span': {'offset': 4277, 'length': 4}}, {'content': 'no', 'polygon': [3.7865, 8.1388, 3.906, 8.1388, 3.9061, 8.2921, 3.7866, 8.2919], 'confidence': 0.998, 'span': {'offset': 4282, 'length': 2}}, {'content': 'longer', 'polygon': [3.9358, 8.1388, 4.2643, 8.139, 4.2644, 8.2926, 3.9359, 8.2922], 'confidence': 0.996, 'span': {'offset': 4285, 'length': 6}}, {'content': 'be', 'polygon': [4.2942, 8.1391, 4.4385, 8.1392, 4.4386, 8.2927, 4.2943, 8.2926], 'confidence': 0.997, 'span': {'offset': 4292, 'length': 2}}, {'content': 'measured', 'polygon': [4.4709, 8.1392, 4.986, 8.1402, 4.986, 8.2927, 4.4709, 8.2927], 'confidence': 0.995, 'span': {'offset': 4295, 'length': 8}}, {'content': 'against', 'polygon': [5.0184, 8.1403, 5.3792, 8.1406, 5.3792, 8.2927, 5.0184, 8.2927], 'confidence': 0.995, 'span': {'offset': 4304, 'length': 7}}, {'content': 'past', 'polygon': [5.4091, 8.1406, 5.6281, 8.1408, 5.6281, 8.2927, 5.4091, 8.2927], 'confidence': 0.994, 'span': {'offset': 4312, 'length': 4}}, {'content': \"years'\", 'polygon': [5.658, 8.1408, 5.9815, 8.1411, 5.9815, 8.2927, 5.658, 8.2927], 'confidence': 0.993, 'span': {'offset': 4317, 'length': 6}}, {'content': 'results.', 'polygon': [6.0138, 8.1411, 6.3647, 8.1406, 6.3647, 8.2918, 6.0138, 8.2927], 'confidence': 0.993, 'span': {'offset': 4324, 'length': 8}}, {'content': 'In', 'polygon': [6.3946, 8.1405, 6.5066, 8.1407, 6.5065, 8.2916, 6.3945, 8.2917], 'confidence': 0.993, 'span': {'offset': 4333, 'length': 2}}, {'content': 'the', 'polygon': [6.5364, 8.1409, 6.6833, 8.1416, 6.6832, 8.2921, 6.5364, 8.2917], 'confidence': 0.998, 'span': {'offset': 4336, 'length': 3}}, {'content': 'new', 'polygon': [6.7131, 8.1418, 6.9197, 8.1428, 6.9197, 8.2927, 6.7131, 8.2922], 'confidence': 0.998, 'span': {'offset': 4340, 'length': 3}}, {'content': 'system,', 'polygon': [6.962, 8.1429, 7.3793, 8.1436, 7.3793, 8.2927, 6.962, 8.2927], 'confidence': 0.993, 'span': {'offset': 4344, 'length': 7}}, {'content': 'both', 'polygon': [0.8717, 8.284, 1.1068, 8.2842, 1.1067, 8.4357, 0.8713, 8.4356], 'confidence': 0.988, 'span': {'offset': 4352, 'length': 4}}, {'content': 'financial', 'polygon': [1.1443, 8.2843, 1.5745, 8.2842, 1.5746, 8.4364, 1.1442, 8.4358], 'confidence': 0.995, 'span': {'offset': 4357, 'length': 9}}, {'content': 'and', 'polygon': [1.6145, 8.2842, 1.8046, 8.284, 1.8046, 8.4369, 1.6146, 8.4365], 'confidence': 0.993, 'span': {'offset': 4367, 'length': 3}}, {'content': 'ESG', 'polygon': [1.8521, 8.2842, 2.0748, 8.2852, 2.0746, 8.4382, 1.8521, 8.4371], 'confidence': 0.997, 'span': {'offset': 4371, 'length': 3}}, {'content': 'targets', 'polygon': [2.1073, 8.2854, 2.4874, 8.286, 2.4874, 8.4391, 2.1072, 8.4383], 'confidence': 0.995, 'span': {'offset': 4375, 'length': 7}}, {'content': 'will', 'polygon': [2.52, 8.286, 2.68, 8.2859, 2.68, 8.4392, 2.5199, 8.4392], 'confidence': 0.988, 'span': {'offset': 4383, 'length': 4}}, {'content': 'be', 'polygon': [2.7251, 8.2859, 2.8476, 8.2859, 2.8476, 8.4393, 2.7251, 8.4392], 'confidence': 0.998, 'span': {'offset': 4388, 'length': 2}}, {'content': 'forward-looking', 'polygon': [2.8851, 8.2859, 3.6905, 8.2862, 3.6904, 8.4408, 2.8851, 8.4393], 'confidence': 0.993, 'span': {'offset': 4391, 'length': 15}}, {'content': 'over', 'polygon': [3.7305, 8.2862, 3.9607, 8.2864, 3.9606, 8.4406, 3.7304, 8.4408], 'confidence': 0.994, 'span': {'offset': 4407, 'length': 4}}, {'content': 'a', 'polygon': [3.9932, 8.2864, 4.0557, 8.2864, 4.0556, 8.4405, 3.9931, 8.4406], 'confidence': 0.998, 'span': {'offset': 4412, 'length': 1}}, {'content': 'period', 'polygon': [4.0957, 8.2865, 4.4159, 8.2866, 4.4157, 8.4402, 4.0957, 8.4405], 'confidence': 0.995, 'span': {'offset': 4414, 'length': 6}}, {'content': 'of', 'polygon': [4.4559, 8.2866, 4.5384, 8.2866, 4.5383, 8.4402, 4.4557, 8.4402], 'confidence': 0.997, 'span': {'offset': 4421, 'length': 2}}, {'content': 'three', 'polygon': [4.5684, 8.2866, 4.8536, 8.2868, 4.8534, 8.4404, 4.5683, 8.4401], 'confidence': 0.994, 'span': {'offset': 4424, 'length': 5}}, {'content': 'years.', 'polygon': [4.8886, 8.2869, 5.2037, 8.2872, 5.2036, 8.4399, 4.8885, 8.4404], 'confidence': 0.994, 'span': {'offset': 4430, 'length': 6}}, {'content': 'In', 'polygon': [5.2538, 8.2873, 5.3388, 8.2875, 5.3386, 8.4394, 5.2536, 8.4397], 'confidence': 0.988, 'span': {'offset': 4437, 'length': 2}}, {'content': 'addition,', 'polygon': [5.3788, 8.2875, 5.8165, 8.2873, 5.8163, 8.4385, 5.3786, 8.4392], 'confidence': 0.993, 'span': {'offset': 4440, 'length': 9}}, {'content': 'we', 'polygon': [5.8566, 8.2872, 6.0066, 8.287, 6.0065, 8.4385, 5.8564, 8.4385], 'confidence': 0.998, 'span': {'offset': 4450, 'length': 2}}, {'content': 'aim', 'polygon': [6.0442, 8.2869, 6.2292, 8.2865, 6.2291, 8.4384, 6.044, 8.4385], 'confidence': 0.997, 'span': {'offset': 4453, 'length': 3}}, {'content': 'to', 'polygon': [6.2693, 8.2865, 6.3643, 8.2863, 6.3642, 8.4383, 6.2691, 8.4383], 'confidence': 0.998, 'span': {'offset': 4457, 'length': 2}}, {'content': 'be', 'polygon': [6.4043, 8.2862, 6.5294, 8.286, 6.5292, 8.4378, 6.4042, 8.4382], 'confidence': 0.998, 'span': {'offset': 4460, 'length': 2}}, {'content': 'more', 'polygon': [6.5694, 8.2859, 6.832, 8.2855, 6.8319, 8.4364, 6.5692, 8.4376], 'confidence': 0.995, 'span': {'offset': 4463, 'length': 4}}, {'content': 'ambitious', 'polygon': [6.8695, 8.2854, 7.3848, 8.2856, 7.3846, 8.4369, 6.8694, 8.4363], 'confidence': 0.993, 'span': {'offset': 4468, 'length': 9}}, {'content': 'when', 'polygon': [0.8682, 8.4433, 1.1516, 8.4437, 1.1516, 8.5926, 0.868, 8.5924], 'confidence': 0.99, 'span': {'offset': 4478, 'length': 4}}, {'content': 'it', 'polygon': [1.1815, 8.4437, 1.2635, 8.4438, 1.2635, 8.5927, 1.1814, 8.5926], 'confidence': 0.999, 'span': {'offset': 4483, 'length': 2}}, {'content': 'comes', 'polygon': [1.3008, 8.4439, 1.6464, 8.4437, 1.6462, 8.5938, 1.3008, 8.5927], 'confidence': 0.997, 'span': {'offset': 4486, 'length': 5}}, {'content': 'to', 'polygon': [1.6861, 8.4436, 1.7831, 8.4435, 1.7829, 8.5943, 1.686, 8.594], 'confidence': 0.999, 'span': {'offset': 4492, 'length': 2}}, {'content': 'setting', 'polygon': [1.8229, 8.4435, 2.1635, 8.443, 2.1634, 8.5939, 1.8227, 8.5943], 'confidence': 0.996, 'span': {'offset': 4495, 'length': 7}}, {'content': 'targets', 'polygon': [2.2057, 8.443, 2.5662, 8.4419, 2.5662, 8.5928, 2.2056, 8.5939], 'confidence': 0.996, 'span': {'offset': 4503, 'length': 7}}, {'content': 'for', 'polygon': [2.6035, 8.4418, 2.7452, 8.4414, 2.7452, 8.5923, 2.6035, 8.5926], 'confidence': 0.999, 'span': {'offset': 4511, 'length': 3}}, {'content': 'certain', 'polygon': [2.7825, 8.4414, 3.128, 8.4415, 3.128, 8.593, 2.7825, 8.5923], 'confidence': 0.996, 'span': {'offset': 4515, 'length': 7}}, {'content': 'key', 'polygon': [3.1753, 8.4415, 3.3543, 8.4413, 3.3542, 8.5935, 3.1753, 8.5931], 'confidence': 0.998, 'span': {'offset': 4523, 'length': 3}}, {'content': 'performance', 'polygon': [3.399, 8.4413, 4.0528, 8.4405, 4.0527, 8.5925, 3.399, 8.5936], 'confidence': 0.995, 'span': {'offset': 4527, 'length': 11}}, {'content': 'indicators.', 'polygon': [4.1001, 8.4404, 4.6246, 8.4406, 4.6246, 8.5918, 4.0999, 8.5923], 'confidence': 0.989, 'span': {'offset': 4539, 'length': 11}}, {'content': 'We', 'polygon': [4.6669, 8.4406, 4.8459, 8.4407, 4.8458, 8.5923, 4.6668, 8.5919], 'confidence': 0.991, 'span': {'offset': 4551, 'length': 2}}, {'content': 'will', 'polygon': [4.8832, 8.4407, 5.0423, 8.4407, 5.0422, 8.5928, 4.8831, 8.5924], 'confidence': 0.995, 'span': {'offset': 4554, 'length': 4}}, {'content': 'submit', 'polygon': [5.087, 8.4407, 5.4326, 8.4409, 5.4323, 8.5921, 5.0869, 8.5928], 'confidence': 0.996, 'span': {'offset': 4559, 'length': 6}}, {'content': 'the', 'polygon': [5.4699, 8.4409, 5.6315, 8.4409, 5.6312, 8.5919, 5.4696, 8.5921], 'confidence': 0.993, 'span': {'offset': 4566, 'length': 3}}, {'content': 'revised', 'polygon': [5.6762, 8.4409, 6.0491, 8.4408, 6.0488, 8.5919, 5.6759, 8.5919], 'confidence': 0.995, 'span': {'offset': 4570, 'length': 7}}, {'content': 'compensation', 'polygon': [6.0914, 8.4407, 6.8198, 8.4408, 6.8195, 8.5947, 6.091, 8.5921], 'confidence': 0.995, 'span': {'offset': 4578, 'length': 12}}, {'content': 'system', 'polygon': [6.8621, 8.4409, 7.2325, 8.4403, 7.2324, 8.5945, 6.8618, 8.5949], 'confidence': 0.995, 'span': {'offset': 4591, 'length': 6}}, {'content': 'to', 'polygon': [7.2723, 8.4403, 7.385, 8.44, 7.385, 8.5942, 7.2722, 8.5944], 'confidence': 0.996, 'span': {'offset': 4598, 'length': 2}}, {'content': 'you', 'polygon': [0.8642, 8.5981, 1.0536, 8.5976, 1.0537, 8.7528, 0.8643, 8.7535], 'confidence': 0.998, 'span': {'offset': 4601, 'length': 3}}, {'content': 'for', 'polygon': [1.0843, 8.5975, 1.2275, 8.5972, 1.2278, 8.7523, 1.0845, 8.7527], 'confidence': 0.997, 'span': {'offset': 4605, 'length': 3}}, {'content': 'voting', 'polygon': [1.2582, 8.5971, 1.5857, 8.5965, 1.5858, 8.752, 1.2585, 8.7523], 'confidence': 0.995, 'span': {'offset': 4609, 'length': 6}}, {'content': 'at', 'polygon': [1.6267, 8.5964, 1.7239, 8.5961, 1.7239, 8.7511, 1.6267, 8.7517], 'confidence': 0.997, 'span': {'offset': 4616, 'length': 2}}, {'content': 'the', 'polygon': [1.7546, 8.5959, 1.9183, 8.5955, 1.9183, 8.7499, 1.7546, 8.7509], 'confidence': 0.998, 'span': {'offset': 4619, 'length': 3}}, {'content': 'Annual', 'polygon': [1.949, 8.5956, 2.3149, 8.5958, 2.3149, 8.75, 1.949, 8.7498], 'confidence': 0.995, 'span': {'offset': 4623, 'length': 6}}, {'content': 'General', 'polygon': [2.3558, 8.5958, 2.7677, 8.5946, 2.7676, 8.7507, 2.3558, 8.7502], 'confidence': 0.994, 'span': {'offset': 4630, 'length': 7}}, {'content': 'Meeting', 'polygon': [2.8112, 8.5944, 3.2027, 8.5942, 3.2025, 8.7512, 2.8111, 8.7506], 'confidence': 0.995, 'span': {'offset': 4638, 'length': 7}}, {'content': 'in', 'polygon': [3.2334, 8.5943, 3.3434, 8.5945, 3.3432, 8.7517, 3.2331, 8.7513], 'confidence': 0.997, 'span': {'offset': 4646, 'length': 2}}, {'content': 'May;', 'polygon': [3.3869, 8.5946, 3.6299, 8.595, 3.6298, 8.7527, 3.3867, 8.7518], 'confidence': 0.987, 'span': {'offset': 4649, 'length': 4}}, {'content': 'it', 'polygon': [3.6734, 8.5949, 3.7144, 8.5948, 3.7142, 8.7524, 3.6733, 8.7525], 'confidence': 0.998, 'span': {'offset': 4654, 'length': 2}}, {'content': 'is', 'polygon': [3.7451, 8.5947, 3.8449, 8.5944, 3.8447, 8.752, 3.7449, 8.7523], 'confidence': 0.998, 'span': {'offset': 4657, 'length': 2}}, {'content': 'to', 'polygon': [3.8781, 8.5943, 3.9779, 8.5942, 3.9777, 8.7516, 3.8779, 8.7519], 'confidence': 0.998, 'span': {'offset': 4660, 'length': 2}}, {'content': 'be', 'polygon': [4.0163, 8.5944, 4.1391, 8.5949, 4.1388, 8.7518, 4.016, 8.7516], 'confidence': 0.998, 'span': {'offset': 4663, 'length': 2}}, {'content': 'applied', 'polygon': [4.1749, 8.5951, 4.551, 8.5954, 4.5507, 8.7519, 4.1746, 8.7519], 'confidence': 0.994, 'span': {'offset': 4666, 'length': 7}}, {'content': 'as', 'polygon': [4.5919, 8.5954, 4.7122, 8.5952, 4.7119, 8.7519, 4.5917, 8.7518], 'confidence': 0.998, 'span': {'offset': 4674, 'length': 2}}, {'content': 'early', 'polygon': [4.748, 8.5952, 5.0038, 8.5949, 5.0036, 8.7521, 4.7477, 8.7519], 'confidence': 0.995, 'span': {'offset': 4677, 'length': 5}}, {'content': 'as', 'polygon': [5.0371, 8.595, 5.1574, 8.5953, 5.1571, 8.7522, 5.0368, 8.7521], 'confidence': 0.998, 'span': {'offset': 4683, 'length': 2}}, {'content': 'this', 'polygon': [5.1906, 8.5954, 5.3723, 8.5958, 5.372, 8.7521, 5.1904, 8.7522], 'confidence': 0.994, 'span': {'offset': 4686, 'length': 4}}, {'content': 'year.', 'polygon': [5.4081, 8.5958, 5.6786, 8.5962, 5.6786, 8.751, 5.4079, 8.7519], 'confidence': 0.991, 'span': {'offset': 4691, 'length': 5}}, {'content': 'In', 'polygon': [0.8732, 8.8944, 0.9765, 8.8944, 0.976, 9.0479, 0.8726, 9.0476], 'confidence': 0.991, 'span': {'offset': 4698, 'length': 2}}, {'content': '2023,', 'polygon': [1.037, 8.8944, 1.3243, 8.8943, 1.324, 9.049, 1.0366, 9.0481], 'confidence': 0.994, 'span': {'offset': 4701, 'length': 5}}, {'content': 'the', 'polygon': [1.3822, 8.8944, 1.546, 8.8948, 1.5458, 9.0491, 1.382, 9.049], 'confidence': 0.999, 'span': {'offset': 4707, 'length': 3}}, {'content': 'Supervisory', 'polygon': [1.6065, 8.8949, 2.2265, 8.8964, 2.2261, 9.0493, 1.6062, 9.0491], 'confidence': 0.995, 'span': {'offset': 4711, 'length': 11}}, {'content': 'Board', 'polygon': [2.2844, 8.8965, 2.5894, 8.8964, 2.5889, 9.0492, 2.2841, 9.0493], 'confidence': 0.997, 'span': {'offset': 4723, 'length': 5}}, {'content': 'also', 'polygon': [2.6498, 8.8964, 2.8641, 8.8965, 2.8636, 9.0492, 2.6494, 9.0492], 'confidence': 0.993, 'span': {'offset': 4729, 'length': 4}}, {'content': 'addressed', 'polygon': [2.9195, 8.8966, 3.4638, 8.8966, 3.4635, 9.0494, 2.9191, 9.0492], 'confidence': 0.995, 'span': {'offset': 4734, 'length': 9}}, {'content': 'personnel', 'polygon': [3.5294, 8.8965, 4.0384, 8.8952, 4.0381, 9.048, 3.529, 9.0494], 'confidence': 0.995, 'span': {'offset': 4744, 'length': 9}}, {'content': 'decisions', 'polygon': [4.0964, 8.895, 4.5853, 8.8944, 4.5852, 9.0485, 4.0961, 9.0478], 'confidence': 0.994, 'span': {'offset': 4754, 'length': 9}}, {'content': 'in', 'polygon': [4.6433, 8.8942, 4.7289, 8.894, 4.7287, 9.049, 4.6431, 9.0487], 'confidence': 0.998, 'span': {'offset': 4764, 'length': 2}}, {'content': 'the', 'polygon': [4.7844, 8.8939, 4.9482, 8.8934, 4.9479, 9.0496, 4.7841, 9.0491], 'confidence': 0.998, 'span': {'offset': 4767, 'length': 3}}, {'content': 'Management', 'polygon': [5.0087, 8.8933, 5.6967, 8.8936, 5.6964, 9.0472, 5.0083, 9.0497], 'confidence': 0.99, 'span': {'offset': 4771, 'length': 10}}, {'content': 'Board.', 'polygon': [5.7521, 8.8936, 6.1201, 8.8933, 6.1199, 9.0467, 5.7519, 9.0471], 'confidence': 0.994, 'span': {'offset': 4782, 'length': 6}}, {'content': 'At', 'polygon': [6.1503, 8.8933, 6.2612, 8.8932, 6.261, 9.0468, 6.1501, 9.0468], 'confidence': 0.998, 'span': {'offset': 4789, 'length': 2}}, {'content': 'the', 'polygon': [6.3116, 8.8931, 6.4754, 8.8929, 6.4751, 9.0467, 6.3114, 9.0468], 'confidence': 0.998, 'span': {'offset': 4792, 'length': 3}}, {'content': 'Annual', 'polygon': [6.5283, 8.8928, 6.9265, 8.8921, 6.9262, 9.0463, 6.528, 9.0467], 'confidence': 0.995, 'span': {'offset': 4796, 'length': 6}}, {'content': 'General', 'polygon': [6.9567, 8.8922, 7.385, 8.8934, 7.385, 9.0467, 6.9564, 9.0463], 'confidence': 0.995, 'span': {'offset': 4803, 'length': 7}}, {'content': 'Meeting,', 'polygon': [0.8711, 9.0497, 1.3285, 9.0514, 1.3288, 9.2026, 0.8706, 9.2011], 'confidence': 0.995, 'span': {'offset': 4811, 'length': 8}}, {'content': 'we', 'polygon': [1.3635, 9.0514, 1.516, 9.0512, 1.5163, 9.202, 1.3638, 9.2025], 'confidence': 0.999, 'span': {'offset': 4820, 'length': 2}}, {'content': 'bid', 'polygon': [1.5535, 9.0512, 1.701, 9.051, 1.7012, 9.2013, 1.5538, 9.2018], 'confidence': 0.998, 'span': {'offset': 4823, 'length': 3}}, {'content': 'farewell', 'polygon': [1.7335, 9.0509, 2.1359, 9.0497, 2.1361, 9.2011, 1.7337, 9.2012], 'confidence': 0.996, 'span': {'offset': 4827, 'length': 8}}, {'content': 'to', 'polygon': [2.1709, 9.0495, 2.2709, 9.0492, 2.2711, 9.2012, 2.1711, 9.2012], 'confidence': 0.999, 'span': {'offset': 4836, 'length': 2}}, {'content': 'Christiana', 'polygon': [2.3034, 9.0492, 2.8309, 9.0491, 2.8309, 9.2012, 2.3035, 9.2012], 'confidence': 0.994, 'span': {'offset': 4839, 'length': 10}}, {'content': 'Riley,', 'polygon': [2.8684, 9.049, 3.1533, 9.0488, 3.1534, 9.2018, 2.8684, 9.2013], 'confidence': 0.992, 'span': {'offset': 4850, 'length': 6}}, {'content': 'Americas', 'polygon': [3.1883, 9.0488, 3.6808, 9.0492, 3.6809, 9.2024, 3.1884, 9.2018], 'confidence': 0.996, 'span': {'offset': 4857, 'length': 8}}, {'content': 'CEO,', 'polygon': [3.7133, 9.0491, 3.9957, 9.0488, 3.9959, 9.2019, 3.7134, 9.2024], 'confidence': 0.988, 'span': {'offset': 4866, 'length': 4}}, {'content': 'and', 'polygon': [4.0332, 9.0488, 4.2232, 9.0487, 4.2233, 9.2018, 4.0334, 9.2018], 'confidence': 0.998, 'span': {'offset': 4871, 'length': 3}}, {'content': 'Karl', 'polygon': [4.2657, 9.0487, 4.4657, 9.0487, 4.4658, 9.2022, 4.2658, 9.2019], 'confidence': 0.993, 'span': {'offset': 4875, 'length': 4}}, {'content': 'von', 'polygon': [4.5007, 9.0486, 4.6882, 9.0485, 4.6883, 9.2025, 4.5008, 9.2023], 'confidence': 0.998, 'span': {'offset': 4880, 'length': 3}}, {'content': 'Rohr,', 'polygon': [4.7282, 9.0484, 5.0056, 9.048, 5.0057, 9.2029, 4.7283, 9.2026], 'confidence': 0.994, 'span': {'offset': 4884, 'length': 5}}, {'content': 'President', 'polygon': [5.0481, 9.0479, 5.5406, 9.0486, 5.5405, 9.2015, 5.0482, 9.2029], 'confidence': 0.995, 'span': {'offset': 4890, 'length': 9}}, {'content': 'and', 'polygon': [5.5731, 9.0486, 5.7631, 9.0486, 5.763, 9.2011, 5.573, 9.2015], 'confidence': 0.998, 'span': {'offset': 4900, 'length': 3}}, {'content': 'Head', 'polygon': [5.8056, 9.0486, 6.0755, 9.0486, 6.0755, 9.2006, 5.8055, 9.201], 'confidence': 0.996, 'span': {'offset': 4904, 'length': 4}}, {'content': 'of', 'polygon': [6.1105, 9.0485, 6.2155, 9.0485, 6.2155, 9.2004, 6.1105, 9.2006], 'confidence': 0.999, 'span': {'offset': 4909, 'length': 2}}, {'content': 'Private', 'polygon': [6.2455, 9.0484, 6.6055, 9.0484, 6.6054, 9.2002, 6.2455, 9.2004], 'confidence': 0.994, 'span': {'offset': 4912, 'length': 7}}, {'content': 'Bank,', 'polygon': [6.643, 9.0484, 6.933, 9.0487, 6.9329, 9.2004, 6.6429, 9.2002], 'confidence': 0.995, 'span': {'offset': 4920, 'length': 5}}, {'content': 'who', 'polygon': [6.9679, 9.0486, 7.1854, 9.0479, 7.1855, 9.2004, 6.968, 9.2004], 'confidence': 0.998, 'span': {'offset': 4926, 'length': 3}}, {'content': 'left', 'polygon': [7.2229, 9.0478, 7.3964, 9.0473, 7.3964, 9.2005, 7.2231, 9.2004], 'confidence': 0.994, 'span': {'offset': 4930, 'length': 4}}, {'content': 'the', 'polygon': [0.8681, 9.2035, 1.0448, 9.204, 1.0446, 9.3527, 0.8679, 9.3527], 'confidence': 0.997, 'span': {'offset': 4935, 'length': 3}}, {'content': 'bank', 'polygon': [1.097, 9.2042, 1.3482, 9.2049, 1.3483, 9.3528, 1.0969, 9.3527], 'confidence': 0.994, 'span': {'offset': 4939, 'length': 4}}, {'content': 'at', 'polygon': [1.3955, 9.2049, 1.4801, 9.2048, 1.4802, 9.3531, 1.3956, 9.3529], 'confidence': 0.999, 'span': {'offset': 4944, 'length': 2}}, {'content': 'the', 'polygon': [1.5099, 9.2047, 1.699, 9.2045, 1.699, 9.3537, 1.51, 9.3532], 'confidence': 0.991, 'span': {'offset': 4947, 'length': 3}}, {'content': 'end', 'polygon': [1.7462, 9.2044, 1.9353, 9.2041, 1.9353, 9.3542, 1.7463, 9.3538], 'confidence': 0.993, 'span': {'offset': 4951, 'length': 3}}, {'content': 'of', 'polygon': [1.99, 9.204, 2.092, 9.2038, 2.092, 9.3544, 1.99, 9.3542], 'confidence': 0.997, 'span': {'offset': 4955, 'length': 2}}, {'content': 'October', 'polygon': [2.1343, 9.2038, 2.5547, 9.204, 2.5546, 9.3549, 2.1343, 9.3544], 'confidence': 0.996, 'span': {'offset': 4958, 'length': 7}}, {'content': 'after', 'polygon': [2.597, 9.2041, 2.8358, 9.2043, 2.8357, 9.3551, 2.5969, 9.3549], 'confidence': 0.995, 'span': {'offset': 4966, 'length': 5}}, {'content': '25', 'polygon': [2.8781, 9.2043, 3.0049, 9.2042, 3.0049, 9.3551, 2.878, 9.3551], 'confidence': 0.996, 'span': {'offset': 4972, 'length': 2}}, {'content': 'years', 'polygon': [3.0497, 9.2042, 3.3383, 9.2043, 3.3383, 9.3551, 3.0497, 9.3551], 'confidence': 0.99, 'span': {'offset': 4975, 'length': 5}}, {'content': 'of', 'polygon': [3.388, 9.2043, 3.49, 9.2044, 3.4901, 9.3551, 3.3881, 9.3551], 'confidence': 0.999, 'span': {'offset': 4981, 'length': 2}}, {'content': 'service.', 'polygon': [3.5298, 9.2044, 3.9303, 9.2046, 3.9303, 9.3556, 3.5299, 9.3551], 'confidence': 0.987, 'span': {'offset': 4984, 'length': 8}}, {'content': 'Claudio', 'polygon': [3.985, 9.2046, 4.383, 9.204, 4.383, 9.3556, 3.9851, 9.3557], 'confidence': 0.995, 'span': {'offset': 4993, 'length': 7}}, {'content': 'de', 'polygon': [4.4278, 9.2039, 4.5546, 9.2035, 4.5547, 9.3553, 4.4278, 9.3555], 'confidence': 0.998, 'span': {'offset': 5001, 'length': 2}}, {'content': 'Sanctis', 'polygon': [4.6069, 9.2034, 4.9875, 9.2037, 4.9874, 9.3578, 4.6069, 9.3554], 'confidence': 0.994, 'span': {'offset': 5004, 'length': 7}}, {'content': 'subsequently', 'polygon': [5.0347, 9.2038, 5.7312, 9.2049, 5.7312, 9.3572, 5.0347, 9.3581], 'confidence': 0.99, 'span': {'offset': 5012, 'length': 12}}, {'content': 'assumed', 'polygon': [5.7785, 9.2049, 6.2487, 9.2044, 6.2485, 9.3581, 5.7784, 9.3573], 'confidence': 0.995, 'span': {'offset': 5025, 'length': 7}}, {'content': 'responsibility', 'polygon': [6.3034, 9.2043, 6.98, 9.2036, 6.9798, 9.3576, 6.3033, 9.3581], 'confidence': 0.994, 'span': {'offset': 5033, 'length': 14}}, {'content': 'for', 'polygon': [7.0223, 9.2036, 7.1666, 9.2036, 7.1665, 9.3581, 7.0221, 9.3577], 'confidence': 0.998, 'span': {'offset': 5048, 'length': 3}}, {'content': 'the', 'polygon': [7.2064, 9.2036, 7.385, 9.2036, 7.385, 9.3587, 7.2063, 9.3582], 'confidence': 0.992, 'span': {'offset': 5052, 'length': 3}}, {'content': 'Private', 'polygon': [0.8712, 9.3567, 1.2497, 9.3579, 1.2494, 9.5073, 0.8706, 9.5077], 'confidence': 0.994, 'span': {'offset': 5056, 'length': 7}}, {'content': 'Bank', 'polygon': [1.2942, 9.3581, 1.5564, 9.3577, 1.5562, 9.5085, 1.2939, 9.5073], 'confidence': 0.982, 'span': {'offset': 5064, 'length': 4}}, {'content': 'and', 'polygon': [1.5936, 9.3577, 1.784, 9.3573, 1.7839, 9.5098, 1.5933, 9.5087], 'confidence': 0.999, 'span': {'offset': 5069, 'length': 3}}, {'content': 'joined', 'polygon': [1.8187, 9.3572, 2.1353, 9.3571, 2.1351, 9.5095, 1.8185, 9.5099], 'confidence': 0.996, 'span': {'offset': 5073, 'length': 6}}, {'content': 'the', 'polygon': [2.1774, 9.3571, 2.3382, 9.3573, 2.338, 9.5092, 2.1772, 9.5095], 'confidence': 0.998, 'span': {'offset': 5080, 'length': 3}}, {'content': 'Management', 'polygon': [2.3827, 9.3575, 3.0705, 9.3581, 3.0703, 9.5086, 2.3825, 9.5091], 'confidence': 0.995, 'span': {'offset': 5084, 'length': 10}}, {'content': 'Board', 'polygon': [3.1101, 9.358, 3.3995, 9.3577, 3.3993, 9.5089, 3.1099, 9.5086], 'confidence': 0.997, 'span': {'offset': 5095, 'length': 5}}, {'content': 'in', 'polygon': [3.4292, 9.3576, 3.543, 9.3576, 3.5428, 9.5091, 3.429, 9.509], 'confidence': 0.998, 'span': {'offset': 5101, 'length': 2}}, {'content': 'July.', 'polygon': [3.5851, 9.3575, 3.8201, 9.3573, 3.8199, 9.509, 3.5849, 9.5092], 'confidence': 0.994, 'span': {'offset': 5104, 'length': 5}}, {'content': 'He', 'polygon': [3.8696, 9.3572, 4.013, 9.357, 4.0129, 9.5086, 3.8694, 9.5089], 'confidence': 0.997, 'span': {'offset': 5110, 'length': 2}}, {'content': 'has', 'polygon': [4.0551, 9.357, 4.2407, 9.3569, 4.2406, 9.508, 4.055, 9.5085], 'confidence': 0.998, 'span': {'offset': 5113, 'length': 3}}, {'content': 'been', 'polygon': [4.2827, 9.3569, 4.535, 9.357, 4.535, 9.5072, 4.2826, 9.5079], 'confidence': 0.993, 'span': {'offset': 5117, 'length': 4}}, {'content': 'with', 'polygon': [4.5746, 9.357, 4.7849, 9.3569, 4.7849, 9.5077, 4.5746, 9.507], 'confidence': 0.993, 'span': {'offset': 5122, 'length': 4}}, {'content': 'Deutsche', 'polygon': [4.8319, 9.3569, 5.3218, 9.3575, 5.3216, 9.5078, 4.8319, 9.5079], 'confidence': 0.995, 'span': {'offset': 5127, 'length': 8}}, {'content': 'Bank', 'polygon': [5.3663, 9.3576, 5.6335, 9.358, 5.6332, 9.5073, 5.3661, 9.5077], 'confidence': 0.994, 'span': {'offset': 5136, 'length': 4}}, {'content': 'since', 'polygon': [5.6706, 9.358, 5.9402, 9.3579, 5.94, 9.5078, 5.6703, 9.5074], 'confidence': 0.996, 'span': {'offset': 5141, 'length': 5}}, {'content': '2018', 'polygon': [5.9798, 9.3579, 6.2396, 9.3579, 6.2393, 9.5079, 5.9796, 9.5079], 'confidence': 0.995, 'span': {'offset': 5147, 'length': 4}}, {'content': 'and', 'polygon': [6.2792, 9.3579, 6.4697, 9.358, 6.4693, 9.5081, 6.2789, 9.5079], 'confidence': 0.999, 'span': {'offset': 5152, 'length': 3}}, {'content': 'has', 'polygon': [6.5167, 9.3581, 6.6997, 9.3585, 6.6993, 9.5091, 6.5163, 9.5083], 'confidence': 0.998, 'span': {'offset': 5156, 'length': 3}}, {'content': 'successfully', 'polygon': [6.7393, 9.3587, 7.3907, 9.3605, 7.3907, 9.5124, 6.7389, 9.5093], 'confidence': 0.993, 'span': {'offset': 5160, 'length': 12}}, {'content': 'transformed', 'polygon': [0.8687, 9.5064, 1.5056, 9.5067, 1.5058, 9.6551, 0.8683, 9.6545], 'confidence': 0.995, 'span': {'offset': 5173, 'length': 11}}, {'content': 'the', 'polygon': [1.5548, 9.5066, 1.7097, 9.5063, 1.7097, 9.6556, 1.5549, 9.6552], 'confidence': 0.998, 'span': {'offset': 5185, 'length': 3}}, {'content': 'International', 'polygon': [1.7392, 9.5063, 2.408, 9.5064, 2.4081, 9.6556, 1.7392, 9.6556], 'confidence': 0.989, 'span': {'offset': 5189, 'length': 13}}, {'content': 'Private', 'polygon': [2.4572, 9.5065, 2.8187, 9.507, 2.8186, 9.6555, 2.4572, 9.6555], 'confidence': 0.995, 'span': {'offset': 5203, 'length': 7}}, {'content': 'Bank', 'polygon': [2.8679, 9.507, 3.1334, 9.5068, 3.1335, 9.6562, 2.8678, 9.6556], 'confidence': 0.994, 'span': {'offset': 5211, 'length': 4}}, {'content': 'in', 'polygon': [3.1777, 9.5068, 3.2613, 9.5069, 3.2613, 9.6565, 3.1777, 9.6563], 'confidence': 0.999, 'span': {'offset': 5216, 'length': 2}}, {'content': 'recent', 'polygon': [3.313, 9.507, 3.6375, 9.5075, 3.6376, 9.6573, 3.313, 9.6566], 'confidence': 0.994, 'span': {'offset': 5219, 'length': 6}}, {'content': 'years', 'polygon': [3.6769, 9.5075, 3.967, 9.507, 3.9671, 9.6574, 3.677, 9.6574], 'confidence': 0.995, 'span': {'offset': 5226, 'length': 5}}, {'content': 'and', 'polygon': [4.0113, 9.507, 4.2007, 9.5068, 4.2007, 9.6573, 4.0114, 9.6574], 'confidence': 0.998, 'span': {'offset': 5232, 'length': 3}}, {'content': 'focused', 'polygon': [4.2474, 9.5067, 4.6556, 9.5066, 4.6556, 9.6572, 4.2475, 9.6572], 'confidence': 0.994, 'span': {'offset': 5236, 'length': 7}}, {'content': 'it', 'polygon': [4.7097, 9.5066, 4.7662, 9.5067, 4.7662, 9.6579, 4.7097, 9.6575], 'confidence': 0.998, 'span': {'offset': 5244, 'length': 2}}, {'content': 'on', 'polygon': [4.808, 9.5067, 4.9334, 9.5068, 4.9334, 9.6589, 4.808, 9.6581], 'confidence': 0.999, 'span': {'offset': 5247, 'length': 2}}, {'content': 'its', 'polygon': [4.9851, 9.5068, 5.0957, 9.5069, 5.0957, 9.6596, 4.985, 9.6592], 'confidence': 0.994, 'span': {'offset': 5250, 'length': 3}}, {'content': 'strengths', 'polygon': [5.1424, 9.507, 5.6244, 9.5076, 5.6244, 9.6592, 5.1424, 9.6596], 'confidence': 0.994, 'span': {'offset': 5254, 'length': 9}}, {'content': 'in', 'polygon': [5.6711, 9.5075, 5.7547, 9.5075, 5.7547, 9.659, 5.6711, 9.6591], 'confidence': 0.999, 'span': {'offset': 5264, 'length': 2}}, {'content': 'the', 'polygon': [5.8015, 9.5074, 5.9637, 9.5072, 5.9637, 9.6586, 5.8014, 9.6589], 'confidence': 0.998, 'span': {'offset': 5267, 'length': 3}}, {'content': 'advisory', 'polygon': [6.008, 9.5072, 6.4506, 9.5074, 6.4506, 9.6582, 6.008, 9.6586], 'confidence': 0.995, 'span': {'offset': 5271, 'length': 8}}, {'content': 'business.', 'polygon': [6.4974, 9.5074, 6.9842, 9.5073, 6.9841, 9.6562, 6.4973, 9.6579], 'confidence': 0.995, 'span': {'offset': 5280, 'length': 9}}, {'content': 'Stefan', 'polygon': [7.0334, 9.5071, 7.385, 9.5058, 7.385, 9.6564, 7.0333, 9.6563], 'confidence': 0.996, 'span': {'offset': 5290, 'length': 6}}, {'content': 'Simon', 'polygon': [0.8749, 9.6626, 1.2136, 9.6625, 1.2136, 9.8106, 0.8745, 9.8095], 'confidence': 0.996, 'span': {'offset': 5297, 'length': 5}}, {'content': 'assumed', 'polygon': [1.2584, 9.6625, 1.7292, 9.6615, 1.7291, 9.8118, 1.2585, 9.8107], 'confidence': 0.996, 'span': {'offset': 5303, 'length': 7}}, {'content': 'responsibility', 'polygon': [1.7815, 9.6613, 2.4614, 9.6613, 2.4613, 9.8131, 1.7814, 9.8119], 'confidence': 0.993, 'span': {'offset': 5311, 'length': 14}}, {'content': 'for', 'polygon': [2.4987, 9.6613, 2.6432, 9.6612, 2.6431, 9.8129, 2.4987, 9.8131], 'confidence': 0.998, 'span': {'offset': 5326, 'length': 3}}, {'content': 'the', 'polygon': [2.6781, 9.6612, 2.8399, 9.6613, 2.8399, 9.8127, 2.678, 9.8129], 'confidence': 0.998, 'span': {'offset': 5330, 'length': 3}}, {'content': 'Americas', 'polygon': [2.8798, 9.6614, 3.3729, 9.6616, 3.373, 9.8126, 2.8797, 9.8127], 'confidence': 0.988, 'span': {'offset': 5334, 'length': 8}}, {'content': 'region', 'polygon': [3.4202, 9.6616, 3.7415, 9.6613, 3.7416, 9.8127, 3.4203, 9.8127], 'confidence': 0.993, 'span': {'offset': 5343, 'length': 6}}, {'content': '-', 'polygon': [3.7839, 9.6614, 3.8386, 9.6614, 3.8388, 9.8126, 3.784, 9.8127], 'confidence': 0.994, 'span': {'offset': 5350, 'length': 1}}, {'content': 'in', 'polygon': [3.8685, 9.6614, 3.9806, 9.6615, 3.9807, 9.8124, 3.8686, 9.8126], 'confidence': 0.998, 'span': {'offset': 5352, 'length': 2}}, {'content': 'addition', 'polygon': [4.0254, 9.6615, 4.4339, 9.6613, 4.4339, 9.8131, 4.0255, 9.8123], 'confidence': 0.994, 'span': {'offset': 5355, 'length': 8}}, {'content': 'to', 'polygon': [4.4787, 9.6612, 4.5783, 9.6611, 4.5784, 9.8135, 4.4788, 9.8132], 'confidence': 0.997, 'span': {'offset': 5364, 'length': 2}}, {'content': 'his', 'polygon': [4.6257, 9.6611, 4.7676, 9.6612, 4.7676, 9.8143, 4.6257, 9.8137], 'confidence': 0.997, 'span': {'offset': 5367, 'length': 3}}, {'content': 'global', 'polygon': [4.81, 9.6612, 5.1188, 9.6614, 5.1187, 9.8155, 4.8099, 9.8145], 'confidence': 0.995, 'span': {'offset': 5371, 'length': 6}}, {'content': 'responsibility', 'polygon': [5.1686, 9.6616, 5.8485, 9.6617, 5.8484, 9.8147, 5.1685, 9.8154], 'confidence': 0.993, 'span': {'offset': 5378, 'length': 14}}, {'content': 'for', 'polygon': [5.8859, 9.6616, 6.0303, 9.6613, 6.0303, 9.8149, 5.8858, 9.8147], 'confidence': 0.998, 'span': {'offset': 5393, 'length': 3}}, {'content': 'Legal,', 'polygon': [6.0727, 9.6613, 6.3815, 9.6612, 6.3813, 9.8155, 6.0726, 9.8151], 'confidence': 0.992, 'span': {'offset': 5397, 'length': 6}}, {'content': 'Regulatory', 'polygon': [6.4363, 9.6612, 7.0016, 9.6606, 7.0015, 9.8141, 6.4361, 9.8155], 'confidence': 0.991, 'span': {'offset': 5404, 'length': 10}}, {'content': 'Affairs', 'polygon': [7.039, 9.6605, 7.385, 9.6599, 7.385, 9.8146, 7.0389, 9.8142], 'confidence': 0.995, 'span': {'offset': 5415, 'length': 7}}, {'content': 'and', 'polygon': [0.8713, 9.8148, 1.0752, 9.8148, 1.0752, 9.9607, 0.8711, 9.9603], 'confidence': 0.995, 'span': {'offset': 5423, 'length': 3}}, {'content': 'Anti-Financial', 'polygon': [1.131, 9.8148, 1.8422, 9.8145, 1.8422, 9.9623, 1.1311, 9.9608], 'confidence': 0.99, 'span': {'offset': 5427, 'length': 14}}, {'content': 'Crime.', 'polygon': [1.9077, 9.8146, 2.245, 9.815, 2.245, 9.9624, 1.9077, 9.9623], 'confidence': 0.993, 'span': {'offset': 5442, 'length': 6}}, {'content': 'Besides', 'polygon': [2.3081, 9.8151, 2.7232, 9.8158, 2.7231, 9.9628, 2.3081, 9.9624], 'confidence': 0.994, 'span': {'offset': 5449, 'length': 7}}, {'content': 'client', 'polygon': [2.7814, 9.8159, 3.0581, 9.8165, 3.058, 9.9631, 2.7813, 9.9628], 'confidence': 0.996, 'span': {'offset': 5457, 'length': 6}}, {'content': 'coverage,', 'polygon': [3.1091, 9.8166, 3.6188, 9.8168, 3.6188, 9.9638, 3.109, 9.9631], 'confidence': 0.988, 'span': {'offset': 5464, 'length': 9}}, {'content': 'the', 'polygon': [3.6794, 9.8168, 3.8421, 9.8167, 3.8421, 9.9638, 3.6795, 9.9638], 'confidence': 0.998, 'span': {'offset': 5474, 'length': 3}}, {'content': 'structure', 'polygon': [3.9003, 9.8167, 4.359, 9.8162, 4.3591, 9.9636, 3.9004, 9.9637], 'confidence': 0.991, 'span': {'offset': 5478, 'length': 9}}, {'content': 'of', 'polygon': [4.4148, 9.8161, 4.5192, 9.8159, 4.5193, 9.9638, 4.415, 9.9637], 'confidence': 0.998, 'span': {'offset': 5488, 'length': 2}}, {'content': 'the', 'polygon': [4.5653, 9.8158, 4.7255, 9.8153, 4.7256, 9.9638, 4.5654, 9.9638], 'confidence': 0.997, 'span': {'offset': 5491, 'length': 3}}, {'content': 'US', 'polygon': [4.791, 9.8151, 4.9464, 9.8145, 4.9463, 9.9638, 4.7911, 9.9638], 'confidence': 0.997, 'span': {'offset': 5495, 'length': 2}}, {'content': 'market', 'polygon': [5.007, 9.8143, 5.3638, 9.8149, 5.3637, 9.9638, 5.007, 9.9638], 'confidence': 0.993, 'span': {'offset': 5498, 'length': 6}}, {'content': 'requires', 'polygon': [5.4221, 9.8151, 5.8444, 9.8149, 5.8443, 9.9638, 5.4219, 9.9638], 'confidence': 0.991, 'span': {'offset': 5505, 'length': 8}}, {'content': 'significant', 'polygon': [5.8978, 9.8149, 6.4269, 9.8138, 6.4269, 9.9638, 5.8978, 9.9638], 'confidence': 0.978, 'span': {'offset': 5514, 'length': 11}}, {'content': 'coordination', 'polygon': [6.4803, 9.8138, 7.1162, 9.8145, 7.1161, 9.9634, 6.4802, 9.9638], 'confidence': 0.994, 'span': {'offset': 5526, 'length': 12}}, {'content': 'and', 'polygon': [7.1768, 9.8147, 7.385, 9.8155, 7.385, 9.9636, 7.1768, 9.9634], 'confidence': 0.999, 'span': {'offset': 5539, 'length': 3}}, {'content': 'dialogue', 'polygon': [0.8733, 9.9729, 1.3268, 9.9719, 1.3272, 10.1208, 0.8729, 10.1188], 'confidence': 0.995, 'span': {'offset': 5543, 'length': 8}}, {'content': 'with', 'polygon': [1.3826, 9.9718, 1.5912, 9.9712, 1.5915, 10.1203, 1.383, 10.1208], 'confidence': 0.995, 'span': {'offset': 5552, 'length': 4}}, {'content': 'regulators.', 'polygon': [1.6567, 9.971, 2.2024, 9.9712, 2.2026, 10.1196, 1.657, 10.1202], 'confidence': 0.995, 'span': {'offset': 5557, 'length': 11}}, {'content': 'Responsible', 'polygon': [2.2679, 9.9713, 2.9106, 9.9719, 2.9109, 10.1183, 2.2681, 10.1195], 'confidence': 0.995, 'span': {'offset': 5569, 'length': 11}}, {'content': 'for', 'polygon': [2.964, 9.9719, 3.1095, 9.9717, 3.1097, 10.1181, 2.9642, 10.1182], 'confidence': 0.999, 'span': {'offset': 5581, 'length': 3}}, {'content': 'maintaining', 'polygon': [3.1653, 9.9717, 3.762, 9.9711, 3.7622, 10.1194, 3.1655, 10.1181], 'confidence': 0.995, 'span': {'offset': 5585, 'length': 11}}, {'content': 'closer', 'polygon': [3.8226, 9.971, 4.1379, 9.9708, 4.1382, 10.1181, 3.8229, 10.1192], 'confidence': 0.994, 'span': {'offset': 5597, 'length': 6}}, {'content': 'connections', 'polygon': [4.1913, 9.9708, 4.8195, 9.9708, 4.8196, 10.1205, 4.1915, 10.1182], 'confidence': 0.995, 'span': {'offset': 5604, 'length': 11}}, {'content': 'between', 'polygon': [4.8825, 9.9708, 5.3191, 9.9709, 5.3191, 10.1204, 4.8827, 10.1208], 'confidence': 0.995, 'span': {'offset': 5616, 'length': 7}}, {'content': 'the', 'polygon': [5.3773, 9.9709, 5.5422, 9.971, 5.5422, 10.1194, 5.3773, 10.1201], 'confidence': 0.998, 'span': {'offset': 5624, 'length': 3}}, {'content': 'regions', 'polygon': [5.6029, 9.9709, 5.9837, 9.9707, 5.9837, 10.1195, 5.6028, 10.1194], 'confidence': 0.995, 'span': {'offset': 5628, 'length': 7}}, {'content': 'and', 'polygon': [6.0467, 9.9707, 6.2359, 9.9708, 6.236, 10.1191, 6.0468, 10.1194], 'confidence': 0.996, 'span': {'offset': 5636, 'length': 3}}, {'content': 'our', 'polygon': [6.2965, 9.9708, 6.4712, 9.9708, 6.4713, 10.1187, 6.2966, 10.119], 'confidence': 0.998, 'span': {'offset': 5640, 'length': 3}}, {'content': 'home', 'polygon': [6.527, 9.9708, 6.818, 9.9707, 6.8181, 10.1172, 6.5271, 10.1184], 'confidence': 0.992, 'span': {'offset': 5644, 'length': 4}}, {'content': 'market', 'polygon': [6.8786, 9.9707, 7.2376, 9.9702, 7.2378, 10.1169, 6.8787, 10.117], 'confidence': 0.996, 'span': {'offset': 5649, 'length': 6}}, {'content': 'is', 'polygon': [7.2958, 9.9702, 7.385, 9.9701, 7.385, 10.117, 7.2961, 10.1169], 'confidence': 0.998, 'span': {'offset': 5656, 'length': 2}}, {'content': 'Alexander', 'polygon': [0.8716, 10.1187, 1.4186, 10.1204, 1.4188, 10.2633, 0.8714, 10.2631], 'confidence': 0.994, 'span': {'offset': 5659, 'length': 9}}, {'content': 'von', 'polygon': [1.4524, 10.1204, 1.6379, 10.1202, 1.638, 10.2633, 1.4525, 10.2633], 'confidence': 0.999, 'span': {'offset': 5669, 'length': 3}}, {'content': 'zur', 'polygon': [1.6765, 10.1201, 1.8307, 10.12, 1.8307, 10.2634, 1.6765, 10.2633], 'confidence': 0.997, 'span': {'offset': 5673, 'length': 3}}, {'content': 'Mühlen.', 'polygon': [1.8596, 10.12, 2.2934, 10.12, 2.2934, 10.2647, 1.8596, 10.2635], 'confidence': 0.987, 'span': {'offset': 5677, 'length': 7}}, {'content': 'He', 'polygon': [2.3415, 10.1201, 2.4837, 10.1202, 2.4837, 10.2652, 2.3416, 10.2649], 'confidence': 0.998, 'span': {'offset': 5685, 'length': 2}}, {'content': 'assumed', 'polygon': [2.5223, 10.1202, 2.997, 10.12, 2.997, 10.2655, 2.5223, 10.2653], 'confidence': 0.994, 'span': {'offset': 5688, 'length': 7}}, {'content': 'responsibility', 'polygon': [3.0428, 10.12, 3.7199, 10.1195, 3.72, 10.2672, 3.0428, 10.2655], 'confidence': 0.993, 'span': {'offset': 5696, 'length': 14}}, {'content': 'for', 'polygon': [3.7536, 10.1195, 3.8982, 10.1196, 3.8982, 10.2669, 3.7537, 10.2672], 'confidence': 0.999, 'span': {'offset': 5711, 'length': 3}}, {'content': 'Germany', 'polygon': [3.932, 10.1196, 4.4163, 10.1198, 4.4163, 10.267, 3.932, 10.2669], 'confidence': 0.994, 'span': {'offset': 5715, 'length': 7}}, {'content': 'and', 'polygon': [4.4525, 10.1198, 4.6428, 10.1197, 4.6428, 10.2675, 4.4525, 10.267], 'confidence': 0.999, 'span': {'offset': 5723, 'length': 3}}, {'content': 'Europe,', 'polygon': [4.6934, 10.1196, 5.091, 10.1186, 5.091, 10.2687, 4.6934, 10.2677], 'confidence': 0.995, 'span': {'offset': 5727, 'length': 7}}, {'content': 'Middle', 'polygon': [5.1392, 10.1187, 5.479, 10.1189, 5.479, 10.2665, 5.1392, 10.2684], 'confidence': 0.995, 'span': {'offset': 5735, 'length': 6}}, {'content': 'East', 'polygon': [5.5248, 10.119, 5.7561, 10.1189, 5.7561, 10.2667, 5.5247, 10.2663], 'confidence': 0.991, 'span': {'offset': 5742, 'length': 4}}, {'content': 'and', 'polygon': [5.7923, 10.1189, 5.9826, 10.1189, 5.9826, 10.267, 5.7922, 10.2667], 'confidence': 0.998, 'span': {'offset': 5747, 'length': 3}}, {'content': 'Africa', 'polygon': [6.0236, 10.1188, 6.3224, 10.1183, 6.3223, 10.2677, 6.0235, 10.2671], 'confidence': 0.995, 'span': {'offset': 5751, 'length': 6}}, {'content': '(EMEA)', 'polygon': [6.3682, 10.1182, 6.7658, 10.1175, 6.7656, 10.2673, 6.3681, 10.2677], 'confidence': 0.991, 'span': {'offset': 5758, 'length': 6}}, {'content': 'in', 'polygon': [6.7947, 10.1174, 6.9007, 10.1172, 6.9006, 10.2671, 6.7945, 10.2673], 'confidence': 0.998, 'span': {'offset': 5765, 'length': 2}}, {'content': 'July.', 'polygon': [6.9417, 10.1172, 7.1779, 10.1175, 7.1778, 10.2677, 6.9415, 10.2671], 'confidence': 0.996, 'span': {'offset': 5768, 'length': 5}}, {'content': 'He', 'polygon': [7.226, 10.1176, 7.385, 10.1178, 7.385, 10.2681, 7.2261, 10.2678], 'confidence': 0.998, 'span': {'offset': 5774, 'length': 2}}, {'content': 'also', 'polygon': [0.8718, 10.2738, 1.0989, 10.2737, 1.0991, 10.417, 0.8717, 10.4169], 'confidence': 0.993, 'span': {'offset': 5777, 'length': 4}}, {'content': 'continues', 'polygon': [1.1297, 10.2737, 1.6147, 10.2738, 1.6148, 10.4167, 1.1299, 10.417], 'confidence': 0.994, 'span': {'offset': 5782, 'length': 9}}, {'content': 'to', 'polygon': [1.6431, 10.2738, 1.759, 10.2739, 1.759, 10.4165, 1.6432, 10.4166], 'confidence': 0.999, 'span': {'offset': 5792, 'length': 2}}, {'content': 'oversee', 'polygon': [1.7898, 10.2739, 2.192, 10.2741, 2.192, 10.4169, 1.7897, 10.4165], 'confidence': 0.996, 'span': {'offset': 5795, 'length': 7}}, {'content': 'the', 'polygon': [2.2204, 10.2741, 2.4025, 10.2741, 2.4025, 10.417, 2.2204, 10.4169], 'confidence': 0.999, 'span': {'offset': 5803, 'length': 3}}, {'content': 'Asia-Pacific', 'polygon': [2.4333, 10.2741, 3.0342, 10.2742, 3.0342, 10.4168, 2.4333, 10.417], 'confidence': 0.995, 'span': {'offset': 5807, 'length': 12}}, {'content': 'region.', 'polygon': [3.0626, 10.2742, 3.4317, 10.2739, 3.4317, 10.4173, 3.0626, 10.4167], 'confidence': 0.995, 'span': {'offset': 5820, 'length': 7}}, {'content': 'Rebecca', 'polygon': [3.4743, 10.2739, 3.9309, 10.2738, 3.9309, 10.4177, 3.4743, 10.4175], 'confidence': 0.995, 'span': {'offset': 5828, 'length': 7}}, {'content': 'Short', 'polygon': [3.9664, 10.2738, 4.2266, 10.274, 4.2266, 10.4176, 3.9664, 10.4177], 'confidence': 0.996, 'span': {'offset': 5836, 'length': 5}}, {'content': 'was', 'polygon': [4.255, 10.274, 4.4821, 10.2742, 4.4822, 10.4177, 4.255, 10.4176], 'confidence': 0.992, 'span': {'offset': 5842, 'length': 3}}, {'content': 'given', 'polygon': [4.5152, 10.2742, 4.7897, 10.2737, 4.7897, 10.4182, 4.5153, 10.4177], 'confidence': 0.996, 'span': {'offset': 5846, 'length': 5}}, {'content': 'an', 'polygon': [4.8252, 10.2736, 4.9529, 10.2733, 4.9529, 10.4185, 4.8252, 10.4182], 'confidence': 0.998, 'span': {'offset': 5852, 'length': 2}}, {'content': 'extended', 'polygon': [4.986, 10.2732, 5.4663, 10.274, 5.4662, 10.4181, 4.986, 10.4186], 'confidence': 0.994, 'span': {'offset': 5855, 'length': 8}}, {'content': 'mandate', 'polygon': [5.5042, 10.2741, 5.9584, 10.2731, 5.9584, 10.4189, 5.5041, 10.4181], 'confidence': 0.996, 'span': {'offset': 5864, 'length': 7}}, {'content': 'on', 'polygon': [5.9892, 10.273, 6.1146, 10.273, 6.1145, 10.4193, 5.9892, 10.419], 'confidence': 0.999, 'span': {'offset': 5872, 'length': 2}}, {'content': 'the', 'polygon': [6.1477, 10.273, 6.2991, 10.273, 6.299, 10.4196, 6.1476, 10.4193], 'confidence': 0.993, 'span': {'offset': 5875, 'length': 3}}, {'content': 'Management', 'polygon': [6.3275, 10.273, 7.0325, 10.2729, 7.0324, 10.4195, 6.3274, 10.4197], 'confidence': 0.99, 'span': {'offset': 5879, 'length': 10}}, {'content': 'Board', 'polygon': [7.0656, 10.2729, 7.3907, 10.2731, 7.3907, 10.4191, 7.0656, 10.4194], 'confidence': 0.994, 'span': {'offset': 5890, 'length': 5}}, {'content': 'with', 'polygon': [0.8696, 10.4291, 1.0885, 10.4286, 1.0888, 10.5727, 0.8697, 10.5726], 'confidence': 0.993, 'span': {'offset': 5896, 'length': 4}}, {'content': 'a', 'polygon': [1.1242, 10.4285, 1.1861, 10.4284, 1.1864, 10.5728, 1.1245, 10.5727], 'confidence': 0.998, 'span': {'offset': 5901, 'length': 1}}, {'content': 'view', 'polygon': [1.2194, 10.4283, 1.424, 10.4279, 1.4244, 10.573, 1.2197, 10.5728], 'confidence': 0.993, 'span': {'offset': 5903, 'length': 4}}, {'content': 'to', 'polygon': [1.4645, 10.4279, 1.5811, 10.4278, 1.5814, 10.5731, 1.4649, 10.573], 'confidence': 0.997, 'span': {'offset': 5908, 'length': 2}}, {'content': 'making', 'polygon': [1.6168, 10.4278, 1.988, 10.4276, 1.9883, 10.5728, 1.6171, 10.5731], 'confidence': 0.997, 'span': {'offset': 5911, 'length': 6}}, {'content': 'the', 'polygon': [2.0237, 10.4276, 2.1855, 10.4277, 2.1858, 10.5723, 2.024, 10.5727], 'confidence': 0.999, 'span': {'offset': 5918, 'length': 3}}, {'content': 'bank', 'polygon': [2.2236, 10.4277, 2.4735, 10.4282, 2.4737, 10.5718, 2.2239, 10.5722], 'confidence': 0.993, 'span': {'offset': 5922, 'length': 4}}, {'content': 'more', 'polygon': [2.5068, 10.4282, 2.7685, 10.4288, 2.7688, 10.5714, 2.5071, 10.5718], 'confidence': 0.994, 'span': {'offset': 5927, 'length': 4}}, {'content': 'efficient.', 'polygon': [2.8042, 10.4288, 3.2254, 10.429, 3.2256, 10.5705, 2.8045, 10.5713], 'confidence': 0.98, 'span': {'offset': 5932, 'length': 10}}, {'content': 'In', 'polygon': [3.254, 10.4289, 3.3658, 10.4286, 3.366, 10.5712, 3.2542, 10.5707], 'confidence': 0.996, 'span': {'offset': 5943, 'length': 2}}, {'content': 'addition', 'polygon': [3.4015, 10.4285, 3.8084, 10.4279, 3.8087, 10.5728, 3.4017, 10.5714], 'confidence': 0.994, 'span': {'offset': 5946, 'length': 8}}, {'content': 'to', 'polygon': [3.8418, 10.4279, 3.9393, 10.4279, 3.9395, 10.5729, 3.842, 10.5728], 'confidence': 0.998, 'span': {'offset': 5955, 'length': 2}}, {'content': 'her', 'polygon': [3.9774, 10.428, 4.1297, 10.428, 4.1299, 10.573, 3.9776, 10.5729], 'confidence': 0.998, 'span': {'offset': 5958, 'length': 3}}, {'content': 'responsibility', 'polygon': [4.1583, 10.428, 4.8555, 10.428, 4.8556, 10.5737, 4.1585, 10.573], 'confidence': 0.994, 'span': {'offset': 5962, 'length': 14}}, {'content': 'for', 'polygon': [4.884, 10.428, 5.0268, 10.428, 5.0269, 10.574, 4.8841, 10.5738], 'confidence': 0.993, 'span': {'offset': 5977, 'length': 3}}, {'content': 'Human', 'polygon': [5.0578, 10.428, 5.4266, 10.4283, 5.4266, 10.5739, 5.0578, 10.5741], 'confidence': 0.996, 'span': {'offset': 5981, 'length': 5}}, {'content': 'Resources,', 'polygon': [5.4694, 10.4283, 6.0525, 10.4288, 6.0525, 10.5741, 5.4694, 10.5739], 'confidence': 0.992, 'span': {'offset': 5987, 'length': 10}}, {'content': 'she', 'polygon': [6.0905, 10.4288, 6.2761, 10.4288, 6.2762, 10.5741, 6.0905, 10.5741], 'confidence': 0.998, 'span': {'offset': 5998, 'length': 3}}, {'content': 'was', 'polygon': [6.3095, 10.4289, 6.5189, 10.4288, 6.5189, 10.5741, 6.3095, 10.5741], 'confidence': 0.998, 'span': {'offset': 6002, 'length': 3}}, {'content': 'appointed', 'polygon': [6.5522, 10.4287, 7.0638, 10.4277, 7.0639, 10.5741, 6.5522, 10.5741], 'confidence': 0.964, 'span': {'offset': 6006, 'length': 9}}, {'content': 'Chief', 'polygon': [7.1019, 10.4277, 7.3907, 10.4274, 7.3907, 10.5741, 7.102, 10.5741], 'confidence': 0.996, 'span': {'offset': 6016, 'length': 5}}, {'content': 'Operating', 'polygon': [0.8753, 10.5834, 1.3962, 10.5827, 1.3966, 10.7305, 0.8759, 10.7313], 'confidence': 0.993, 'span': {'offset': 6022, 'length': 9}}, {'content': 'Officer', 'polygon': [1.437, 10.5828, 1.7634, 10.5838, 1.7636, 10.7299, 1.4374, 10.7303], 'confidence': 0.996, 'span': {'offset': 6032, 'length': 7}}, {'content': 'with', 'polygon': [1.7922, 10.5839, 2.0203, 10.5836, 2.0203, 10.7298, 1.7924, 10.73], 'confidence': 0.994, 'span': {'offset': 6040, 'length': 4}}, {'content': 'overall', 'polygon': [2.0563, 10.5834, 2.3875, 10.583, 2.3875, 10.729, 2.0563, 10.7297], 'confidence': 0.994, 'span': {'offset': 6045, 'length': 7}}, {'content': 'responsibility', 'polygon': [2.4163, 10.5831, 3.1196, 10.5831, 3.1196, 10.7285, 2.4163, 10.729], 'confidence': 0.995, 'span': {'offset': 6053, 'length': 14}}, {'content': 'for', 'polygon': [3.1484, 10.5831, 3.2708, 10.583, 3.2708, 10.7291, 3.1484, 10.7286], 'confidence': 0.999, 'span': {'offset': 6068, 'length': 3}}, {'content': 'the', 'polygon': [3.2996, 10.583, 3.4821, 10.5831, 3.4819, 10.7295, 3.2995, 10.7293], 'confidence': 0.998, 'span': {'offset': 6072, 'length': 3}}, {'content': \"Group's\", 'polygon': [3.5205, 10.5831, 3.9261, 10.5836, 3.9259, 10.7298, 3.5203, 10.7295], 'confidence': 0.989, 'span': {'offset': 6076, 'length': 7}}, {'content': 'costs.', 'polygon': [3.9621, 10.5835, 4.2742, 10.5844, 4.2741, 10.7295, 3.9619, 10.7299], 'confidence': 0.994, 'span': {'offset': 6084, 'length': 6}}, {'content': 'VI', 'polygon': [7.1677, 11.3266, 7.2994, 11.3275, 7.2994, 11.4466, 7.1676, 11.4458], 'confidence': 0.946, 'span': {'offset': 6109, 'length': 2}}], 'lines': [{'content': 'Deutsche Bank', 'polygon': [0.8752, 0.3895, 1.5447, 0.3912, 1.5444, 0.5056, 0.8749, 0.504], 'spans': [{'offset': 17, 'length': 13}]}, {'content': 'Annual Report 2023', 'polygon': [0.869, 0.5027, 1.7386, 0.5023, 1.7387, 0.6183, 0.8691, 0.6187], 'spans': [{'offset': 31, 'length': 18}]}, {'content': 'Letter from the Chairman of the Supervisory Board', 'polygon': [3.3521, 0.384, 5.3358, 0.3886, 5.3355, 0.4997, 3.3519, 0.4951], 'spans': [{'offset': 72, 'length': 49}]}, {'content': 'Letter from the Chairman of the Supervisory Board', 'polygon': [0.8862, 1.4087, 6.9986, 1.4103, 6.9983, 1.7098, 0.8859, 1.703], 'spans': [{'offset': 131, 'length': 49}]}, {'content': 'Dear Shareholders,', 'polygon': [0.8758, 2.0304, 1.9059, 2.035, 1.9052, 2.1761, 0.8751, 2.1709], 'spans': [{'offset': 182, 'length': 18}]}, {'content': 'Last year, Deutsche Bank proved its resilience in a volatile environment, further increasing revenues and delivering its best', 'polygon': [0.8719, 2.3327, 7.3878, 2.3355, 7.3877, 2.4936, 0.8718, 2.4908], 'spans': [{'offset': 202, 'length': 125}]}, {'content': 'pre-tax profit in 16 years. Thanks to its prudent risk management, the bank has a strong and stable balance sheet and has', 'polygon': [0.8713, 2.4933, 7.3805, 2.4906, 7.3806, 2.6438, 0.8714, 2.6464], 'spans': [{'offset': 328, 'length': 121}]}, {'content': 'further strengthened its capital base. As a result, we are this year once again in a position to substantially increase capital', 'polygon': [0.8673, 2.6379, 7.3801, 2.6389, 7.38, 2.7952, 0.8673, 2.7942], 'spans': [{'offset': 450, 'length': 127}]}, {'content': 'distributions to shareholders and we are pleased that the Supervisory Board and Management Board will propose to you a', 'polygon': [0.8731, 2.7922, 7.3839, 2.7963, 7.3838, 2.9494, 0.873, 2.9453], 'spans': [{'offset': 578, 'length': 118}]}, {'content': \"50% increase in the dividend to € 0.45 per share at this year's Annual General Meeting.\", 'polygon': [0.8752, 2.943, 5.4485, 2.9484, 5.4482, 3.105, 0.8748, 3.0948], 'spans': [{'offset': 697, 'length': 87}]}, {'content': 'In this economic environment, the resilience and sustainable profitability of our bank were also focus topics for the Supervisory', 'polygon': [0.8726, 3.2452, 7.3852, 3.249, 7.3849, 3.4133, 0.8723, 3.4006], 'spans': [{'offset': 786, 'length': 129}]}, {'content': \"Board. It was the Risk Committee's task to keep an eye on our capital adequacy as well as to oversee the bank's risk\", 'polygon': [0.8732, 3.4014, 7.3893, 3.4021, 7.3893, 3.5607, 0.8732, 3.5601], 'spans': [{'offset': 916, 'length': 116}]}, {'content': 'management and the development of non-financial risks. Another priority was to set the course for future growth. The', 'polygon': [0.8731, 3.5591, 7.3831, 3.5561, 7.3832, 3.7088, 0.8731, 3.7119], 'spans': [{'offset': 1033, 'length': 116}]}, {'content': \"Supervisory Board closely monitored the strategic development of the bank's culture and business model together with its\", 'polygon': [0.8704, 3.7117, 7.3855, 3.7097, 7.3855, 3.8652, 0.8705, 3.8669], 'spans': [{'offset': 1150, 'length': 120}]}, {'content': \"financial targets and capital objectives up to 2025. The Supervisory Board expressly supports the bank's even sharper focus\", 'polygon': [0.8665, 3.8573, 7.3821, 3.8595, 7.382, 4.0174, 0.8664, 4.0152], 'spans': [{'offset': 1271, 'length': 123}]}, {'content': 'on its role as a Global Hausbank. Part of this is supporting clients in their sustainable and digital transformation. This strategy', 'polygon': [0.8714, 4.0095, 7.3832, 4.0148, 7.383, 4.1731, 0.8712, 4.1647], 'spans': [{'offset': 1395, 'length': 131}]}, {'content': 'not only enables the bank to play its role within the German and European economy but also - of this the Supervisory Board', 'polygon': [0.8716, 4.1679, 7.3863, 4.1668, 7.3863, 4.3212, 0.8717, 4.3224], 'spans': [{'offset': 1527, 'length': 122}]}, {'content': 'is convinced - it is the right way to generate sustainable profits and returns for you as shareholders. In this context, the', 'polygon': [0.8707, 4.3217, 7.3844, 4.3201, 7.3844, 4.4768, 0.8708, 4.4784], 'spans': [{'offset': 1650, 'length': 124}]}, {'content': \"Supervisory Board welcomes and supports the Management Board's work on clearly defining the bank's purpose, its vision\", 'polygon': [0.8727, 4.4669, 7.3799, 4.4709, 7.3798, 4.6284, 0.8726, 4.6244], 'spans': [{'offset': 1775, 'length': 118}]}, {'content': 'and aspirational culture, guided by the conviction that our top priority must be an even stronger focus on placing our clients at', 'polygon': [0.871, 4.6261, 7.3928, 4.624, 7.3928, 4.78, 0.871, 4.7821], 'spans': [{'offset': 1894, 'length': 129}]}, {'content': 'the center of everything we do.', 'polygon': [0.8682, 4.7794, 2.498, 4.7832, 2.4975, 4.9355, 0.8676, 4.9299], 'spans': [{'offset': 2024, 'length': 31}]}, {'content': 'Effective controls protect both our bank and our clients. Further improving these controls was another important topic last', 'polygon': [0.8742, 5.076, 7.3876, 5.0775, 7.3875, 5.2365, 0.8741, 5.2343], 'spans': [{'offset': 2057, 'length': 123}]}, {'content': 'year. The Supervisory Board regularly discussed significant regulatory issues as well as progress in the processing of material', 'polygon': [0.8673, 5.2356, 7.3827, 5.2308, 7.3828, 5.3918, 0.8674, 5.3954], 'spans': [{'offset': 2181, 'length': 127}]}, {'content': 'litigation cases. We are aware that there is still more to do. The Management Board and Supervisory Board are in close', 'polygon': [0.8714, 5.3848, 7.379, 5.3871, 7.379, 5.5436, 0.8714, 5.5414], 'spans': [{'offset': 2309, 'length': 118}]}, {'content': 'dialogue with regulators and are focused on delivering the necessary improvements. To achieve this, the bank spent about', 'polygon': [0.8715, 5.5431, 7.3913, 5.5396, 7.3914, 5.6964, 0.8716, 5.6998], 'spans': [{'offset': 2428, 'length': 120}]}, {'content': '€ 1.2 billion on controls in 2023 and hired around 1,000 dedicated professionals across all regions. More details on these', 'polygon': [0.8684, 5.6929, 7.3825, 5.6951, 7.3825, 5.8507, 0.8684, 5.8485], 'spans': [{'offset': 2549, 'length': 122}]}, {'content': \"important issues can be found in Deutsche Bank's Non-Financial Report, which is published in parallel with this Annual Report.\", 'polygon': [0.8689, 5.8438, 7.3779, 5.8422, 7.3779, 5.9998, 0.8689, 6.0015], 'spans': [{'offset': 2672, 'length': 126}]}, {'content': 'One of the issues that the Supervisory Board addressed intensively last year was the restrictions for our clients following the', 'polygon': [0.8749, 6.1486, 7.3804, 6.1486, 7.3804, 6.3075, 0.8749, 6.3075], 'spans': [{'offset': 2800, 'length': 127}]}, {'content': \"migration of Postbank's IT to a common platform. The Management Board regularly reported to the Supervisory Board on the\", 'polygon': [0.8732, 6.3074, 7.383, 6.3052, 7.3831, 6.4608, 0.8733, 6.4619], 'spans': [{'offset': 2928, 'length': 120}]}, {'content': 'progress made in resolving the backlogs that had arisen, which were able to be reduced substantially over the past months.', 'polygon': [0.8724, 6.4581, 7.3758, 6.4505, 7.376, 6.605, 0.8726, 6.6127], 'spans': [{'offset': 3049, 'length': 122}]}, {'content': 'Nevertheless, it is clear that we have not lived up to our service and quality standards here and have disappointed our clients.', 'polygon': [0.8729, 6.6083, 7.3761, 6.6085, 7.3761, 6.7627, 0.8729, 6.7626], 'spans': [{'offset': 3172, 'length': 128}]}, {'content': 'On behalf of the Supervisory Board I would like to express my sincere apologies for the delays and problems caused to our', 'polygon': [0.8748, 6.7596, 7.3825, 6.7646, 7.3824, 6.9211, 0.8747, 6.9161], 'spans': [{'offset': 3301, 'length': 121}]}, {'content': 'clients. The Supervisory Board has taken action as a result and reduced the variable compensation of several current and', 'polygon': [0.8744, 6.9169, 7.3833, 6.9142, 7.3834, 7.0679, 0.8745, 7.0706], 'spans': [{'offset': 3423, 'length': 120}]}, {'content': 'departed Management Board members. Details can be found in our Compensation Report.', 'polygon': [0.8742, 7.0629, 5.6301, 7.0639, 5.63, 7.22, 0.8742, 7.219], 'spans': [{'offset': 3544, 'length': 83}]}, {'content': 'There you will also find information on how we intend to develop the Management Board compensation system for 2024 and', 'polygon': [0.8707, 7.37, 7.3829, 7.3679, 7.3829, 7.5261, 0.8708, 7.5282], 'spans': [{'offset': 3629, 'length': 118}]}, {'content': 'beyond. In our review, we incorporated feedback from investors and are addressing two main concerns: first, we want to', 'polygon': [0.8724, 7.5271, 7.3813, 7.5256, 7.3813, 7.6789, 0.8724, 7.6804], 'spans': [{'offset': 3748, 'length': 118}]}, {'content': 'simplify the system, making it more transparent for our external stakeholders, by significantly reducing the number of targets', 'polygon': [0.8701, 7.678, 7.385, 7.6768, 7.385, 7.831, 0.8701, 7.8325], 'spans': [{'offset': 3867, 'length': 126}]}, {'content': 'and indicators on which variable compensation depends. Second, we aim to align how we evaluate Management Board', 'polygon': [0.8694, 7.8293, 7.3859, 7.8262, 7.386, 7.981, 0.8694, 7.9841], 'spans': [{'offset': 3994, 'length': 111}]}, {'content': \"members' performance even more closely with the interests of our shareholders. This applies above all to the long-term\", 'polygon': [0.8731, 7.9817, 7.3845, 7.9835, 7.3845, 8.1367, 0.873, 8.1349], 'spans': [{'offset': 4106, 'length': 118}]}, {'content': \"component of variable compensation, which in future will no longer be measured against past years' results. In the new system,\", 'polygon': [0.8746, 8.1368, 7.3784, 8.141, 7.3783, 8.2927, 0.8745, 8.2894], 'spans': [{'offset': 4225, 'length': 126}]}, {'content': 'both financial and ESG targets will be forward-looking over a period of three years. In addition, we aim to be more ambitious', 'polygon': [0.8713, 8.2838, 7.3821, 8.2855, 7.3821, 8.4392, 0.8713, 8.4375], 'spans': [{'offset': 4352, 'length': 125}]}, {'content': 'when it comes to setting targets for certain key performance indicators. We will submit the revised compensation system to', 'polygon': [0.868, 8.4389, 7.3804, 8.4398, 7.3804, 8.5926, 0.868, 8.5917], 'spans': [{'offset': 4478, 'length': 122}]}, {'content': 'you for voting at the Annual General Meeting in May; it is to be applied as early as this year.', 'polygon': [0.8642, 8.5943, 5.673, 8.5929, 5.673, 8.7495, 0.8643, 8.751], 'spans': [{'offset': 4601, 'length': 95}]}, {'content': 'In 2023, the Supervisory Board also addressed personnel decisions in the Management Board. At the Annual General', 'polygon': [0.8726, 8.8944, 7.383, 8.8919, 7.3831, 9.0464, 0.8726, 9.0489], 'spans': [{'offset': 4698, 'length': 112}]}, {'content': 'Meeting, we bid farewell to Christiana Riley, Americas CEO, and Karl von Rohr, President and Head of Private Bank, who left', 'polygon': [0.8706, 9.0488, 7.3907, 9.0473, 7.3907, 9.1998, 0.8706, 9.2013], 'spans': [{'offset': 4811, 'length': 123}]}, {'content': 'the bank at the end of October after 25 years of service. Claudio de Sanctis subsequently assumed responsibility for the', 'polygon': [0.8679, 9.2026, 7.3825, 9.2036, 7.3825, 9.3561, 0.8679, 9.355], 'spans': [{'offset': 4935, 'length': 120}]}, {'content': 'Private Bank and joined the Management Board in July. He has been with Deutsche Bank since 2018 and has successfully', 'polygon': [0.8707, 9.355, 7.3863, 9.3579, 7.3862, 9.5098, 0.8706, 9.507], 'spans': [{'offset': 5056, 'length': 116}]}, {'content': 'transformed the International Private Bank in recent years and focused it on its strengths in the advisory business. Stefan', 'polygon': [0.8683, 9.5062, 7.3819, 9.5058, 7.3819, 9.6569, 0.8683, 9.6573], 'spans': [{'offset': 5173, 'length': 123}]}, {'content': 'Simon assumed responsibility for the Americas region - in addition to his global responsibility for Legal, Regulatory Affairs', 'polygon': [0.8745, 9.6615, 7.3826, 9.6599, 7.3827, 9.8137, 0.8745, 9.8152], 'spans': [{'offset': 5297, 'length': 125}]}, {'content': 'and Anti-Financial Crime. Besides client coverage, the structure of the US market requires significant coordination and', 'polygon': [0.871, 9.8146, 7.3804, 9.8136, 7.3805, 9.9625, 0.871, 9.9635], 'spans': [{'offset': 5423, 'length': 119}]}, {'content': 'dialogue with regulators. Responsible for maintaining closer connections between the regions and our home market is', 'polygon': [0.8729, 9.9707, 7.3827, 9.9701, 7.3827, 10.1188, 0.8729, 10.1195], 'spans': [{'offset': 5543, 'length': 115}]}, {'content': 'Alexander von zur Mühlen. He assumed responsibility for Germany and Europe, Middle East and Africa (EMEA) in July. He', 'polygon': [0.8713, 10.1187, 7.3794, 10.1171, 7.3794, 10.2658, 0.8714, 10.2675], 'spans': [{'offset': 5659, 'length': 117}]}, {'content': 'also continues to oversee the Asia-Pacific region. Rebecca Short was given an extended mandate on the Management Board', 'polygon': [0.8717, 10.2732, 7.3851, 10.2728, 7.3851, 10.4174, 0.8717, 10.4178], 'spans': [{'offset': 5777, 'length': 118}]}, {'content': 'with a view to making the bank more efficient. In addition to her responsibility for Human Resources, she was appointed Chief', 'polygon': [0.8696, 10.4277, 7.389, 10.4274, 7.3891, 10.5732, 0.8696, 10.5735], 'spans': [{'offset': 5896, 'length': 125}]}, {'content': \"Operating Officer with overall responsibility for the Group's costs.\", 'polygon': [0.8753, 10.5828, 4.271, 10.5814, 4.2711, 10.7274, 0.8754, 10.7288], 'spans': [{'offset': 6022, 'length': 68}]}, {'content': 'VI', 'polygon': [7.1677, 11.3266, 7.2957, 11.3267, 7.2956, 11.445, 7.1676, 11.4449], 'spans': [{'offset': 6109, 'length': 2}]}], 'spans': [{'offset': 0, 'length': 6137}]}, {'pageNumber': 2, 'angle': 0.01619742065668106, 'width': 8.2639, 'height': 11.6806, 'unit': 'inch', 'words': [{'content': 'Deutsche', 'polygon': [0.8768, 0.3933, 1.2878, 0.3931, 1.2877, 0.5054, 0.8767, 0.5048], 'confidence': 0.995, 'span': {'offset': 6154, 'length': 8}}, {'content': 'Bank', 'polygon': [1.319, 0.3933, 1.5466, 0.3929, 1.5466, 0.5043, 1.3189, 0.5051], 'confidence': 0.994, 'span': {'offset': 6163, 'length': 4}}, {'content': 'Annual', 'polygon': [0.8704, 0.5052, 1.1789, 0.5056, 1.1789, 0.619, 0.8703, 0.6188], 'confidence': 0.995, 'span': {'offset': 6168, 'length': 6}}, {'content': 'Report', 'polygon': [1.2122, 0.5054, 1.4967, 0.5048, 1.4967, 0.6179, 1.2122, 0.6191], 'confidence': 0.994, 'span': {'offset': 6175, 'length': 6}}, {'content': '2023', 'polygon': [1.5207, 0.5047, 1.7407, 0.5031, 1.7407, 0.6155, 1.5207, 0.6178], 'confidence': 0.993, 'span': {'offset': 6182, 'length': 4}}, {'content': 'Letter', 'polygon': [3.3531, 0.39, 3.578, 0.3891, 3.5775, 0.4971, 3.3524, 0.4973], 'confidence': 0.994, 'span': {'offset': 6209, 'length': 6}}, {'content': 'from', 'polygon': [3.5995, 0.389, 3.7834, 0.3892, 3.7827, 0.4974, 3.5989, 0.4971], 'confidence': 0.993, 'span': {'offset': 6216, 'length': 4}}, {'content': 'the', 'polygon': [3.8119, 0.3893, 3.9334, 0.3894, 3.9325, 0.4983, 3.8113, 0.4976], 'confidence': 0.998, 'span': {'offset': 6221, 'length': 3}}, {'content': 'Chairman', 'polygon': [3.9619, 0.3894, 4.3315, 0.3898, 4.331, 0.4981, 3.9611, 0.4982], 'confidence': 0.995, 'span': {'offset': 6225, 'length': 8}}, {'content': 'of', 'polygon': [4.3601, 0.3898, 4.4208, 0.3898, 4.4202, 0.4981, 4.3595, 0.4981], 'confidence': 0.999, 'span': {'offset': 6234, 'length': 2}}, {'content': 'the', 'polygon': [4.4423, 0.3898, 4.5797, 0.3901, 4.5792, 0.4986, 4.4417, 0.4981], 'confidence': 0.998, 'span': {'offset': 6237, 'length': 3}}, {'content': 'Supervisory', 'polygon': [4.6083, 0.3901, 5.0672, 0.3898, 5.0663, 0.5007, 4.6077, 0.4987], 'confidence': 0.956, 'span': {'offset': 6241, 'length': 11}}, {'content': 'Board', 'polygon': [5.0976, 0.3898, 5.3361, 0.391, 5.3361, 0.5007, 5.0967, 0.5009], 'confidence': 0.997, 'span': {'offset': 6253, 'length': 5}}, {'content': 'As', 'polygon': [0.8732, 1.3907, 1.0181, 1.3906, 1.0178, 1.5381, 0.8728, 1.5381], 'confidence': 0.997, 'span': {'offset': 6265, 'length': 2}}, {'content': 'part', 'polygon': [1.068, 1.3906, 1.2698, 1.3906, 1.2697, 1.5381, 1.0677, 1.5381], 'confidence': 0.994, 'span': {'offset': 6268, 'length': 4}}, {'content': 'of', 'polygon': [1.3102, 1.3906, 1.4147, 1.3907, 1.4145, 1.5381, 1.31, 1.5381], 'confidence': 0.999, 'span': {'offset': 6273, 'length': 2}}, {'content': 'personnel', 'polygon': [1.4527, 1.3907, 1.9632, 1.3916, 1.9629, 1.5378, 1.4525, 1.538], 'confidence': 0.993, 'span': {'offset': 6276, 'length': 9}}, {'content': 'reorganization', 'polygon': [2.0179, 1.3918, 2.7564, 1.3909, 2.756, 1.5358, 2.0175, 1.5377], 'confidence': 0.994, 'span': {'offset': 6286, 'length': 14}}, {'content': 'measures,', 'polygon': [2.8063, 1.391, 3.3477, 1.3912, 3.3475, 1.5352, 2.8059, 1.5357], 'confidence': 0.993, 'span': {'offset': 6301, 'length': 9}}, {'content': 'the', 'polygon': [3.3952, 1.3912, 3.5567, 1.3909, 3.5564, 1.5354, 3.395, 1.5353], 'confidence': 0.998, 'span': {'offset': 6311, 'length': 3}}, {'content': 'Management', 'polygon': [3.6066, 1.3908, 4.2977, 1.3894, 4.2974, 1.535, 3.6063, 1.5355], 'confidence': 0.994, 'span': {'offset': 6315, 'length': 10}}, {'content': 'Board', 'polygon': [4.3404, 1.3893, 4.6444, 1.3891, 4.6442, 1.5346, 4.3402, 1.5349], 'confidence': 0.997, 'span': {'offset': 6326, 'length': 5}}, {'content': 'was', 'polygon': [4.6919, 1.3891, 4.9032, 1.3892, 4.9031, 1.5347, 4.6917, 1.5346], 'confidence': 0.998, 'span': {'offset': 6332, 'length': 3}}, {'content': 'reduced', 'polygon': [4.9507, 1.3892, 5.3687, 1.3894, 5.3684, 1.5336, 4.9506, 1.5348], 'confidence': 0.996, 'span': {'offset': 6336, 'length': 7}}, {'content': 'from', 'polygon': [5.4138, 1.3895, 5.6489, 1.3893, 5.6486, 1.5329, 5.4135, 1.5335], 'confidence': 0.992, 'span': {'offset': 6344, 'length': 4}}, {'content': 'ten', 'polygon': [5.694, 1.3892, 5.8555, 1.3888, 5.8553, 1.5326, 5.6938, 1.5328], 'confidence': 0.998, 'span': {'offset': 6349, 'length': 3}}, {'content': 'to', 'polygon': [5.9006, 1.3887, 5.998, 1.3885, 5.9978, 1.5324, 5.9004, 1.5325], 'confidence': 0.999, 'span': {'offset': 6353, 'length': 2}}, {'content': 'nine', 'polygon': [6.0455, 1.3885, 6.264, 1.3887, 6.2637, 1.5321, 6.0453, 1.5323], 'confidence': 0.994, 'span': {'offset': 6356, 'length': 4}}, {'content': 'members', 'polygon': [6.3115, 1.3887, 6.7983, 1.3897, 6.7981, 1.5319, 6.3112, 1.532], 'confidence': 0.995, 'span': {'offset': 6361, 'length': 7}}, {'content': 'to', 'polygon': [6.8411, 1.3898, 6.9408, 1.39, 6.9406, 1.532, 6.8409, 1.5319], 'confidence': 0.998, 'span': {'offset': 6369, 'length': 2}}, {'content': 'make', 'polygon': [6.9859, 1.39, 7.2709, 1.3899, 7.2708, 1.5325, 6.9858, 1.5321], 'confidence': 0.993, 'span': {'offset': 6372, 'length': 4}}, {'content': 'it', 'polygon': [7.3184, 1.3899, 7.3907, 1.3899, 7.3907, 1.5327, 7.3183, 1.5326], 'confidence': 0.999, 'span': {'offset': 6377, 'length': 2}}, {'content': 'more', 'polygon': [0.8735, 1.5451, 1.1511, 1.5445, 1.1515, 1.689, 0.8739, 1.6887], 'confidence': 0.994, 'span': {'offset': 6380, 'length': 4}}, {'content': 'efficient.', 'polygon': [1.1894, 1.5444, 1.6226, 1.5442, 1.6227, 1.689, 1.1898, 1.6891], 'confidence': 0.995, 'span': {'offset': 6385, 'length': 10}}, {'content': 'With', 'polygon': [1.6656, 1.5442, 1.8977, 1.5445, 1.8978, 1.6891, 1.6657, 1.689], 'confidence': 0.989, 'span': {'offset': 6396, 'length': 4}}, {'content': 'this', 'polygon': [1.9384, 1.5446, 2.1131, 1.5451, 2.1132, 1.6896, 1.9384, 1.6892], 'confidence': 0.994, 'span': {'offset': 6401, 'length': 4}}, {'content': 'new', 'polygon': [2.1418, 1.5452, 2.3787, 1.5452, 2.3789, 1.69, 2.1419, 1.6897], 'confidence': 0.999, 'span': {'offset': 6406, 'length': 3}}, {'content': 'composition,', 'polygon': [2.417, 1.5451, 3.0703, 1.5446, 3.0709, 1.6902, 2.4172, 1.69], 'confidence': 0.992, 'span': {'offset': 6410, 'length': 12}}, {'content': 'we', 'polygon': [3.1134, 1.5446, 3.2642, 1.5446, 3.2648, 1.6905, 3.114, 1.6902], 'confidence': 0.999, 'span': {'offset': 6423, 'length': 2}}, {'content': 'do,', 'polygon': [3.3024, 1.5446, 3.458, 1.5445, 3.4585, 1.6911, 3.3031, 1.6906], 'confidence': 0.996, 'span': {'offset': 6426, 'length': 3}}, {'content': 'however,', 'polygon': [3.5082, 1.5445, 3.9773, 1.5442, 3.9775, 1.6913, 3.5088, 1.6912], 'confidence': 0.995, 'span': {'offset': 6430, 'length': 8}}, {'content': 'fall', 'polygon': [4.018, 1.5442, 4.1663, 1.5441, 4.1664, 1.6911, 4.0181, 1.6913], 'confidence': 0.995, 'span': {'offset': 6439, 'length': 4}}, {'content': 'short', 'polygon': [4.2094, 1.544, 4.4726, 1.5437, 4.4728, 1.6905, 4.2095, 1.691], 'confidence': 0.996, 'span': {'offset': 6444, 'length': 5}}, {'content': 'of', 'polygon': [4.5109, 1.5436, 4.6114, 1.5435, 4.6116, 1.6903, 4.5111, 1.6904], 'confidence': 0.999, 'span': {'offset': 6450, 'length': 2}}, {'content': 'our', 'polygon': [4.6449, 1.5436, 4.8172, 1.5437, 4.8174, 1.6907, 4.6451, 1.6903], 'confidence': 0.998, 'span': {'offset': 6453, 'length': 3}}, {'content': 'own', 'polygon': [4.8531, 1.5437, 5.0637, 1.5438, 5.0638, 1.691, 4.8532, 1.6907], 'confidence': 0.998, 'span': {'offset': 6457, 'length': 3}}, {'content': 'commitment', 'polygon': [5.1068, 1.5439, 5.7529, 1.5441, 5.753, 1.6904, 5.1069, 1.6909], 'confidence': 0.993, 'span': {'offset': 6461, 'length': 10}}, {'content': 'regarding', 'polygon': [5.7888, 1.544, 6.2794, 1.5435, 6.2795, 1.6914, 5.7889, 1.6905], 'confidence': 0.996, 'span': {'offset': 6472, 'length': 9}}, {'content': 'the', 'polygon': [6.3224, 1.5435, 6.4828, 1.5436, 6.4829, 1.6913, 6.3226, 1.6914], 'confidence': 0.998, 'span': {'offset': 6482, 'length': 3}}, {'content': 'share', 'polygon': [6.5258, 1.5437, 6.8178, 1.5442, 6.8179, 1.6895, 6.526, 1.6911], 'confidence': 0.997, 'span': {'offset': 6486, 'length': 5}}, {'content': 'of', 'polygon': [6.8561, 1.5443, 6.9614, 1.5444, 6.9616, 1.6891, 6.8562, 1.6893], 'confidence': 0.999, 'span': {'offset': 6492, 'length': 2}}, {'content': 'women', 'polygon': [6.9925, 1.5444, 7.3793, 1.5443, 7.3793, 1.6905, 6.9927, 1.6892], 'confidence': 0.997, 'span': {'offset': 6495, 'length': 5}}, {'content': 'on', 'polygon': [0.8735, 1.693, 0.9942, 1.6931, 0.9942, 1.8399, 0.8735, 1.8397], 'confidence': 0.999, 'span': {'offset': 6501, 'length': 2}}, {'content': 'the', 'polygon': [1.0232, 1.6931, 1.197, 1.6932, 1.1969, 1.8402, 1.0231, 1.8399], 'confidence': 0.998, 'span': {'offset': 6504, 'length': 3}}, {'content': 'Management', 'polygon': [1.2259, 1.6932, 1.9332, 1.6927, 1.9332, 1.8396, 1.2259, 1.8403], 'confidence': 0.995, 'span': {'offset': 6508, 'length': 10}}, {'content': 'Board.', 'polygon': [1.9694, 1.6927, 2.305, 1.6923, 2.305, 1.839, 1.9694, 1.8395], 'confidence': 0.995, 'span': {'offset': 6519, 'length': 6}}, {'content': 'The', 'polygon': [2.3436, 1.6923, 2.544, 1.6922, 2.544, 1.8389, 2.3436, 1.839], 'confidence': 0.999, 'span': {'offset': 6526, 'length': 3}}, {'content': 'Supervisory', 'polygon': [2.5826, 1.6922, 3.2054, 1.6916, 3.2058, 1.8387, 2.5826, 1.8389], 'confidence': 0.995, 'span': {'offset': 6530, 'length': 11}}, {'content': 'Board', 'polygon': [3.2392, 1.6916, 3.5337, 1.6916, 3.5338, 1.8394, 3.2395, 1.8388], 'confidence': 0.997, 'span': {'offset': 6542, 'length': 5}}, {'content': 'is', 'polygon': [3.5627, 1.6916, 3.6665, 1.6916, 3.6665, 1.8397, 3.5628, 1.8395], 'confidence': 0.999, 'span': {'offset': 6548, 'length': 2}}, {'content': 'focused', 'polygon': [3.7003, 1.6916, 4.1082, 1.6917, 4.1081, 1.8399, 3.7003, 1.8397], 'confidence': 0.996, 'span': {'offset': 6551, 'length': 7}}, {'content': 'on', 'polygon': [4.1468, 1.6918, 4.27, 1.6917, 4.2698, 1.8401, 4.1467, 1.8399], 'confidence': 0.999, 'span': {'offset': 6559, 'length': 2}}, {'content': 'raising', 'polygon': [4.3134, 1.6917, 4.6514, 1.6917, 4.6513, 1.8406, 4.3133, 1.8401], 'confidence': 0.994, 'span': {'offset': 6562, 'length': 7}}, {'content': 'the', 'polygon': [4.69, 1.6917, 4.8493, 1.6917, 4.8493, 1.8408, 4.6899, 1.8406], 'confidence': 0.998, 'span': {'offset': 6570, 'length': 3}}, {'content': 'proportion', 'polygon': [4.8904, 1.6917, 5.4118, 1.6927, 5.4117, 1.8396, 4.8903, 1.8409], 'confidence': 0.996, 'span': {'offset': 6574, 'length': 10}}, {'content': 'of', 'polygon': [5.4528, 1.6928, 5.5421, 1.693, 5.542, 1.8391, 5.4527, 1.8394], 'confidence': 0.999, 'span': {'offset': 6585, 'length': 2}}, {'content': 'women', 'polygon': [5.5711, 1.693, 5.9549, 1.6923, 5.9549, 1.8388, 5.571, 1.8391], 'confidence': 0.997, 'span': {'offset': 6588, 'length': 5}}, {'content': 'in', 'polygon': [5.996, 1.6922, 6.0804, 1.6921, 6.0804, 1.8389, 5.9959, 1.8388], 'confidence': 0.999, 'span': {'offset': 6594, 'length': 2}}, {'content': 'leadership', 'polygon': [6.1215, 1.692, 6.6598, 1.692, 6.6597, 1.8394, 6.1214, 1.839], 'confidence': 0.994, 'span': {'offset': 6597, 'length': 10}}, {'content': 'roles,', 'polygon': [6.696, 1.6921, 6.9736, 1.6928, 6.9736, 1.8392, 6.6959, 1.8394], 'confidence': 0.995, 'span': {'offset': 6608, 'length': 6}}, {'content': 'both', 'polygon': [7.0171, 1.6929, 7.2392, 1.6933, 7.2392, 1.839, 7.017, 1.8392], 'confidence': 0.993, 'span': {'offset': 6615, 'length': 4}}, {'content': 'at', 'polygon': [7.2778, 1.6934, 7.3907, 1.6937, 7.3907, 1.8389, 7.2778, 1.839], 'confidence': 0.998, 'span': {'offset': 6620, 'length': 2}}, {'content': 'Management', 'polygon': [0.8713, 1.8463, 1.5734, 1.8457, 1.5736, 1.9924, 0.8712, 1.9929], 'confidence': 0.994, 'span': {'offset': 6623, 'length': 10}}, {'content': 'Board', 'polygon': [1.6167, 1.8456, 1.9148, 1.8455, 1.915, 1.9918, 1.6169, 1.9923], 'confidence': 0.995, 'span': {'offset': 6634, 'length': 5}}, {'content': 'level', 'polygon': [1.9437, 1.8455, 2.2033, 1.846, 2.2036, 1.9926, 1.9438, 1.9919], 'confidence': 0.995, 'span': {'offset': 6640, 'length': 5}}, {'content': 'and', 'polygon': [2.2466, 1.8461, 2.439, 1.8458, 2.4391, 1.9924, 2.2469, 1.9927], 'confidence': 0.999, 'span': {'offset': 6646, 'length': 3}}, {'content': 'below.', 'polygon': [2.4871, 1.8457, 2.8189, 1.8454, 2.8189, 1.9918, 2.4872, 1.9923], 'confidence': 0.995, 'span': {'offset': 6650, 'length': 6}}, {'content': 'As', 'polygon': [2.8621, 1.8455, 3.0016, 1.8458, 3.0016, 1.9919, 2.8622, 1.9918], 'confidence': 0.998, 'span': {'offset': 6657, 'length': 2}}, {'content': 'part', 'polygon': [3.0449, 1.8459, 3.2468, 1.8462, 3.2468, 1.9923, 3.0449, 1.9919], 'confidence': 0.993, 'span': {'offset': 6660, 'length': 4}}, {'content': 'of', 'polygon': [3.2853, 1.8461, 3.3911, 1.846, 3.3911, 1.9929, 3.2853, 1.9924], 'confidence': 0.993, 'span': {'offset': 6665, 'length': 2}}, {'content': 'the', 'polygon': [3.4199, 1.846, 3.5834, 1.8457, 3.5834, 1.9937, 3.4199, 1.993], 'confidence': 0.993, 'span': {'offset': 6668, 'length': 3}}, {'content': \"bank's\", 'polygon': [3.6291, 1.8457, 3.9657, 1.8466, 3.9657, 1.9944, 3.6291, 1.9939], 'confidence': 0.993, 'span': {'offset': 6672, 'length': 6}}, {'content': 'new', 'polygon': [4.0114, 1.8467, 4.223, 1.8473, 4.223, 1.9945, 4.0113, 1.9944], 'confidence': 0.998, 'span': {'offset': 6679, 'length': 3}}, {'content': 'compensation', 'polygon': [4.2615, 1.8473, 4.9924, 1.8478, 4.9924, 1.9958, 4.2614, 1.9945], 'confidence': 0.995, 'span': {'offset': 6683, 'length': 12}}, {'content': 'system,', 'polygon': [5.0356, 1.8478, 5.4372, 1.8478, 5.4372, 1.9944, 5.0357, 1.9959], 'confidence': 0.995, 'span': {'offset': 6696, 'length': 7}}, {'content': 'we', 'polygon': [5.478, 1.8478, 5.6319, 1.8476, 5.632, 1.994, 5.4781, 1.9943], 'confidence': 0.999, 'span': {'offset': 6704, 'length': 2}}, {'content': 'seek', 'polygon': [5.6728, 1.8476, 5.9204, 1.8473, 5.9205, 1.9938, 5.6729, 1.994], 'confidence': 0.991, 'span': {'offset': 6707, 'length': 4}}, {'content': 'to', 'polygon': [5.9589, 1.8473, 6.0575, 1.8471, 6.0576, 1.9938, 5.959, 1.9938], 'confidence': 0.999, 'span': {'offset': 6712, 'length': 2}}, {'content': 'integrate', 'polygon': [6.1032, 1.8471, 6.5552, 1.8468, 6.5553, 1.9934, 6.1033, 1.9938], 'confidence': 0.996, 'span': {'offset': 6715, 'length': 9}}, {'content': 'the', 'polygon': [6.5937, 1.8469, 6.7571, 1.8472, 6.7572, 1.9925, 6.5937, 1.9932], 'confidence': 0.999, 'span': {'offset': 6725, 'length': 3}}, {'content': 'latter', 'polygon': [6.8052, 1.8473, 7.0673, 1.8475, 7.0674, 1.9921, 6.8053, 1.9923], 'confidence': 0.995, 'span': {'offset': 6729, 'length': 6}}, {'content': 'more', 'polygon': [7.1058, 1.8475, 7.3793, 1.8476, 7.3793, 1.9927, 7.1059, 1.9922], 'confidence': 0.994, 'span': {'offset': 6736, 'length': 4}}, {'content': 'firmly', 'polygon': [0.8674, 1.9972, 1.1424, 1.9984, 1.1424, 2.1502, 0.8673, 2.1502], 'confidence': 0.996, 'span': {'offset': 6741, 'length': 6}}, {'content': 'into', 'polygon': [1.1724, 1.9984, 1.3873, 1.9982, 1.3872, 2.1502, 1.1724, 2.1502], 'confidence': 0.99, 'span': {'offset': 6748, 'length': 4}}, {'content': 'the', 'polygon': [1.4198, 1.9982, 1.5823, 1.9987, 1.5822, 2.1502, 1.4197, 2.1502], 'confidence': 0.997, 'span': {'offset': 6753, 'length': 3}}, {'content': 'performance', 'polygon': [1.6223, 1.9988, 2.2772, 1.9985, 2.277, 2.1502, 1.6222, 2.1502], 'confidence': 0.994, 'span': {'offset': 6757, 'length': 11}}, {'content': 'goals', 'polygon': [2.3147, 1.9987, 2.5946, 1.9986, 2.5944, 2.1502, 2.3145, 2.1502], 'confidence': 0.996, 'span': {'offset': 6769, 'length': 5}}, {'content': 'of', 'polygon': [2.6271, 1.9985, 2.7221, 1.9981, 2.7219, 2.1502, 2.6269, 2.1502], 'confidence': 0.985, 'span': {'offset': 6775, 'length': 2}}, {'content': 'our', 'polygon': [2.7521, 1.9981, 2.9121, 1.9982, 2.9118, 2.1502, 2.7519, 2.1502], 'confidence': 0.998, 'span': {'offset': 6778, 'length': 3}}, {'content': 'Management', 'polygon': [2.942, 1.9982, 3.6519, 1.9986, 3.6515, 2.1502, 2.9417, 2.1502], 'confidence': 0.995, 'span': {'offset': 6782, 'length': 10}}, {'content': 'Board', 'polygon': [3.6894, 1.9988, 3.9944, 1.9988, 3.994, 2.1497, 3.6891, 2.1502], 'confidence': 0.996, 'span': {'offset': 6793, 'length': 5}}, {'content': 'members.', 'polygon': [4.0368, 1.9987, 4.56, 1.9985, 4.56, 2.149, 4.0365, 2.1497], 'confidence': 0.994, 'span': {'offset': 6799, 'length': 8}}, {'content': 'On', 'polygon': [0.8744, 2.2976, 1.0342, 2.298, 1.0339, 2.4504, 0.8739, 2.4501], 'confidence': 0.999, 'span': {'offset': 6809, 'length': 2}}, {'content': 'the', 'polygon': [1.0667, 2.298, 1.2316, 2.2984, 1.2313, 2.4509, 1.0664, 2.4505], 'confidence': 0.998, 'span': {'offset': 6812, 'length': 3}}, {'content': 'Supervisory', 'polygon': [1.264, 2.2985, 1.8686, 2.2989, 1.8683, 2.4522, 1.2638, 2.4509], 'confidence': 0.993, 'span': {'offset': 6816, 'length': 11}}, {'content': 'Board,', 'polygon': [1.8985, 2.299, 2.2533, 2.3, 2.253, 2.452, 1.8983, 2.4522], 'confidence': 0.996, 'span': {'offset': 6828, 'length': 6}}, {'content': 'there', 'polygon': [2.2857, 2.3, 2.538, 2.3004, 2.5377, 2.4516, 2.2854, 2.452], 'confidence': 0.996, 'span': {'offset': 6835, 'length': 5}}, {'content': 'was', 'polygon': [2.568, 2.3004, 2.7928, 2.3007, 2.7925, 2.4514, 2.5677, 2.4515], 'confidence': 0.999, 'span': {'offset': 6841, 'length': 3}}, {'content': 'a', 'polygon': [2.8253, 2.3007, 2.8678, 2.3008, 2.8674, 2.4515, 2.825, 2.4514], 'confidence': 0.997, 'span': {'offset': 6845, 'length': 1}}, {'content': 'routine', 'polygon': [2.8978, 2.3008, 3.275, 2.3013, 3.2746, 2.4519, 2.8974, 2.4515], 'confidence': 0.994, 'span': {'offset': 6847, 'length': 7}}, {'content': 'change', 'polygon': [3.3074, 2.3013, 3.6921, 2.3013, 3.6918, 2.4518, 3.3071, 2.4519], 'confidence': 0.996, 'span': {'offset': 6855, 'length': 6}}, {'content': 'as', 'polygon': [3.7246, 2.3012, 3.827, 2.3009, 3.8266, 2.4517, 3.7242, 2.4518], 'confidence': 0.998, 'span': {'offset': 6862, 'length': 2}}, {'content': 'a', 'polygon': [3.857, 2.3008, 3.917, 2.3005, 3.9166, 2.4515, 3.8566, 2.4516], 'confidence': 0.997, 'span': {'offset': 6865, 'length': 1}}, {'content': 'result', 'polygon': [3.9469, 2.3004, 4.2367, 2.2995, 4.2364, 2.4514, 3.9465, 2.4515], 'confidence': 0.996, 'span': {'offset': 6867, 'length': 6}}, {'content': 'of', 'polygon': [4.2667, 2.2995, 4.3566, 2.2993, 4.3564, 2.4515, 4.2664, 2.4514], 'confidence': 0.98, 'span': {'offset': 6874, 'length': 2}}, {'content': 'last', 'polygon': [4.3866, 2.2992, 4.5764, 2.2988, 4.5763, 2.4517, 4.3864, 2.4515], 'confidence': 0.99, 'span': {'offset': 6877, 'length': 4}}, {'content': \"year's\", 'polygon': [4.6064, 2.2987, 4.9262, 2.2977, 4.926, 2.4522, 4.6063, 2.4517], 'confidence': 0.993, 'span': {'offset': 6882, 'length': 6}}, {'content': 'elections,', 'polygon': [4.9561, 2.2976, 5.4557, 2.2996, 5.4555, 2.4522, 4.9559, 2.4522], 'confidence': 0.99, 'span': {'offset': 6889, 'length': 10}}, {'content': 'with', 'polygon': [5.4882, 2.2998, 5.6955, 2.2993, 5.6953, 2.4519, 5.4879, 2.4522], 'confidence': 0.992, 'span': {'offset': 6900, 'length': 4}}, {'content': 'Susanne', 'polygon': [5.733, 2.2992, 6.1926, 2.2981, 6.1925, 2.4513, 5.7328, 2.4518], 'confidence': 0.994, 'span': {'offset': 6905, 'length': 7}}, {'content': 'Bleidt,', 'polygon': [6.2301, 2.298, 6.5449, 2.2979, 6.5447, 2.451, 6.23, 2.4513], 'confidence': 0.992, 'span': {'offset': 6913, 'length': 7}}, {'content': 'Claudia', 'polygon': [6.5798, 2.2979, 6.9745, 2.2988, 6.9745, 2.4508, 6.5797, 2.451], 'confidence': 0.995, 'span': {'offset': 6921, 'length': 7}}, {'content': 'Fieber,', 'polygon': [7.012, 2.2989, 7.3792, 2.3002, 7.3792, 2.4525, 7.012, 2.451], 'confidence': 0.991, 'span': {'offset': 6929, 'length': 7}}, {'content': 'Brigit', 'polygon': [0.8737, 2.453, 1.1522, 2.453, 1.152, 2.6063, 0.8733, 2.6058], 'confidence': 0.997, 'span': {'offset': 6937, 'length': 6}}, {'content': 'Laumen,', 'polygon': [1.2054, 2.453, 1.656, 2.4531, 1.6559, 2.6069, 1.2052, 2.6064], 'confidence': 0.995, 'span': {'offset': 6944, 'length': 7}}, {'content': 'Gerlinde', 'polygon': [1.7142, 2.4532, 2.1572, 2.4534, 2.1571, 2.6075, 1.7141, 2.6069], 'confidence': 0.995, 'span': {'offset': 6952, 'length': 8}}, {'content': 'Siebert,', 'polygon': [2.2103, 2.4534, 2.6078, 2.4526, 2.6077, 2.6067, 2.2103, 2.6075], 'confidence': 0.994, 'span': {'offset': 6961, 'length': 8}}, {'content': 'Frank', 'polygon': [2.6711, 2.4524, 2.9698, 2.4522, 2.9697, 2.6066, 2.671, 2.6065], 'confidence': 0.997, 'span': {'offset': 6970, 'length': 5}}, {'content': 'Schulze,', 'polygon': [3.0204, 2.4522, 3.4634, 2.4524, 3.4633, 2.6072, 3.0203, 2.6066], 'confidence': 0.994, 'span': {'offset': 6976, 'length': 8}}, {'content': 'Stephan', 'polygon': [3.5242, 2.4524, 3.9545, 2.4522, 3.9543, 2.607, 3.5241, 2.6073], 'confidence': 0.997, 'span': {'offset': 6985, 'length': 7}}, {'content': 'Szukalski', 'polygon': [4.0127, 2.4522, 4.5064, 2.4529, 4.5062, 2.6071, 4.0125, 2.6069], 'confidence': 0.996, 'span': {'offset': 6993, 'length': 9}}, {'content': 'and', 'polygon': [4.562, 2.453, 4.7519, 2.4532, 4.7518, 2.6075, 4.5619, 2.6072], 'confidence': 0.999, 'span': {'offset': 7003, 'length': 3}}, {'content': 'Jürgen', 'polygon': [4.8076, 2.4532, 5.1645, 2.4535, 5.1644, 2.6081, 4.8075, 2.6076], 'confidence': 0.993, 'span': {'offset': 7007, 'length': 6}}, {'content': 'Tögel', 'polygon': [5.2177, 2.4535, 5.5088, 2.4536, 5.5086, 2.6079, 5.2175, 2.608], 'confidence': 0.993, 'span': {'offset': 7014, 'length': 5}}, {'content': 'being', 'polygon': [5.5696, 2.4537, 5.848, 2.4541, 5.8479, 2.6086, 5.5693, 2.608], 'confidence': 0.996, 'span': {'offset': 7020, 'length': 5}}, {'content': 'newly', 'polygon': [5.9088, 2.4542, 6.2075, 2.4544, 6.2074, 2.6095, 5.9086, 2.6087], 'confidence': 0.996, 'span': {'offset': 7026, 'length': 5}}, {'content': 'elected', 'polygon': [6.2581, 2.4544, 6.6302, 2.4545, 6.6301, 2.6094, 6.258, 2.6096], 'confidence': 0.995, 'span': {'offset': 7032, 'length': 7}}, {'content': 'as', 'polygon': [6.6885, 2.4545, 6.81, 2.4546, 6.8098, 2.6088, 6.6883, 2.6092], 'confidence': 0.999, 'span': {'offset': 7040, 'length': 2}}, {'content': 'employee', 'polygon': [6.8631, 2.4547, 7.3846, 2.4559, 7.3845, 2.6115, 6.863, 2.6086], 'confidence': 0.996, 'span': {'offset': 7043, 'length': 8}}, {'content': 'representatives,', 'polygon': [0.8716, 2.6117, 1.7169, 2.6106, 1.7169, 2.7592, 0.8715, 2.7583], 'confidence': 0.987, 'span': {'offset': 7052, 'length': 16}}, {'content': 'while', 'polygon': [1.761, 2.6106, 2.0305, 2.6106, 2.0304, 2.7592, 1.761, 2.7592], 'confidence': 0.99, 'span': {'offset': 7069, 'length': 5}}, {'content': 'Jan', 'polygon': [2.0746, 2.6106, 2.2608, 2.6106, 2.2607, 2.7591, 2.0745, 2.7592], 'confidence': 0.999, 'span': {'offset': 7075, 'length': 3}}, {'content': 'Duscheck,', 'polygon': [2.3122, 2.6104, 2.8488, 2.6088, 2.8487, 2.758, 2.3121, 2.759], 'confidence': 0.995, 'span': {'offset': 7079, 'length': 9}}, {'content': 'Manja', 'polygon': [2.9051, 2.6088, 3.2163, 2.609, 3.2163, 2.7583, 2.9051, 2.758], 'confidence': 0.996, 'span': {'offset': 7089, 'length': 5}}, {'content': 'Eifert', 'polygon': [3.2677, 2.6089, 3.5372, 2.6085, 3.5372, 2.7589, 3.2678, 2.7584], 'confidence': 0.995, 'span': {'offset': 7095, 'length': 6}}, {'content': 'and', 'polygon': [3.5813, 2.6084, 3.7724, 2.608, 3.7724, 2.7589, 3.5813, 2.759], 'confidence': 0.992, 'span': {'offset': 7102, 'length': 3}}, {'content': 'Timo', 'polygon': [3.8165, 2.6079, 4.0787, 2.6073, 4.0785, 2.7582, 3.8165, 2.7588], 'confidence': 0.994, 'span': {'offset': 7106, 'length': 4}}, {'content': 'Heider', 'polygon': [4.1252, 2.6072, 4.4732, 2.6076, 4.473, 2.7578, 4.125, 2.7581], 'confidence': 0.995, 'span': {'offset': 7111, 'length': 6}}, {'content': 'were', 'polygon': [4.5075, 2.6077, 4.7647, 2.6077, 4.7646, 2.7582, 4.5073, 2.7578], 'confidence': 0.994, 'span': {'offset': 7118, 'length': 4}}, {'content': 're-elected', 'polygon': [4.8088, 2.6077, 5.3258, 2.6082, 5.3256, 2.7584, 4.8087, 2.7583], 'confidence': 0.994, 'span': {'offset': 7123, 'length': 10}}, {'content': 'for', 'polygon': [5.3699, 2.6084, 5.5144, 2.6087, 5.5142, 2.7581, 5.3697, 2.7583], 'confidence': 0.998, 'span': {'offset': 7134, 'length': 3}}, {'content': 'a', 'polygon': [5.5512, 2.6088, 5.6149, 2.6088, 5.6146, 2.7581, 5.5509, 2.758], 'confidence': 0.997, 'span': {'offset': 7138, 'length': 1}}, {'content': 'further', 'polygon': [5.659, 2.6088, 6.0044, 2.6088, 6.0043, 2.7582, 5.6587, 2.7581], 'confidence': 0.995, 'span': {'offset': 7140, 'length': 7}}, {'content': 'term', 'polygon': [6.0412, 2.6088, 6.2739, 2.6087, 6.2737, 2.7588, 6.041, 2.7583], 'confidence': 0.99, 'span': {'offset': 7148, 'length': 4}}, {'content': 'of', 'polygon': [6.3205, 2.6086, 6.4258, 2.6086, 6.4256, 2.7591, 6.3203, 2.7589], 'confidence': 0.998, 'span': {'offset': 7153, 'length': 2}}, {'content': 'office.', 'polygon': [6.4601, 2.6086, 6.7689, 2.6102, 6.7686, 2.76, 6.4599, 2.7592], 'confidence': 0.991, 'span': {'offset': 7156, 'length': 7}}, {'content': 'In', 'polygon': [6.8228, 2.6105, 6.9085, 2.6109, 6.9082, 2.7604, 6.8225, 2.7602], 'confidence': 0.989, 'span': {'offset': 7164, 'length': 2}}, {'content': 'January', 'polygon': [6.9526, 2.6113, 7.3887, 2.615, 7.3885, 2.764, 6.9523, 2.7607], 'confidence': 0.994, 'span': {'offset': 7167, 'length': 7}}, {'content': '2024,', 'polygon': [0.8725, 2.7619, 1.1569, 2.7621, 1.1569, 2.9129, 0.8722, 2.912], 'confidence': 0.994, 'span': {'offset': 7175, 'length': 5}}, {'content': 'Birgit', 'polygon': [1.1869, 2.7621, 1.4564, 2.7623, 1.4565, 2.9138, 1.1869, 2.913], 'confidence': 0.987, 'span': {'offset': 7181, 'length': 6}}, {'content': 'Laumen', 'polygon': [1.4863, 2.7623, 1.9055, 2.7624, 1.9056, 2.9144, 1.4864, 2.9139], 'confidence': 0.996, 'span': {'offset': 7188, 'length': 6}}, {'content': 'resigned', 'polygon': [1.9355, 2.7624, 2.3846, 2.762, 2.3848, 2.9144, 1.9356, 2.9144], 'confidence': 0.996, 'span': {'offset': 7195, 'length': 8}}, {'content': 'from', 'polygon': [2.4146, 2.762, 2.6316, 2.7618, 2.6318, 2.9139, 2.4147, 2.9144], 'confidence': 0.995, 'span': {'offset': 7204, 'length': 4}}, {'content': 'her', 'polygon': [2.6741, 2.7618, 2.8437, 2.7617, 2.844, 2.9134, 2.6743, 2.9138], 'confidence': 0.998, 'span': {'offset': 7209, 'length': 3}}, {'content': 'mandate', 'polygon': [2.8737, 2.7617, 3.3328, 2.7617, 3.333, 2.9133, 2.8739, 2.9134], 'confidence': 0.996, 'span': {'offset': 7213, 'length': 7}}, {'content': 'and', 'polygon': [3.3628, 2.7617, 3.5524, 2.7618, 3.5525, 2.9141, 3.363, 2.9134], 'confidence': 0.998, 'span': {'offset': 7221, 'length': 3}}, {'content': 'the', 'polygon': [3.5823, 2.7618, 3.752, 2.7616, 3.752, 2.9144, 3.5824, 2.9142], 'confidence': 0.999, 'span': {'offset': 7225, 'length': 3}}, {'content': 'court', 'polygon': [3.782, 2.7615, 4.0415, 2.7609, 4.0414, 2.9142, 3.7819, 2.9144], 'confidence': 0.996, 'span': {'offset': 7229, 'length': 5}}, {'content': 'subsequently', 'polygon': [4.0714, 2.7608, 4.7701, 2.7612, 4.77, 2.9144, 4.0713, 2.9142], 'confidence': 0.994, 'span': {'offset': 7235, 'length': 12}}, {'content': 'appointed', 'polygon': [4.8, 2.7612, 5.319, 2.762, 5.3189, 2.9144, 4.8, 2.9144], 'confidence': 0.996, 'span': {'offset': 7248, 'length': 9}}, {'content': 'Florian', 'polygon': [5.3565, 2.7621, 5.7058, 2.7628, 5.7057, 2.9144, 5.3563, 2.9144], 'confidence': 0.995, 'span': {'offset': 7258, 'length': 7}}, {'content': 'Haggenmiller', 'polygon': [5.7457, 2.7628, 6.417, 2.7631, 6.4169, 2.9144, 5.7456, 2.9144], 'confidence': 0.995, 'span': {'offset': 7266, 'length': 12}}, {'content': 'as', 'polygon': [6.4469, 2.7631, 6.5667, 2.7632, 6.5666, 2.9144, 6.4468, 2.9144], 'confidence': 0.999, 'span': {'offset': 7279, 'length': 2}}, {'content': 'her', 'polygon': [6.5966, 2.7632, 6.7763, 2.7633, 6.7762, 2.9137, 6.5965, 2.9144], 'confidence': 0.998, 'span': {'offset': 7282, 'length': 3}}, {'content': 'successor.', 'polygon': [6.8062, 2.7634, 7.3793, 2.7649, 7.3793, 2.9144, 6.8061, 2.9135], 'confidence': 0.989, 'span': {'offset': 7286, 'length': 10}}, {'content': 'I', 'polygon': [0.8713, 2.9137, 0.9092, 2.9137, 0.909, 3.0651, 0.8711, 3.065], 'confidence': 0.866, 'span': {'offset': 7297, 'length': 1}}, {'content': 'would', 'polygon': [0.9471, 2.9137, 1.2404, 2.9137, 1.2402, 3.0662, 0.9469, 3.0652], 'confidence': 0.994, 'span': {'offset': 7299, 'length': 5}}, {'content': 'like', 'polygon': [1.2707, 2.9137, 1.4527, 2.9142, 1.4526, 3.067, 1.2706, 3.0663], 'confidence': 0.995, 'span': {'offset': 7305, 'length': 4}}, {'content': 'to', 'polygon': [1.4831, 2.9143, 1.6044, 2.9148, 1.6042, 3.0675, 1.4829, 3.0671], 'confidence': 0.999, 'span': {'offset': 7310, 'length': 2}}, {'content': 'once', 'polygon': [1.6398, 2.915, 1.8951, 2.9159, 1.8949, 3.0683, 1.6396, 3.0676], 'confidence': 0.994, 'span': {'offset': 7313, 'length': 4}}, {'content': 'again', 'polygon': [1.9331, 2.9159, 2.2137, 2.9164, 2.2135, 3.0686, 1.9328, 3.0683], 'confidence': 0.996, 'span': {'offset': 7318, 'length': 5}}, {'content': 'welcome', 'polygon': [2.2516, 2.9165, 2.7167, 2.915, 2.7167, 3.0675, 2.2515, 3.0686], 'confidence': 0.994, 'span': {'offset': 7324, 'length': 7}}, {'content': 'all', 'polygon': [2.7572, 2.915, 2.8659, 2.9151, 2.8658, 3.0679, 2.7571, 3.0675], 'confidence': 0.998, 'span': {'offset': 7332, 'length': 3}}, {'content': 'those', 'polygon': [2.9063, 2.9151, 3.1945, 2.9152, 3.1944, 3.0692, 2.9062, 3.0681], 'confidence': 0.996, 'span': {'offset': 7336, 'length': 5}}, {'content': 'who', 'polygon': [3.2274, 2.9152, 3.4448, 2.9145, 3.4446, 3.0696, 3.2273, 3.0693], 'confidence': 0.998, 'span': {'offset': 7342, 'length': 3}}, {'content': 'joined', 'polygon': [3.4777, 2.9144, 3.7937, 2.9138, 3.7934, 3.0699, 3.4775, 3.0697], 'confidence': 0.996, 'span': {'offset': 7346, 'length': 6}}, {'content': 'the', 'polygon': [3.8341, 2.9137, 3.9984, 2.9136, 3.9981, 3.0697, 3.8339, 3.0698], 'confidence': 0.998, 'span': {'offset': 7353, 'length': 3}}, {'content': 'Supervisory', 'polygon': [4.0389, 2.9136, 4.6582, 2.9147, 4.658, 3.0695, 4.0386, 3.0697], 'confidence': 0.994, 'span': {'offset': 7357, 'length': 11}}, {'content': 'Board.', 'polygon': [4.6962, 2.9147, 5.0324, 2.9151, 5.0321, 3.0704, 4.6959, 3.0696], 'confidence': 0.996, 'span': {'offset': 7369, 'length': 6}}, {'content': 'My', 'polygon': [5.0779, 2.9151, 5.2321, 2.9155, 5.2318, 3.0703, 5.0776, 3.0705], 'confidence': 0.998, 'span': {'offset': 7376, 'length': 2}}, {'content': 'special', 'polygon': [5.2675, 2.9155, 5.629, 2.916, 5.6287, 3.0699, 5.2672, 3.0703], 'confidence': 0.995, 'span': {'offset': 7379, 'length': 7}}, {'content': 'thanks', 'polygon': [5.6694, 2.916, 6.0158, 2.9157, 6.0155, 3.0696, 5.6691, 3.0699], 'confidence': 0.996, 'span': {'offset': 7387, 'length': 6}}, {'content': 'go', 'polygon': [6.0537, 2.9156, 6.1826, 2.9153, 6.1824, 3.0701, 6.0535, 3.0697], 'confidence': 0.994, 'span': {'offset': 7394, 'length': 2}}, {'content': 'to', 'polygon': [6.218, 2.9152, 6.3166, 2.9149, 6.3164, 3.0706, 6.2178, 3.0703], 'confidence': 0.998, 'span': {'offset': 7397, 'length': 2}}, {'content': 'Frank', 'polygon': [6.3596, 2.9148, 6.6554, 2.9144, 6.6551, 3.0704, 6.3593, 3.0707], 'confidence': 0.997, 'span': {'offset': 7400, 'length': 5}}, {'content': 'Schulze,', 'polygon': [6.6907, 2.9144, 7.1357, 2.915, 7.1355, 3.0703, 6.6905, 3.0703], 'confidence': 0.995, 'span': {'offset': 7406, 'length': 8}}, {'content': 'one', 'polygon': [7.1761, 2.9151, 7.385, 2.916, 7.385, 3.0713, 7.1759, 3.0705], 'confidence': 0.998, 'span': {'offset': 7415, 'length': 3}}, {'content': 'of', 'polygon': [0.8726, 3.0644, 0.9688, 3.0648, 0.9686, 3.2187, 0.8723, 3.2185], 'confidence': 0.998, 'span': {'offset': 7419, 'length': 2}}, {'content': 'my', 'polygon': [0.9992, 3.065, 1.1713, 3.0658, 1.1713, 3.2191, 0.999, 3.2188], 'confidence': 0.998, 'span': {'offset': 7422, 'length': 2}}, {'content': 'deputies,', 'polygon': [1.2068, 3.0658, 1.6777, 3.0658, 1.6776, 3.2189, 1.2068, 3.2192], 'confidence': 0.995, 'span': {'offset': 7425, 'length': 9}}, {'content': 'for', 'polygon': [1.7132, 3.0657, 1.8297, 3.0656, 1.8295, 3.2184, 1.7131, 3.2187], 'confidence': 0.999, 'span': {'offset': 7435, 'length': 3}}, {'content': 'the', 'polygon': [1.8601, 3.0657, 2.0474, 3.0664, 2.0472, 3.2199, 1.8598, 3.2186], 'confidence': 0.992, 'span': {'offset': 7439, 'length': 3}}, {'content': 'close', 'polygon': [2.0854, 3.0666, 2.3563, 3.066, 2.356, 3.2196, 2.0852, 3.2201], 'confidence': 0.996, 'span': {'offset': 7443, 'length': 5}}, {'content': 'cooperation', 'polygon': [2.3943, 3.0659, 3.0045, 3.0653, 3.004, 3.2214, 2.3939, 3.2195], 'confidence': 0.995, 'span': {'offset': 7449, 'length': 11}}, {'content': 'and', 'polygon': [3.0451, 3.0653, 3.2324, 3.0654, 3.2318, 3.2212, 3.0445, 3.2215], 'confidence': 0.999, 'span': {'offset': 7461, 'length': 3}}, {'content': 'partnership', 'polygon': [3.2755, 3.0654, 3.8604, 3.0653, 3.8596, 3.2217, 3.2749, 3.2211], 'confidence': 0.988, 'span': {'offset': 7465, 'length': 11}}, {'content': 'since', 'polygon': [3.8958, 3.0651, 4.149, 3.0655, 4.1482, 3.2215, 3.895, 3.2216], 'confidence': 0.996, 'span': {'offset': 7477, 'length': 5}}, {'content': 'the', 'polygon': [4.1794, 3.0657, 4.3642, 3.0663, 4.3634, 3.2214, 4.1786, 3.2214], 'confidence': 0.998, 'span': {'offset': 7483, 'length': 3}}, {'content': 'very', 'polygon': [4.3972, 3.0664, 4.6048, 3.067, 4.6038, 3.2215, 4.3963, 3.2214], 'confidence': 0.995, 'span': {'offset': 7487, 'length': 4}}, {'content': 'beginning.', 'polygon': [4.6352, 3.067, 5.2049, 3.0701, 5.2049, 3.2224, 4.6341, 3.2215], 'confidence': 0.994, 'span': {'offset': 7492, 'length': 10}}, {'content': 'On', 'polygon': [0.8738, 3.3679, 1.02, 3.3685, 1.0196, 3.5193, 0.8733, 3.5186], 'confidence': 0.999, 'span': {'offset': 7504, 'length': 2}}, {'content': 'the', 'polygon': [1.0503, 3.3686, 1.2368, 3.3693, 1.2365, 3.5204, 1.0499, 3.5195], 'confidence': 0.999, 'span': {'offset': 7507, 'length': 3}}, {'content': 'shareholder', 'polygon': [1.2746, 3.3695, 1.8999, 3.3701, 1.8993, 3.5225, 1.2744, 3.5206], 'confidence': 0.995, 'span': {'offset': 7511, 'length': 11}}, {'content': 'side,', 'polygon': [1.9327, 3.3701, 2.1722, 3.3707, 2.1715, 3.5232, 1.9321, 3.5226], 'confidence': 0.994, 'span': {'offset': 7523, 'length': 5}}, {'content': 'continuity', 'polygon': [2.2125, 3.3708, 2.6941, 3.3708, 2.6935, 3.5236, 2.2119, 3.5233], 'confidence': 0.995, 'span': {'offset': 7529, 'length': 10}}, {'content': 'was', 'polygon': [2.7244, 3.3708, 2.9361, 3.3711, 2.9355, 3.5239, 2.7238, 3.5236], 'confidence': 0.999, 'span': {'offset': 7540, 'length': 3}}, {'content': 'the', 'polygon': [2.9664, 3.3711, 3.1504, 3.3715, 3.1498, 3.5242, 2.9658, 3.5239], 'confidence': 0.999, 'span': {'offset': 7544, 'length': 3}}, {'content': 'order', 'polygon': [3.1883, 3.3715, 3.4656, 3.3703, 3.465, 3.5247, 3.1876, 3.5242], 'confidence': 0.997, 'span': {'offset': 7548, 'length': 5}}, {'content': 'of', 'polygon': [3.4958, 3.3701, 3.5816, 3.3697, 3.5809, 3.5247, 3.4952, 3.5247], 'confidence': 0.999, 'span': {'offset': 7554, 'length': 2}}, {'content': 'the', 'polygon': [3.6118, 3.3696, 3.7908, 3.3692, 3.7902, 3.5247, 3.6112, 3.5247], 'confidence': 0.999, 'span': {'offset': 7557, 'length': 3}}, {'content': 'day.', 'polygon': [3.8261, 3.3691, 4.043, 3.3688, 4.0423, 3.5245, 3.8255, 3.5247], 'confidence': 0.995, 'span': {'offset': 7561, 'length': 4}}, {'content': 'Four', 'polygon': [4.0883, 3.3688, 4.3304, 3.3689, 4.3297, 3.5245, 4.0877, 3.5244], 'confidence': 0.993, 'span': {'offset': 7566, 'length': 4}}, {'content': 'shareholder', 'polygon': [4.3632, 3.3689, 4.9884, 3.3699, 4.9877, 3.5247, 4.3624, 3.5245], 'confidence': 0.985, 'span': {'offset': 7571, 'length': 11}}, {'content': 'representatives,', 'polygon': [5.0212, 3.3699, 5.8507, 3.3706, 5.8501, 3.5244, 5.0205, 3.5247], 'confidence': 0.993, 'span': {'offset': 7583, 'length': 16}}, {'content': 'whose', 'polygon': [5.8885, 3.3706, 6.2364, 3.3701, 6.2359, 3.5242, 5.888, 3.5243], 'confidence': 0.994, 'span': {'offset': 7600, 'length': 5}}, {'content': 'term', 'polygon': [6.2692, 3.37, 6.5012, 3.3696, 6.5006, 3.524, 6.2687, 3.5242], 'confidence': 0.994, 'span': {'offset': 7606, 'length': 4}}, {'content': 'of', 'polygon': [6.5415, 3.3696, 6.6373, 3.3696, 6.6367, 3.5237, 6.5409, 3.5239], 'confidence': 0.998, 'span': {'offset': 7611, 'length': 2}}, {'content': 'office', 'polygon': [6.6676, 3.3696, 6.9525, 3.3697, 6.9519, 3.5233, 6.667, 3.5237], 'confidence': 0.995, 'span': {'offset': 7614, 'length': 6}}, {'content': 'expired', 'polygon': [6.9903, 3.3698, 7.385, 3.3706, 7.385, 3.5247, 6.9898, 3.5234], 'confidence': 0.995, 'span': {'offset': 7621, 'length': 7}}, {'content': 'in', 'polygon': [0.8696, 3.5246, 0.9711, 3.5251, 0.971, 3.6733, 0.8694, 3.6728], 'confidence': 0.998, 'span': {'offset': 7629, 'length': 2}}, {'content': '2023,', 'polygon': [1.0255, 3.5253, 1.3126, 3.5267, 1.3128, 3.6749, 1.0255, 3.6735], 'confidence': 0.993, 'span': {'offset': 7632, 'length': 5}}, {'content': 'were', 'polygon': [1.3646, 3.5269, 1.6196, 3.527, 1.6197, 3.6757, 1.3648, 3.6751], 'confidence': 0.989, 'span': {'offset': 7638, 'length': 4}}, {'content': 'each', 'polygon': [1.6715, 3.5271, 1.9215, 3.5268, 1.9216, 3.6763, 1.6716, 3.6758], 'confidence': 0.994, 'span': {'offset': 7643, 'length': 4}}, {'content': 're-elected', 'polygon': [1.9784, 3.5267, 2.4957, 3.5262, 2.4957, 3.677, 1.9785, 3.6763], 'confidence': 0.993, 'span': {'offset': 7648, 'length': 10}}, {'content': 'by', 'polygon': [2.5527, 3.5263, 2.674, 3.5265, 2.674, 3.6774, 2.5527, 3.6771], 'confidence': 0.993, 'span': {'offset': 7659, 'length': 2}}, {'content': 'the', 'polygon': [2.7185, 3.5266, 2.8819, 3.5267, 2.8819, 3.6777, 2.7186, 3.6775], 'confidence': 0.998, 'span': {'offset': 7662, 'length': 3}}, {'content': 'Annual', 'polygon': [2.9314, 3.5267, 3.2952, 3.5266, 3.2951, 3.6782, 2.9314, 3.6777], 'confidence': 0.99, 'span': {'offset': 7666, 'length': 6}}, {'content': 'General', 'polygon': [3.3521, 3.5265, 3.763, 3.5258, 3.7628, 3.6787, 3.352, 3.6783], 'confidence': 0.994, 'span': {'offset': 7673, 'length': 7}}, {'content': 'Meeting', 'polygon': [3.8224, 3.5258, 4.2308, 3.5257, 4.2306, 3.6782, 3.8222, 3.6787], 'confidence': 0.995, 'span': {'offset': 7681, 'length': 7}}, {'content': 'for', 'polygon': [4.2828, 3.5257, 4.4239, 3.5256, 4.4236, 3.6783, 4.2825, 3.6782], 'confidence': 0.998, 'span': {'offset': 7689, 'length': 3}}, {'content': 'another', 'polygon': [4.4709, 3.5255, 4.8743, 3.5256, 4.8742, 3.6779, 4.4707, 3.6783], 'confidence': 0.994, 'span': {'offset': 7693, 'length': 7}}, {'content': 'four', 'polygon': [4.9164, 3.5256, 5.1243, 3.5258, 5.1242, 3.6775, 4.9162, 3.6778], 'confidence': 0.99, 'span': {'offset': 7701, 'length': 4}}, {'content': 'years.', 'polygon': [5.1689, 3.5259, 5.4857, 3.5264, 5.4855, 3.6772, 5.1687, 3.6775], 'confidence': 0.993, 'span': {'offset': 7706, 'length': 6}}, {'content': 'We', 'polygon': [5.5376, 3.5265, 5.7134, 3.5265, 5.7132, 3.6771, 5.5374, 3.6772], 'confidence': 0.998, 'span': {'offset': 7713, 'length': 2}}, {'content': 'look', 'polygon': [5.7678, 3.5265, 5.9807, 3.5265, 5.9805, 3.677, 5.7676, 3.6771], 'confidence': 0.985, 'span': {'offset': 7716, 'length': 4}}, {'content': 'forward', 'polygon': [6.0277, 3.5264, 6.4163, 3.5261, 6.416, 3.6778, 6.0275, 3.677], 'confidence': 0.993, 'span': {'offset': 7721, 'length': 7}}, {'content': 'to', 'polygon': [6.4683, 3.5261, 6.5673, 3.5264, 6.567, 3.6781, 6.468, 3.6779], 'confidence': 0.998, 'span': {'offset': 7729, 'length': 2}}, {'content': 'continuing', 'polygon': [6.6168, 3.5266, 7.1489, 3.5283, 7.1488, 3.6787, 6.6165, 3.6782], 'confidence': 0.994, 'span': {'offset': 7732, 'length': 10}}, {'content': 'our', 'polygon': [7.2034, 3.5285, 7.385, 3.5291, 7.385, 3.6787, 7.2033, 3.6787], 'confidence': 0.998, 'span': {'offset': 7743, 'length': 3}}, {'content': 'valuable', 'polygon': [0.8695, 3.6752, 1.3231, 3.6745, 1.3234, 3.8227, 0.8697, 3.822], 'confidence': 0.996, 'span': {'offset': 7747, 'length': 8}}, {'content': 'collaboration', 'polygon': [1.3582, 3.6745, 2.0197, 3.6732, 2.0198, 3.825, 1.3585, 3.8227], 'confidence': 0.995, 'span': {'offset': 7756, 'length': 13}}, {'content': 'with', 'polygon': [2.0548, 3.6732, 2.2603, 3.673, 2.2606, 3.8248, 2.0549, 3.8249], 'confidence': 0.995, 'span': {'offset': 7770, 'length': 4}}, {'content': 'Mayree', 'polygon': [2.3054, 3.6729, 2.6913, 3.6723, 2.6915, 3.826, 2.3057, 3.8248], 'confidence': 0.996, 'span': {'offset': 7775, 'length': 6}}, {'content': 'Clark,', 'polygon': [2.7289, 3.6723, 3.0297, 3.6728, 3.0297, 3.8269, 2.7291, 3.8261], 'confidence': 0.995, 'span': {'offset': 7782, 'length': 6}}, {'content': 'John', 'polygon': [3.0672, 3.6727, 3.3178, 3.6723, 3.3177, 3.827, 3.0673, 3.827], 'confidence': 0.994, 'span': {'offset': 7789, 'length': 4}}, {'content': 'Thain,', 'polygon': [3.3554, 3.6722, 3.6762, 3.6722, 3.6762, 3.827, 3.3553, 3.827], 'confidence': 0.994, 'span': {'offset': 7794, 'length': 6}}, {'content': 'Michele', 'polygon': [3.7213, 3.6722, 4.1223, 3.6715, 4.1221, 3.827, 3.7213, 3.827], 'confidence': 0.995, 'span': {'offset': 7801, 'length': 7}}, {'content': 'Trogni', 'polygon': [4.1549, 3.6715, 4.4856, 3.6716, 4.4853, 3.827, 4.1547, 3.827], 'confidence': 0.995, 'span': {'offset': 7809, 'length': 6}}, {'content': 'and', 'polygon': [4.5257, 3.6717, 4.7162, 3.6723, 4.7158, 3.827, 4.5254, 3.827], 'confidence': 0.993, 'span': {'offset': 7816, 'length': 3}}, {'content': 'Norbert', 'polygon': [4.7613, 3.6724, 5.1472, 3.6725, 5.147, 3.8258, 4.761, 3.827], 'confidence': 0.996, 'span': {'offset': 7820, 'length': 7}}, {'content': 'Winkeljohann.', 'polygon': [5.1798, 3.6725, 5.924, 3.6745, 5.924, 3.8266, 5.1796, 3.8256], 'confidence': 0.993, 'span': {'offset': 7828, 'length': 13}}, {'content': 'In', 'polygon': [0.8727, 3.9795, 0.977, 3.9798, 0.9767, 4.1323, 0.8724, 4.1321], 'confidence': 0.988, 'span': {'offset': 7843, 'length': 2}}, {'content': '2024,', 'polygon': [1.0176, 3.9799, 1.3074, 3.9807, 1.3074, 4.1329, 1.0174, 4.1324], 'confidence': 0.994, 'span': {'offset': 7846, 'length': 5}}, {'content': 'our', 'polygon': [1.3507, 3.9808, 1.5261, 3.9809, 1.5259, 4.1337, 1.3506, 4.1331], 'confidence': 0.997, 'span': {'offset': 7852, 'length': 3}}, {'content': 'Annual', 'polygon': [1.5591, 3.9809, 1.9226, 3.9809, 1.9222, 4.1346, 1.5589, 4.1338], 'confidence': 0.993, 'span': {'offset': 7856, 'length': 6}}, {'content': 'General', 'polygon': [1.9709, 3.9808, 2.3726, 3.9804, 2.3721, 4.1349, 1.9704, 4.1346], 'confidence': 0.995, 'span': {'offset': 7863, 'length': 7}}, {'content': 'Meeting', 'polygon': [2.4031, 3.9803, 2.8403, 3.9801, 2.8399, 4.135, 2.4026, 4.135], 'confidence': 0.995, 'span': {'offset': 7871, 'length': 7}}, {'content': 'will', 'polygon': [2.881, 3.98, 3.0411, 3.9799, 3.0408, 4.135, 2.8806, 4.135], 'confidence': 0.995, 'span': {'offset': 7879, 'length': 4}}, {'content': 'again', 'polygon': [3.0844, 3.9799, 3.3665, 3.9797, 3.3662, 4.135, 3.084, 4.135], 'confidence': 0.995, 'span': {'offset': 7884, 'length': 5}}, {'content': 'be', 'polygon': [3.4148, 3.9797, 3.5394, 3.9796, 3.539, 4.135, 3.4145, 4.135], 'confidence': 0.997, 'span': {'offset': 7890, 'length': 2}}, {'content': 'held', 'polygon': [3.5826, 3.9795, 3.7961, 3.9794, 3.7956, 4.135, 3.5822, 4.135], 'confidence': 0.994, 'span': {'offset': 7893, 'length': 4}}, {'content': 'virtually.', 'polygon': [3.8394, 3.9793, 4.269, 3.9794, 4.2684, 4.135, 3.8389, 4.135], 'confidence': 0.992, 'span': {'offset': 7898, 'length': 10}}, {'content': 'The', 'polygon': [4.3071, 3.9795, 4.513, 3.9799, 4.5125, 4.135, 4.3066, 4.135], 'confidence': 0.998, 'span': {'offset': 7909, 'length': 3}}, {'content': 'experience', 'polygon': [4.5511, 3.98, 5.1256, 3.9797, 5.1251, 4.135, 4.5507, 4.135], 'confidence': 0.994, 'span': {'offset': 7913, 'length': 10}}, {'content': 'of', 'polygon': [5.1689, 3.9799, 5.2604, 3.9803, 5.2598, 4.135, 5.1683, 4.135], 'confidence': 0.998, 'span': {'offset': 7924, 'length': 2}}, {'content': 'the', 'polygon': [5.2909, 3.9804, 5.4663, 3.9812, 5.4657, 4.135, 5.2903, 4.135], 'confidence': 0.998, 'span': {'offset': 7927, 'length': 3}}, {'content': 'past', 'polygon': [5.5095, 3.9814, 5.7307, 3.9814, 5.7302, 4.135, 5.5089, 4.135], 'confidence': 0.995, 'span': {'offset': 7931, 'length': 4}}, {'content': 'few', 'polygon': [5.7612, 3.9814, 5.9518, 3.9813, 5.9514, 4.135, 5.7607, 4.135], 'confidence': 0.997, 'span': {'offset': 7936, 'length': 3}}, {'content': 'years', 'polygon': [5.9874, 3.9813, 6.2747, 3.98, 6.2742, 4.135, 5.987, 4.135], 'confidence': 0.994, 'span': {'offset': 7940, 'length': 5}}, {'content': 'has', 'polygon': [6.3204, 3.9798, 6.5034, 3.9793, 6.503, 4.135, 6.32, 4.135], 'confidence': 0.997, 'span': {'offset': 7946, 'length': 3}}, {'content': 'convinced', 'polygon': [6.5441, 3.9794, 7.0703, 3.9804, 7.07, 4.1339, 6.5437, 4.1349], 'confidence': 0.99, 'span': {'offset': 7950, 'length': 9}}, {'content': 'us', 'polygon': [7.1161, 3.9805, 7.233, 3.9807, 7.2327, 4.1345, 7.1158, 4.1341], 'confidence': 0.995, 'span': {'offset': 7960, 'length': 2}}, {'content': 'to', 'polygon': [7.2737, 3.9808, 7.385, 3.981, 7.385, 4.135, 7.2734, 4.1347], 'confidence': 0.999, 'span': {'offset': 7963, 'length': 2}}, {'content': 'take', 'polygon': [0.8681, 4.1348, 1.0842, 4.1354, 1.0842, 4.2854, 0.8679, 4.2843], 'confidence': 0.993, 'span': {'offset': 7966, 'length': 4}}, {'content': 'this', 'polygon': [1.1144, 4.1355, 1.3154, 4.1361, 1.3156, 4.2866, 1.1144, 4.2856], 'confidence': 0.994, 'span': {'offset': 7971, 'length': 4}}, {'content': 'step;', 'polygon': [1.3481, 4.1362, 1.5768, 4.1361, 1.5768, 4.2876, 1.3482, 4.2868], 'confidence': 0.992, 'span': {'offset': 7976, 'length': 5}}, {'content': 'this', 'polygon': [1.6069, 4.1361, 1.7879, 4.136, 1.7879, 4.2883, 1.607, 4.2877], 'confidence': 0.994, 'span': {'offset': 7982, 'length': 4}}, {'content': 'inclusive', 'polygon': [1.818, 4.136, 2.2704, 4.135, 2.2704, 4.2876, 1.818, 4.2883], 'confidence': 0.995, 'span': {'offset': 7987, 'length': 9}}, {'content': 'format', 'polygon': [2.3006, 4.135, 2.6323, 4.1347, 2.6323, 4.2874, 2.3006, 4.2876], 'confidence': 0.996, 'span': {'offset': 7997, 'length': 6}}, {'content': 'offers', 'polygon': [2.6625, 4.1347, 2.954, 4.1348, 2.9542, 4.2873, 2.6625, 4.2874], 'confidence': 0.994, 'span': {'offset': 8004, 'length': 6}}, {'content': 'numerous', 'polygon': [2.9841, 4.1348, 3.5069, 4.1348, 3.507, 4.2889, 2.9844, 4.2873], 'confidence': 0.995, 'span': {'offset': 8011, 'length': 8}}, {'content': 'benefits.', 'polygon': [3.537, 4.1348, 3.9944, 4.1339, 3.9943, 4.2889, 3.5371, 4.289], 'confidence': 0.994, 'span': {'offset': 8020, 'length': 9}}, {'content': 'We', 'polygon': [4.0271, 4.1338, 4.203, 4.1336, 4.2029, 4.2884, 4.027, 4.2888], 'confidence': 0.994, 'span': {'offset': 8030, 'length': 2}}, {'content': 'have', 'polygon': [4.2382, 4.1337, 4.4719, 4.1339, 4.4718, 4.2881, 4.2381, 4.2884], 'confidence': 0.995, 'span': {'offset': 8033, 'length': 4}}, {'content': 'received', 'polygon': [4.5021, 4.1339, 4.957, 4.1342, 4.9569, 4.2887, 4.502, 4.2881], 'confidence': 0.994, 'span': {'offset': 8038, 'length': 8}}, {'content': 'recognition', 'polygon': [4.9921, 4.1343, 5.5626, 4.1354, 5.5625, 4.2881, 4.992, 4.2887], 'confidence': 0.989, 'span': {'offset': 8047, 'length': 11}}, {'content': 'for', 'polygon': [5.5928, 4.1354, 5.7084, 4.1355, 5.7083, 4.2885, 5.5927, 4.2882], 'confidence': 0.998, 'span': {'offset': 8059, 'length': 3}}, {'content': 'the', 'polygon': [5.7385, 4.1355, 5.8994, 4.1356, 5.8992, 4.289, 5.7384, 4.2886], 'confidence': 0.998, 'span': {'offset': 8063, 'length': 3}}, {'content': 'transparent', 'polygon': [5.9295, 4.1356, 6.5226, 4.135, 6.5225, 4.289, 5.9294, 4.289], 'confidence': 0.994, 'span': {'offset': 8067, 'length': 11}}, {'content': 'implementation', 'polygon': [6.5528, 4.1349, 7.3907, 4.1347, 7.3907, 4.289, 6.5527, 4.289], 'confidence': 0.993, 'span': {'offset': 8079, 'length': 14}}, {'content': 'and', 'polygon': [0.8709, 4.2848, 1.0746, 4.2858, 1.0744, 4.4372, 0.8706, 4.4372], 'confidence': 0.998, 'span': {'offset': 8094, 'length': 3}}, {'content': 'quality', 'polygon': [1.1097, 4.286, 1.4391, 4.2872, 1.4391, 4.4372, 1.1096, 4.4372], 'confidence': 0.994, 'span': {'offset': 8098, 'length': 7}}, {'content': 'of', 'polygon': [1.4693, 4.2872, 1.5598, 4.2872, 1.5597, 4.4372, 1.4693, 4.4372], 'confidence': 0.999, 'span': {'offset': 8106, 'length': 2}}, {'content': 'the', 'polygon': [1.5899, 4.2872, 1.7735, 4.2872, 1.7734, 4.4372, 1.5899, 4.4372], 'confidence': 0.999, 'span': {'offset': 8109, 'length': 3}}, {'content': 'answers', 'polygon': [1.8061, 4.2872, 2.2235, 4.287, 2.2233, 4.4372, 1.8061, 4.4372], 'confidence': 0.996, 'span': {'offset': 8113, 'length': 7}}, {'content': 'to', 'polygon': [2.2537, 4.2869, 2.3718, 4.2866, 2.3716, 4.4372, 2.2534, 4.4372], 'confidence': 0.99, 'span': {'offset': 8121, 'length': 2}}, {'content': 'shareholder', 'polygon': [2.4045, 4.2864, 3.0179, 4.2855, 3.0177, 4.4372, 2.4043, 4.4372], 'confidence': 0.994, 'span': {'offset': 8124, 'length': 11}}, {'content': 'questions,', 'polygon': [3.0481, 4.2855, 3.5886, 4.2842, 3.5885, 4.4372, 3.0479, 4.4372], 'confidence': 0.994, 'span': {'offset': 8136, 'length': 10}}, {'content': 'which', 'polygon': [3.6238, 4.2841, 3.923, 4.2839, 3.9228, 4.4372, 3.6237, 4.4372], 'confidence': 0.995, 'span': {'offset': 8147, 'length': 5}}, {'content': 'will', 'polygon': [3.9582, 4.2839, 4.1166, 4.2839, 4.1163, 4.4372, 3.958, 4.4372], 'confidence': 0.995, 'span': {'offset': 8153, 'length': 4}}, {'content': 'again', 'polygon': [4.1543, 4.2839, 4.4359, 4.2839, 4.4356, 4.4372, 4.154, 4.4372], 'confidence': 0.996, 'span': {'offset': 8158, 'length': 5}}, {'content': 'be', 'polygon': [4.4786, 4.284, 4.6018, 4.284, 4.6015, 4.4372, 4.4783, 4.4372], 'confidence': 0.993, 'span': {'offset': 8164, 'length': 2}}, {'content': 'submitted', 'polygon': [4.637, 4.2841, 5.1398, 4.2848, 5.1396, 4.4372, 4.6367, 4.4372], 'confidence': 0.995, 'span': {'offset': 8167, 'length': 9}}, {'content': 'in', 'polygon': [5.18, 4.2849, 5.263, 4.285, 5.2628, 4.4372, 5.1799, 4.4372], 'confidence': 0.999, 'span': {'offset': 8177, 'length': 2}}, {'content': 'advance', 'polygon': [5.2982, 4.2851, 5.7407, 4.2855, 5.7404, 4.4372, 5.298, 4.4372], 'confidence': 0.994, 'span': {'offset': 8180, 'length': 7}}, {'content': 'this', 'polygon': [5.7734, 4.2855, 5.9569, 4.2855, 5.9566, 4.4372, 5.7731, 4.4372], 'confidence': 0.994, 'span': {'offset': 8188, 'length': 4}}, {'content': 'year.', 'polygon': [5.9896, 4.2855, 6.246, 4.2846, 6.2457, 4.4372, 5.9893, 4.4372], 'confidence': 0.996, 'span': {'offset': 8193, 'length': 5}}, {'content': 'At', 'polygon': [6.2762, 4.2845, 6.3768, 4.2841, 6.3765, 4.4372, 6.2759, 4.4372], 'confidence': 0.998, 'span': {'offset': 8199, 'length': 2}}, {'content': 'the', 'polygon': [6.4069, 4.284, 6.5829, 4.2838, 6.5826, 4.4372, 6.4066, 4.4372], 'confidence': 0.998, 'span': {'offset': 8202, 'length': 3}}, {'content': 'same', 'polygon': [6.6206, 4.2838, 6.9047, 4.2839, 6.9044, 4.4372, 6.6203, 4.4372], 'confidence': 0.995, 'span': {'offset': 8206, 'length': 4}}, {'content': 'time,', 'polygon': [6.9374, 4.284, 7.1863, 4.2852, 7.1861, 4.4372, 6.9371, 4.4372], 'confidence': 0.993, 'span': {'offset': 8211, 'length': 5}}, {'content': 'we', 'polygon': [7.2215, 4.2854, 7.3907, 4.2862, 7.3907, 4.4372, 7.2213, 4.4372], 'confidence': 0.999, 'span': {'offset': 8217, 'length': 2}}, {'content': 'aim', 'polygon': [0.8715, 4.4398, 1.0682, 4.4401, 1.0682, 4.5888, 0.8714, 4.5881], 'confidence': 0.998, 'span': {'offset': 8220, 'length': 3}}, {'content': 'to', 'polygon': [1.1056, 4.4402, 1.2027, 4.4403, 1.2027, 4.5893, 1.1055, 4.5889], 'confidence': 0.999, 'span': {'offset': 8224, 'length': 2}}, {'content': 'enable', 'polygon': [1.2376, 4.4404, 1.5912, 4.441, 1.5909, 4.5897, 1.2376, 4.5894], 'confidence': 0.996, 'span': {'offset': 8227, 'length': 6}}, {'content': 'an', 'polygon': [1.6261, 4.441, 1.7506, 4.4408, 1.7503, 4.5901, 1.6258, 4.5898], 'confidence': 0.999, 'span': {'offset': 8234, 'length': 2}}, {'content': 'enhanced', 'polygon': [1.7904, 4.4408, 2.3009, 4.4391, 2.3005, 4.5909, 1.7901, 4.5901], 'confidence': 0.996, 'span': {'offset': 8237, 'length': 8}}, {'content': 'dialogue', 'polygon': [2.3408, 4.4389, 2.784, 4.4391, 2.7835, 4.5926, 2.3404, 4.5909], 'confidence': 0.995, 'span': {'offset': 8246, 'length': 8}}, {'content': 'with', 'polygon': [2.8164, 4.4391, 3.0231, 4.4392, 3.0225, 4.593, 2.8159, 4.5927], 'confidence': 0.994, 'span': {'offset': 8255, 'length': 4}}, {'content': 'shareholders', 'polygon': [3.0629, 4.4392, 3.7428, 4.4391, 3.7424, 4.5935, 3.0624, 4.593], 'confidence': 0.993, 'span': {'offset': 8260, 'length': 12}}, {'content': 'on', 'polygon': [3.7777, 4.439, 3.9022, 4.4389, 3.9017, 4.5931, 3.7773, 4.5935], 'confidence': 0.999, 'span': {'offset': 8273, 'length': 2}}, {'content': 'the', 'polygon': [3.9395, 4.4388, 4.1014, 4.4385, 4.1009, 4.5923, 3.9391, 4.5929], 'confidence': 0.999, 'span': {'offset': 8276, 'length': 3}}, {'content': 'day', 'polygon': [4.1363, 4.4385, 4.328, 4.4384, 4.3273, 4.5925, 4.1357, 4.5922], 'confidence': 0.998, 'span': {'offset': 8280, 'length': 3}}, {'content': 'of', 'polygon': [4.3604, 4.4384, 4.4426, 4.4384, 4.4417, 4.5928, 4.3596, 4.5926], 'confidence': 0.999, 'span': {'offset': 8284, 'length': 2}}, {'content': 'the', 'polygon': [4.4724, 4.4384, 4.6517, 4.4386, 4.6508, 4.5927, 4.4715, 4.5929], 'confidence': 0.999, 'span': {'offset': 8287, 'length': 3}}, {'content': 'Annual', 'polygon': [4.6841, 4.4386, 5.0502, 4.4389, 5.0494, 4.5916, 4.6831, 4.5926], 'confidence': 0.993, 'span': {'offset': 8291, 'length': 6}}, {'content': 'General', 'polygon': [5.09, 4.4388, 5.5009, 4.4403, 5.5002, 4.5905, 5.0892, 4.5915], 'confidence': 0.993, 'span': {'offset': 8298, 'length': 7}}, {'content': 'Meeting.', 'polygon': [5.5457, 4.4407, 5.9982, 4.4428, 5.9982, 4.5945, 5.545, 4.5904], 'confidence': 0.994, 'span': {'offset': 8306, 'length': 8}}, {'content': 'Dear', 'polygon': [0.8754, 4.7425, 1.1436, 4.7425, 1.1431, 4.8969, 0.8748, 4.8958], 'confidence': 0.994, 'span': {'offset': 8316, 'length': 4}}, {'content': 'shareholders,', 'polygon': [1.1771, 4.7425, 1.8838, 4.7427, 1.883, 4.9002, 1.1766, 4.8971], 'confidence': 0.995, 'span': {'offset': 8321, 'length': 13}}, {'content': 'the', 'polygon': [1.9225, 4.7428, 2.0876, 4.7432, 2.0867, 4.9003, 1.9217, 4.9002], 'confidence': 0.999, 'span': {'offset': 8335, 'length': 3}}, {'content': 'Supervisory', 'polygon': [2.1263, 4.7433, 2.7504, 4.7423, 2.7495, 4.8997, 2.1253, 4.9004], 'confidence': 0.995, 'span': {'offset': 8339, 'length': 11}}, {'content': 'Board', 'polygon': [2.7891, 4.7423, 3.078, 4.7426, 3.0772, 4.9002, 2.7882, 4.8998], 'confidence': 0.994, 'span': {'offset': 8351, 'length': 5}}, {'content': 'is', 'polygon': [3.1089, 4.7426, 3.2198, 4.7426, 3.2191, 4.9003, 3.1082, 4.9002], 'confidence': 0.998, 'span': {'offset': 8357, 'length': 2}}, {'content': 'confident', 'polygon': [3.256, 4.7426, 3.7176, 4.7421, 3.7165, 4.9008, 3.2552, 4.9004], 'confidence': 0.996, 'span': {'offset': 8360, 'length': 9}}, {'content': 'that', 'polygon': [3.7486, 4.7421, 3.9549, 4.7424, 3.954, 4.9005, 3.7475, 4.9007], 'confidence': 0.988, 'span': {'offset': 8370, 'length': 4}}, {'content': 'your', 'polygon': [3.9859, 4.7424, 4.2386, 4.7425, 4.2378, 4.9002, 3.985, 4.9004], 'confidence': 0.993, 'span': {'offset': 8375, 'length': 4}}, {'content': 'Deutsche', 'polygon': [4.2773, 4.7425, 4.7699, 4.7423, 4.7692, 4.9007, 4.2765, 4.9002], 'confidence': 0.995, 'span': {'offset': 8380, 'length': 8}}, {'content': 'Bank', 'polygon': [4.8112, 4.7423, 5.0588, 4.7422, 5.0579, 4.9015, 4.8104, 4.9008], 'confidence': 0.992, 'span': {'offset': 8389, 'length': 4}}, {'content': 'is', 'polygon': [5.0897, 4.7422, 5.1955, 4.7425, 5.1945, 4.9009, 5.0888, 4.9013], 'confidence': 0.998, 'span': {'offset': 8394, 'length': 2}}, {'content': 'on', 'polygon': [5.2316, 4.7426, 5.358, 4.7429, 5.3568, 4.9002, 5.2305, 4.9007], 'confidence': 0.999, 'span': {'offset': 8397, 'length': 2}}, {'content': 'the', 'polygon': [5.3967, 4.743, 5.5591, 4.7433, 5.558, 4.8994, 5.3955, 4.9], 'confidence': 0.998, 'span': {'offset': 8400, 'length': 3}}, {'content': 'right', 'polygon': [5.603, 4.7432, 5.8119, 4.7431, 5.8111, 4.8991, 5.6019, 4.8994], 'confidence': 0.996, 'span': {'offset': 8404, 'length': 5}}, {'content': 'track.', 'polygon': [5.8429, 4.7431, 6.1446, 4.7425, 6.144, 4.8992, 5.842, 4.8991], 'confidence': 0.987, 'span': {'offset': 8410, 'length': 6}}, {'content': 'The', 'polygon': [6.1859, 4.7423, 6.3871, 4.7416, 6.3864, 4.8996, 6.1853, 4.8993], 'confidence': 0.993, 'span': {'offset': 8417, 'length': 3}}, {'content': 'bank', 'polygon': [6.4309, 4.7414, 6.6837, 4.7417, 6.683, 4.8995, 6.4302, 4.8997], 'confidence': 0.993, 'span': {'offset': 8421, 'length': 4}}, {'content': 'has', 'polygon': [6.7249, 4.7418, 6.908, 4.7421, 6.9074, 4.8993, 6.7242, 4.8995], 'confidence': 0.993, 'span': {'offset': 8426, 'length': 3}}, {'content': 'the', 'polygon': [6.9442, 4.7422, 7.1066, 4.7424, 7.106, 4.9006, 6.9435, 4.8995], 'confidence': 0.999, 'span': {'offset': 8430, 'length': 3}}, {'content': 'right', 'polygon': [7.1505, 4.7425, 7.3907, 4.7429, 7.3907, 4.9025, 7.1499, 4.9009], 'confidence': 0.996, 'span': {'offset': 8434, 'length': 5}}, {'content': 'set-up', 'polygon': [0.8718, 4.8972, 1.1904, 4.8975, 1.1903, 5.05, 0.8715, 5.0481], 'confidence': 0.99, 'span': {'offset': 8440, 'length': 6}}, {'content': 'and', 'polygon': [1.2208, 4.8976, 1.4281, 4.8977, 1.428, 5.0508, 1.2206, 5.0502], 'confidence': 0.998, 'span': {'offset': 8447, 'length': 3}}, {'content': 'a', 'polygon': [1.461, 4.8977, 1.5217, 4.8977, 1.5216, 5.0508, 1.4609, 5.0508], 'confidence': 0.998, 'span': {'offset': 8451, 'length': 1}}, {'content': 'strong', 'polygon': [1.5546, 4.8977, 1.858, 4.8977, 1.8579, 5.0509, 1.5545, 5.0508], 'confidence': 0.995, 'span': {'offset': 8453, 'length': 6}}, {'content': 'management', 'polygon': [1.8884, 4.8977, 2.5762, 4.8965, 2.5759, 5.0509, 1.8882, 5.051], 'confidence': 0.995, 'span': {'offset': 8460, 'length': 10}}, {'content': 'team.', 'polygon': [2.6065, 4.8964, 2.91, 4.8959, 2.9097, 5.0509, 2.6063, 5.0507], 'confidence': 0.996, 'span': {'offset': 8471, 'length': 5}}, {'content': 'We', 'polygon': [2.9403, 4.8959, 3.0921, 4.896, 3.0917, 5.0516, 2.94, 5.051], 'confidence': 0.998, 'span': {'offset': 8477, 'length': 2}}, {'content': 'will', 'polygon': [3.1224, 4.8961, 3.3045, 4.896, 3.3041, 5.0519, 3.1221, 5.0517], 'confidence': 0.991, 'span': {'offset': 8480, 'length': 4}}, {'content': 'do', 'polygon': [3.3373, 4.896, 3.4562, 4.8958, 3.4559, 5.0518, 3.337, 5.0519], 'confidence': 0.998, 'span': {'offset': 8485, 'length': 2}}, {'content': 'everything', 'polygon': [3.4865, 4.8958, 4.0125, 4.896, 4.0122, 5.0516, 3.4862, 5.0518], 'confidence': 0.996, 'span': {'offset': 8488, 'length': 10}}, {'content': 'we', 'polygon': [4.0429, 4.8961, 4.2047, 4.8963, 4.2043, 5.0515, 4.0425, 5.0516], 'confidence': 0.993, 'span': {'offset': 8499, 'length': 2}}, {'content': 'can', 'polygon': [4.235, 4.8964, 4.407, 4.8968, 4.4066, 5.0512, 4.2347, 5.0514], 'confidence': 0.997, 'span': {'offset': 8502, 'length': 3}}, {'content': 'to', 'polygon': [4.4373, 4.8968, 4.5385, 4.897, 4.5381, 5.051, 4.4369, 5.0511], 'confidence': 0.997, 'span': {'offset': 8506, 'length': 2}}, {'content': 'support', 'polygon': [4.5688, 4.8971, 4.9532, 4.8966, 4.9528, 5.0513, 4.5684, 5.0509], 'confidence': 0.988, 'span': {'offset': 8509, 'length': 7}}, {'content': 'them', 'polygon': [4.9836, 4.8966, 5.2238, 4.8967, 5.2233, 5.0508, 4.9832, 5.0513], 'confidence': 0.991, 'span': {'offset': 8517, 'length': 4}}, {'content': 'in', 'polygon': [5.2668, 4.8968, 5.3578, 4.897, 5.3573, 5.0505, 5.2663, 5.0507], 'confidence': 0.996, 'span': {'offset': 8522, 'length': 2}}, {'content': 'the', 'polygon': [5.3882, 4.897, 5.5677, 4.8972, 5.5671, 5.0501, 5.3876, 5.0504], 'confidence': 0.998, 'span': {'offset': 8525, 'length': 3}}, {'content': 'next', 'polygon': [5.6006, 4.8972, 5.8029, 4.897, 5.8024, 5.0505, 5.6, 5.0501], 'confidence': 0.993, 'span': {'offset': 8529, 'length': 4}}, {'content': 'phase', 'polygon': [5.8332, 4.897, 6.1569, 4.8963, 6.1565, 5.0505, 5.8327, 5.0505], 'confidence': 0.994, 'span': {'offset': 8534, 'length': 5}}, {'content': 'of', 'polygon': [6.1872, 4.8962, 6.2783, 4.8959, 6.2779, 5.0503, 6.1868, 5.0504], 'confidence': 0.999, 'span': {'offset': 8540, 'length': 2}}, {'content': 'their', 'polygon': [6.3086, 4.8958, 6.5413, 4.8956, 6.5409, 5.0501, 6.3082, 5.0502], 'confidence': 0.996, 'span': {'offset': 8543, 'length': 5}}, {'content': 'growth', 'polygon': [6.5716, 4.8957, 6.9231, 4.8969, 6.9227, 5.051, 6.5713, 5.0501], 'confidence': 0.996, 'span': {'offset': 8549, 'length': 6}}, {'content': 'strategy', 'polygon': [6.956, 4.8972, 7.3907, 4.9007, 7.3907, 5.0566, 6.9556, 5.0514], 'confidence': 0.996, 'span': {'offset': 8556, 'length': 8}}, {'content': 'and', 'polygon': [0.8721, 5.0486, 1.0589, 5.0488, 1.0587, 5.2008, 0.8717, 5.2], 'confidence': 0.998, 'span': {'offset': 8565, 'length': 3}}, {'content': 'to', 'polygon': [1.0892, 5.0488, 1.1902, 5.0489, 1.1901, 5.2014, 1.089, 5.2009], 'confidence': 0.998, 'span': {'offset': 8569, 'length': 2}}, {'content': 'put', 'polygon': [1.2205, 5.049, 1.4049, 5.0491, 1.4048, 5.2015, 1.2204, 5.2015], 'confidence': 0.997, 'span': {'offset': 8572, 'length': 3}}, {'content': 'our', 'polygon': [1.4352, 5.0492, 1.5943, 5.0493, 1.5942, 5.2015, 1.4351, 5.2015], 'confidence': 0.998, 'span': {'offset': 8576, 'length': 3}}, {'content': 'clients', 'polygon': [1.6246, 5.0493, 1.968, 5.0491, 1.9679, 5.2015, 1.6245, 5.2015], 'confidence': 0.993, 'span': {'offset': 8580, 'length': 7}}, {'content': 'at', 'polygon': [2.0008, 5.049, 2.0791, 5.0489, 2.079, 5.2015, 2.0007, 5.2015], 'confidence': 0.998, 'span': {'offset': 8588, 'length': 2}}, {'content': 'the', 'polygon': [2.1094, 5.0488, 2.271, 5.0485, 2.2709, 5.2015, 2.1093, 5.2015], 'confidence': 0.998, 'span': {'offset': 8591, 'length': 3}}, {'content': 'heart', 'polygon': [2.3013, 5.0484, 2.574, 5.0474, 2.5739, 5.2015, 2.3012, 5.2015], 'confidence': 0.996, 'span': {'offset': 8595, 'length': 5}}, {'content': 'of', 'polygon': [2.6044, 5.0472, 2.7155, 5.0468, 2.7153, 5.2015, 2.6042, 5.2015], 'confidence': 0.999, 'span': {'offset': 8601, 'length': 2}}, {'content': 'everything', 'polygon': [2.7458, 5.0468, 3.271, 5.0473, 3.2708, 5.2015, 2.7456, 5.2015], 'confidence': 0.995, 'span': {'offset': 8604, 'length': 10}}, {'content': 'we', 'polygon': [3.3013, 5.0473, 3.473, 5.0474, 3.4729, 5.2015, 3.3012, 5.2015], 'confidence': 0.998, 'span': {'offset': 8615, 'length': 2}}, {'content': 'do.', 'polygon': [3.5059, 5.0474, 3.6624, 5.0474, 3.6623, 5.2015, 3.5057, 5.2015], 'confidence': 0.997, 'span': {'offset': 8618, 'length': 3}}, {'content': 'I', 'polygon': [3.7053, 5.0475, 3.7255, 5.0475, 3.7254, 5.2015, 3.7052, 5.2015], 'confidence': 0.937, 'span': {'offset': 8622, 'length': 1}}, {'content': 'am', 'polygon': [3.7634, 5.0476, 3.9225, 5.0479, 3.9224, 5.2015, 3.7633, 5.2015], 'confidence': 0.995, 'span': {'offset': 8624, 'length': 2}}, {'content': 'convinced', 'polygon': [3.9579, 5.048, 4.4831, 5.0484, 4.483, 5.2011, 3.9577, 5.2015], 'confidence': 0.994, 'span': {'offset': 8627, 'length': 9}}, {'content': 'that', 'polygon': [4.5185, 5.0484, 4.6952, 5.0483, 4.6951, 5.2011, 4.5183, 5.2011], 'confidence': 0.994, 'span': {'offset': 8637, 'length': 4}}, {'content': 'if', 'polygon': [4.7255, 5.0483, 4.7861, 5.0482, 4.7859, 5.2011, 4.7254, 5.2011], 'confidence': 0.997, 'span': {'offset': 8642, 'length': 2}}, {'content': 'we', 'polygon': [4.8164, 5.0482, 4.9831, 5.048, 4.9828, 5.2013, 4.8162, 5.2011], 'confidence': 0.998, 'span': {'offset': 8645, 'length': 2}}, {'content': 'focus', 'polygon': [5.0134, 5.048, 5.2962, 5.0481, 5.2959, 5.2013, 5.0131, 5.2013], 'confidence': 0.995, 'span': {'offset': 8648, 'length': 5}}, {'content': 'on', 'polygon': [5.3291, 5.0481, 5.4553, 5.0482, 5.4549, 5.2013, 5.3287, 5.2013], 'confidence': 0.998, 'span': {'offset': 8654, 'length': 2}}, {'content': 'our', 'polygon': [5.4932, 5.0483, 5.6548, 5.0481, 5.6545, 5.2012, 5.4928, 5.2014], 'confidence': 0.998, 'span': {'offset': 8657, 'length': 3}}, {'content': 'clients', 'polygon': [5.6851, 5.0481, 6.021, 5.0476, 6.0207, 5.2008, 5.6848, 5.2011], 'confidence': 0.994, 'span': {'offset': 8661, 'length': 7}}, {'content': 'and', 'polygon': [6.0538, 5.0475, 6.2457, 5.0469, 6.2455, 5.2013, 6.0535, 5.2009], 'confidence': 0.998, 'span': {'offset': 8669, 'length': 3}}, {'content': 'our', 'polygon': [6.2836, 5.0468, 6.4427, 5.0463, 6.4425, 5.2015, 6.2834, 5.2014], 'confidence': 0.997, 'span': {'offset': 8673, 'length': 3}}, {'content': 'strengths,', 'polygon': [6.473, 5.0463, 6.9957, 5.0467, 6.9956, 5.2015, 6.4728, 5.2015], 'confidence': 0.992, 'span': {'offset': 8677, 'length': 10}}, {'content': 'we', 'polygon': [7.0285, 5.0468, 7.1801, 5.0472, 7.18, 5.2015, 7.0284, 5.2015], 'confidence': 0.998, 'span': {'offset': 8688, 'length': 2}}, {'content': 'will', 'polygon': [7.2104, 5.0473, 7.3907, 5.0478, 7.3907, 5.2015, 7.2103, 5.2015], 'confidence': 0.991, 'span': {'offset': 8691, 'length': 4}}, {'content': 'continue', 'polygon': [0.8751, 5.2052, 1.3264, 5.2076, 1.3262, 5.3512, 0.875, 5.3494], 'confidence': 0.995, 'span': {'offset': 8696, 'length': 8}}, {'content': 'to', 'polygon': [1.3622, 5.2077, 1.4602, 5.2073, 1.4599, 5.3512, 1.362, 5.3512], 'confidence': 0.998, 'span': {'offset': 8705, 'length': 2}}, {'content': 'create', 'polygon': [1.496, 5.2072, 1.8183, 5.2069, 1.8181, 5.3524, 1.4957, 5.3512], 'confidence': 0.995, 'span': {'offset': 8708, 'length': 6}}, {'content': 'sustainable', 'polygon': [1.8542, 5.2069, 2.4488, 5.2065, 2.4483, 5.3536, 1.8539, 5.3526], 'confidence': 0.994, 'span': {'offset': 8715, 'length': 11}}, {'content': 'value', 'polygon': [2.4822, 5.2065, 2.764, 5.2062, 2.7632, 5.3543, 2.4817, 5.3537], 'confidence': 0.997, 'span': {'offset': 8727, 'length': 5}}, {'content': 'for', 'polygon': [2.7974, 5.2062, 2.9383, 5.2064, 2.9378, 5.3534, 2.7967, 5.3541], 'confidence': 0.993, 'span': {'offset': 8733, 'length': 3}}, {'content': 'you,', 'polygon': [2.9669, 5.2064, 3.1842, 5.2056, 3.1838, 5.353, 2.9665, 5.3532], 'confidence': 0.994, 'span': {'offset': 8737, 'length': 4}}, {'content': 'our', 'polygon': [3.2225, 5.2056, 3.3992, 5.2066, 3.3986, 5.3529, 3.222, 5.353], 'confidence': 0.993, 'span': {'offset': 8742, 'length': 3}}, {'content': 'shareholders.', 'polygon': [3.4278, 5.2068, 4.1491, 5.2062, 4.1491, 5.3504, 3.4273, 5.3529], 'confidence': 0.988, 'span': {'offset': 8746, 'length': 13}}, {'content': 'Sincerely,', 'polygon': [0.8731, 5.8121, 1.4039, 5.8205, 1.403, 5.9639, 0.8723, 5.9586], 'confidence': 0.995, 'span': {'offset': 8761, 'length': 10}}, {'content': 'Alex', 'polygon': [0.9644, 6.5351, 1.3458, 6.5422, 1.3458, 6.8711, 0.9642, 6.8704], 'confidence': 0.969, 'span': {'offset': 8773, 'length': 4}}, {'content': 'Wynandts', 'polygon': [1.4439, 6.5395, 2.4198, 6.5242, 2.4198, 6.8682, 1.4442, 6.8726], 'confidence': 0.691, 'span': {'offset': 8778, 'length': 8}}, {'content': 'Alex', 'polygon': [0.8727, 7.2704, 1.1136, 7.2711, 1.112, 7.4144, 0.872, 7.4144], 'confidence': 0.988, 'span': {'offset': 8788, 'length': 4}}, {'content': 'Wynaendts', 'polygon': [1.144, 7.2714, 1.7464, 7.2728, 1.7464, 7.4144, 1.1424, 7.4144], 'confidence': 0.995, 'span': {'offset': 8793, 'length': 9}}, {'content': 'Chairman', 'polygon': [0.8758, 7.5728, 1.3887, 7.5725, 1.3873, 7.7261, 0.875, 7.7228], 'confidence': 0.995, 'span': {'offset': 8804, 'length': 8}}, {'content': 'of', 'polygon': [1.4287, 7.5726, 1.5113, 7.5733, 1.51, 7.7262, 1.4273, 7.7262], 'confidence': 0.998, 'span': {'offset': 8813, 'length': 2}}, {'content': 'the', 'polygon': [1.5413, 7.5736, 1.7189, 7.5732, 1.7177, 7.7261, 1.54, 7.7261], 'confidence': 0.999, 'span': {'offset': 8816, 'length': 3}}, {'content': 'Supervisory', 'polygon': [1.7564, 7.573, 2.3794, 7.5737, 2.3783, 7.727, 1.7552, 7.726], 'confidence': 0.989, 'span': {'offset': 8820, 'length': 11}}, {'content': 'Board', 'polygon': [2.4169, 7.5735, 2.7337, 7.5728, 2.7337, 7.7257, 2.4159, 7.7271], 'confidence': 0.997, 'span': {'offset': 8832, 'length': 5}}, {'content': 'VII', 'polygon': [7.131, 11.3265, 7.3029, 11.3277, 7.3032, 11.4467, 7.1312, 11.4466], 'confidence': 0.937, 'span': {'offset': 8856, 'length': 3}}], 'lines': [{'content': 'Deutsche Bank', 'polygon': [0.8766, 0.393, 1.5447, 0.3926, 1.5448, 0.5039, 0.8767, 0.5043], 'spans': [{'offset': 6154, 'length': 13}]}, {'content': 'Annual Report 2023', 'polygon': [0.8701, 0.5052, 1.7392, 0.5032, 1.7395, 0.6161, 0.8703, 0.6181], 'spans': [{'offset': 6168, 'length': 18}]}, {'content': 'Letter from the Chairman of the Supervisory Board', 'polygon': [3.3527, 0.3878, 5.3355, 0.3902, 5.3352, 0.5, 3.3524, 0.4955], 'spans': [{'offset': 6209, 'length': 49}]}, {'content': 'As part of personnel reorganization measures, the Management Board was reduced from ten to nine members to make it', 'polygon': [0.8728, 1.3907, 7.3884, 1.3878, 7.3885, 1.5331, 0.8728, 1.5359], 'spans': [{'offset': 6265, 'length': 114}]}, {'content': 'more efficient. With this new composition, we do, however, fall short of our own commitment regarding the share of women', 'polygon': [0.8735, 1.5436, 7.3792, 1.5433, 7.3792, 1.689, 0.8735, 1.6894], 'spans': [{'offset': 6380, 'length': 120}]}, {'content': 'on the Management Board. The Supervisory Board is focused on raising the proportion of women in leadership roles, both at', 'polygon': [0.8735, 1.6916, 7.3902, 1.6915, 7.3902, 1.8385, 0.8735, 1.8387], 'spans': [{'offset': 6501, 'length': 121}]}, {'content': \"Management Board level and below. As part of the bank's new compensation system, we seek to integrate the latter more\", 'polygon': [0.8713, 1.8445, 7.3791, 1.847, 7.379, 1.9944, 0.8712, 1.9919], 'spans': [{'offset': 6623, 'length': 117}]}, {'content': 'firmly into the performance goals of our Management Board members.', 'polygon': [0.8674, 1.9972, 4.5577, 1.9982, 4.5576, 2.1502, 0.8673, 2.1494], 'spans': [{'offset': 6741, 'length': 66}]}, {'content': \"On the Supervisory Board, there was a routine change as a result of last year's elections, with Susanne Bleidt, Claudia Fieber,\", 'polygon': [0.8739, 2.2969, 7.3748, 2.2975, 7.3748, 2.4501, 0.8739, 2.4496], 'spans': [{'offset': 6809, 'length': 127}]}, {'content': 'Brigit Laumen, Gerlinde Siebert, Frank Schulze, Stephan Szukalski and Jürgen Tögel being newly elected as employee', 'polygon': [0.8734, 2.4496, 7.38, 2.4545, 7.3799, 2.6089, 0.8733, 2.604], 'spans': [{'offset': 6937, 'length': 114}]}, {'content': 'representatives, while Jan Duscheck, Manja Eifert and Timo Heider were re-elected for a further term of office. In January', 'polygon': [0.8716, 2.6065, 7.385, 2.6093, 7.3849, 2.7615, 0.8715, 2.7562], 'spans': [{'offset': 7052, 'length': 122}]}, {'content': '2024, Birgit Laumen resigned from her mandate and the court subsequently appointed Florian Haggenmiller as her successor.', 'polygon': [0.8723, 2.7604, 7.3761, 2.7621, 7.376, 2.9144, 0.8722, 2.9119], 'spans': [{'offset': 7175, 'length': 121}]}, {'content': 'I would like to once again welcome all those who joined the Supervisory Board. My special thanks go to Frank Schulze, one', 'polygon': [0.8711, 2.9128, 7.3818, 2.9143, 7.3818, 3.0686, 0.8711, 3.0672], 'spans': [{'offset': 7297, 'length': 121}]}, {'content': 'of my deputies, for the close cooperation and partnership since the very beginning.', 'polygon': [0.8724, 3.0635, 5.2034, 3.0653, 5.2033, 3.2199, 0.8723, 3.218], 'spans': [{'offset': 7419, 'length': 83}]}, {'content': 'On the shareholder side, continuity was the order of the day. Four shareholder representatives, whose term of office expired', 'polygon': [0.8734, 3.3676, 7.3826, 3.3698, 7.3825, 3.5245, 0.8733, 3.5222], 'spans': [{'offset': 7504, 'length': 124}]}, {'content': 'in 2023, were each re-elected by the Annual General Meeting for another four years. We look forward to continuing our', 'polygon': [0.8695, 3.5242, 7.3849, 3.5264, 7.3849, 3.6776, 0.8694, 3.6754], 'spans': [{'offset': 7629, 'length': 117}]}, {'content': 'valuable collaboration with Mayree Clark, John Thain, Michele Trogni and Norbert Winkeljohann.', 'polygon': [0.8695, 3.6721, 5.9209, 3.6712, 5.9209, 3.8254, 0.8695, 3.8262], 'spans': [{'offset': 7747, 'length': 94}]}, {'content': 'In 2024, our Annual General Meeting will again be held virtually. The experience of the past few years has convinced us to', 'polygon': [0.8723, 3.9795, 7.3801, 3.9787, 7.3801, 4.1342, 0.8724, 4.1349], 'spans': [{'offset': 7843, 'length': 122}]}, {'content': 'take this step; this inclusive format offers numerous benefits. We have received recognition for the transparent implementation', 'polygon': [0.8679, 4.1333, 7.3853, 4.1338, 7.3853, 4.2879, 0.8679, 4.2875], 'spans': [{'offset': 7966, 'length': 127}]}, {'content': 'and quality of the answers to shareholder questions, which will again be submitted in advance this year. At the same time, we', 'polygon': [0.8706, 4.2837, 7.3868, 4.2838, 7.3868, 4.4369, 0.8706, 4.4367], 'spans': [{'offset': 8094, 'length': 125}]}, {'content': 'aim to enable an enhanced dialogue with shareholders on the day of the Annual General Meeting.', 'polygon': [0.8714, 4.4372, 5.9949, 4.439, 5.9948, 4.5919, 0.8714, 4.5897], 'spans': [{'offset': 8220, 'length': 94}]}, {'content': 'Dear shareholders, the Supervisory Board is confident that your Deutsche Bank is on the right track. The bank has the right', 'polygon': [0.8748, 4.7395, 7.3887, 4.7417, 7.3886, 4.8998, 0.8748, 4.8973], 'spans': [{'offset': 8316, 'length': 123}]}, {'content': 'set-up and a strong management team. We will do everything we can to support them in the next phase of their growth strategy', 'polygon': [0.8716, 4.8935, 7.3852, 4.8961, 7.3851, 5.0538, 0.8715, 5.0482], 'spans': [{'offset': 8440, 'length': 124}]}, {'content': 'and to put our clients at the heart of everything we do. I am convinced that if we focus on our clients and our strengths, we will', 'polygon': [0.8717, 5.047, 7.3886, 5.0462, 7.3886, 5.2008, 0.8717, 5.2015], 'spans': [{'offset': 8565, 'length': 130}]}, {'content': 'continue to create sustainable value for you, our shareholders.', 'polygon': [0.875, 5.2052, 4.1471, 5.2057, 4.1471, 5.3522, 0.875, 5.3517], 'spans': [{'offset': 8696, 'length': 63}]}, {'content': 'Sincerely,', 'polygon': [0.8731, 5.8121, 1.4009, 5.8186, 1.3991, 5.9626, 0.8713, 5.9562], 'spans': [{'offset': 8761, 'length': 10}]}, {'content': 'Alex Wynandts', 'polygon': [0.9615, 6.5351, 2.4119, 6.5234, 2.4147, 6.8633, 0.9643, 6.8726], 'spans': [{'offset': 8773, 'length': 13}]}, {'content': 'Alex Wynaendts', 'polygon': [0.8723, 7.2704, 1.7417, 7.2727, 1.7413, 7.4144, 0.872, 7.4122], 'spans': [{'offset': 8788, 'length': 14}]}, {'content': 'Chairman of the Supervisory Board', 'polygon': [0.875, 7.5723, 2.7331, 7.5728, 2.7331, 7.7249, 0.875, 7.7244], 'spans': [{'offset': 8804, 'length': 33}]}, {'content': 'VII', 'polygon': [7.131, 11.3264, 7.3014, 11.3272, 7.3008, 11.4455, 7.1304, 11.4446], 'spans': [{'offset': 8856, 'length': 3}]}], 'spans': [{'offset': 6137, 'length': 2728}]}], 'paragraphs': [{'spans': [{'offset': 0, 'length': 54}], 'boundingRegions': [{'pageNumber': 1, 'polygon': [0.869, 0.3895, 1.7385, 0.3891, 1.7387, 0.6183, 0.8691, 0.6187]}], 'role': 'pageHeader', 'content': 'Deutsche Bank Annual Report 2023'}, {'spans': [{'offset': 55, 'length': 71}], 'boundingRegions': [{'pageNumber': 1, 'polygon': [3.3521, 0.384, 5.3358, 0.3886, 5.3355, 0.4997, 3.3519, 0.4951]}], 'role': 'pageHeader', 'content': 'Letter from the Chairman of the Supervisory Board'}, {'spans': [{'offset': 129, 'length': 51}], 'boundingRegions': [{'pageNumber': 1, 'polygon': [0.8862, 1.4035, 6.9986, 1.4103, 6.9983, 1.7098, 0.8859, 1.703]}], 'role': 'title', 'content': 'Letter from the Chairman of the Supervisory Board'}, {'spans': [{'offset': 182, 'length': 18}], 'boundingRegions': [{'pageNumber': 1, 'polygon': [0.8758, 2.0298, 1.9059, 2.035, 1.9052, 2.1761, 0.8751, 2.1709]}], 'content': 'Dear Shareholders,'}, {'spans': [{'offset': 202, 'length': 582}], 'boundingRegions': [{'pageNumber': 1, 'polygon': [0.8674, 2.3327, 7.3878, 2.3355, 7.3875, 3.1058, 0.8671, 3.103]}], 'content': \"Last year, Deutsche Bank proved its resilience in a volatile environment, further increasing revenues and delivering its best pre-tax profit in 16 years. Thanks to its prudent risk management, the bank has a strong and stable balance sheet and has further strengthened its capital base. As a result, we are this year once again in a position to substantially increase capital distributions to shareholders and we are pleased that the Supervisory Board and Management Board will propose to you a 50% increase in the dividend to € 0.45 per share at this year's Annual General Meeting.\"}, {'spans': [{'offset': 786, 'length': 1269}], 'boundingRegions': [{'pageNumber': 1, 'polygon': [0.8669, 3.2452, 7.3937, 3.249, 7.3927, 4.9384, 0.8659, 4.9346]}], 'content': \"In this economic environment, the resilience and sustainable profitability of our bank were also focus topics for the Supervisory Board. It was the Risk Committee's task to keep an eye on our capital adequacy as well as to oversee the bank's risk management and the development of non-financial risks. Another priority was to set the course for future growth. The Supervisory Board closely monitored the strategic development of the bank's culture and business model together with its financial targets and capital objectives up to 2025. The Supervisory Board expressly supports the bank's even sharper focus on its role as a Global Hausbank. Part of this is supporting clients in their sustainable and digital transformation. This strategy not only enables the bank to play its role within the German and European economy but also - of this the Supervisory Board is convinced - it is the right way to generate sustainable profits and returns for you as shareholders. In this context, the Supervisory Board welcomes and supports the Management Board's work on clearly defining the bank's purpose, its vision and aspirational culture, guided by the conviction that our top priority must be an even stronger focus on placing our clients at the center of everything we do.\"}, {'spans': [{'offset': 2057, 'length': 741}], 'boundingRegions': [{'pageNumber': 1, 'polygon': [0.8673, 5.076, 7.3912, 5.0744, 7.3914, 5.9998, 0.8675, 6.0015]}], 'content': \"Effective controls protect both our bank and our clients. Further improving these controls was another important topic last year. The Supervisory Board regularly discussed significant regulatory issues as well as progress in the processing of material litigation cases. We are aware that there is still more to do. The Management Board and Supervisory Board are in close dialogue with regulators and are focused on delivering the necessary improvements. To achieve this, the bank spent about € 1.2 billion on controls in 2023 and hired around 1,000 dedicated professionals across all regions. More details on these important issues can be found in Deutsche Bank's Non-Financial Report, which is published in parallel with this Annual Report.\"}, {'spans': [{'offset': 2800, 'length': 827}], 'boundingRegions': [{'pageNumber': 1, 'polygon': [0.8724, 6.1486, 7.3834, 6.1486, 7.3834, 7.22, 0.8724, 7.22]}], 'content': \"One of the issues that the Supervisory Board addressed intensively last year was the restrictions for our clients following the migration of Postbank's IT to a common platform. The Management Board regularly reported to the Supervisory Board on the progress made in resolving the backlogs that had arisen, which were able to be reduced substantially over the past months. Nevertheless, it is clear that we have not lived up to our service and quality standards here and have disappointed our clients. On behalf of the Supervisory Board I would like to express my sincere apologies for the delays and problems caused to our clients. The Supervisory Board has taken action as a result and reduced the variable compensation of several current and departed Management Board members. Details can be found in our Compensation Report.\"}, {'spans': [{'offset': 3629, 'length': 1067}], 'boundingRegions': [{'pageNumber': 1, 'polygon': [0.8639, 7.37, 7.3858, 7.3679, 7.3862, 8.749, 0.8643, 8.751]}], 'content': \"There you will also find information on how we intend to develop the Management Board compensation system for 2024 and beyond. In our review, we incorporated feedback from investors and are addressing two main concerns: first, we want to simplify the system, making it more transparent for our external stakeholders, by significantly reducing the number of targets and indicators on which variable compensation depends. Second, we aim to align how we evaluate Management Board members' performance even more closely with the interests of our shareholders. This applies above all to the long-term component of variable compensation, which in future will no longer be measured against past years' results. In the new system, both financial and ESG targets will be forward-looking over a period of three years. In addition, we aim to be more ambitious when it comes to setting targets for certain key performance indicators. We will submit the revised compensation system to you for voting at the Annual General Meeting in May; it is to be applied as early as this year.\"}, {'spans': [{'offset': 4698, 'length': 1392}], 'boundingRegions': [{'pageNumber': 1, 'polygon': [0.8677, 8.8944, 7.3906, 8.8919, 7.3913, 10.7263, 0.8684, 10.7288]}], 'content': \"In 2023, the Supervisory Board also addressed personnel decisions in the Management Board. At the Annual General Meeting, we bid farewell to Christiana Riley, Americas CEO, and Karl von Rohr, President and Head of Private Bank, who left the bank at the end of October after 25 years of service. Claudio de Sanctis subsequently assumed responsibility for the Private Bank and joined the Management Board in July. He has been with Deutsche Bank since 2018 and has successfully transformed the International Private Bank in recent years and focused it on its strengths in the advisory business. Stefan Simon assumed responsibility for the Americas region - in addition to his global responsibility for Legal, Regulatory Affairs and Anti-Financial Crime. Besides client coverage, the structure of the US market requires significant coordination and dialogue with regulators. Responsible for maintaining closer connections between the regions and our home market is Alexander von zur Mühlen. He assumed responsibility for Germany and Europe, Middle East and Africa (EMEA) in July. He also continues to oversee the Asia-Pacific region. Rebecca Short was given an extended mandate on the Management Board with a view to making the bank more efficient. In addition to her responsibility for Human Resources, she was appointed Chief Operating Officer with overall responsibility for the Group's costs.\"}, {'spans': [{'offset': 6092, 'length': 24}], 'boundingRegions': [{'pageNumber': 1, 'polygon': [7.1677, 11.3266, 7.2957, 11.3267, 7.2956, 11.445, 7.1676, 11.4449]}], 'role': 'pageNumber', 'content': 'VI'}, {'spans': [{'offset': 6137, 'length': 54}], 'boundingRegions': [{'pageNumber': 2, 'polygon': [0.8698, 0.393, 1.739, 0.3911, 1.7395, 0.6161, 0.8703, 0.6181]}], 'role': 'pageHeader', 'content': 'Deutsche Bank Annual Report 2023'}, {'spans': [{'offset': 6192, 'length': 71}], 'boundingRegions': [{'pageNumber': 2, 'polygon': [3.3527, 0.3857, 5.3355, 0.3902, 5.3352, 0.5, 3.3524, 0.4955]}], 'role': 'pageHeader', 'content': 'Letter from the Chairman of the Supervisory Board'}, {'spans': [{'offset': 6265, 'length': 542}], 'boundingRegions': [{'pageNumber': 2, 'polygon': [0.867, 1.3907, 7.39, 1.3878, 7.3904, 2.1489, 0.8673, 2.1518]}], 'content': \"As part of personnel reorganization measures, the Management Board was reduced from ten to nine members to make it more efficient. With this new composition, we do, however, fall short of our own commitment regarding the share of women on the Management Board. The Supervisory Board is focused on raising the proportion of women in leadership roles, both at Management Board level and below. As part of the bank's new compensation system, we seek to integrate the latter more firmly into the performance goals of our Management Board members.\"}, {'spans': [{'offset': 6809, 'length': 693}], 'boundingRegions': [{'pageNumber': 2, 'polygon': [0.8711, 2.2969, 7.3851, 2.2975, 7.385, 3.2201, 0.8711, 3.2195]}], 'content': \"On the Supervisory Board, there was a routine change as a result of last year's elections, with Susanne Bleidt, Claudia Fieber, Brigit Laumen, Gerlinde Siebert, Frank Schulze, Stephan Szukalski and Jürgen Tögel being newly elected as employee representatives, while Jan Duscheck, Manja Eifert and Timo Heider were re-elected for a further term of office. In January 2024, Birgit Laumen resigned from her mandate and the court subsequently appointed Florian Haggenmiller as her successor. I would like to once again welcome all those who joined the Supervisory Board. My special thanks go to Frank Schulze, one of my deputies, for the close cooperation and partnership since the very beginning.\"}, {'spans': [{'offset': 7504, 'length': 337}], 'boundingRegions': [{'pageNumber': 2, 'polygon': [0.8695, 3.3676, 7.385, 3.3698, 7.3848, 3.8284, 0.8694, 3.8262]}], 'content': 'On the shareholder side, continuity was the order of the day. Four shareholder representatives, whose term of office expired in 2023, were each re-elected by the Annual General Meeting for another four years. We look forward to continuing our valuable collaboration with Mayree Clark, John Thain, Michele Trogni and Norbert Winkeljohann.'}, {'spans': [{'offset': 7843, 'length': 471}], 'boundingRegions': [{'pageNumber': 2, 'polygon': [0.8679, 3.9795, 7.3867, 3.9787, 7.3868, 4.5918, 0.8679, 4.5925]}], 'content': 'In 2024, our Annual General Meeting will again be held virtually. The experience of the past few years has convinced us to take this step; this inclusive format offers numerous benefits. We have received recognition for the transparent implementation and quality of the answers to shareholder questions, which will again be submitted in advance this year. At the same time, we aim to enable an enhanced dialogue with shareholders on the day of the Annual General Meeting.'}, {'spans': [{'offset': 8316, 'length': 443}], 'boundingRegions': [{'pageNumber': 2, 'polygon': [0.8716, 4.7395, 7.3887, 4.7411, 7.3886, 5.3533, 0.8714, 5.3517]}], 'content': 'Dear shareholders, the Supervisory Board is confident that your Deutsche Bank is on the right track. The bank has the right set-up and a strong management team. We will do everything we can to support them in the next phase of their growth strategy and to put our clients at the heart of everything we do. I am convinced that if we focus on our clients and our strengths, we will continue to create sustainable value for you, our shareholders.'}, {'spans': [{'offset': 8761, 'length': 10}], 'boundingRegions': [{'pageNumber': 2, 'polygon': [0.8731, 5.8121, 1.4009, 5.8186, 1.3991, 5.9626, 0.8713, 5.9562]}], 'content': 'Sincerely,'}, {'spans': [{'offset': 8773, 'length': 13}], 'boundingRegions': [{'pageNumber': 2, 'polygon': [0.9615, 6.5351, 2.4119, 6.5234, 2.4147, 6.8633, 0.9643, 6.875]}], 'content': 'Alex Wynandts'}, {'spans': [{'offset': 8788, 'length': 14}], 'boundingRegions': [{'pageNumber': 2, 'polygon': [0.8723, 7.2704, 1.7417, 7.2727, 1.7413, 7.4144, 0.872, 7.4122]}], 'content': 'Alex Wynaendts'}, {'spans': [{'offset': 8804, 'length': 33}], 'boundingRegions': [{'pageNumber': 2, 'polygon': [0.875, 7.5723, 2.7331, 7.5728, 2.7331, 7.7249, 0.875, 7.7244]}], 'content': 'Chairman of the Supervisory Board'}, {'spans': [{'offset': 8839, 'length': 25}], 'boundingRegions': [{'pageNumber': 2, 'polygon': [7.131, 11.3264, 7.3014, 11.3272, 7.3008, 11.4455, 7.1304, 11.4446]}], 'role': 'pageNumber', 'content': 'VII'}], 'styles': [{'confidence': 1, 'spans': [{'offset': 8773, 'length': 13}], 'isHandwritten': True}], 'contentFormat': 'markdown', 'sections': [{'spans': [{'offset': 129, 'length': 8708}], 'elements': ['/paragraphs/2', '/paragraphs/3', '/paragraphs/4', '/paragraphs/5', '/paragraphs/6', '/paragraphs/7', '/paragraphs/8', '/paragraphs/9', '/paragraphs/13', '/paragraphs/14', '/paragraphs/15', '/paragraphs/16', '/paragraphs/17', '/paragraphs/18', '/paragraphs/19', '/paragraphs/20', '/paragraphs/21']}]}\n"
     ]
    }
   ],
   "source": [
    "output_dir = '/Users/ann-kathrin/repositories/PDFDataToolkit/data/output_azuredocintelligence'\n",
    "output_filepath = os.path.join(output_dir, 'result_1_chunked.pkl')\n",
    "\n",
    "# Load from pickle file\n",
    "with open(output_filepath, 'rb') as f:\n",
    "    result_original = pickle.load(f)\n",
    "\n",
    "print(result_original)"
   ]
  },
  {
   "cell_type": "code",
   "execution_count": 11,
   "metadata": {},
   "outputs": [
    {
     "name": "stdout",
     "output_type": "stream",
     "text": [
      "{'extraction_info': '2024-07-31-preview', 'modelID': 'prebuilt-layout', 'meta_info_file': {'source': 'Deutsche-Bank-Q2-2024-Presentation_8_9_17.pdf', 'stringIndexType': <StringIndexType.TEXT_ELEMENTS: 'textElements'>, 'pagesTotal': 2, 'paragraphsTotal': 214, 'handwritten': False, 'tablesTotal': 2, 'figuresTotal': 5}, 'pages': [{'page_number': 1, 'meta_page': {'width': 10, 'height': 5.625, 'unit': 'inch'}, 'structure_page': {'footnote': [], 'page_header': [], 'page_footer': ['Q2 2024 results, July 24, 2024'], 'page_title': ['Q2 2024 highlights In € bn, unless stated otherwise'], 'section_headings': ['Financial results', 'Key highlights']}, 'bboxes': [{'role': 'figure', 'reading_order': 2, 'bounding_box': [9.2644, 0.3632, 9.6343, 0.3633, 9.6342, 0.7447, 9.2644, 0.7446], 'span': [{'offset': 56, 'length': 24}], 'raw_text': [':selected: 1', ':selected: /']}, {'role': 'paragraph', 'reading_order': 4, 'bounding_box': [2.3145, 1.3195, 2.8418, 1.3195, 2.8418, 1.6616, 2.3145, 1.6616], 'raw_text': 'Q2 2024'}, {'role': 'paragraph', 'reading_order': 5, 'bounding_box': [2.8418, 1.3195, 3.3643, 1.3195, 3.3643, 1.6616, 2.8418, 1.6616], 'raw_text': '4 vs. Q2 2023'}, {'role': 'paragraph', 'reading_order': 6, 'bounding_box': [3.3643, 1.3195, 3.9014, 1.3195, 3.9014, 1.6616, 3.3643, 1.6616], 'raw_text': '4 vs. Q1 2024'}, {'role': 'table', 'reading_order': 7, 'bounding_box': [0.363, 1.3673, 3.9319, 1.3697, 3.9326, 4.8967, 0.363, 4.8932], 'table_no': 0, 'number_of_rows': 26, 'number_of_columns': 4, 'header_info': {'multilevel': False, 'flattened_list': ['', 'Q2 2024', '4 vs. Q2 2023', '4 vs. Q1 2024']}, 'table_raw': {'kind': None, 'rowIndex': 25, 'columnIndex': 3, 'rowSpan': None, 'columnSpan': None, 'content': '(2)%'}, 'table_flat': [['', 'Q2 2024', '4 vs. Q2 2023', '4 vs. Q1 2024'], ['Statement of income', '', '', ''], ['Revenues', '7.6', '2%', '(2)%'], ['Revenues ex-specific items1', '7.6', '2%', '(2)%'], ['Provision for credit losses', '0.5', '19%', '8%'], ['Noninterest expenses', '6.7', '20%', '26%'], ['Adjusted costs1', '5.0', '2%', '(0)%'], ['Profit (loss) before tax', '0.4', '(71)%', '(80)%'], ['Pre-provision profit1', '0.9', '(51)%', '(64)%'], ['Profit (loss)', '0.1', '(94)%', '(96)%'], ['Balance sheet and resources', '', '', ''], ['Average interest earning assets', '975', '2%', '(0)%'], ['Loans2', '482', '(0)%', '0%'], ['Deposits', '641', '8%', '1%'], ['Sustainable Finance volumes (cumulative)3', '322', '27%', '7%'], ['Risk-weighted assets', '356', '(1)%', '0%'], ['Leverage exposure', '1,262', '2%', '1%'], ['Performance measures and ratios', '', '', ''], ['RoTE', '(1.0)%', '(6.4)ppt', '(9.7)ppt'], ['Cost/income ratio', '88.3%', '12.7ppt', '20.1ppt'], ['Provision for credit losses, bps of avg. loans4', '40', '7bps', '3bps'], ['CET1 ratio', '13.5%', '(26)bps', '6bps'], ['Leverage ratio', '4.6%', '(7)bps', '13bps'], ['Per share information', '', '', ''], ['Diluted earnings per share', '€ (0.28)', 'n.m.', 'n.m.'], ['TBV per basic share outstanding', '€ 28.65', '6%', '(2)%']], 'table_multilevel':                                                       Q2 2024  4 vs. Q2 2023  \\\n",
      "0                                                     Q2 2024  4 vs. Q2 2023   \n",
      "1                               Statement of income                            \n",
      "2                                          Revenues       7.6             2%   \n",
      "3                       Revenues ex-specific items1       7.6             2%   \n",
      "4                       Provision for credit losses       0.5            19%   \n",
      "5                              Noninterest expenses       6.7            20%   \n",
      "6                                   Adjusted costs1       5.0             2%   \n",
      "7                          Profit (loss) before tax       0.4          (71)%   \n",
      "8                             Pre-provision profit1       0.9          (51)%   \n",
      "9                                     Profit (loss)       0.1          (94)%   \n",
      "10                      Balance sheet and resources                            \n",
      "11                  Average interest earning assets       975             2%   \n",
      "12                                           Loans2       482           (0)%   \n",
      "13                                         Deposits       641             8%   \n",
      "14        Sustainable Finance volumes (cumulative)3       322            27%   \n",
      "15                             Risk-weighted assets       356           (1)%   \n",
      "16                                Leverage exposure     1,262             2%   \n",
      "17                  Performance measures and ratios                            \n",
      "18                                             RoTE    (1.0)%       (6.4)ppt   \n",
      "19                                Cost/income ratio     88.3%        12.7ppt   \n",
      "20  Provision for credit losses, bps of avg. loans4        40           7bps   \n",
      "21                                       CET1 ratio     13.5%        (26)bps   \n",
      "22                                   Leverage ratio      4.6%         (7)bps   \n",
      "23                            Per share information                            \n",
      "24                       Diluted earnings per share  € (0.28)           n.m.   \n",
      "25                  TBV per basic share outstanding   € 28.65             6%   \n",
      "\n",
      "    4 vs. Q1 2024  \n",
      "0   4 vs. Q1 2024  \n",
      "1                  \n",
      "2            (2)%  \n",
      "3            (2)%  \n",
      "4              8%  \n",
      "5             26%  \n",
      "6            (0)%  \n",
      "7           (80)%  \n",
      "8           (64)%  \n",
      "9           (96)%  \n",
      "10                 \n",
      "11           (0)%  \n",
      "12             0%  \n",
      "13             1%  \n",
      "14             7%  \n",
      "15             0%  \n",
      "16             1%  \n",
      "17                 \n",
      "18       (9.7)ppt  \n",
      "19        20.1ppt  \n",
      "20           3bps  \n",
      "21           6bps  \n",
      "22          13bps  \n",
      "23                 \n",
      "24           n.m.  \n",
      "25           (2)%  }, {'role': 'paragraph', 'reading_order': 95, 'bounding_box': [0.3621, 5.0832, 4.1341, 5.0821, 4.1341, 5.1884, 0.3621, 5.1895], 'raw_text': 'Notes: C&O - Corporate & Other, TBV - tangible book value; for footnotes refer to slides 41 and 42'}, {'role': 'paragraph', 'reading_order': 96, 'bounding_box': [0.3651, 5.2576, 1.896, 5.2599, 1.8959, 5.3652, 0.3649, 5.3629], 'raw_text': 'Deutsche Bank. Investor Relations'}, {'role': 'paragraph', 'reading_order': 98, 'bounding_box': [4.0976, 1.119, 5.5786, 1.1268, 5.5778, 1.2834, 4.0967, 1.2756], 'raw_text': 'Divisional revenues'}, {'role': 'figure', 'reading_order': 99, 'bounding_box': [4.1471, 1.3732, 6.7012, 1.372, 6.7004, 4.891, 4.1464, 4.8919], 'span': [{'offset': 2444, 'length': 255}], 'raw_text': ['+2%', 'Δ vς. Q2 2023', '7.4', '7.6', 'Corporate Bank', '1.9', '1.9', '(1)%', 'Investment Bank', '2.4', '2.6', '+10%', 'Private Bank', '2.4', '2.3', '(3)%', 'Asset Management', 'C&O', '0.6', '0.7', '+7%', '0.1', '0.1', 'Q2 2023', 'Q2 2024', '3.0', '3.4', 'Corporate Bank', '4.2%', '1.3', 'Q2 2023', 'Private Bank', '2.3%', '1.5', 'Q2 2023', 'FIC Financing', '2.9%', '0.7', 'Q2 2023']}, {'role': 'paragraph', 'reading_order': 127, 'bounding_box': [7.073, 2.9359, 9.4919, 2.9348, 9.4922, 3.5253, 7.0732, 3.5264], 'raw_text': \"> Noninterest expenses up due to the booking of Postbank takeover litigation provision, also impacting this quarter's profit and performance measures\"}]}, {'page_number': 2, 'meta_page': {'width': 10, 'height': 5.625, 'unit': 'inch'}, 'structure_page': {'footnote': [], 'page_header': [], 'page_footer': ['Deutsche Bank. Investor Relations', 'Q2 2024 results, July 24, 2024'], 'page_title': ['Net interest income (NII) / Net interest margin (NIM) In € bn, unless stated otherwise'], 'section_headings': ['Group development']}, 'bboxes': [{'role': 'figure', 'reading_order': 2, 'bounding_box': [9.2657, 0.3624, 9.6346, 0.3624, 9.6345, 0.7441, 9.2657, 0.7441], 'span': [{'offset': 3276, 'length': 24}], 'raw_text': [':selected: 1', ':selected: /']}, {'role': 'figure', 'reading_order': 9, 'bounding_box': [0.5423, 1.447, 4.9097, 1.4535, 4.9075, 4.8807, 0.5402, 4.8736], 'span': [{'offset': 3326, 'length': 343}], 'raw_text': ['7.6', '2%', '(2)%', '7.6', '2%', '(2)%', '0.5', '19%', '8%', '6.7', '20%', '26%', '5.0', '2%', '(0)%', '0.4', '(71)%', '(80)%', '0.9', '(51)%', '(64)%', '0.1', '(94)%', '(96)%', '975', '2%', '(0)%', '482', '(0)%', '0%', '641', '8%', '1%', '322', '27%', '7%', '356', '(1)%', '0%', '1,262', '2%', '1%', '(1.0)%', '(6.4)ppt', '(9.7)ppt', '88.3%', '12.7ppt', '20.1ppt', '40', '7bps', '3bps', '13.5%', '(26)bps', '6bps', '4.6%', '(7)bps', '13bps', '€ (0.28)', 'n.m.', 'n.m.', '€ 28.65', '6%', '(2)%', 'Corporate Bank', 'Investment Bank', 'Private Bank', 'Asset Management', 'C&O', '1.5%', '1.4%', '1.3%', '1.3%', '1.2%', '3.6', '0.3', '3.3', '3.2', '3.1', '3.0', '0.1', '3.3', '3.2', '3.3', '3.3', '3.4', '(0.1)', '(0.2)', '(0.3)', 'Q2 2023', 'Q3 2023', 'Q4 2023', 'Q1 2024', 'Q2 2024']}, {'role': 'table', 'reading_order': 99, 'bounding_box': [5.1716, 1.4661, 9.4741, 1.4782, 9.4664, 4.7151, 5.1642, 4.7038], 'table_no': 1, 'number_of_rows': 9, 'number_of_columns': 7, 'header_info': {'multilevel': True, 'flattened_list': ['Corporate Bank', '', '4.2%', '3.9%', '4.1%', '4.2%', '4.1%']}, 'table_raw': {'kind': None, 'rowIndex': 8, 'columnIndex': 6, 'rowSpan': None, 'columnSpan': None, 'content': 'Q2 2024'}, 'table_flat': [['Corporate Bank', '', '4.2%', '3.9%', '4.1%', '4.2%', '4.1%'], ['Corporate Bank', '', '1.3', '1.2', '1.3', '1.3', '1.3'], ['Corporate Bank', '', 'Q2 2023', 'Q3 2023', 'Q4 2023', 'Q1 2024', 'Q2 2024'], ['Private Bank', '', '2.3%', '2.3%', '2.4%', '2.2%', '2.2%'], ['Private Bank', '', '1.5', '1.5', '1.6', '1.4', '1.4'], ['Private Bank', '', 'Q2 2023', 'Q3 2023', 'Q4 2023', 'Q1 2024', 'Q2 2024'], ['FIC Financing', '', '2.9%', '2.8%', '2.9%', '2.8%', '2.9%'], ['FIC Financing', '', '0.7', '0.6', '0.7', '0.7', '0.7'], ['FIC Financing', '', 'Q2 2023', 'Q3 2023', 'Q4 2023', 'Q1 2024', 'Q2 2024']], 'table_multilevel':    Corporate Bank       4.2%     3.9%     4.1%     4.2%     4.1%\n",
      "0  Corporate Bank       4.2%     3.9%     4.1%     4.2%     4.1%\n",
      "1  Corporate Bank        1.3      1.2      1.3      1.3      1.3\n",
      "2  Corporate Bank    Q2 2023  Q3 2023  Q4 2023  Q1 2024  Q2 2024\n",
      "3    Private Bank       2.3%     2.3%     2.4%     2.2%     2.2%\n",
      "4    Private Bank        1.5      1.5      1.6      1.4      1.4\n",
      "5    Private Bank    Q2 2023  Q3 2023  Q4 2023  Q1 2024  Q2 2024\n",
      "6   FIC Financing       2.9%     2.8%     2.9%     2.8%     2.9%\n",
      "7   FIC Financing        0.7      0.6      0.7      0.7      0.7\n",
      "8   FIC Financing    Q2 2023  Q3 2023  Q4 2023  Q1 2024  Q2 2024}, {'role': 'figure', 'reading_order': 99, 'bounding_box': [5.1627, 1.4487, 9.49, 1.4501, 9.4898, 4.7172, 5.1625, 4.7156], 'span': [{'offset': 3672, 'length': 18}], 'raw_text': ['+2%', 'Δ vς. Q2 2023', '7.6', '1.9', '(1)%', '2.6', '+10%', '2.3', '(3)%', '0.7', '+7%', '0.1', ') Revenues increased year on year as increasing noninterest income more than offset normalizing NII', '> Provision for credit losses remain elevated, driven by CRE', '> Adjusted costs flat sequentially in line with guidance', '> 6% year-on-year growth in TBV per share', 'Corporate Bank', '4.2%', '3.9%', '4.1%', '4.2%', '4.1%', '1.3', '1.2', '1.3', '1.3', '1.3', 'Q2 2023', 'Q3 2023', 'Q4 2023', 'Q1 2024', 'Q2 2024', 'Private Bank', '2.3%', '2.3%', '2.4%', '2.2%', '2.2%', '1.5', '1.5', '1.6', '1.4', '1.4', 'Q2 2023', 'Q3 2023', 'Q4 2023', 'Q1 2024', 'Q2 2024', '2.9%', '2.8%', '2.9%', '2.8%', '2.9%', '0.7', '0.6', '0.7', '0.7', '0.7']}, {'role': 'paragraph', 'reading_order': 161, 'bounding_box': [3.9685, 4.7723, 4.8966, 4.7816, 4.8956, 4.8837, 3.9675, 4.8745], 'raw_text': ':unselected: Net interest margin'}, {'role': 'paragraph', 'reading_order': 162, 'bounding_box': [5.1639, 1.1057, 8.3408, 1.1081, 8.3406, 1.3094, 5.1637, 1.307], 'raw_text': 'Key banking book segment1 development'}, {'role': 'paragraph', 'reading_order': 207, 'bounding_box': [6.4453, 4.5156, 7.2021, 4.5156, 7.2021, 4.7258, 6.4404, 4.7258], 'raw_text': 'Q3 2023'}, {'role': 'paragraph', 'reading_order': 208, 'bounding_box': [7.2021, 4.5156, 8.1299, 4.5108, 8.125, 4.7209, 7.2021, 4.7258], 'raw_text': 'Q4 2023'}, {'role': 'paragraph', 'reading_order': 209, 'bounding_box': [8.1299, 4.5108, 8.7061, 4.5108, 8.7061, 4.7209, 8.125, 4.7209], 'raw_text': 'Q1 2024'}, {'role': 'paragraph', 'reading_order': 210, 'bounding_box': [8.7061, 4.5108, 9.3018, 4.5108, 9.3018, 4.7209, 8.7061, 4.7209], 'raw_text': 'Q2 2024'}, {'role': 'paragraph', 'reading_order': 211, 'bounding_box': [0.3628, 5.0839, 2.0794, 5.0816, 2.0795, 5.185, 0.3629, 5.1872], 'raw_text': 'Notes: for footnotes refer to slides 41 and 42'}]}]}\n"
     ]
    }
   ],
   "source": [
    "output_dir = '/Users/ann-kathrin/repositories/PDFDataToolkit/data/output_azuredocintelligence'\n",
    "output_filepath = os.path.join(output_dir, 'rprocessed_result_reordered.pkl')\n",
    "\n",
    "# Load from pickle file\n",
    "with open(output_filepath, 'rb') as f:\n",
    "    processed_result_reordered = pickle.load(f)\n",
    "\n",
    "print(processed_result_reordered)"
   ]
  },
  {
   "cell_type": "code",
   "execution_count": 4,
   "metadata": {},
   "outputs": [
    {
     "name": "stdout",
     "output_type": "stream",
     "text": [
      "{'extraction_info': {'apiVersion': '2024-07-31-preview', 'modelID': 'prebuilt-layout'}, 'modelID': None, 'meta_info_file': {'source': 'Annual-Report-2022_9_15_119.pdf', 'stringIndexType': <StringIndexType.TEXT_ELEMENTS: 'textElements'>, 'pagesTotal': 2, 'paragraphsTotal': 159, 'handwritten': False, 'tablesTotal': 1, 'figuresTotal': 0}, 'pages': [{'page_number': 1, 'meta_page': {'width': 8.2639, 'height': 11.6806, 'unit': 'inch'}, 'structure_page': {'footnote': [], 'page_header': ['Deutsche Bank Annual Report 2022', 'Letter from the Chairman of the Supervisory Board'], 'page_footer': [], 'page_title': [], 'section_headings': []}, 'bboxes': [{'role': 'paragraph', 'reading_order': 3, 'bounding_box': [0.8699, 1.3857, 7.385, 1.3771, 7.3862, 2.2909, 0.8711, 2.2994], 'raw_text': \"When organizing the digital Annual General Meeting, it goes without saying that we safeguard all shareholders' rights and enable extensive dialog. For example, we will again publish the speeches in advance, and, for the first time, also written answers from the management to questions submitted in advance. This will provide shareholders with additional transparency even before the event and thus form the basis for an in-depth debate at the AGM. And for the future we want to retain the possibility of taking advantage of further virtual events for you. We will therefore ask for your approval at the AGM to allow this option for the next two years. We will inform you about the details in the invitation documents.\"}, {'role': 'paragraph', 'reading_order': 4, 'bounding_box': [0.871, 2.4468, 7.3887, 2.4511, 7.3883, 3.0688, 0.8706, 3.0644], 'raw_text': \"Dear Shareholders, in recent years Deutsche Bank has created the right foundation to navigate its clients through geopolitical changes and to support the transformation to a sustainable and digitized economy. We now need to continue to consistently implement the bank's strategy and to further improve the control systems - but above all to provide comprehensive and holistic support to our clients. The Supervisory Board will continue to support and encourage the Management Board along this path.\"}, {'role': 'paragraph', 'reading_order': 5, 'bounding_box': [0.8718, 3.2153, 7.3767, 3.2142, 7.3768, 3.5264, 0.8718, 3.5275], 'raw_text': 'As usual, the following Report of the Supervisory Board contains information on how actively the Supervisory Board has been supporting the bank as well as the key issues we worked on in 2022.'}]}, {'page_number': 2, 'meta_page': {'width': 8.2639, 'height': 11.6806, 'unit': 'inch'}, 'structure_page': {'footnote': [], 'page_header': ['Deutsche Bank Annual Report 2022', 'Report of the Supervisory Board'], 'page_footer': [], 'page_title': [], 'section_headings': ['Participation in meetings']}, 'bboxes': [{'role': 'paragraph', 'reading_order': 10, 'bounding_box': [0.871, 1.7167, 7.3838, 1.7133, 7.384, 2.1657, 0.8713, 2.1691], 'raw_text': 'The Supervisory Board members participated in the meetings of the Supervisory Board and of the committees in which they were members as shown in the following. Participation was either in person or per video conference. There was no case of participation by telephone.'}, {'role': 'table', 'reading_order': 11, 'bounding_box': [0.8849, 2.3021, 7.1023, 2.3153, 7.0925, 8.6598, 0.8749, 8.648], 'table_no': 0, 'number_of_rows': 26, 'number_of_columns': 11, 'header_info': {'multilevel': True, 'flattened_list': ['No. of meetings / participation in %', 'Plenum-Number / in %', '', \"Chairman's Committee-Number / in %\", '', 'Risk Committee-Number / in %', '', 'Audit Committee-Number / in %', '', 'Nomination Committee-Number / in %', '']}, 'table_raw': {'kind': None, 'rowIndex': 25, 'columnIndex': 10, 'rowSpan': None, 'columnSpan': None, 'content': '100%'}, 'table_flat': [['No. of meetings / participation in %', 'Plenum', 'Plenum', \"Chairman's Committee\", \"Chairman's Committee\", 'Risk Committee', 'Risk Committee', 'Audit Committee', 'Audit Committee', 'Nomination Committee', 'Nomination Committee'], ['No. of meetings / participation in %', 'Number / in %', 'Number / in %', 'Number / in %', 'Number / in %', 'Number / in %', 'Number / in %', 'Number / in %', 'Number / in %', 'Number / in %', 'Number / in %'], ['Dr. Paul Achleitner Chairman (until May 19, 2022)', '3/3', '100%', '6/7', '86%', '3/3', '100%', '3/3', '100%', '3/3', '100%'], ['Alexander Wynaendts Chairman (from May 19, 2022)', '5/5', '100%', '6/6', '100%', '3/3', '100%', '3/3', '100%', '3/3', '100%'], ['Ludwig Blomeyer-Bartenstein', '8/8', '100%', '', '', '6/6', '100%', '', '', '', ''], ['Mayree Clark', '8/8', '100%', '', '', '6/6', '100%', '', '', '6/6', '100%'], ['Jan Duscheck', '8/8', '100%', '', '', '6/6', '100%', '', '', '', ''], ['Manja Eifert (from April 7, 2022)', '6/6', '100%', '', '', '', '', '2/2', '100%', '', ''], ['Dr. Gerhard Eschelbeck (until May 19, 2022)', '3/3', '100%', '', '', '', '', '', '', '', ''], ['Sigmar Gabriel', '8/8', '100%', '', '', '', '', '', '', '', ''], ['Timo Heider', '8/8', '100%', '', '', '', '', '', '', '', ''], ['Martina Klee', '8/8', '100%', '', '', '', '', '', '', '', ''], ['Henriette Mark (until March 31, 2022)', '2/2', '100%', '', '', '', '', '2/2', '100%', '', ''], ['Gabriele Platscher', '7/8', '88%', '', '', '', '', '6/6', '100%', '', ''], ['Detlef Polaschek Deputy Chairman', '6/8', '75%', '11 / 13', '85%', '', '', '6/6', '100%', '6/6', '100%'], ['Bernd Rose', '7/8', '88%', '', '', '', '', '5/6', '83%', '', ''], ['Yngve Slyngstad (from May 19, 2022)', '5/5', '100%', '', '', '', '', '', '', '', ''], ['John Thain', '8/8', '100%', '', '', '', '', '', '', '', ''], ['Michele Trogni', '8/8', '100%', '', '', '6/6', '100%', '', '', '', ''], ['Dr. Dagmar Valcárcel', '8/8', '100%', '', '', '', '', '6/6', '100%', '', ''], ['Stefan Viertel', '7 /8', '88%', '', '', '5/6', '83%', '5/6', '83%', '', ''], ['Dr. Theodor Weimer', '8/8', '100%', '', '', '', '', '6/6', '100%', '', ''], ['Frank Werneke', '8/8', '100%', '12 / 13', '92%', '', '', '', '', '6/6', '100%'], ['Professor Dr. Norbert Winkeljohann Deputy Chairman', '8/8', '100%', '11 / 13', '85%', '6/6', '100%', '6/6', '100%', '6/6', '100%'], ['Frank Witter', '8/8', '100%', '', '', '', '', '5/6', '83%', '', ''], ['Total', '', '97%', '', '88%', '', '98%', '', '95%', '', '100%']], 'table_multilevel':                  No. of meetings / participation in % Plenum-Number / in %  \\\n",
      "0                No. of meetings / participation in %               Plenum   \n",
      "1                No. of meetings / participation in %        Number / in %   \n",
      "2   Dr. Paul Achleitner Chairman (until May 19, 2022)                  3/3   \n",
      "3    Alexander Wynaendts Chairman (from May 19, 2022)                  5/5   \n",
      "4                         Ludwig Blomeyer-Bartenstein                  8/8   \n",
      "5                                        Mayree Clark                  8/8   \n",
      "6                                        Jan Duscheck                  8/8   \n",
      "7                   Manja Eifert (from April 7, 2022)                  6/6   \n",
      "8         Dr. Gerhard Eschelbeck (until May 19, 2022)                  3/3   \n",
      "9                                      Sigmar Gabriel                  8/8   \n",
      "10                                        Timo Heider                  8/8   \n",
      "11                                       Martina Klee                  8/8   \n",
      "12              Henriette Mark (until March 31, 2022)                  2/2   \n",
      "13                                 Gabriele Platscher                  7/8   \n",
      "14                   Detlef Polaschek Deputy Chairman                  6/8   \n",
      "15                                         Bernd Rose                  7/8   \n",
      "16                Yngve Slyngstad (from May 19, 2022)                  5/5   \n",
      "17                                         John Thain                  8/8   \n",
      "18                                     Michele Trogni                  8/8   \n",
      "19                               Dr. Dagmar Valcárcel                  8/8   \n",
      "20                                     Stefan Viertel                 7 /8   \n",
      "21                                 Dr. Theodor Weimer                  8/8   \n",
      "22                                      Frank Werneke                  8/8   \n",
      "23  Professor Dr. Norbert Winkeljohann Deputy Chai...                  8/8   \n",
      "24                                       Frank Witter                  8/8   \n",
      "25                                              Total                        \n",
      "\n",
      "                  Chairman's Committee-Number / in %                        \\\n",
      "0          Plenum               Chairman's Committee  Chairman's Committee   \n",
      "1   Number / in %                      Number / in %         Number / in %   \n",
      "2            100%                                6/7                   86%   \n",
      "3            100%                                6/6                  100%   \n",
      "4            100%                                                            \n",
      "5            100%                                                            \n",
      "6            100%                                                            \n",
      "7            100%                                                            \n",
      "8            100%                                                            \n",
      "9            100%                                                            \n",
      "10           100%                                                            \n",
      "11           100%                                                            \n",
      "12           100%                                                            \n",
      "13            88%                                                            \n",
      "14            75%                            11 / 13                   85%   \n",
      "15            88%                                                            \n",
      "16           100%                                                            \n",
      "17           100%                                                            \n",
      "18           100%                                                            \n",
      "19           100%                                                            \n",
      "20            88%                                                            \n",
      "21           100%                                                            \n",
      "22           100%                            12 / 13                   92%   \n",
      "23           100%                            11 / 13                   85%   \n",
      "24           100%                                                            \n",
      "25            97%                                                      88%   \n",
      "\n",
      "   Risk Committee-Number / in %                 Audit Committee-Number / in %  \\\n",
      "0                Risk Committee  Risk Committee               Audit Committee   \n",
      "1                 Number / in %   Number / in %                 Number / in %   \n",
      "2                           3/3            100%                           3/3   \n",
      "3                           3/3            100%                           3/3   \n",
      "4                           6/6            100%                                 \n",
      "5                           6/6            100%                                 \n",
      "6                           6/6            100%                                 \n",
      "7                                                                         2/2   \n",
      "8                                                                               \n",
      "9                                                                               \n",
      "10                                                                              \n",
      "11                                                                              \n",
      "12                                                                        2/2   \n",
      "13                                                                        6/6   \n",
      "14                                                                        6/6   \n",
      "15                                                                        5/6   \n",
      "16                                                                              \n",
      "17                                                                              \n",
      "18                          6/6            100%                                 \n",
      "19                                                                        6/6   \n",
      "20                          5/6             83%                           5/6   \n",
      "21                                                                        6/6   \n",
      "22                                                                              \n",
      "23                          6/6            100%                           6/6   \n",
      "24                                                                        5/6   \n",
      "25                                          98%                                 \n",
      "\n",
      "                    Nomination Committee-Number / in %                        \n",
      "0   Audit Committee               Nomination Committee  Nomination Committee  \n",
      "1     Number / in %                      Number / in %         Number / in %  \n",
      "2              100%                                3/3                  100%  \n",
      "3              100%                                3/3                  100%  \n",
      "4                                                                             \n",
      "5                                                  6/6                  100%  \n",
      "6                                                                             \n",
      "7              100%                                                           \n",
      "8                                                                             \n",
      "9                                                                             \n",
      "10                                                                            \n",
      "11                                                                            \n",
      "12             100%                                                           \n",
      "13             100%                                                           \n",
      "14             100%                                6/6                  100%  \n",
      "15              83%                                                           \n",
      "16                                                                            \n",
      "17                                                                            \n",
      "18                                                                            \n",
      "19             100%                                                           \n",
      "20              83%                                                           \n",
      "21             100%                                                           \n",
      "22                                                 6/6                  100%  \n",
      "23             100%                                6/6                  100%  \n",
      "24              83%                                                           \n",
      "25              95%                                                     100%  }]}]}\n"
     ]
    }
   ],
   "source": [
    "output_dir = '/Users/ann-kathrin/repositories/PDFDataToolkit/data/output_azuredocintelligence'\n",
    "output_filepath = os.path.join(output_dir, 'result_2_chunked_2.pkl')\n",
    "\n",
    "# Load from pickle file\n",
    "with open(output_filepath, 'rb') as f:\n",
    "    result_2_chunked_2 = pickle.load(f)\n",
    "\n",
    "print(result_2_chunked_2)"
   ]
  },
  {
   "cell_type": "code",
   "execution_count": 5,
   "metadata": {},
   "outputs": [
    {
     "name": "stdout",
     "output_type": "stream",
     "text": [
      "{'extraction_info': {'apiVersion': '2024-07-31-preview', 'modelID': 'prebuilt-layout'}, 'meta_info_file': {'source': 'Annual-Report-2023_8_9_15_120.pdf', 'stringIndexType': <StringIndexType.TEXT_ELEMENTS: 'textElements'>, 'pagesTotal': 2, 'textParagraphsTotal': 23, 'handwrittenYN': True, 'tablesTotal': 0, 'figuresTotal': 0}, 'pages': [{'page_number': 1, 'meta_page': {'width': 8.2639, 'height': 11.6806, 'unit': <LengthUnit.INCH: 'inch'>}, 'structure_page': {'footnote': None, 'page_header': 'Letter from the Chairman of the Supervisory Board', 'page_footer': None, 'page_titles': ['Letter from the Chairman of the Supervisory Board'], 'section_headings': [], 'textParagraphsPage': [], 'tablesPage': [], 'handwrittenPageYN': False, 'figuresPage': []}, 'bboxes': [{'bbox_coordinates': [0.8758, 2.0298, 1.9059, 2.035, 1.9052, 2.1761, 0.8751, 2.1709], 'reading_order': 0, 'page_title': 'Letter from the Chairman of the Supervisory Board', 'section_heading': None, 'text': {'raw_text': 'Dear Shareholders,'}}, {'bbox_coordinates': [0.8674, 2.3327, 7.3878, 2.3355, 7.3875, 3.1058, 0.8671, 3.103], 'reading_order': 1, 'page_title': 'Letter from the Chairman of the Supervisory Board', 'section_heading': None, 'text': {'raw_text': \"Last year, Deutsche Bank proved its resilience in a volatile environment, further increasing revenues and delivering its best pre-tax profit in 16 years. Thanks to its prudent risk management, the bank has a strong and stable balance sheet and has further strengthened its capital base. As a result, we are this year once again in a position to substantially increase capital distributions to shareholders and we are pleased that the Supervisory Board and Management Board will propose to you a 50% increase in the dividend to € 0.45 per share at this year's Annual General Meeting.\"}}, {'bbox_coordinates': [0.8669, 3.2452, 7.3937, 3.249, 7.3927, 4.9384, 0.8659, 4.9346], 'reading_order': 2, 'page_title': 'Letter from the Chairman of the Supervisory Board', 'section_heading': None, 'text': {'raw_text': \"In this economic environment, the resilience and sustainable profitability of our bank were also focus topics for the Supervisory Board. It was the Risk Committee's task to keep an eye on our capital adequacy as well as to oversee the bank's risk management and the development of non-financial risks. Another priority was to set the course for future growth. The Supervisory Board closely monitored the strategic development of the bank's culture and business model together with its financial targets and capital objectives up to 2025. The Supervisory Board expressly supports the bank's even sharper focus on its role as a Global Hausbank. Part of this is supporting clients in their sustainable and digital transformation. This strategy not only enables the bank to play its role within the German and European economy but also - of this the Supervisory Board is convinced - it is the right way to generate sustainable profits and returns for you as shareholders. In this context, the Supervisory Board welcomes and supports the Management Board's work on clearly defining the bank's purpose, its vision and aspirational culture, guided by the conviction that our top priority must be an even stronger focus on placing our clients at the center of everything we do.\"}}, {'bbox_coordinates': [0.8673, 5.076, 7.3912, 5.0744, 7.3914, 5.9998, 0.8675, 6.0015], 'reading_order': 3, 'page_title': 'Letter from the Chairman of the Supervisory Board', 'section_heading': None, 'text': {'raw_text': \"Effective controls protect both our bank and our clients. Further improving these controls was another important topic last year. The Supervisory Board regularly discussed significant regulatory issues as well as progress in the processing of material litigation cases. We are aware that there is still more to do. The Management Board and Supervisory Board are in close dialogue with regulators and are focused on delivering the necessary improvements. To achieve this, the bank spent about € 1.2 billion on controls in 2023 and hired around 1,000 dedicated professionals across all regions. More details on these important issues can be found in Deutsche Bank's Non-Financial Report, which is published in parallel with this Annual Report.\"}}, {'bbox_coordinates': [0.8724, 6.1486, 7.3834, 6.1486, 7.3834, 7.22, 0.8724, 7.22], 'reading_order': 4, 'page_title': 'Letter from the Chairman of the Supervisory Board', 'section_heading': None, 'text': {'raw_text': \"One of the issues that the Supervisory Board addressed intensively last year was the restrictions for our clients following the migration of Postbank's IT to a common platform. The Management Board regularly reported to the Supervisory Board on the progress made in resolving the backlogs that had arisen, which were able to be reduced substantially over the past months. Nevertheless, it is clear that we have not lived up to our service and quality standards here and have disappointed our clients. On behalf of the Supervisory Board I would like to express my sincere apologies for the delays and problems caused to our clients. The Supervisory Board has taken action as a result and reduced the variable compensation of several current and departed Management Board members. Details can be found in our Compensation Report.\"}}, {'bbox_coordinates': [0.8639, 7.37, 7.3858, 7.3679, 7.3862, 8.749, 0.8643, 8.751], 'reading_order': 5, 'page_title': 'Letter from the Chairman of the Supervisory Board', 'section_heading': None, 'text': {'raw_text': \"There you will also find information on how we intend to develop the Management Board compensation system for 2024 and beyond. In our review, we incorporated feedback from investors and are addressing two main concerns: first, we want to simplify the system, making it more transparent for our external stakeholders, by significantly reducing the number of targets and indicators on which variable compensation depends. Second, we aim to align how we evaluate Management Board members' performance even more closely with the interests of our shareholders. This applies above all to the long-term component of variable compensation, which in future will no longer be measured against past years' results. In the new system, both financial and ESG targets will be forward-looking over a period of three years. In addition, we aim to be more ambitious when it comes to setting targets for certain key performance indicators. We will submit the revised compensation system to you for voting at the Annual General Meeting in May; it is to be applied as early as this year.\"}}, {'bbox_coordinates': [0.8677, 8.8944, 7.3906, 8.8919, 7.3913, 10.7263, 0.8684, 10.7288], 'reading_order': 6, 'page_title': 'Letter from the Chairman of the Supervisory Board', 'section_heading': None, 'text': {'raw_text': \"In 2023, the Supervisory Board also addressed personnel decisions in the Management Board. At the Annual General Meeting, we bid farewell to Christiana Riley, Americas CEO, and Karl von Rohr, President and Head of Private Bank, who left the bank at the end of October after 25 years of service. Claudio de Sanctis subsequently assumed responsibility for the Private Bank and joined the Management Board in July. He has been with Deutsche Bank since 2018 and has successfully transformed the International Private Bank in recent years and focused it on its strengths in the advisory business. Stefan Simon assumed responsibility for the Americas region - in addition to his global responsibility for Legal, Regulatory Affairs and Anti-Financial Crime. Besides client coverage, the structure of the US market requires significant coordination and dialogue with regulators. Responsible for maintaining closer connections between the regions and our home market is Alexander von zur Mühlen. He assumed responsibility for Germany and Europe, Middle East and Africa (EMEA) in July. He also continues to oversee the Asia-Pacific region. Rebecca Short was given an extended mandate on the Management Board with a view to making the bank more efficient. In addition to her responsibility for Human Resources, she was appointed Chief Operating Officer with overall responsibility for the Group's costs.\"}}]}, {'page_number': 2, 'meta_page': {'width': 8.2639, 'height': 11.6806, 'unit': <LengthUnit.INCH: 'inch'>}, 'structure_page': {'footnote': None, 'page_header': 'Letter from the Chairman of the Supervisory Board', 'page_footer': None, 'page_titles': [], 'section_headings': [], 'textParagraphsPage': [], 'tablesPage': [], 'handwrittenPageYN': False, 'figuresPage': []}, 'bboxes': [{'bbox_coordinates': [0.867, 1.3907, 7.39, 1.3878, 7.3904, 2.1489, 0.8673, 2.1518], 'reading_order': 0, 'page_title': None, 'section_heading': None, 'text': {'raw_text': \"As part of personnel reorganization measures, the Management Board was reduced from ten to nine members to make it more efficient. With this new composition, we do, however, fall short of our own commitment regarding the share of women on the Management Board. The Supervisory Board is focused on raising the proportion of women in leadership roles, both at Management Board level and below. As part of the bank's new compensation system, we seek to integrate the latter more firmly into the performance goals of our Management Board members.\"}}, {'bbox_coordinates': [0.8711, 2.2969, 7.3851, 2.2975, 7.385, 3.2201, 0.8711, 3.2195], 'reading_order': 1, 'page_title': 'Letter from the Chairman of the Supervisory Board', 'section_heading': None, 'text': {'raw_text': \"On the Supervisory Board, there was a routine change as a result of last year's elections, with Susanne Bleidt, Claudia Fieber, Brigit Laumen, Gerlinde Siebert, Frank Schulze, Stephan Szukalski and Jürgen Tögel being newly elected as employee representatives, while Jan Duscheck, Manja Eifert and Timo Heider were re-elected for a further term of office. In January 2024, Birgit Laumen resigned from her mandate and the court subsequently appointed Florian Haggenmiller as her successor. I would like to once again welcome all those who joined the Supervisory Board. My special thanks go to Frank Schulze, one of my deputies, for the close cooperation and partnership since the very beginning.\"}}, {'bbox_coordinates': [0.8695, 3.3676, 7.385, 3.3698, 7.3848, 3.8284, 0.8694, 3.8262], 'reading_order': 2, 'page_title': 'Letter from the Chairman of the Supervisory Board', 'section_heading': None, 'text': {'raw_text': 'On the shareholder side, continuity was the order of the day. Four shareholder representatives, whose term of office expired in 2023, were each re-elected by the Annual General Meeting for another four years. We look forward to continuing our valuable collaboration with Mayree Clark, John Thain, Michele Trogni and Norbert Winkeljohann.'}}, {'bbox_coordinates': [0.8679, 3.9795, 7.3867, 3.9787, 7.3868, 4.5918, 0.8679, 4.5925], 'reading_order': 3, 'page_title': 'Letter from the Chairman of the Supervisory Board', 'section_heading': None, 'text': {'raw_text': 'In 2024, our Annual General Meeting will again be held virtually. The experience of the past few years has convinced us to take this step; this inclusive format offers numerous benefits. We have received recognition for the transparent implementation and quality of the answers to shareholder questions, which will again be submitted in advance this year. At the same time, we aim to enable an enhanced dialogue with shareholders on the day of the Annual General Meeting.'}}, {'bbox_coordinates': [0.8716, 4.7395, 7.3887, 4.7411, 7.3886, 5.3533, 0.8714, 5.3517], 'reading_order': 4, 'page_title': 'Letter from the Chairman of the Supervisory Board', 'section_heading': None, 'text': {'raw_text': 'Dear shareholders, the Supervisory Board is confident that your Deutsche Bank is on the right track. The bank has the right set-up and a strong management team. We will do everything we can to support them in the next phase of their growth strategy and to put our clients at the heart of everything we do. I am convinced that if we focus on our clients and our strengths, we will continue to create sustainable value for you, our shareholders.'}}, {'bbox_coordinates': [0.8731, 5.8121, 1.4009, 5.8186, 1.3991, 5.9626, 0.8713, 5.9562], 'reading_order': 5, 'page_title': 'Letter from the Chairman of the Supervisory Board', 'section_heading': None, 'text': {'raw_text': 'Sincerely,'}}, {'bbox_coordinates': [0.9615, 6.5351, 2.4119, 6.5234, 2.4147, 6.8633, 0.9643, 6.875], 'reading_order': 6, 'page_title': 'Letter from the Chairman of the Supervisory Board', 'section_heading': None, 'text': {'raw_text': 'Alex Wynandts'}}, {'bbox_coordinates': [0.9615, 6.5351, 2.4119, 6.5234, 2.4147, 6.8633, 0.9643, 6.875], 'reading_order': 7, 'page_title': 'Letter from the Chairman of the Supervisory Board', 'section_heading': None, 'handwritten': {'confidence': 1, 'offset': 8773, 'span_length': 13, 'raw_text': 'Alex Wynandts'}}, {'bbox_coordinates': [0.8723, 7.2704, 1.7417, 7.2727, 1.7413, 7.4144, 0.872, 7.4122], 'reading_order': 8, 'page_title': 'Letter from the Chairman of the Supervisory Board', 'section_heading': None, 'text': {'raw_text': 'Alex Wynaendts'}}, {'bbox_coordinates': [0.875, 7.5723, 2.7331, 7.5728, 2.7331, 7.7249, 0.875, 7.7244], 'reading_order': 9, 'page_title': 'Letter from the Chairman of the Supervisory Board', 'section_heading': None, 'text': {'raw_text': 'Chairman of the Supervisory Board'}}]}]}\n"
     ]
    }
   ],
   "source": [
    "output_dir = '/Users/ann-kathrin/repositories/PDFDataToolkit/data/output_azuredocintelligence'\n",
    "output_filepath = os.path.join(output_dir, 'result_1_chunked_processed.pkl')\n",
    "\n",
    "# Load from pickle file\n",
    "with open(output_filepath, 'rb') as f:\n",
    "    result_processed = pickle.load(f)\n",
    "\n",
    "print(result_processed)"
   ]
  },
  {
   "cell_type": "code",
   "execution_count": 6,
   "metadata": {},
   "outputs": [
    {
     "data": {
      "text/plain": [
       "{'extraction_info': {'apiVersion': '2024-07-31-preview',\n",
       "  'modelID': 'prebuilt-layout'},\n",
       " 'meta_info_file': {'source': 'Annual-Report-2023_8_9_15_120.pdf',\n",
       "  'stringIndexType': <StringIndexType.TEXT_ELEMENTS: 'textElements'>,\n",
       "  'pagesTotal': 2,\n",
       "  'paragraphsTotal': 23,\n",
       "  'handwritten': True,\n",
       "  'tablesTotal': 0,\n",
       "  'figuresTotal': 0},\n",
       " 'pages': [{'page_number': 1,\n",
       "   'meta_page': {'width': 8.2639, 'height': 11.6806, 'unit': 'inch'},\n",
       "   'structure_page': {'footnote': None,\n",
       "    'page_headers': None,\n",
       "    'page_footer': None,\n",
       "    'page_title': ['Letter from the Chairman of the Supervisory Board'],\n",
       "    'section_headings': [],\n",
       "    'page_header': 'Letter from the Chairman of the Supervisory Board'},\n",
       "   'content_page': {'handwritten': [],\n",
       "    'paragraphs': [{'role': None,\n",
       "      'raw_text': 'Dear Shareholders,',\n",
       "      'bounding_box': [0.8758,\n",
       "       2.0298,\n",
       "       1.9059,\n",
       "       2.035,\n",
       "       1.9052,\n",
       "       2.1761,\n",
       "       0.8751,\n",
       "       2.1709]},\n",
       "     {'role': None,\n",
       "      'raw_text': \"Last year, Deutsche Bank proved its resilience in a volatile environment, further increasing revenues and delivering its best pre-tax profit in 16 years. Thanks to its prudent risk management, the bank has a strong and stable balance sheet and has further strengthened its capital base. As a result, we are this year once again in a position to substantially increase capital distributions to shareholders and we are pleased that the Supervisory Board and Management Board will propose to you a 50% increase in the dividend to € 0.45 per share at this year's Annual General Meeting.\",\n",
       "      'bounding_box': [0.8674,\n",
       "       2.3327,\n",
       "       7.3878,\n",
       "       2.3355,\n",
       "       7.3875,\n",
       "       3.1058,\n",
       "       0.8671,\n",
       "       3.103]},\n",
       "     {'role': None,\n",
       "      'raw_text': \"In this economic environment, the resilience and sustainable profitability of our bank were also focus topics for the Supervisory Board. It was the Risk Committee's task to keep an eye on our capital adequacy as well as to oversee the bank's risk management and the development of non-financial risks. Another priority was to set the course for future growth. The Supervisory Board closely monitored the strategic development of the bank's culture and business model together with its financial targets and capital objectives up to 2025. The Supervisory Board expressly supports the bank's even sharper focus on its role as a Global Hausbank. Part of this is supporting clients in their sustainable and digital transformation. This strategy not only enables the bank to play its role within the German and European economy but also - of this the Supervisory Board is convinced - it is the right way to generate sustainable profits and returns for you as shareholders. In this context, the Supervisory Board welcomes and supports the Management Board's work on clearly defining the bank's purpose, its vision and aspirational culture, guided by the conviction that our top priority must be an even stronger focus on placing our clients at the center of everything we do.\",\n",
       "      'bounding_box': [0.8669,\n",
       "       3.2452,\n",
       "       7.3937,\n",
       "       3.249,\n",
       "       7.3927,\n",
       "       4.9384,\n",
       "       0.8659,\n",
       "       4.9346]},\n",
       "     {'role': None,\n",
       "      'raw_text': \"Effective controls protect both our bank and our clients. Further improving these controls was another important topic last year. The Supervisory Board regularly discussed significant regulatory issues as well as progress in the processing of material litigation cases. We are aware that there is still more to do. The Management Board and Supervisory Board are in close dialogue with regulators and are focused on delivering the necessary improvements. To achieve this, the bank spent about € 1.2 billion on controls in 2023 and hired around 1,000 dedicated professionals across all regions. More details on these important issues can be found in Deutsche Bank's Non-Financial Report, which is published in parallel with this Annual Report.\",\n",
       "      'bounding_box': [0.8673,\n",
       "       5.076,\n",
       "       7.3912,\n",
       "       5.0744,\n",
       "       7.3914,\n",
       "       5.9998,\n",
       "       0.8675,\n",
       "       6.0015]},\n",
       "     {'role': None,\n",
       "      'raw_text': \"One of the issues that the Supervisory Board addressed intensively last year was the restrictions for our clients following the migration of Postbank's IT to a common platform. The Management Board regularly reported to the Supervisory Board on the progress made in resolving the backlogs that had arisen, which were able to be reduced substantially over the past months. Nevertheless, it is clear that we have not lived up to our service and quality standards here and have disappointed our clients. On behalf of the Supervisory Board I would like to express my sincere apologies for the delays and problems caused to our clients. The Supervisory Board has taken action as a result and reduced the variable compensation of several current and departed Management Board members. Details can be found in our Compensation Report.\",\n",
       "      'bounding_box': [0.8724,\n",
       "       6.1486,\n",
       "       7.3834,\n",
       "       6.1486,\n",
       "       7.3834,\n",
       "       7.22,\n",
       "       0.8724,\n",
       "       7.22]},\n",
       "     {'role': None,\n",
       "      'raw_text': \"There you will also find information on how we intend to develop the Management Board compensation system for 2024 and beyond. In our review, we incorporated feedback from investors and are addressing two main concerns: first, we want to simplify the system, making it more transparent for our external stakeholders, by significantly reducing the number of targets and indicators on which variable compensation depends. Second, we aim to align how we evaluate Management Board members' performance even more closely with the interests of our shareholders. This applies above all to the long-term component of variable compensation, which in future will no longer be measured against past years' results. In the new system, both financial and ESG targets will be forward-looking over a period of three years. In addition, we aim to be more ambitious when it comes to setting targets for certain key performance indicators. We will submit the revised compensation system to you for voting at the Annual General Meeting in May; it is to be applied as early as this year.\",\n",
       "      'bounding_box': [0.8639,\n",
       "       7.37,\n",
       "       7.3858,\n",
       "       7.3679,\n",
       "       7.3862,\n",
       "       8.749,\n",
       "       0.8643,\n",
       "       8.751]},\n",
       "     {'role': None,\n",
       "      'raw_text': \"In 2023, the Supervisory Board also addressed personnel decisions in the Management Board. At the Annual General Meeting, we bid farewell to Christiana Riley, Americas CEO, and Karl von Rohr, President and Head of Private Bank, who left the bank at the end of October after 25 years of service. Claudio de Sanctis subsequently assumed responsibility for the Private Bank and joined the Management Board in July. He has been with Deutsche Bank since 2018 and has successfully transformed the International Private Bank in recent years and focused it on its strengths in the advisory business. Stefan Simon assumed responsibility for the Americas region - in addition to his global responsibility for Legal, Regulatory Affairs and Anti-Financial Crime. Besides client coverage, the structure of the US market requires significant coordination and dialogue with regulators. Responsible for maintaining closer connections between the regions and our home market is Alexander von zur Mühlen. He assumed responsibility for Germany and Europe, Middle East and Africa (EMEA) in July. He also continues to oversee the Asia-Pacific region. Rebecca Short was given an extended mandate on the Management Board with a view to making the bank more efficient. In addition to her responsibility for Human Resources, she was appointed Chief Operating Officer with overall responsibility for the Group's costs.\",\n",
       "      'bounding_box': [0.8677,\n",
       "       8.8944,\n",
       "       7.3906,\n",
       "       8.8919,\n",
       "       7.3913,\n",
       "       10.7263,\n",
       "       0.8684,\n",
       "       10.7288]},\n",
       "     {'role': None, 'raw_text': None, 'bounding_box': None},\n",
       "     {'role': None, 'raw_text': None, 'bounding_box': None},\n",
       "     {'role': None, 'raw_text': None, 'bounding_box': None},\n",
       "     {'role': None, 'raw_text': None, 'bounding_box': None},\n",
       "     {'role': None, 'raw_text': None, 'bounding_box': None},\n",
       "     {'role': None, 'raw_text': None, 'bounding_box': None},\n",
       "     {'role': None, 'raw_text': None, 'bounding_box': None},\n",
       "     {'role': None, 'raw_text': None, 'bounding_box': None},\n",
       "     {'role': None, 'raw_text': None, 'bounding_box': None}],\n",
       "    'tables': [],\n",
       "    'figures': []}},\n",
       "  {'page_number': 1,\n",
       "   'meta_page': {'width': 8.2639, 'height': 11.6806, 'unit': 'inch'},\n",
       "   'structure_page': {'footnote': None,\n",
       "    'page_headers': None,\n",
       "    'page_footer': None,\n",
       "    'page_title': ['Letter from the Chairman of the Supervisory Board'],\n",
       "    'section_headings': [],\n",
       "    'page_header': 'Letter from the Chairman of the Supervisory Board'},\n",
       "   'content_page': {'handwritten': [],\n",
       "    'paragraphs': [{'role': None,\n",
       "      'raw_text': 'Dear Shareholders,',\n",
       "      'bounding_box': [0.8758,\n",
       "       2.0298,\n",
       "       1.9059,\n",
       "       2.035,\n",
       "       1.9052,\n",
       "       2.1761,\n",
       "       0.8751,\n",
       "       2.1709]},\n",
       "     {'role': None,\n",
       "      'raw_text': \"Last year, Deutsche Bank proved its resilience in a volatile environment, further increasing revenues and delivering its best pre-tax profit in 16 years. Thanks to its prudent risk management, the bank has a strong and stable balance sheet and has further strengthened its capital base. As a result, we are this year once again in a position to substantially increase capital distributions to shareholders and we are pleased that the Supervisory Board and Management Board will propose to you a 50% increase in the dividend to € 0.45 per share at this year's Annual General Meeting.\",\n",
       "      'bounding_box': [0.8674,\n",
       "       2.3327,\n",
       "       7.3878,\n",
       "       2.3355,\n",
       "       7.3875,\n",
       "       3.1058,\n",
       "       0.8671,\n",
       "       3.103]},\n",
       "     {'role': None,\n",
       "      'raw_text': \"In this economic environment, the resilience and sustainable profitability of our bank were also focus topics for the Supervisory Board. It was the Risk Committee's task to keep an eye on our capital adequacy as well as to oversee the bank's risk management and the development of non-financial risks. Another priority was to set the course for future growth. The Supervisory Board closely monitored the strategic development of the bank's culture and business model together with its financial targets and capital objectives up to 2025. The Supervisory Board expressly supports the bank's even sharper focus on its role as a Global Hausbank. Part of this is supporting clients in their sustainable and digital transformation. This strategy not only enables the bank to play its role within the German and European economy but also - of this the Supervisory Board is convinced - it is the right way to generate sustainable profits and returns for you as shareholders. In this context, the Supervisory Board welcomes and supports the Management Board's work on clearly defining the bank's purpose, its vision and aspirational culture, guided by the conviction that our top priority must be an even stronger focus on placing our clients at the center of everything we do.\",\n",
       "      'bounding_box': [0.8669,\n",
       "       3.2452,\n",
       "       7.3937,\n",
       "       3.249,\n",
       "       7.3927,\n",
       "       4.9384,\n",
       "       0.8659,\n",
       "       4.9346]},\n",
       "     {'role': None,\n",
       "      'raw_text': \"Effective controls protect both our bank and our clients. Further improving these controls was another important topic last year. The Supervisory Board regularly discussed significant regulatory issues as well as progress in the processing of material litigation cases. We are aware that there is still more to do. The Management Board and Supervisory Board are in close dialogue with regulators and are focused on delivering the necessary improvements. To achieve this, the bank spent about € 1.2 billion on controls in 2023 and hired around 1,000 dedicated professionals across all regions. More details on these important issues can be found in Deutsche Bank's Non-Financial Report, which is published in parallel with this Annual Report.\",\n",
       "      'bounding_box': [0.8673,\n",
       "       5.076,\n",
       "       7.3912,\n",
       "       5.0744,\n",
       "       7.3914,\n",
       "       5.9998,\n",
       "       0.8675,\n",
       "       6.0015]},\n",
       "     {'role': None,\n",
       "      'raw_text': \"One of the issues that the Supervisory Board addressed intensively last year was the restrictions for our clients following the migration of Postbank's IT to a common platform. The Management Board regularly reported to the Supervisory Board on the progress made in resolving the backlogs that had arisen, which were able to be reduced substantially over the past months. Nevertheless, it is clear that we have not lived up to our service and quality standards here and have disappointed our clients. On behalf of the Supervisory Board I would like to express my sincere apologies for the delays and problems caused to our clients. The Supervisory Board has taken action as a result and reduced the variable compensation of several current and departed Management Board members. Details can be found in our Compensation Report.\",\n",
       "      'bounding_box': [0.8724,\n",
       "       6.1486,\n",
       "       7.3834,\n",
       "       6.1486,\n",
       "       7.3834,\n",
       "       7.22,\n",
       "       0.8724,\n",
       "       7.22]},\n",
       "     {'role': None,\n",
       "      'raw_text': \"There you will also find information on how we intend to develop the Management Board compensation system for 2024 and beyond. In our review, we incorporated feedback from investors and are addressing two main concerns: first, we want to simplify the system, making it more transparent for our external stakeholders, by significantly reducing the number of targets and indicators on which variable compensation depends. Second, we aim to align how we evaluate Management Board members' performance even more closely with the interests of our shareholders. This applies above all to the long-term component of variable compensation, which in future will no longer be measured against past years' results. In the new system, both financial and ESG targets will be forward-looking over a period of three years. In addition, we aim to be more ambitious when it comes to setting targets for certain key performance indicators. We will submit the revised compensation system to you for voting at the Annual General Meeting in May; it is to be applied as early as this year.\",\n",
       "      'bounding_box': [0.8639,\n",
       "       7.37,\n",
       "       7.3858,\n",
       "       7.3679,\n",
       "       7.3862,\n",
       "       8.749,\n",
       "       0.8643,\n",
       "       8.751]},\n",
       "     {'role': None,\n",
       "      'raw_text': \"In 2023, the Supervisory Board also addressed personnel decisions in the Management Board. At the Annual General Meeting, we bid farewell to Christiana Riley, Americas CEO, and Karl von Rohr, President and Head of Private Bank, who left the bank at the end of October after 25 years of service. Claudio de Sanctis subsequently assumed responsibility for the Private Bank and joined the Management Board in July. He has been with Deutsche Bank since 2018 and has successfully transformed the International Private Bank in recent years and focused it on its strengths in the advisory business. Stefan Simon assumed responsibility for the Americas region - in addition to his global responsibility for Legal, Regulatory Affairs and Anti-Financial Crime. Besides client coverage, the structure of the US market requires significant coordination and dialogue with regulators. Responsible for maintaining closer connections between the regions and our home market is Alexander von zur Mühlen. He assumed responsibility for Germany and Europe, Middle East and Africa (EMEA) in July. He also continues to oversee the Asia-Pacific region. Rebecca Short was given an extended mandate on the Management Board with a view to making the bank more efficient. In addition to her responsibility for Human Resources, she was appointed Chief Operating Officer with overall responsibility for the Group's costs.\",\n",
       "      'bounding_box': [0.8677,\n",
       "       8.8944,\n",
       "       7.3906,\n",
       "       8.8919,\n",
       "       7.3913,\n",
       "       10.7263,\n",
       "       0.8684,\n",
       "       10.7288]},\n",
       "     {'role': None, 'raw_text': None, 'bounding_box': None},\n",
       "     {'role': None, 'raw_text': None, 'bounding_box': None},\n",
       "     {'role': None, 'raw_text': None, 'bounding_box': None},\n",
       "     {'role': None, 'raw_text': None, 'bounding_box': None},\n",
       "     {'role': None, 'raw_text': None, 'bounding_box': None},\n",
       "     {'role': None, 'raw_text': None, 'bounding_box': None},\n",
       "     {'role': None, 'raw_text': None, 'bounding_box': None},\n",
       "     {'role': None, 'raw_text': None, 'bounding_box': None},\n",
       "     {'role': None, 'raw_text': None, 'bounding_box': None}],\n",
       "    'tables': [],\n",
       "    'figures': []}},\n",
       "  {'page_number': 2,\n",
       "   'meta_page': {'width': 8.2639, 'height': 11.6806, 'unit': 'inch'},\n",
       "   'structure_page': {'footnote': None,\n",
       "    'page_headers': None,\n",
       "    'page_footer': None,\n",
       "    'page_title': [],\n",
       "    'section_headings': [],\n",
       "    'page_header': 'Letter from the Chairman of the Supervisory Board'},\n",
       "   'content_page': {'handwritten': [{'confidence': 1,\n",
       "      'offset': 8773,\n",
       "      'span_length': 13,\n",
       "      'raw_text': 'Alex Wynandts',\n",
       "      'bounding_box': [0.9615,\n",
       "       6.5351,\n",
       "       2.4119,\n",
       "       6.5234,\n",
       "       2.4147,\n",
       "       6.8633,\n",
       "       0.9643,\n",
       "       6.875]}],\n",
       "    'paragraphs': [{'role': None, 'raw_text': None, 'bounding_box': None},\n",
       "     {'role': None, 'raw_text': None, 'bounding_box': None},\n",
       "     {'role': None, 'raw_text': None, 'bounding_box': None},\n",
       "     {'role': None, 'raw_text': None, 'bounding_box': None},\n",
       "     {'role': None, 'raw_text': None, 'bounding_box': None},\n",
       "     {'role': None, 'raw_text': None, 'bounding_box': None},\n",
       "     {'role': None, 'raw_text': None, 'bounding_box': None},\n",
       "     {'role': None,\n",
       "      'raw_text': \"As part of personnel reorganization measures, the Management Board was reduced from ten to nine members to make it more efficient. With this new composition, we do, however, fall short of our own commitment regarding the share of women on the Management Board. The Supervisory Board is focused on raising the proportion of women in leadership roles, both at Management Board level and below. As part of the bank's new compensation system, we seek to integrate the latter more firmly into the performance goals of our Management Board members.\",\n",
       "      'bounding_box': [0.867,\n",
       "       1.3907,\n",
       "       7.39,\n",
       "       1.3878,\n",
       "       7.3904,\n",
       "       2.1489,\n",
       "       0.8673,\n",
       "       2.1518]},\n",
       "     {'role': None,\n",
       "      'raw_text': \"On the Supervisory Board, there was a routine change as a result of last year's elections, with Susanne Bleidt, Claudia Fieber, Brigit Laumen, Gerlinde Siebert, Frank Schulze, Stephan Szukalski and Jürgen Tögel being newly elected as employee representatives, while Jan Duscheck, Manja Eifert and Timo Heider were re-elected for a further term of office. In January 2024, Birgit Laumen resigned from her mandate and the court subsequently appointed Florian Haggenmiller as her successor. I would like to once again welcome all those who joined the Supervisory Board. My special thanks go to Frank Schulze, one of my deputies, for the close cooperation and partnership since the very beginning.\",\n",
       "      'bounding_box': [0.8711,\n",
       "       2.2969,\n",
       "       7.3851,\n",
       "       2.2975,\n",
       "       7.385,\n",
       "       3.2201,\n",
       "       0.8711,\n",
       "       3.2195]},\n",
       "     {'role': None,\n",
       "      'raw_text': 'On the shareholder side, continuity was the order of the day. Four shareholder representatives, whose term of office expired in 2023, were each re-elected by the Annual General Meeting for another four years. We look forward to continuing our valuable collaboration with Mayree Clark, John Thain, Michele Trogni and Norbert Winkeljohann.',\n",
       "      'bounding_box': [0.8695,\n",
       "       3.3676,\n",
       "       7.385,\n",
       "       3.3698,\n",
       "       7.3848,\n",
       "       3.8284,\n",
       "       0.8694,\n",
       "       3.8262]},\n",
       "     {'role': None,\n",
       "      'raw_text': 'In 2024, our Annual General Meeting will again be held virtually. The experience of the past few years has convinced us to take this step; this inclusive format offers numerous benefits. We have received recognition for the transparent implementation and quality of the answers to shareholder questions, which will again be submitted in advance this year. At the same time, we aim to enable an enhanced dialogue with shareholders on the day of the Annual General Meeting.',\n",
       "      'bounding_box': [0.8679,\n",
       "       3.9795,\n",
       "       7.3867,\n",
       "       3.9787,\n",
       "       7.3868,\n",
       "       4.5918,\n",
       "       0.8679,\n",
       "       4.5925]},\n",
       "     {'role': None,\n",
       "      'raw_text': 'Dear shareholders, the Supervisory Board is confident that your Deutsche Bank is on the right track. The bank has the right set-up and a strong management team. We will do everything we can to support them in the next phase of their growth strategy and to put our clients at the heart of everything we do. I am convinced that if we focus on our clients and our strengths, we will continue to create sustainable value for you, our shareholders.',\n",
       "      'bounding_box': [0.8716,\n",
       "       4.7395,\n",
       "       7.3887,\n",
       "       4.7411,\n",
       "       7.3886,\n",
       "       5.3533,\n",
       "       0.8714,\n",
       "       5.3517]},\n",
       "     {'role': None,\n",
       "      'raw_text': 'Sincerely,',\n",
       "      'bounding_box': [0.8731,\n",
       "       5.8121,\n",
       "       1.4009,\n",
       "       5.8186,\n",
       "       1.3991,\n",
       "       5.9626,\n",
       "       0.8713,\n",
       "       5.9562]},\n",
       "     {'role': None,\n",
       "      'raw_text': 'Alex Wynandts',\n",
       "      'bounding_box': [0.9615,\n",
       "       6.5351,\n",
       "       2.4119,\n",
       "       6.5234,\n",
       "       2.4147,\n",
       "       6.8633,\n",
       "       0.9643,\n",
       "       6.875]},\n",
       "     {'role': None,\n",
       "      'raw_text': 'Alex Wynaendts',\n",
       "      'bounding_box': [0.8723,\n",
       "       7.2704,\n",
       "       1.7417,\n",
       "       7.2727,\n",
       "       1.7413,\n",
       "       7.4144,\n",
       "       0.872,\n",
       "       7.4122]},\n",
       "     {'role': None,\n",
       "      'raw_text': 'Chairman of the Supervisory Board',\n",
       "      'bounding_box': [0.875,\n",
       "       7.5723,\n",
       "       2.7331,\n",
       "       7.5728,\n",
       "       2.7331,\n",
       "       7.7249,\n",
       "       0.875,\n",
       "       7.7244]}],\n",
       "    'tables': [],\n",
       "    'figures': []}},\n",
       "  {'page_number': 2,\n",
       "   'meta_page': {'width': 8.2639, 'height': 11.6806, 'unit': 'inch'},\n",
       "   'structure_page': {'footnote': None,\n",
       "    'page_headers': None,\n",
       "    'page_footer': None,\n",
       "    'page_title': [],\n",
       "    'section_headings': [],\n",
       "    'page_header': 'Letter from the Chairman of the Supervisory Board'},\n",
       "   'content_page': {'handwritten': [{'confidence': 1,\n",
       "      'offset': 8773,\n",
       "      'span_length': 13,\n",
       "      'raw_text': 'Alex Wynandts',\n",
       "      'bounding_box': [0.9615,\n",
       "       6.5351,\n",
       "       2.4119,\n",
       "       6.5234,\n",
       "       2.4147,\n",
       "       6.8633,\n",
       "       0.9643,\n",
       "       6.875]}],\n",
       "    'paragraphs': [{'role': None, 'raw_text': None, 'bounding_box': None},\n",
       "     {'role': None, 'raw_text': None, 'bounding_box': None},\n",
       "     {'role': None, 'raw_text': None, 'bounding_box': None},\n",
       "     {'role': None, 'raw_text': None, 'bounding_box': None},\n",
       "     {'role': None, 'raw_text': None, 'bounding_box': None},\n",
       "     {'role': None, 'raw_text': None, 'bounding_box': None},\n",
       "     {'role': None, 'raw_text': None, 'bounding_box': None},\n",
       "     {'role': None,\n",
       "      'raw_text': \"As part of personnel reorganization measures, the Management Board was reduced from ten to nine members to make it more efficient. With this new composition, we do, however, fall short of our own commitment regarding the share of women on the Management Board. The Supervisory Board is focused on raising the proportion of women in leadership roles, both at Management Board level and below. As part of the bank's new compensation system, we seek to integrate the latter more firmly into the performance goals of our Management Board members.\",\n",
       "      'bounding_box': [0.867,\n",
       "       1.3907,\n",
       "       7.39,\n",
       "       1.3878,\n",
       "       7.3904,\n",
       "       2.1489,\n",
       "       0.8673,\n",
       "       2.1518]},\n",
       "     {'role': None,\n",
       "      'raw_text': \"On the Supervisory Board, there was a routine change as a result of last year's elections, with Susanne Bleidt, Claudia Fieber, Brigit Laumen, Gerlinde Siebert, Frank Schulze, Stephan Szukalski and Jürgen Tögel being newly elected as employee representatives, while Jan Duscheck, Manja Eifert and Timo Heider were re-elected for a further term of office. In January 2024, Birgit Laumen resigned from her mandate and the court subsequently appointed Florian Haggenmiller as her successor. I would like to once again welcome all those who joined the Supervisory Board. My special thanks go to Frank Schulze, one of my deputies, for the close cooperation and partnership since the very beginning.\",\n",
       "      'bounding_box': [0.8711,\n",
       "       2.2969,\n",
       "       7.3851,\n",
       "       2.2975,\n",
       "       7.385,\n",
       "       3.2201,\n",
       "       0.8711,\n",
       "       3.2195]},\n",
       "     {'role': None,\n",
       "      'raw_text': 'On the shareholder side, continuity was the order of the day. Four shareholder representatives, whose term of office expired in 2023, were each re-elected by the Annual General Meeting for another four years. We look forward to continuing our valuable collaboration with Mayree Clark, John Thain, Michele Trogni and Norbert Winkeljohann.',\n",
       "      'bounding_box': [0.8695,\n",
       "       3.3676,\n",
       "       7.385,\n",
       "       3.3698,\n",
       "       7.3848,\n",
       "       3.8284,\n",
       "       0.8694,\n",
       "       3.8262]},\n",
       "     {'role': None,\n",
       "      'raw_text': 'In 2024, our Annual General Meeting will again be held virtually. The experience of the past few years has convinced us to take this step; this inclusive format offers numerous benefits. We have received recognition for the transparent implementation and quality of the answers to shareholder questions, which will again be submitted in advance this year. At the same time, we aim to enable an enhanced dialogue with shareholders on the day of the Annual General Meeting.',\n",
       "      'bounding_box': [0.8679,\n",
       "       3.9795,\n",
       "       7.3867,\n",
       "       3.9787,\n",
       "       7.3868,\n",
       "       4.5918,\n",
       "       0.8679,\n",
       "       4.5925]},\n",
       "     {'role': None,\n",
       "      'raw_text': 'Dear shareholders, the Supervisory Board is confident that your Deutsche Bank is on the right track. The bank has the right set-up and a strong management team. We will do everything we can to support them in the next phase of their growth strategy and to put our clients at the heart of everything we do. I am convinced that if we focus on our clients and our strengths, we will continue to create sustainable value for you, our shareholders.',\n",
       "      'bounding_box': [0.8716,\n",
       "       4.7395,\n",
       "       7.3887,\n",
       "       4.7411,\n",
       "       7.3886,\n",
       "       5.3533,\n",
       "       0.8714,\n",
       "       5.3517]},\n",
       "     {'role': None,\n",
       "      'raw_text': 'Sincerely,',\n",
       "      'bounding_box': [0.8731,\n",
       "       5.8121,\n",
       "       1.4009,\n",
       "       5.8186,\n",
       "       1.3991,\n",
       "       5.9626,\n",
       "       0.8713,\n",
       "       5.9562]},\n",
       "     {'role': None,\n",
       "      'raw_text': 'Alex Wynandts',\n",
       "      'bounding_box': [0.9615,\n",
       "       6.5351,\n",
       "       2.4119,\n",
       "       6.5234,\n",
       "       2.4147,\n",
       "       6.8633,\n",
       "       0.9643,\n",
       "       6.875]},\n",
       "     {'role': None,\n",
       "      'raw_text': 'Alex Wynaendts',\n",
       "      'bounding_box': [0.8723,\n",
       "       7.2704,\n",
       "       1.7417,\n",
       "       7.2727,\n",
       "       1.7413,\n",
       "       7.4144,\n",
       "       0.872,\n",
       "       7.4122]},\n",
       "     {'role': None,\n",
       "      'raw_text': 'Chairman of the Supervisory Board',\n",
       "      'bounding_box': [0.875,\n",
       "       7.5723,\n",
       "       2.7331,\n",
       "       7.5728,\n",
       "       2.7331,\n",
       "       7.7249,\n",
       "       0.875,\n",
       "       7.7244]}],\n",
       "    'tables': [],\n",
       "    'figures': []}}]}"
      ]
     },
     "execution_count": 6,
     "metadata": {},
     "output_type": "execute_result"
    }
   ],
   "source": [
    "result"
   ]
  },
  {
   "cell_type": "markdown",
   "metadata": {},
   "source": [
    "### Different chunking methods for documents"
   ]
  },
  {
   "cell_type": "markdown",
   "metadata": {},
   "source": [
    "#### Method: Fixed Size Chunking"
   ]
  },
  {
   "cell_type": "code",
   "execution_count": 7,
   "metadata": {},
   "outputs": [],
   "source": [
    "from langchain_text_splitters import CharacterTextSplitter"
   ]
  },
  {
   "cell_type": "code",
   "execution_count": 8,
   "metadata": {},
   "outputs": [],
   "source": [
    "text_splitter_test = CharacterTextSplitter(\n",
    "    separator=\"\\n\\n\",\n",
    "    chunk_size=10,\n",
    "    chunk_overlap=2,\n",
    "    length_function=len,\n",
    "    is_separator_regex=False,\n",
    ")"
   ]
  },
  {
   "cell_type": "code",
   "execution_count": 9,
   "metadata": {},
   "outputs": [],
   "source": [
    "string_test='h\\n\\nello world \\n\\nthis is \\n\\na test to check how chunking actually works'"
   ]
  },
  {
   "cell_type": "code",
   "execution_count": 10,
   "metadata": {},
   "outputs": [
    {
     "name": "stderr",
     "output_type": "stream",
     "text": [
      "Created a chunk of size 11, which is longer than the specified 10\n"
     ]
    },
    {
     "name": "stdout",
     "output_type": "stream",
     "text": [
      "[Document(metadata={}, page_content='h'), Document(metadata={}, page_content='ello world'), Document(metadata={}, page_content='this is'), Document(metadata={}, page_content='a test to check how chunking actually works')]\n"
     ]
    }
   ],
   "source": [
    "test_result=text_splitter_test.create_documents([string_test])\n",
    "print(test_result)"
   ]
  },
  {
   "cell_type": "code",
   "execution_count": 11,
   "metadata": {},
   "outputs": [],
   "source": [
    "text_splitter = CharacterTextSplitter(\n",
    "    separator=\"\\n\\n\",\n",
    "    chunk_size=1000,\n",
    "    chunk_overlap=200,\n",
    "    length_function=len,\n",
    "    is_separator_regex=False,\n",
    ")"
   ]
  },
  {
   "cell_type": "code",
   "execution_count": 12,
   "metadata": {},
   "outputs": [
    {
     "name": "stderr",
     "output_type": "stream",
     "text": [
      "Created a chunk of size 1269, which is longer than the specified 1000\n",
      "Created a chunk of size 1067, which is longer than the specified 1000\n",
      "Created a chunk of size 1392, which is longer than the specified 1000\n"
     ]
    },
    {
     "name": "stdout",
     "output_type": "stream",
     "text": [
      "[Document(metadata={}, page_content='<!-- PageHeader=\"Deutsche Bank Annual Report 2023\" -->\\n<!-- PageHeader=\"Letter from the Chairman of the Supervisory Board\" -->\\n\\n\\n# Letter from the Chairman of the Supervisory Board\\n\\nDear Shareholders,\\n\\nLast year, Deutsche Bank proved its resilience in a volatile environment, further increasing revenues and delivering its best\\npre-tax profit in 16 years. Thanks to its prudent risk management, the bank has a strong and stable balance sheet and has\\nfurther strengthened its capital base. As a result, we are this year once again in a position to substantially increase capital\\ndistributions to shareholders and we are pleased that the Supervisory Board and Management Board will propose to you a\\n50% increase in the dividend to € 0.45 per share at this year\\'s Annual General Meeting.'), Document(metadata={}, page_content=\"In this economic environment, the resilience and sustainable profitability of our bank were also focus topics for the Supervisory\\nBoard. It was the Risk Committee's task to keep an eye on our capital adequacy as well as to oversee the bank's risk\\nmanagement and the development of non-financial risks. Another priority was to set the course for future growth. The\\nSupervisory Board closely monitored the strategic development of the bank's culture and business model together with its\\nfinancial targets and capital objectives up to 2025. The Supervisory Board expressly supports the bank's even sharper focus\\non its role as a Global Hausbank. Part of this is supporting clients in their sustainable and digital transformation. This strategy\\nnot only enables the bank to play its role within the German and European economy but also - of this the Supervisory Board\\nis convinced - it is the right way to generate sustainable profits and returns for you as shareholders. In this context, the\\nSupervisory Board welcomes and supports the Management Board's work on clearly defining the bank's purpose, its vision\\nand aspirational culture, guided by the conviction that our top priority must be an even stronger focus on placing our clients at\\nthe center of everything we do.\"), Document(metadata={}, page_content=\"Effective controls protect both our bank and our clients. Further improving these controls was another important topic last\\nyear. The Supervisory Board regularly discussed significant regulatory issues as well as progress in the processing of material\\nlitigation cases. We are aware that there is still more to do. The Management Board and Supervisory Board are in close\\ndialogue with regulators and are focused on delivering the necessary improvements. To achieve this, the bank spent about\\n€ 1.2 billion on controls in 2023 and hired around 1,000 dedicated professionals across all regions. More details on these\\nimportant issues can be found in Deutsche Bank's Non-Financial Report, which is published in parallel with this Annual Report.\"), Document(metadata={}, page_content=\"One of the issues that the Supervisory Board addressed intensively last year was the restrictions for our clients following the\\nmigration of Postbank's IT to a common platform. The Management Board regularly reported to the Supervisory Board on the\\nprogress made in resolving the backlogs that had arisen, which were able to be reduced substantially over the past months.\\nNevertheless, it is clear that we have not lived up to our service and quality standards here and have disappointed our clients.\\nOn behalf of the Supervisory Board I would like to express my sincere apologies for the delays and problems caused to our\\nclients. The Supervisory Board has taken action as a result and reduced the variable compensation of several current and\\ndeparted Management Board members. Details can be found in our Compensation Report.\"), Document(metadata={}, page_content=\"There you will also find information on how we intend to develop the Management Board compensation system for 2024 and\\nbeyond. In our review, we incorporated feedback from investors and are addressing two main concerns: first, we want to\\nsimplify the system, making it more transparent for our external stakeholders, by significantly reducing the number of targets\\nand indicators on which variable compensation depends. Second, we aim to align how we evaluate Management Board\\nmembers' performance even more closely with the interests of our shareholders. This applies above all to the long-term\\ncomponent of variable compensation, which in future will no longer be measured against past years' results. In the new system,\\nboth financial and ESG targets will be forward-looking over a period of three years. In addition, we aim to be more ambitious\\nwhen it comes to setting targets for certain key performance indicators. We will submit the revised compensation system to\\nyou for voting at the Annual General Meeting in May; it is to be applied as early as this year.\"), Document(metadata={}, page_content=\"In 2023, the Supervisory Board also addressed personnel decisions in the Management Board. At the Annual General\\nMeeting, we bid farewell to Christiana Riley, Americas CEO, and Karl von Rohr, President and Head of Private Bank, who left\\nthe bank at the end of October after 25 years of service. Claudio de Sanctis subsequently assumed responsibility for the\\nPrivate Bank and joined the Management Board in July. He has been with Deutsche Bank since 2018 and has successfully\\ntransformed the International Private Bank in recent years and focused it on its strengths in the advisory business. Stefan\\nSimon assumed responsibility for the Americas region - in addition to his global responsibility for Legal, Regulatory Affairs\\nand Anti-Financial Crime. Besides client coverage, the structure of the US market requires significant coordination and\\ndialogue with regulators. Responsible for maintaining closer connections between the regions and our home market is\\nAlexander von zur Mühlen. He assumed responsibility for Germany and Europe, Middle East and Africa (EMEA) in July. He\\nalso continues to oversee the Asia-Pacific region. Rebecca Short was given an extended mandate on the Management Board\\nwith a view to making the bank more efficient. In addition to her responsibility for Human Resources, she was appointed Chief\\nOperating Officer with overall responsibility for the Group's costs.\"), Document(metadata={}, page_content='<!-- PageNumber=\"VI\" -->\\n<!-- PageBreak -->\\n\\n<!-- PageHeader=\"Deutsche Bank Annual Report 2023\" -->\\n<!-- PageHeader=\"Letter from the Chairman of the Supervisory Board\" -->\\n\\nAs part of personnel reorganization measures, the Management Board was reduced from ten to nine members to make it\\nmore efficient. With this new composition, we do, however, fall short of our own commitment regarding the share of women\\non the Management Board. The Supervisory Board is focused on raising the proportion of women in leadership roles, both at\\nManagement Board level and below. As part of the bank\\'s new compensation system, we seek to integrate the latter more\\nfirmly into the performance goals of our Management Board members.'), Document(metadata={}, page_content=\"On the Supervisory Board, there was a routine change as a result of last year's elections, with Susanne Bleidt, Claudia Fieber,\\nBrigit Laumen, Gerlinde Siebert, Frank Schulze, Stephan Szukalski and Jürgen Tögel being newly elected as employee\\nrepresentatives, while Jan Duscheck, Manja Eifert and Timo Heider were re-elected for a further term of office. In January\\n2024, Birgit Laumen resigned from her mandate and the court subsequently appointed Florian Haggenmiller as her successor.\\nI would like to once again welcome all those who joined the Supervisory Board. My special thanks go to Frank Schulze, one\\nof my deputies, for the close cooperation and partnership since the very beginning.\"), Document(metadata={}, page_content='On the shareholder side, continuity was the order of the day. Four shareholder representatives, whose term of office expired\\nin 2023, were each re-elected by the Annual General Meeting for another four years. We look forward to continuing our\\nvaluable collaboration with Mayree Clark, John Thain, Michele Trogni and Norbert Winkeljohann.\\n\\nIn 2024, our Annual General Meeting will again be held virtually. The experience of the past few years has convinced us to\\ntake this step; this inclusive format offers numerous benefits. We have received recognition for the transparent implementation\\nand quality of the answers to shareholder questions, which will again be submitted in advance this year. At the same time, we\\naim to enable an enhanced dialogue with shareholders on the day of the Annual General Meeting.'), Document(metadata={}, page_content='Dear shareholders, the Supervisory Board is confident that your Deutsche Bank is on the right track. The bank has the right\\nset-up and a strong management team. We will do everything we can to support them in the next phase of their growth strategy\\nand to put our clients at the heart of everything we do. I am convinced that if we focus on our clients and our strengths, we will\\ncontinue to create sustainable value for you, our shareholders.\\n\\nSincerely,\\n\\nAlex Wynandts\\n\\nAlex Wynaendts\\n\\nChairman of the Supervisory Board\\n\\n<!-- PageNumber=\"VII\" -->')]\n"
     ]
    }
   ],
   "source": [
    "fixed_size_chunking = text_splitter.create_documents([result_original['content']])\n",
    "print(fixed_size_chunking)"
   ]
  },
  {
   "cell_type": "markdown",
   "metadata": {},
   "source": [
    "#### Results\n",
    "- Depends heavily on the nature of the document\n",
    "\n",
    "- Seperating happens at predefined separators, in this case \"\\n\\n\". If we choose the separators differently, we get different chunks.  \n",
    "\n",
    "- length function \"len\" also counts empty spaces\n",
    "\n",
    "- If a chunk between two seperators exceed 1500 characters (measured by \"len\"), the previously defined max chunk size is exceeded. That was the case with separator \"\\n\\n\". The separator \"\\n\\n\" would guarantee that several paragraphs are chunked together. Save chunking separator would be \".\" or \"\\n\" but then we potentially separate paragraphs.\n"
   ]
  },
  {
   "cell_type": "markdown",
   "metadata": {},
   "source": [
    "#### Method: Recursive chunking by character"
   ]
  },
  {
   "cell_type": "code",
   "execution_count": 13,
   "metadata": {},
   "outputs": [],
   "source": [
    "from langchain_text_splitters import RecursiveCharacterTextSplitter"
   ]
  },
  {
   "cell_type": "code",
   "execution_count": 14,
   "metadata": {},
   "outputs": [],
   "source": [
    "recursive_splitter_test=RecursiveCharacterTextSplitter(\n",
    "    chunk_size=10,\n",
    "    chunk_overlap=7,\n",
    "    length_function=len,\n",
    "    separators=[' ', ''],\n",
    "    is_separator_regex=False,\n",
    "    )"
   ]
  },
  {
   "cell_type": "code",
   "execution_count": 15,
   "metadata": {},
   "outputs": [],
   "source": [
    "string_test='hello \\nworld this is a test to \\n\\ncheck how \\n\\nchunking \\n\\nactually \\nworks'"
   ]
  },
  {
   "cell_type": "code",
   "execution_count": 16,
   "metadata": {},
   "outputs": [
    {
     "name": "stdout",
     "output_type": "stream",
     "text": [
      "[Document(metadata={}, page_content='hello'), Document(metadata={}, page_content='world'), Document(metadata={}, page_content='this is a'), Document(metadata={}, page_content='is a test'), Document(metadata={}, page_content='a test to'), Document(metadata={}, page_content='check'), Document(metadata={}, page_content='how'), Document(metadata={}, page_content='chunkin'), Document(metadata={}, page_content='chunking'), Document(metadata={}, page_content='actuall'), Document(metadata={}, page_content='actually'), Document(metadata={}, page_content='works')]\n"
     ]
    }
   ],
   "source": [
    "recursive_test_result=recursive_splitter_test.create_documents([string_test])\n",
    "print(recursive_test_result)"
   ]
  },
  {
   "cell_type": "code",
   "execution_count": 17,
   "metadata": {},
   "outputs": [],
   "source": [
    "recursive_splitter=RecursiveCharacterTextSplitter(\n",
    "    chunk_size=500,\n",
    "    chunk_overlap=200,\n",
    "    length_function=len,\n",
    "    is_separator_regex=False,\n",
    "    )"
   ]
  },
  {
   "cell_type": "code",
   "execution_count": 18,
   "metadata": {},
   "outputs": [
    {
     "name": "stdout",
     "output_type": "stream",
     "text": [
      "page_content='<!-- PageHeader=\"Deutsche Bank Annual Report 2023\" -->\n",
      "<!-- PageHeader=\"Letter from the Chairman of the Supervisory Board\" -->\n",
      "\n",
      "\n",
      "# Letter from the Chairman of the Supervisory Board\n",
      "\n",
      "Dear Shareholders,'\n"
     ]
    }
   ],
   "source": [
    "recursive_result=recursive_splitter.create_documents([result_original['content']])\n",
    "print(recursive_result[0])"
   ]
  },
  {
   "cell_type": "markdown",
   "metadata": {},
   "source": [
    "#### Results\n",
    "- Even if overlap is defined, overlaps are not included between chunks separated by \"\\n\\n\" or \"\\n\" -> we want overlaps between paragraphs\n",
    "- if we choose as only seperators \" \" and \"\", we get overlaps between **some** chunks \n",
    "\n",
    "-> there needs to be a careful choice of chunksize and overlap-size to guarantee that we have overlaps between chunks"
   ]
  },
  {
   "cell_type": "markdown",
   "metadata": {},
   "source": [
    "#### Method: Semantic chunking"
   ]
  },
  {
   "cell_type": "markdown",
   "metadata": {},
   "source": [
    "- check for 3 sentences in a row and such that the corresponding paragraph boxes are also following one after the other. What do we do with Table descriptions? We don't have proper sentences here. \n",
    "- Sequence of paragraph boxes in a document (want enumeration)."
   ]
  },
  {
   "cell_type": "markdown",
   "metadata": {},
   "source": [
    "#### Uses embedding models\n",
    "- model_name=\"BAAI/bge-large-en-v1.5\" (only English docs)\n",
    "- model_name=\"jinaai/jina-embeddings-v2-base-en\" (multilingual)\n",
    "- model_name=\"jinaai/jina-embeddings-v3\" (multilingual)"
   ]
  },
  {
   "cell_type": "code",
   "execution_count": 19,
   "metadata": {},
   "outputs": [],
   "source": [
    "#Load bge-large-en-v1.5 model\n",
    "\n",
    "from langchain.embeddings import HuggingFaceBgeEmbeddings\n",
    "embed_model_bge=HuggingFaceBgeEmbeddings(model_name=\"BAAI/bge-large-en-v1.5\")"
   ]
  },
  {
   "cell_type": "code",
   "execution_count": 22,
   "metadata": {},
   "outputs": [],
   "source": [
    "#Load jina embedding v3\n",
    "\n",
    "import requests\n",
    "from langchain_community.embeddings import JinaEmbeddings\n",
    "\n",
    "# Your Jina API endpoint\n",
    "jina_api_endpoint = \"https://api.jina.ai/v1/embeddings\"\n",
    "\n",
    "# Your Jina API key\n",
    "jina_api_key = \"jina_0fcc407743094a9ca0ce5627b8a8dbbddwpevGnM12eIalT7K1FplEoeTq88\"\n",
    "\n",
    "# Load the Jina embedding model with the specified API reference\n",
    "embed_model_jinav3 = JinaEmbeddings(\n",
    "    model_name=\"jina-embeddings-v3\",\n",
    "    host=jina_api_endpoint,\n",
    "    jina_api_key=jina_api_key  # Pass the API key directly\n",
    ")"
   ]
  },
  {
   "cell_type": "code",
   "execution_count": 23,
   "metadata": {},
   "outputs": [
    {
     "data": {
      "application/vnd.jupyter.widget-view+json": {
       "model_id": "e42e9e3aee8e4b0ea5c315938e5ef480",
       "version_major": 2,
       "version_minor": 0
      },
      "text/plain": [
       "modeling_bert.py:   0%|          | 0.00/97.7k [00:00<?, ?B/s]"
      ]
     },
     "metadata": {},
     "output_type": "display_data"
    },
    {
     "name": "stderr",
     "output_type": "stream",
     "text": [
      "A new version of the following files was downloaded from https://huggingface.co/jinaai/jina-bert-implementation:\n",
      "- modeling_bert.py\n",
      ". Make sure to double-check they do not contain any added malicious code. To avoid downloading new versions of the code file, you can pin a revision.\n"
     ]
    }
   ],
   "source": [
    "#Load jina embedding v2\n",
    "\n",
    "from langchain.embeddings import HuggingFaceBgeEmbeddings\n",
    "embed_model_jinav2=HuggingFaceBgeEmbeddings(model_name=\"jinaai/jina-embeddings-v2-base-en\")"
   ]
  },
  {
   "cell_type": "code",
   "execution_count": 24,
   "metadata": {},
   "outputs": [],
   "source": [
    "from langchain_experimental.text_splitter import SemanticChunker"
   ]
  },
  {
   "cell_type": "markdown",
   "metadata": {},
   "source": [
    "##### Threshold by percentile"
   ]
  },
  {
   "cell_type": "code",
   "execution_count": 67,
   "metadata": {},
   "outputs": [],
   "source": [
    "semantic_chunker_bge_percentile=SemanticChunker(embed_model_bge,breakpoint_threshold_type=\"percentile\", buffer_size=3, breakpoint_threshold_amount=90)"
   ]
  },
  {
   "cell_type": "code",
   "execution_count": 50,
   "metadata": {},
   "outputs": [],
   "source": [
    "semantic_chunker_jinav2_percentile=SemanticChunker(embed_model_jinav2,breakpoint_threshold_type=\"percentile\", buffer_size=3)"
   ]
  },
  {
   "cell_type": "code",
   "execution_count": 51,
   "metadata": {},
   "outputs": [],
   "source": [
    "semantic_chunker_jinav3_percentile=SemanticChunker(embed_model_jinav3,breakpoint_threshold_type=\"percentile\", buffer_size=3)"
   ]
  },
  {
   "cell_type": "code",
   "execution_count": 68,
   "metadata": {},
   "outputs": [],
   "source": [
    "docs_bge_percentile = semantic_chunker_bge_percentile.create_documents([result_original['content']])"
   ]
  },
  {
   "cell_type": "code",
   "execution_count": null,
   "metadata": {},
   "outputs": [],
   "source": [
    "docs_jinav2_percentile = semantic_chunker_jinav2_percentile.create_documents([result_original['content']])\n",
    "docs_jinav3_percentile = semantic_chunker_jinav3_percentile.create_documents([result_original['content']])"
   ]
  },
  {
   "cell_type": "code",
   "execution_count": 69,
   "metadata": {},
   "outputs": [
    {
     "name": "stdout",
     "output_type": "stream",
     "text": [
      "7\n",
      "\n",
      "\n",
      " chunk 0\n",
      "\n",
      "\n",
      "<!-- PageHeader=\"Deutsche Bank Annual Report 2023\" -->\n",
      "<!-- PageHeader=\"Letter from the Chairman of the Supervisory Board\" -->\n",
      "\n",
      "\n",
      "# Letter from the Chairman of the Supervisory Board\n",
      "\n",
      "Dear Shareholders,\n",
      "\n",
      "Last year, Deutsche Bank proved its resilience in a volatile environment, further increasing revenues and delivering its best\n",
      "pre-tax profit in 16 years. Thanks to its prudent risk management, the bank has a strong and stable balance sheet and has\n",
      "further strengthened its capital base. As a result, we are this year once again in a position to substantially increase capital\n",
      "distributions to shareholders and we are pleased that the Supervisory Board and Management Board will propose to you a\n",
      "50% increase in the dividend to € 0.45 per share at this year's Annual General Meeting. In this economic environment, the resilience and sustainable profitability of our bank were also focus topics for the Supervisory\n",
      "Board.\n",
      "\n",
      "\n",
      " chunk 1\n",
      "\n",
      "\n",
      "It was the Risk Committee's task to keep an eye on our capital adequacy as well as to oversee the bank's risk\n",
      "management and the development of non-financial risks. Another priority was to set the course for future growth.\n",
      "\n",
      "\n",
      " chunk 2\n",
      "\n",
      "\n",
      "The\n",
      "Supervisory Board closely monitored the strategic development of the bank's culture and business model together with its\n",
      "financial targets and capital objectives up to 2025. The Supervisory Board expressly supports the bank's even sharper focus\n",
      "on its role as a Global Hausbank. Part of this is supporting clients in their sustainable and digital transformation. This strategy\n",
      "not only enables the bank to play its role within the German and European economy but also - of this the Supervisory Board\n",
      "is convinced - it is the right way to generate sustainable profits and returns for you as shareholders. In this context, the\n",
      "Supervisory Board welcomes and supports the Management Board's work on clearly defining the bank's purpose, its vision\n",
      "and aspirational culture, guided by the conviction that our top priority must be an even stronger focus on placing our clients at\n",
      "the center of everything we do. Effective controls protect both our bank and our clients. Further improving these controls was another important topic last\n",
      "year. The Supervisory Board regularly discussed significant regulatory issues as well as progress in the processing of material\n",
      "litigation cases.\n",
      "\n",
      "\n",
      " chunk 3\n",
      "\n",
      "\n",
      "We are aware that there is still more to do. The Management Board and Supervisory Board are in close\n",
      "dialogue with regulators and are focused on delivering the necessary improvements. To achieve this, the bank spent about\n",
      "€ 1.2 billion on controls in 2023 and hired around 1,000 dedicated professionals across all regions. More details on these\n",
      "important issues can be found in Deutsche Bank's Non-Financial Report, which is published in parallel with this Annual Report. One of the issues that the Supervisory Board addressed intensively last year was the restrictions for our clients following the\n",
      "migration of Postbank's IT to a common platform. The Management Board regularly reported to the Supervisory Board on the\n",
      "progress made in resolving the backlogs that had arisen, which were able to be reduced substantially over the past months. Nevertheless, it is clear that we have not lived up to our service and quality standards here and have disappointed our clients. On behalf of the Supervisory Board I would like to express my sincere apologies for the delays and problems caused to our\n",
      "clients.\n",
      "\n",
      "\n",
      " chunk 4\n",
      "\n",
      "\n",
      "The Supervisory Board has taken action as a result and reduced the variable compensation of several current and\n",
      "departed Management Board members. Details can be found in our Compensation Report. There you will also find information on how we intend to develop the Management Board compensation system for 2024 and\n",
      "beyond. In our review, we incorporated feedback from investors and are addressing two main concerns: first, we want to\n",
      "simplify the system, making it more transparent for our external stakeholders, by significantly reducing the number of targets\n",
      "and indicators on which variable compensation depends. Second, we aim to align how we evaluate Management Board\n",
      "members' performance even more closely with the interests of our shareholders. This applies above all to the long-term\n",
      "component of variable compensation, which in future will no longer be measured against past years' results. In the new system,\n",
      "both financial and ESG targets will be forward-looking over a period of three years.\n",
      "\n",
      "\n",
      " chunk 5\n",
      "\n",
      "\n",
      "In addition, we aim to be more ambitious\n",
      "when it comes to setting targets for certain key performance indicators. We will submit the revised compensation system to\n",
      "you for voting at the Annual General Meeting in May; it is to be applied as early as this year. In 2023, the Supervisory Board also addressed personnel decisions in the Management Board. At the Annual General\n",
      "Meeting, we bid farewell to Christiana Riley, Americas CEO, and Karl von Rohr, President and Head of Private Bank, who left\n",
      "the bank at the end of October after 25 years of service. Claudio de Sanctis subsequently assumed responsibility for the\n",
      "Private Bank and joined the Management Board in July. He has been with Deutsche Bank since 2018 and has successfully\n",
      "transformed the International Private Bank in recent years and focused it on its strengths in the advisory business. Stefan\n",
      "Simon assumed responsibility for the Americas region - in addition to his global responsibility for Legal, Regulatory Affairs\n",
      "and Anti-Financial Crime. Besides client coverage, the structure of the US market requires significant coordination and\n",
      "dialogue with regulators. Responsible for maintaining closer connections between the regions and our home market is\n",
      "Alexander von zur Mühlen. He assumed responsibility for Germany and Europe, Middle East and Africa (EMEA) in July.\n",
      "\n",
      "\n",
      " chunk 6\n",
      "\n",
      "\n",
      "He\n",
      "also continues to oversee the Asia-Pacific region. Rebecca Short was given an extended mandate on the Management Board\n",
      "with a view to making the bank more efficient. In addition to her responsibility for Human Resources, she was appointed Chief\n",
      "Operating Officer with overall responsibility for the Group's costs. <!-- PageNumber=\"VI\" -->\n",
      "<!-- PageBreak -->\n",
      "\n",
      "<!-- PageHeader=\"Deutsche Bank Annual Report 2023\" -->\n",
      "<!-- PageHeader=\"Letter from the Chairman of the Supervisory Board\" -->\n",
      "\n",
      "As part of personnel reorganization measures, the Management Board was reduced from ten to nine members to make it\n",
      "more efficient. With this new composition, we do, however, fall short of our own commitment regarding the share of women\n",
      "on the Management Board. The Supervisory Board is focused on raising the proportion of women in leadership roles, both at\n",
      "Management Board level and below. As part of the bank's new compensation system, we seek to integrate the latter more\n",
      "firmly into the performance goals of our Management Board members. On the Supervisory Board, there was a routine change as a result of last year's elections, with Susanne Bleidt, Claudia Fieber,\n",
      "Brigit Laumen, Gerlinde Siebert, Frank Schulze, Stephan Szukalski and Jürgen Tögel being newly elected as employee\n",
      "representatives, while Jan Duscheck, Manja Eifert and Timo Heider were re-elected for a further term of office. In January\n",
      "2024, Birgit Laumen resigned from her mandate and the court subsequently appointed Florian Haggenmiller as her successor. I would like to once again welcome all those who joined the Supervisory Board. My special thanks go to Frank Schulze, one\n",
      "of my deputies, for the close cooperation and partnership since the very beginning. On the shareholder side, continuity was the order of the day. Four shareholder representatives, whose term of office expired\n",
      "in 2023, were each re-elected by the Annual General Meeting for another four years. We look forward to continuing our\n",
      "valuable collaboration with Mayree Clark, John Thain, Michele Trogni and Norbert Winkeljohann. In 2024, our Annual General Meeting will again be held virtually. The experience of the past few years has convinced us to\n",
      "take this step; this inclusive format offers numerous benefits. We have received recognition for the transparent implementation\n",
      "and quality of the answers to shareholder questions, which will again be submitted in advance this year. At the same time, we\n",
      "aim to enable an enhanced dialogue with shareholders on the day of the Annual General Meeting. Dear shareholders, the Supervisory Board is confident that your Deutsche Bank is on the right track. The bank has the right\n",
      "set-up and a strong management team. We will do everything we can to support them in the next phase of their growth strategy\n",
      "and to put our clients at the heart of everything we do. I am convinced that if we focus on our clients and our strengths, we will\n",
      "continue to create sustainable value for you, our shareholders. Sincerely,\n",
      "\n",
      "Alex Wynandts\n",
      "\n",
      "Alex Wynaendts\n",
      "\n",
      "Chairman of the Supervisory Board\n",
      "\n",
      "<!-- PageNumber=\"VII\" -->\n",
      "\n"
     ]
    }
   ],
   "source": [
    "print(str(len(docs_bge_percentile)))\n",
    "\n",
    "for i in range(len(docs_bge_percentile)):\n",
    "    print(\"\\n\\n chunk \"+str(i) + \"\\n\\n\")\n",
    "    print(docs_bge_percentile[i].page_content)"
   ]
  },
  {
   "cell_type": "code",
   "execution_count": 54,
   "metadata": {},
   "outputs": [
    {
     "name": "stdout",
     "output_type": "stream",
     "text": [
      "4\n",
      "\n",
      "\n",
      " chunk 0\n",
      "\n",
      "\n",
      "<!-- PageHeader=\"Deutsche Bank Annual Report 2023\" -->\n",
      "<!-- PageHeader=\"Letter from the Chairman of the Supervisory Board\" -->\n",
      "\n",
      "\n",
      "# Letter from the Chairman of the Supervisory Board\n",
      "\n",
      "Dear Shareholders,\n",
      "\n",
      "Last year, Deutsche Bank proved its resilience in a volatile environment, further increasing revenues and delivering its best\n",
      "pre-tax profit in 16 years. Thanks to its prudent risk management, the bank has a strong and stable balance sheet and has\n",
      "further strengthened its capital base. As a result, we are this year once again in a position to substantially increase capital\n",
      "distributions to shareholders and we are pleased that the Supervisory Board and Management Board will propose to you a\n",
      "50% increase in the dividend to € 0.45 per share at this year's Annual General Meeting. In this economic environment, the resilience and sustainable profitability of our bank were also focus topics for the Supervisory\n",
      "Board.\n",
      "\n",
      "\n",
      " chunk 1\n",
      "\n",
      "\n",
      "It was the Risk Committee's task to keep an eye on our capital adequacy as well as to oversee the bank's risk\n",
      "management and the development of non-financial risks. Another priority was to set the course for future growth.\n",
      "\n",
      "\n",
      " chunk 2\n",
      "\n",
      "\n",
      "The\n",
      "Supervisory Board closely monitored the strategic development of the bank's culture and business model together with its\n",
      "financial targets and capital objectives up to 2025. The Supervisory Board expressly supports the bank's even sharper focus\n",
      "on its role as a Global Hausbank. Part of this is supporting clients in their sustainable and digital transformation. This strategy\n",
      "not only enables the bank to play its role within the German and European economy but also - of this the Supervisory Board\n",
      "is convinced - it is the right way to generate sustainable profits and returns for you as shareholders. In this context, the\n",
      "Supervisory Board welcomes and supports the Management Board's work on clearly defining the bank's purpose, its vision\n",
      "and aspirational culture, guided by the conviction that our top priority must be an even stronger focus on placing our clients at\n",
      "the center of everything we do. Effective controls protect both our bank and our clients. Further improving these controls was another important topic last\n",
      "year. The Supervisory Board regularly discussed significant regulatory issues as well as progress in the processing of material\n",
      "litigation cases. We are aware that there is still more to do. The Management Board and Supervisory Board are in close\n",
      "dialogue with regulators and are focused on delivering the necessary improvements. To achieve this, the bank spent about\n",
      "€ 1.2 billion on controls in 2023 and hired around 1,000 dedicated professionals across all regions. More details on these\n",
      "important issues can be found in Deutsche Bank's Non-Financial Report, which is published in parallel with this Annual Report. One of the issues that the Supervisory Board addressed intensively last year was the restrictions for our clients following the\n",
      "migration of Postbank's IT to a common platform. The Management Board regularly reported to the Supervisory Board on the\n",
      "progress made in resolving the backlogs that had arisen, which were able to be reduced substantially over the past months. Nevertheless, it is clear that we have not lived up to our service and quality standards here and have disappointed our clients. On behalf of the Supervisory Board I would like to express my sincere apologies for the delays and problems caused to our\n",
      "clients. The Supervisory Board has taken action as a result and reduced the variable compensation of several current and\n",
      "departed Management Board members. Details can be found in our Compensation Report. There you will also find information on how we intend to develop the Management Board compensation system for 2024 and\n",
      "beyond. In our review, we incorporated feedback from investors and are addressing two main concerns: first, we want to\n",
      "simplify the system, making it more transparent for our external stakeholders, by significantly reducing the number of targets\n",
      "and indicators on which variable compensation depends. Second, we aim to align how we evaluate Management Board\n",
      "members' performance even more closely with the interests of our shareholders. This applies above all to the long-term\n",
      "component of variable compensation, which in future will no longer be measured against past years' results. In the new system,\n",
      "both financial and ESG targets will be forward-looking over a period of three years. In addition, we aim to be more ambitious\n",
      "when it comes to setting targets for certain key performance indicators. We will submit the revised compensation system to\n",
      "you for voting at the Annual General Meeting in May; it is to be applied as early as this year. In 2023, the Supervisory Board also addressed personnel decisions in the Management Board. At the Annual General\n",
      "Meeting, we bid farewell to Christiana Riley, Americas CEO, and Karl von Rohr, President and Head of Private Bank, who left\n",
      "the bank at the end of October after 25 years of service. Claudio de Sanctis subsequently assumed responsibility for the\n",
      "Private Bank and joined the Management Board in July. He has been with Deutsche Bank since 2018 and has successfully\n",
      "transformed the International Private Bank in recent years and focused it on its strengths in the advisory business. Stefan\n",
      "Simon assumed responsibility for the Americas region - in addition to his global responsibility for Legal, Regulatory Affairs\n",
      "and Anti-Financial Crime. Besides client coverage, the structure of the US market requires significant coordination and\n",
      "dialogue with regulators. Responsible for maintaining closer connections between the regions and our home market is\n",
      "Alexander von zur Mühlen. He assumed responsibility for Germany and Europe, Middle East and Africa (EMEA) in July.\n",
      "\n",
      "\n",
      " chunk 3\n",
      "\n",
      "\n",
      "He\n",
      "also continues to oversee the Asia-Pacific region. Rebecca Short was given an extended mandate on the Management Board\n",
      "with a view to making the bank more efficient. In addition to her responsibility for Human Resources, she was appointed Chief\n",
      "Operating Officer with overall responsibility for the Group's costs. <!-- PageNumber=\"VI\" -->\n",
      "<!-- PageBreak -->\n",
      "\n",
      "<!-- PageHeader=\"Deutsche Bank Annual Report 2023\" -->\n",
      "<!-- PageHeader=\"Letter from the Chairman of the Supervisory Board\" -->\n",
      "\n",
      "As part of personnel reorganization measures, the Management Board was reduced from ten to nine members to make it\n",
      "more efficient. With this new composition, we do, however, fall short of our own commitment regarding the share of women\n",
      "on the Management Board. The Supervisory Board is focused on raising the proportion of women in leadership roles, both at\n",
      "Management Board level and below. As part of the bank's new compensation system, we seek to integrate the latter more\n",
      "firmly into the performance goals of our Management Board members. On the Supervisory Board, there was a routine change as a result of last year's elections, with Susanne Bleidt, Claudia Fieber,\n",
      "Brigit Laumen, Gerlinde Siebert, Frank Schulze, Stephan Szukalski and Jürgen Tögel being newly elected as employee\n",
      "representatives, while Jan Duscheck, Manja Eifert and Timo Heider were re-elected for a further term of office. In January\n",
      "2024, Birgit Laumen resigned from her mandate and the court subsequently appointed Florian Haggenmiller as her successor. I would like to once again welcome all those who joined the Supervisory Board. My special thanks go to Frank Schulze, one\n",
      "of my deputies, for the close cooperation and partnership since the very beginning. On the shareholder side, continuity was the order of the day. Four shareholder representatives, whose term of office expired\n",
      "in 2023, were each re-elected by the Annual General Meeting for another four years. We look forward to continuing our\n",
      "valuable collaboration with Mayree Clark, John Thain, Michele Trogni and Norbert Winkeljohann. In 2024, our Annual General Meeting will again be held virtually. The experience of the past few years has convinced us to\n",
      "take this step; this inclusive format offers numerous benefits. We have received recognition for the transparent implementation\n",
      "and quality of the answers to shareholder questions, which will again be submitted in advance this year. At the same time, we\n",
      "aim to enable an enhanced dialogue with shareholders on the day of the Annual General Meeting. Dear shareholders, the Supervisory Board is confident that your Deutsche Bank is on the right track. The bank has the right\n",
      "set-up and a strong management team. We will do everything we can to support them in the next phase of their growth strategy\n",
      "and to put our clients at the heart of everything we do. I am convinced that if we focus on our clients and our strengths, we will\n",
      "continue to create sustainable value for you, our shareholders. Sincerely,\n",
      "\n",
      "Alex Wynandts\n",
      "\n",
      "Alex Wynaendts\n",
      "\n",
      "Chairman of the Supervisory Board\n",
      "\n",
      "<!-- PageNumber=\"VII\" -->\n",
      "\n"
     ]
    }
   ],
   "source": [
    "print(str(len(docs_jinav2_percentile)))\n",
    "\n",
    "for i in range(len(docs_jinav2_percentile)):\n",
    "    print(\"\\n\\n chunk \"+str(i) + \"\\n\\n\")\n",
    "    print(docs_jinav2_percentile[i].page_content)"
   ]
  },
  {
   "cell_type": "code",
   "execution_count": 55,
   "metadata": {},
   "outputs": [
    {
     "name": "stdout",
     "output_type": "stream",
     "text": [
      "4\n",
      "\n",
      "\n",
      " chunk 0\n",
      "\n",
      "\n",
      "<!-- PageHeader=\"Deutsche Bank Annual Report 2023\" -->\n",
      "<!-- PageHeader=\"Letter from the Chairman of the Supervisory Board\" -->\n",
      "\n",
      "\n",
      "# Letter from the Chairman of the Supervisory Board\n",
      "\n",
      "Dear Shareholders,\n",
      "\n",
      "Last year, Deutsche Bank proved its resilience in a volatile environment, further increasing revenues and delivering its best\n",
      "pre-tax profit in 16 years. Thanks to its prudent risk management, the bank has a strong and stable balance sheet and has\n",
      "further strengthened its capital base. As a result, we are this year once again in a position to substantially increase capital\n",
      "distributions to shareholders and we are pleased that the Supervisory Board and Management Board will propose to you a\n",
      "50% increase in the dividend to € 0.45 per share at this year's Annual General Meeting. In this economic environment, the resilience and sustainable profitability of our bank were also focus topics for the Supervisory\n",
      "Board.\n",
      "\n",
      "\n",
      " chunk 1\n",
      "\n",
      "\n",
      "It was the Risk Committee's task to keep an eye on our capital adequacy as well as to oversee the bank's risk\n",
      "management and the development of non-financial risks. Another priority was to set the course for future growth. The\n",
      "Supervisory Board closely monitored the strategic development of the bank's culture and business model together with its\n",
      "financial targets and capital objectives up to 2025. The Supervisory Board expressly supports the bank's even sharper focus\n",
      "on its role as a Global Hausbank. Part of this is supporting clients in their sustainable and digital transformation. This strategy\n",
      "not only enables the bank to play its role within the German and European economy but also - of this the Supervisory Board\n",
      "is convinced - it is the right way to generate sustainable profits and returns for you as shareholders. In this context, the\n",
      "Supervisory Board welcomes and supports the Management Board's work on clearly defining the bank's purpose, its vision\n",
      "and aspirational culture, guided by the conviction that our top priority must be an even stronger focus on placing our clients at\n",
      "the center of everything we do. Effective controls protect both our bank and our clients. Further improving these controls was another important topic last\n",
      "year. The Supervisory Board regularly discussed significant regulatory issues as well as progress in the processing of material\n",
      "litigation cases. We are aware that there is still more to do. The Management Board and Supervisory Board are in close\n",
      "dialogue with regulators and are focused on delivering the necessary improvements. To achieve this, the bank spent about\n",
      "€ 1.2 billion on controls in 2023 and hired around 1,000 dedicated professionals across all regions. More details on these\n",
      "important issues can be found in Deutsche Bank's Non-Financial Report, which is published in parallel with this Annual Report. One of the issues that the Supervisory Board addressed intensively last year was the restrictions for our clients following the\n",
      "migration of Postbank's IT to a common platform. The Management Board regularly reported to the Supervisory Board on the\n",
      "progress made in resolving the backlogs that had arisen, which were able to be reduced substantially over the past months. Nevertheless, it is clear that we have not lived up to our service and quality standards here and have disappointed our clients. On behalf of the Supervisory Board I would like to express my sincere apologies for the delays and problems caused to our\n",
      "clients. The Supervisory Board has taken action as a result and reduced the variable compensation of several current and\n",
      "departed Management Board members. Details can be found in our Compensation Report. There you will also find information on how we intend to develop the Management Board compensation system for 2024 and\n",
      "beyond. In our review, we incorporated feedback from investors and are addressing two main concerns: first, we want to\n",
      "simplify the system, making it more transparent for our external stakeholders, by significantly reducing the number of targets\n",
      "and indicators on which variable compensation depends. Second, we aim to align how we evaluate Management Board\n",
      "members' performance even more closely with the interests of our shareholders. This applies above all to the long-term\n",
      "component of variable compensation, which in future will no longer be measured against past years' results. In the new system,\n",
      "both financial and ESG targets will be forward-looking over a period of three years. In addition, we aim to be more ambitious\n",
      "when it comes to setting targets for certain key performance indicators. We will submit the revised compensation system to\n",
      "you for voting at the Annual General Meeting in May; it is to be applied as early as this year. In 2023, the Supervisory Board also addressed personnel decisions in the Management Board. At the Annual General\n",
      "Meeting, we bid farewell to Christiana Riley, Americas CEO, and Karl von Rohr, President and Head of Private Bank, who left\n",
      "the bank at the end of October after 25 years of service. Claudio de Sanctis subsequently assumed responsibility for the\n",
      "Private Bank and joined the Management Board in July. He has been with Deutsche Bank since 2018 and has successfully\n",
      "transformed the International Private Bank in recent years and focused it on its strengths in the advisory business. Stefan\n",
      "Simon assumed responsibility for the Americas region - in addition to his global responsibility for Legal, Regulatory Affairs\n",
      "and Anti-Financial Crime. Besides client coverage, the structure of the US market requires significant coordination and\n",
      "dialogue with regulators. Responsible for maintaining closer connections between the regions and our home market is\n",
      "Alexander von zur Mühlen. He assumed responsibility for Germany and Europe, Middle East and Africa (EMEA) in July.\n",
      "\n",
      "\n",
      " chunk 2\n",
      "\n",
      "\n",
      "He\n",
      "also continues to oversee the Asia-Pacific region. Rebecca Short was given an extended mandate on the Management Board\n",
      "with a view to making the bank more efficient. In addition to her responsibility for Human Resources, she was appointed Chief\n",
      "Operating Officer with overall responsibility for the Group's costs. <!-- PageNumber=\"VI\" -->\n",
      "<!-- PageBreak -->\n",
      "\n",
      "<!-- PageHeader=\"Deutsche Bank Annual Report 2023\" -->\n",
      "<!-- PageHeader=\"Letter from the Chairman of the Supervisory Board\" -->\n",
      "\n",
      "As part of personnel reorganization measures, the Management Board was reduced from ten to nine members to make it\n",
      "more efficient. With this new composition, we do, however, fall short of our own commitment regarding the share of women\n",
      "on the Management Board. The Supervisory Board is focused on raising the proportion of women in leadership roles, both at\n",
      "Management Board level and below. As part of the bank's new compensation system, we seek to integrate the latter more\n",
      "firmly into the performance goals of our Management Board members. On the Supervisory Board, there was a routine change as a result of last year's elections, with Susanne Bleidt, Claudia Fieber,\n",
      "Brigit Laumen, Gerlinde Siebert, Frank Schulze, Stephan Szukalski and Jürgen Tögel being newly elected as employee\n",
      "representatives, while Jan Duscheck, Manja Eifert and Timo Heider were re-elected for a further term of office. In January\n",
      "2024, Birgit Laumen resigned from her mandate and the court subsequently appointed Florian Haggenmiller as her successor. I would like to once again welcome all those who joined the Supervisory Board. My special thanks go to Frank Schulze, one\n",
      "of my deputies, for the close cooperation and partnership since the very beginning. On the shareholder side, continuity was the order of the day. Four shareholder representatives, whose term of office expired\n",
      "in 2023, were each re-elected by the Annual General Meeting for another four years. We look forward to continuing our\n",
      "valuable collaboration with Mayree Clark, John Thain, Michele Trogni and Norbert Winkeljohann. In 2024, our Annual General Meeting will again be held virtually.\n",
      "\n",
      "\n",
      " chunk 3\n",
      "\n",
      "\n",
      "The experience of the past few years has convinced us to\n",
      "take this step; this inclusive format offers numerous benefits. We have received recognition for the transparent implementation\n",
      "and quality of the answers to shareholder questions, which will again be submitted in advance this year. At the same time, we\n",
      "aim to enable an enhanced dialogue with shareholders on the day of the Annual General Meeting. Dear shareholders, the Supervisory Board is confident that your Deutsche Bank is on the right track. The bank has the right\n",
      "set-up and a strong management team. We will do everything we can to support them in the next phase of their growth strategy\n",
      "and to put our clients at the heart of everything we do. I am convinced that if we focus on our clients and our strengths, we will\n",
      "continue to create sustainable value for you, our shareholders. Sincerely,\n",
      "\n",
      "Alex Wynandts\n",
      "\n",
      "Alex Wynaendts\n",
      "\n",
      "Chairman of the Supervisory Board\n",
      "\n",
      "<!-- PageNumber=\"VII\" -->\n",
      "\n"
     ]
    }
   ],
   "source": [
    "print(str(len(docs_jinav3_percentile)))\n",
    "\n",
    "for i in range(len(docs_jinav3_percentile)):\n",
    "    print(\"\\n\\n chunk \"+str(i) + \"\\n\\n\")\n",
    "    print(docs_jinav3_percentile[i].page_content)"
   ]
  },
  {
   "cell_type": "markdown",
   "metadata": {},
   "source": [
    "#### Threshold by standard deviation"
   ]
  },
  {
   "cell_type": "code",
   "execution_count": 35,
   "metadata": {},
   "outputs": [],
   "source": [
    "semantic_chunker_bge_standard_deviation=SemanticChunker(embed_model_bge,breakpoint_threshold_type=\"standard_deviation\")"
   ]
  },
  {
   "cell_type": "code",
   "execution_count": 36,
   "metadata": {},
   "outputs": [],
   "source": [
    "semantic_chunker_jinav2_standard_deviation=SemanticChunker(embed_model_jinav2,breakpoint_threshold_type=\"standard_deviation\")"
   ]
  },
  {
   "cell_type": "code",
   "execution_count": 37,
   "metadata": {},
   "outputs": [],
   "source": [
    "semantic_chunker_jinav3_standard_deviation=SemanticChunker(embed_model_jinav3,breakpoint_threshold_type=\"standard_deviation\")"
   ]
  },
  {
   "cell_type": "code",
   "execution_count": 38,
   "metadata": {},
   "outputs": [],
   "source": [
    "docs_bge_standard_deviation = semantic_chunker_bge_standard_deviation.create_documents([result_original['content']])\n",
    "docs_jinav2_standard_deviation = semantic_chunker_jinav2_standard_deviation.create_documents([result_original['content']])\n",
    "docs_jinav3_standard_deviation = semantic_chunker_jinav3_standard_deviation.create_documents([result_original['content']])"
   ]
  },
  {
   "cell_type": "code",
   "execution_count": 39,
   "metadata": {},
   "outputs": [
    {
     "name": "stdout",
     "output_type": "stream",
     "text": [
      "2\n",
      "\n",
      "\n",
      " chunk 0\n",
      "\n",
      "\n",
      "<!-- PageHeader=\"Deutsche Bank Annual Report 2023\" -->\n",
      "<!-- PageHeader=\"Letter from the Chairman of the Supervisory Board\" -->\n",
      "\n",
      "\n",
      "# Letter from the Chairman of the Supervisory Board\n",
      "\n",
      "Dear Shareholders,\n",
      "\n",
      "Last year, Deutsche Bank proved its resilience in a volatile environment, further increasing revenues and delivering its best\n",
      "pre-tax profit in 16 years. Thanks to its prudent risk management, the bank has a strong and stable balance sheet and has\n",
      "further strengthened its capital base. As a result, we are this year once again in a position to substantially increase capital\n",
      "distributions to shareholders and we are pleased that the Supervisory Board and Management Board will propose to you a\n",
      "50% increase in the dividend to € 0.45 per share at this year's Annual General Meeting. In this economic environment, the resilience and sustainable profitability of our bank were also focus topics for the Supervisory\n",
      "Board. It was the Risk Committee's task to keep an eye on our capital adequacy as well as to oversee the bank's risk\n",
      "management and the development of non-financial risks. Another priority was to set the course for future growth. The\n",
      "Supervisory Board closely monitored the strategic development of the bank's culture and business model together with its\n",
      "financial targets and capital objectives up to 2025. The Supervisory Board expressly supports the bank's even sharper focus\n",
      "on its role as a Global Hausbank. Part of this is supporting clients in their sustainable and digital transformation. This strategy\n",
      "not only enables the bank to play its role within the German and European economy but also - of this the Supervisory Board\n",
      "is convinced - it is the right way to generate sustainable profits and returns for you as shareholders. In this context, the\n",
      "Supervisory Board welcomes and supports the Management Board's work on clearly defining the bank's purpose, its vision\n",
      "and aspirational culture, guided by the conviction that our top priority must be an even stronger focus on placing our clients at\n",
      "the center of everything we do. Effective controls protect both our bank and our clients. Further improving these controls was another important topic last\n",
      "year. The Supervisory Board regularly discussed significant regulatory issues as well as progress in the processing of material\n",
      "litigation cases. We are aware that there is still more to do.\n",
      "\n",
      "\n",
      " chunk 1\n",
      "\n",
      "\n",
      "The Management Board and Supervisory Board are in close\n",
      "dialogue with regulators and are focused on delivering the necessary improvements. To achieve this, the bank spent about\n",
      "€ 1.2 billion on controls in 2023 and hired around 1,000 dedicated professionals across all regions. More details on these\n",
      "important issues can be found in Deutsche Bank's Non-Financial Report, which is published in parallel with this Annual Report. One of the issues that the Supervisory Board addressed intensively last year was the restrictions for our clients following the\n",
      "migration of Postbank's IT to a common platform. The Management Board regularly reported to the Supervisory Board on the\n",
      "progress made in resolving the backlogs that had arisen, which were able to be reduced substantially over the past months. Nevertheless, it is clear that we have not lived up to our service and quality standards here and have disappointed our clients. On behalf of the Supervisory Board I would like to express my sincere apologies for the delays and problems caused to our\n",
      "clients. The Supervisory Board has taken action as a result and reduced the variable compensation of several current and\n",
      "departed Management Board members. Details can be found in our Compensation Report. There you will also find information on how we intend to develop the Management Board compensation system for 2024 and\n",
      "beyond. In our review, we incorporated feedback from investors and are addressing two main concerns: first, we want to\n",
      "simplify the system, making it more transparent for our external stakeholders, by significantly reducing the number of targets\n",
      "and indicators on which variable compensation depends. Second, we aim to align how we evaluate Management Board\n",
      "members' performance even more closely with the interests of our shareholders. This applies above all to the long-term\n",
      "component of variable compensation, which in future will no longer be measured against past years' results. In the new system,\n",
      "both financial and ESG targets will be forward-looking over a period of three years. In addition, we aim to be more ambitious\n",
      "when it comes to setting targets for certain key performance indicators. We will submit the revised compensation system to\n",
      "you for voting at the Annual General Meeting in May; it is to be applied as early as this year. In 2023, the Supervisory Board also addressed personnel decisions in the Management Board. At the Annual General\n",
      "Meeting, we bid farewell to Christiana Riley, Americas CEO, and Karl von Rohr, President and Head of Private Bank, who left\n",
      "the bank at the end of October after 25 years of service. Claudio de Sanctis subsequently assumed responsibility for the\n",
      "Private Bank and joined the Management Board in July. He has been with Deutsche Bank since 2018 and has successfully\n",
      "transformed the International Private Bank in recent years and focused it on its strengths in the advisory business. Stefan\n",
      "Simon assumed responsibility for the Americas region - in addition to his global responsibility for Legal, Regulatory Affairs\n",
      "and Anti-Financial Crime. Besides client coverage, the structure of the US market requires significant coordination and\n",
      "dialogue with regulators. Responsible for maintaining closer connections between the regions and our home market is\n",
      "Alexander von zur Mühlen. He assumed responsibility for Germany and Europe, Middle East and Africa (EMEA) in July. He\n",
      "also continues to oversee the Asia-Pacific region. Rebecca Short was given an extended mandate on the Management Board\n",
      "with a view to making the bank more efficient. In addition to her responsibility for Human Resources, she was appointed Chief\n",
      "Operating Officer with overall responsibility for the Group's costs. <!-- PageNumber=\"VI\" -->\n",
      "<!-- PageBreak -->\n",
      "\n",
      "<!-- PageHeader=\"Deutsche Bank Annual Report 2023\" -->\n",
      "<!-- PageHeader=\"Letter from the Chairman of the Supervisory Board\" -->\n",
      "\n",
      "As part of personnel reorganization measures, the Management Board was reduced from ten to nine members to make it\n",
      "more efficient. With this new composition, we do, however, fall short of our own commitment regarding the share of women\n",
      "on the Management Board. The Supervisory Board is focused on raising the proportion of women in leadership roles, both at\n",
      "Management Board level and below. As part of the bank's new compensation system, we seek to integrate the latter more\n",
      "firmly into the performance goals of our Management Board members. On the Supervisory Board, there was a routine change as a result of last year's elections, with Susanne Bleidt, Claudia Fieber,\n",
      "Brigit Laumen, Gerlinde Siebert, Frank Schulze, Stephan Szukalski and Jürgen Tögel being newly elected as employee\n",
      "representatives, while Jan Duscheck, Manja Eifert and Timo Heider were re-elected for a further term of office. In January\n",
      "2024, Birgit Laumen resigned from her mandate and the court subsequently appointed Florian Haggenmiller as her successor. I would like to once again welcome all those who joined the Supervisory Board. My special thanks go to Frank Schulze, one\n",
      "of my deputies, for the close cooperation and partnership since the very beginning. On the shareholder side, continuity was the order of the day. Four shareholder representatives, whose term of office expired\n",
      "in 2023, were each re-elected by the Annual General Meeting for another four years. We look forward to continuing our\n",
      "valuable collaboration with Mayree Clark, John Thain, Michele Trogni and Norbert Winkeljohann. In 2024, our Annual General Meeting will again be held virtually. The experience of the past few years has convinced us to\n",
      "take this step; this inclusive format offers numerous benefits. We have received recognition for the transparent implementation\n",
      "and quality of the answers to shareholder questions, which will again be submitted in advance this year. At the same time, we\n",
      "aim to enable an enhanced dialogue with shareholders on the day of the Annual General Meeting. Dear shareholders, the Supervisory Board is confident that your Deutsche Bank is on the right track. The bank has the right\n",
      "set-up and a strong management team. We will do everything we can to support them in the next phase of their growth strategy\n",
      "and to put our clients at the heart of everything we do. I am convinced that if we focus on our clients and our strengths, we will\n",
      "continue to create sustainable value for you, our shareholders. Sincerely,\n",
      "\n",
      "Alex Wynandts\n",
      "\n",
      "Alex Wynaendts\n",
      "\n",
      "Chairman of the Supervisory Board\n",
      "\n",
      "<!-- PageNumber=\"VII\" -->\n",
      "\n"
     ]
    }
   ],
   "source": [
    "print(str(len(docs_bge_standard_deviation)))\n",
    "\n",
    "for i in range(len(docs_bge_standard_deviation)):\n",
    "    print(\"\\n\\n chunk \"+str(i) + \"\\n\\n\")\n",
    "    print(docs_bge_standard_deviation[i].page_content)"
   ]
  },
  {
   "cell_type": "code",
   "execution_count": 40,
   "metadata": {},
   "outputs": [
    {
     "name": "stdout",
     "output_type": "stream",
     "text": [
      "1\n",
      "\n",
      "\n",
      " chunk 0\n",
      "\n",
      "\n",
      "<!-- PageHeader=\"Deutsche Bank Annual Report 2023\" -->\n",
      "<!-- PageHeader=\"Letter from the Chairman of the Supervisory Board\" -->\n",
      "\n",
      "\n",
      "# Letter from the Chairman of the Supervisory Board\n",
      "\n",
      "Dear Shareholders,\n",
      "\n",
      "Last year, Deutsche Bank proved its resilience in a volatile environment, further increasing revenues and delivering its best\n",
      "pre-tax profit in 16 years. Thanks to its prudent risk management, the bank has a strong and stable balance sheet and has\n",
      "further strengthened its capital base. As a result, we are this year once again in a position to substantially increase capital\n",
      "distributions to shareholders and we are pleased that the Supervisory Board and Management Board will propose to you a\n",
      "50% increase in the dividend to € 0.45 per share at this year's Annual General Meeting. In this economic environment, the resilience and sustainable profitability of our bank were also focus topics for the Supervisory\n",
      "Board. It was the Risk Committee's task to keep an eye on our capital adequacy as well as to oversee the bank's risk\n",
      "management and the development of non-financial risks. Another priority was to set the course for future growth. The\n",
      "Supervisory Board closely monitored the strategic development of the bank's culture and business model together with its\n",
      "financial targets and capital objectives up to 2025. The Supervisory Board expressly supports the bank's even sharper focus\n",
      "on its role as a Global Hausbank. Part of this is supporting clients in their sustainable and digital transformation. This strategy\n",
      "not only enables the bank to play its role within the German and European economy but also - of this the Supervisory Board\n",
      "is convinced - it is the right way to generate sustainable profits and returns for you as shareholders. In this context, the\n",
      "Supervisory Board welcomes and supports the Management Board's work on clearly defining the bank's purpose, its vision\n",
      "and aspirational culture, guided by the conviction that our top priority must be an even stronger focus on placing our clients at\n",
      "the center of everything we do. Effective controls protect both our bank and our clients. Further improving these controls was another important topic last\n",
      "year. The Supervisory Board regularly discussed significant regulatory issues as well as progress in the processing of material\n",
      "litigation cases. We are aware that there is still more to do. The Management Board and Supervisory Board are in close\n",
      "dialogue with regulators and are focused on delivering the necessary improvements. To achieve this, the bank spent about\n",
      "€ 1.2 billion on controls in 2023 and hired around 1,000 dedicated professionals across all regions. More details on these\n",
      "important issues can be found in Deutsche Bank's Non-Financial Report, which is published in parallel with this Annual Report. One of the issues that the Supervisory Board addressed intensively last year was the restrictions for our clients following the\n",
      "migration of Postbank's IT to a common platform. The Management Board regularly reported to the Supervisory Board on the\n",
      "progress made in resolving the backlogs that had arisen, which were able to be reduced substantially over the past months. Nevertheless, it is clear that we have not lived up to our service and quality standards here and have disappointed our clients. On behalf of the Supervisory Board I would like to express my sincere apologies for the delays and problems caused to our\n",
      "clients. The Supervisory Board has taken action as a result and reduced the variable compensation of several current and\n",
      "departed Management Board members. Details can be found in our Compensation Report. There you will also find information on how we intend to develop the Management Board compensation system for 2024 and\n",
      "beyond. In our review, we incorporated feedback from investors and are addressing two main concerns: first, we want to\n",
      "simplify the system, making it more transparent for our external stakeholders, by significantly reducing the number of targets\n",
      "and indicators on which variable compensation depends. Second, we aim to align how we evaluate Management Board\n",
      "members' performance even more closely with the interests of our shareholders. This applies above all to the long-term\n",
      "component of variable compensation, which in future will no longer be measured against past years' results. In the new system,\n",
      "both financial and ESG targets will be forward-looking over a period of three years. In addition, we aim to be more ambitious\n",
      "when it comes to setting targets for certain key performance indicators. We will submit the revised compensation system to\n",
      "you for voting at the Annual General Meeting in May; it is to be applied as early as this year. In 2023, the Supervisory Board also addressed personnel decisions in the Management Board. At the Annual General\n",
      "Meeting, we bid farewell to Christiana Riley, Americas CEO, and Karl von Rohr, President and Head of Private Bank, who left\n",
      "the bank at the end of October after 25 years of service. Claudio de Sanctis subsequently assumed responsibility for the\n",
      "Private Bank and joined the Management Board in July. He has been with Deutsche Bank since 2018 and has successfully\n",
      "transformed the International Private Bank in recent years and focused it on its strengths in the advisory business. Stefan\n",
      "Simon assumed responsibility for the Americas region - in addition to his global responsibility for Legal, Regulatory Affairs\n",
      "and Anti-Financial Crime. Besides client coverage, the structure of the US market requires significant coordination and\n",
      "dialogue with regulators. Responsible for maintaining closer connections between the regions and our home market is\n",
      "Alexander von zur Mühlen. He assumed responsibility for Germany and Europe, Middle East and Africa (EMEA) in July. He\n",
      "also continues to oversee the Asia-Pacific region. Rebecca Short was given an extended mandate on the Management Board\n",
      "with a view to making the bank more efficient. In addition to her responsibility for Human Resources, she was appointed Chief\n",
      "Operating Officer with overall responsibility for the Group's costs. <!-- PageNumber=\"VI\" -->\n",
      "<!-- PageBreak -->\n",
      "\n",
      "<!-- PageHeader=\"Deutsche Bank Annual Report 2023\" -->\n",
      "<!-- PageHeader=\"Letter from the Chairman of the Supervisory Board\" -->\n",
      "\n",
      "As part of personnel reorganization measures, the Management Board was reduced from ten to nine members to make it\n",
      "more efficient. With this new composition, we do, however, fall short of our own commitment regarding the share of women\n",
      "on the Management Board. The Supervisory Board is focused on raising the proportion of women in leadership roles, both at\n",
      "Management Board level and below. As part of the bank's new compensation system, we seek to integrate the latter more\n",
      "firmly into the performance goals of our Management Board members. On the Supervisory Board, there was a routine change as a result of last year's elections, with Susanne Bleidt, Claudia Fieber,\n",
      "Brigit Laumen, Gerlinde Siebert, Frank Schulze, Stephan Szukalski and Jürgen Tögel being newly elected as employee\n",
      "representatives, while Jan Duscheck, Manja Eifert and Timo Heider were re-elected for a further term of office. In January\n",
      "2024, Birgit Laumen resigned from her mandate and the court subsequently appointed Florian Haggenmiller as her successor. I would like to once again welcome all those who joined the Supervisory Board. My special thanks go to Frank Schulze, one\n",
      "of my deputies, for the close cooperation and partnership since the very beginning. On the shareholder side, continuity was the order of the day. Four shareholder representatives, whose term of office expired\n",
      "in 2023, were each re-elected by the Annual General Meeting for another four years. We look forward to continuing our\n",
      "valuable collaboration with Mayree Clark, John Thain, Michele Trogni and Norbert Winkeljohann. In 2024, our Annual General Meeting will again be held virtually. The experience of the past few years has convinced us to\n",
      "take this step; this inclusive format offers numerous benefits. We have received recognition for the transparent implementation\n",
      "and quality of the answers to shareholder questions, which will again be submitted in advance this year. At the same time, we\n",
      "aim to enable an enhanced dialogue with shareholders on the day of the Annual General Meeting. Dear shareholders, the Supervisory Board is confident that your Deutsche Bank is on the right track. The bank has the right\n",
      "set-up and a strong management team. We will do everything we can to support them in the next phase of their growth strategy\n",
      "and to put our clients at the heart of everything we do. I am convinced that if we focus on our clients and our strengths, we will\n",
      "continue to create sustainable value for you, our shareholders. Sincerely,\n",
      "\n",
      "Alex Wynandts\n",
      "\n",
      "Alex Wynaendts\n",
      "\n",
      "Chairman of the Supervisory Board\n",
      "\n",
      "<!-- PageNumber=\"VII\" -->\n",
      "\n"
     ]
    }
   ],
   "source": [
    "print(str(len(docs_jinav2_standard_deviation)))\n",
    "\n",
    "for i in range(len(docs_jinav2_standard_deviation)):\n",
    "    print(\"\\n\\n chunk \"+str(i) + \"\\n\\n\")\n",
    "    print(docs_jinav2_standard_deviation[i].page_content)"
   ]
  },
  {
   "cell_type": "code",
   "execution_count": 41,
   "metadata": {},
   "outputs": [
    {
     "name": "stdout",
     "output_type": "stream",
     "text": [
      "2\n",
      "\n",
      "\n",
      " chunk 0\n",
      "\n",
      "\n",
      "<!-- PageHeader=\"Deutsche Bank Annual Report 2023\" -->\n",
      "<!-- PageHeader=\"Letter from the Chairman of the Supervisory Board\" -->\n",
      "\n",
      "\n",
      "# Letter from the Chairman of the Supervisory Board\n",
      "\n",
      "Dear Shareholders,\n",
      "\n",
      "Last year, Deutsche Bank proved its resilience in a volatile environment, further increasing revenues and delivering its best\n",
      "pre-tax profit in 16 years. Thanks to its prudent risk management, the bank has a strong and stable balance sheet and has\n",
      "further strengthened its capital base. As a result, we are this year once again in a position to substantially increase capital\n",
      "distributions to shareholders and we are pleased that the Supervisory Board and Management Board will propose to you a\n",
      "50% increase in the dividend to € 0.45 per share at this year's Annual General Meeting. In this economic environment, the resilience and sustainable profitability of our bank were also focus topics for the Supervisory\n",
      "Board. It was the Risk Committee's task to keep an eye on our capital adequacy as well as to oversee the bank's risk\n",
      "management and the development of non-financial risks. Another priority was to set the course for future growth. The\n",
      "Supervisory Board closely monitored the strategic development of the bank's culture and business model together with its\n",
      "financial targets and capital objectives up to 2025. The Supervisory Board expressly supports the bank's even sharper focus\n",
      "on its role as a Global Hausbank. Part of this is supporting clients in their sustainable and digital transformation. This strategy\n",
      "not only enables the bank to play its role within the German and European economy but also - of this the Supervisory Board\n",
      "is convinced - it is the right way to generate sustainable profits and returns for you as shareholders. In this context, the\n",
      "Supervisory Board welcomes and supports the Management Board's work on clearly defining the bank's purpose, its vision\n",
      "and aspirational culture, guided by the conviction that our top priority must be an even stronger focus on placing our clients at\n",
      "the center of everything we do. Effective controls protect both our bank and our clients. Further improving these controls was another important topic last\n",
      "year. The Supervisory Board regularly discussed significant regulatory issues as well as progress in the processing of material\n",
      "litigation cases. We are aware that there is still more to do.\n",
      "\n",
      "\n",
      " chunk 1\n",
      "\n",
      "\n",
      "The Management Board and Supervisory Board are in close\n",
      "dialogue with regulators and are focused on delivering the necessary improvements. To achieve this, the bank spent about\n",
      "€ 1.2 billion on controls in 2023 and hired around 1,000 dedicated professionals across all regions. More details on these\n",
      "important issues can be found in Deutsche Bank's Non-Financial Report, which is published in parallel with this Annual Report. One of the issues that the Supervisory Board addressed intensively last year was the restrictions for our clients following the\n",
      "migration of Postbank's IT to a common platform. The Management Board regularly reported to the Supervisory Board on the\n",
      "progress made in resolving the backlogs that had arisen, which were able to be reduced substantially over the past months. Nevertheless, it is clear that we have not lived up to our service and quality standards here and have disappointed our clients. On behalf of the Supervisory Board I would like to express my sincere apologies for the delays and problems caused to our\n",
      "clients. The Supervisory Board has taken action as a result and reduced the variable compensation of several current and\n",
      "departed Management Board members. Details can be found in our Compensation Report. There you will also find information on how we intend to develop the Management Board compensation system for 2024 and\n",
      "beyond. In our review, we incorporated feedback from investors and are addressing two main concerns: first, we want to\n",
      "simplify the system, making it more transparent for our external stakeholders, by significantly reducing the number of targets\n",
      "and indicators on which variable compensation depends. Second, we aim to align how we evaluate Management Board\n",
      "members' performance even more closely with the interests of our shareholders. This applies above all to the long-term\n",
      "component of variable compensation, which in future will no longer be measured against past years' results. In the new system,\n",
      "both financial and ESG targets will be forward-looking over a period of three years. In addition, we aim to be more ambitious\n",
      "when it comes to setting targets for certain key performance indicators. We will submit the revised compensation system to\n",
      "you for voting at the Annual General Meeting in May; it is to be applied as early as this year. In 2023, the Supervisory Board also addressed personnel decisions in the Management Board. At the Annual General\n",
      "Meeting, we bid farewell to Christiana Riley, Americas CEO, and Karl von Rohr, President and Head of Private Bank, who left\n",
      "the bank at the end of October after 25 years of service. Claudio de Sanctis subsequently assumed responsibility for the\n",
      "Private Bank and joined the Management Board in July. He has been with Deutsche Bank since 2018 and has successfully\n",
      "transformed the International Private Bank in recent years and focused it on its strengths in the advisory business. Stefan\n",
      "Simon assumed responsibility for the Americas region - in addition to his global responsibility for Legal, Regulatory Affairs\n",
      "and Anti-Financial Crime. Besides client coverage, the structure of the US market requires significant coordination and\n",
      "dialogue with regulators. Responsible for maintaining closer connections between the regions and our home market is\n",
      "Alexander von zur Mühlen. He assumed responsibility for Germany and Europe, Middle East and Africa (EMEA) in July. He\n",
      "also continues to oversee the Asia-Pacific region. Rebecca Short was given an extended mandate on the Management Board\n",
      "with a view to making the bank more efficient. In addition to her responsibility for Human Resources, she was appointed Chief\n",
      "Operating Officer with overall responsibility for the Group's costs. <!-- PageNumber=\"VI\" -->\n",
      "<!-- PageBreak -->\n",
      "\n",
      "<!-- PageHeader=\"Deutsche Bank Annual Report 2023\" -->\n",
      "<!-- PageHeader=\"Letter from the Chairman of the Supervisory Board\" -->\n",
      "\n",
      "As part of personnel reorganization measures, the Management Board was reduced from ten to nine members to make it\n",
      "more efficient. With this new composition, we do, however, fall short of our own commitment regarding the share of women\n",
      "on the Management Board. The Supervisory Board is focused on raising the proportion of women in leadership roles, both at\n",
      "Management Board level and below. As part of the bank's new compensation system, we seek to integrate the latter more\n",
      "firmly into the performance goals of our Management Board members. On the Supervisory Board, there was a routine change as a result of last year's elections, with Susanne Bleidt, Claudia Fieber,\n",
      "Brigit Laumen, Gerlinde Siebert, Frank Schulze, Stephan Szukalski and Jürgen Tögel being newly elected as employee\n",
      "representatives, while Jan Duscheck, Manja Eifert and Timo Heider were re-elected for a further term of office. In January\n",
      "2024, Birgit Laumen resigned from her mandate and the court subsequently appointed Florian Haggenmiller as her successor. I would like to once again welcome all those who joined the Supervisory Board. My special thanks go to Frank Schulze, one\n",
      "of my deputies, for the close cooperation and partnership since the very beginning. On the shareholder side, continuity was the order of the day. Four shareholder representatives, whose term of office expired\n",
      "in 2023, were each re-elected by the Annual General Meeting for another four years. We look forward to continuing our\n",
      "valuable collaboration with Mayree Clark, John Thain, Michele Trogni and Norbert Winkeljohann. In 2024, our Annual General Meeting will again be held virtually. The experience of the past few years has convinced us to\n",
      "take this step; this inclusive format offers numerous benefits. We have received recognition for the transparent implementation\n",
      "and quality of the answers to shareholder questions, which will again be submitted in advance this year. At the same time, we\n",
      "aim to enable an enhanced dialogue with shareholders on the day of the Annual General Meeting. Dear shareholders, the Supervisory Board is confident that your Deutsche Bank is on the right track. The bank has the right\n",
      "set-up and a strong management team. We will do everything we can to support them in the next phase of their growth strategy\n",
      "and to put our clients at the heart of everything we do. I am convinced that if we focus on our clients and our strengths, we will\n",
      "continue to create sustainable value for you, our shareholders. Sincerely,\n",
      "\n",
      "Alex Wynandts\n",
      "\n",
      "Alex Wynaendts\n",
      "\n",
      "Chairman of the Supervisory Board\n",
      "\n",
      "<!-- PageNumber=\"VII\" -->\n",
      "\n"
     ]
    }
   ],
   "source": [
    "print(str(len(docs_jinav3_standard_deviation)))\n",
    "\n",
    "for i in range(len(docs_jinav3_standard_deviation)):\n",
    "    print(\"\\n\\n chunk \"+str(i) + \"\\n\\n\")\n",
    "    print(docs_jinav3_standard_deviation[i].page_content)"
   ]
  },
  {
   "cell_type": "markdown",
   "metadata": {},
   "source": [
    "#### Threshold interquartile"
   ]
  },
  {
   "cell_type": "code",
   "execution_count": 42,
   "metadata": {},
   "outputs": [],
   "source": [
    "semantic_chunker_bge_interquartile=SemanticChunker(embed_model_bge,breakpoint_threshold_type=\"interquartile\")"
   ]
  },
  {
   "cell_type": "code",
   "execution_count": 43,
   "metadata": {},
   "outputs": [],
   "source": [
    "semantic_chunker_jinav2_interquartile=SemanticChunker(embed_model_jinav2,breakpoint_threshold_type=\"interquartile\")"
   ]
  },
  {
   "cell_type": "code",
   "execution_count": 44,
   "metadata": {},
   "outputs": [],
   "source": [
    "semantic_chunker_jinav3_interquartile=SemanticChunker(embed_model_jinav3,breakpoint_threshold_type=\"interquartile\")"
   ]
  },
  {
   "cell_type": "code",
   "execution_count": 45,
   "metadata": {},
   "outputs": [],
   "source": [
    "docs_bge_interquartile = semantic_chunker_bge_interquartile.create_documents([result_original['content']])\n",
    "docs_jinav2_interquartile = semantic_chunker_jinav2_interquartile.create_documents([result_original['content']])\n",
    "docs_jinav3_interquartile = semantic_chunker_jinav3_interquartile.create_documents([result_original['content']])"
   ]
  },
  {
   "cell_type": "code",
   "execution_count": 46,
   "metadata": {},
   "outputs": [
    {
     "name": "stdout",
     "output_type": "stream",
     "text": [
      "5\n",
      "\n",
      "\n",
      " chunk 0\n",
      "\n",
      "\n",
      "<!-- PageHeader=\"Deutsche Bank Annual Report 2023\" -->\n",
      "<!-- PageHeader=\"Letter from the Chairman of the Supervisory Board\" -->\n",
      "\n",
      "\n",
      "# Letter from the Chairman of the Supervisory Board\n",
      "\n",
      "Dear Shareholders,\n",
      "\n",
      "Last year, Deutsche Bank proved its resilience in a volatile environment, further increasing revenues and delivering its best\n",
      "pre-tax profit in 16 years. Thanks to its prudent risk management, the bank has a strong and stable balance sheet and has\n",
      "further strengthened its capital base. As a result, we are this year once again in a position to substantially increase capital\n",
      "distributions to shareholders and we are pleased that the Supervisory Board and Management Board will propose to you a\n",
      "50% increase in the dividend to € 0.45 per share at this year's Annual General Meeting. In this economic environment, the resilience and sustainable profitability of our bank were also focus topics for the Supervisory\n",
      "Board. It was the Risk Committee's task to keep an eye on our capital adequacy as well as to oversee the bank's risk\n",
      "management and the development of non-financial risks. Another priority was to set the course for future growth. The\n",
      "Supervisory Board closely monitored the strategic development of the bank's culture and business model together with its\n",
      "financial targets and capital objectives up to 2025. The Supervisory Board expressly supports the bank's even sharper focus\n",
      "on its role as a Global Hausbank. Part of this is supporting clients in their sustainable and digital transformation. This strategy\n",
      "not only enables the bank to play its role within the German and European economy but also - of this the Supervisory Board\n",
      "is convinced - it is the right way to generate sustainable profits and returns for you as shareholders. In this context, the\n",
      "Supervisory Board welcomes and supports the Management Board's work on clearly defining the bank's purpose, its vision\n",
      "and aspirational culture, guided by the conviction that our top priority must be an even stronger focus on placing our clients at\n",
      "the center of everything we do. Effective controls protect both our bank and our clients. Further improving these controls was another important topic last\n",
      "year. The Supervisory Board regularly discussed significant regulatory issues as well as progress in the processing of material\n",
      "litigation cases. We are aware that there is still more to do.\n",
      "\n",
      "\n",
      " chunk 1\n",
      "\n",
      "\n",
      "The Management Board and Supervisory Board are in close\n",
      "dialogue with regulators and are focused on delivering the necessary improvements. To achieve this, the bank spent about\n",
      "€ 1.2 billion on controls in 2023 and hired around 1,000 dedicated professionals across all regions. More details on these\n",
      "important issues can be found in Deutsche Bank's Non-Financial Report, which is published in parallel with this Annual Report. One of the issues that the Supervisory Board addressed intensively last year was the restrictions for our clients following the\n",
      "migration of Postbank's IT to a common platform. The Management Board regularly reported to the Supervisory Board on the\n",
      "progress made in resolving the backlogs that had arisen, which were able to be reduced substantially over the past months. Nevertheless, it is clear that we have not lived up to our service and quality standards here and have disappointed our clients. On behalf of the Supervisory Board I would like to express my sincere apologies for the delays and problems caused to our\n",
      "clients. The Supervisory Board has taken action as a result and reduced the variable compensation of several current and\n",
      "departed Management Board members. Details can be found in our Compensation Report. There you will also find information on how we intend to develop the Management Board compensation system for 2024 and\n",
      "beyond. In our review, we incorporated feedback from investors and are addressing two main concerns: first, we want to\n",
      "simplify the system, making it more transparent for our external stakeholders, by significantly reducing the number of targets\n",
      "and indicators on which variable compensation depends. Second, we aim to align how we evaluate Management Board\n",
      "members' performance even more closely with the interests of our shareholders. This applies above all to the long-term\n",
      "component of variable compensation, which in future will no longer be measured against past years' results. In the new system,\n",
      "both financial and ESG targets will be forward-looking over a period of three years. In addition, we aim to be more ambitious\n",
      "when it comes to setting targets for certain key performance indicators. We will submit the revised compensation system to\n",
      "you for voting at the Annual General Meeting in May; it is to be applied as early as this year.\n",
      "\n",
      "\n",
      " chunk 2\n",
      "\n",
      "\n",
      "In 2023, the Supervisory Board also addressed personnel decisions in the Management Board. At the Annual General\n",
      "Meeting, we bid farewell to Christiana Riley, Americas CEO, and Karl von Rohr, President and Head of Private Bank, who left\n",
      "the bank at the end of October after 25 years of service. Claudio de Sanctis subsequently assumed responsibility for the\n",
      "Private Bank and joined the Management Board in July. He has been with Deutsche Bank since 2018 and has successfully\n",
      "transformed the International Private Bank in recent years and focused it on its strengths in the advisory business. Stefan\n",
      "Simon assumed responsibility for the Americas region - in addition to his global responsibility for Legal, Regulatory Affairs\n",
      "and Anti-Financial Crime. Besides client coverage, the structure of the US market requires significant coordination and\n",
      "dialogue with regulators. Responsible for maintaining closer connections between the regions and our home market is\n",
      "Alexander von zur Mühlen. He assumed responsibility for Germany and Europe, Middle East and Africa (EMEA) in July.\n",
      "\n",
      "\n",
      " chunk 3\n",
      "\n",
      "\n",
      "He\n",
      "also continues to oversee the Asia-Pacific region. Rebecca Short was given an extended mandate on the Management Board\n",
      "with a view to making the bank more efficient. In addition to her responsibility for Human Resources, she was appointed Chief\n",
      "Operating Officer with overall responsibility for the Group's costs. <!-- PageNumber=\"VI\" -->\n",
      "<!-- PageBreak -->\n",
      "\n",
      "<!-- PageHeader=\"Deutsche Bank Annual Report 2023\" -->\n",
      "<!-- PageHeader=\"Letter from the Chairman of the Supervisory Board\" -->\n",
      "\n",
      "As part of personnel reorganization measures, the Management Board was reduced from ten to nine members to make it\n",
      "more efficient. With this new composition, we do, however, fall short of our own commitment regarding the share of women\n",
      "on the Management Board. The Supervisory Board is focused on raising the proportion of women in leadership roles, both at\n",
      "Management Board level and below. As part of the bank's new compensation system, we seek to integrate the latter more\n",
      "firmly into the performance goals of our Management Board members. On the Supervisory Board, there was a routine change as a result of last year's elections, with Susanne Bleidt, Claudia Fieber,\n",
      "Brigit Laumen, Gerlinde Siebert, Frank Schulze, Stephan Szukalski and Jürgen Tögel being newly elected as employee\n",
      "representatives, while Jan Duscheck, Manja Eifert and Timo Heider were re-elected for a further term of office. In January\n",
      "2024, Birgit Laumen resigned from her mandate and the court subsequently appointed Florian Haggenmiller as her successor. I would like to once again welcome all those who joined the Supervisory Board.\n",
      "\n",
      "\n",
      " chunk 4\n",
      "\n",
      "\n",
      "My special thanks go to Frank Schulze, one\n",
      "of my deputies, for the close cooperation and partnership since the very beginning. On the shareholder side, continuity was the order of the day. Four shareholder representatives, whose term of office expired\n",
      "in 2023, were each re-elected by the Annual General Meeting for another four years. We look forward to continuing our\n",
      "valuable collaboration with Mayree Clark, John Thain, Michele Trogni and Norbert Winkeljohann. In 2024, our Annual General Meeting will again be held virtually. The experience of the past few years has convinced us to\n",
      "take this step; this inclusive format offers numerous benefits. We have received recognition for the transparent implementation\n",
      "and quality of the answers to shareholder questions, which will again be submitted in advance this year. At the same time, we\n",
      "aim to enable an enhanced dialogue with shareholders on the day of the Annual General Meeting. Dear shareholders, the Supervisory Board is confident that your Deutsche Bank is on the right track. The bank has the right\n",
      "set-up and a strong management team. We will do everything we can to support them in the next phase of their growth strategy\n",
      "and to put our clients at the heart of everything we do. I am convinced that if we focus on our clients and our strengths, we will\n",
      "continue to create sustainable value for you, our shareholders. Sincerely,\n",
      "\n",
      "Alex Wynandts\n",
      "\n",
      "Alex Wynaendts\n",
      "\n",
      "Chairman of the Supervisory Board\n",
      "\n",
      "<!-- PageNumber=\"VII\" -->\n",
      "\n"
     ]
    }
   ],
   "source": [
    "print(str(len(docs_bge_interquartile)))\n",
    "\n",
    "for i in range(len(docs_bge_interquartile)):\n",
    "    print(\"\\n\\n chunk \"+str(i) + \"\\n\\n\")\n",
    "    print(docs_bge_interquartile[i].page_content)"
   ]
  },
  {
   "cell_type": "code",
   "execution_count": 47,
   "metadata": {},
   "outputs": [
    {
     "name": "stdout",
     "output_type": "stream",
     "text": [
      "2\n",
      "\n",
      "\n",
      " chunk 0\n",
      "\n",
      "\n",
      "<!-- PageHeader=\"Deutsche Bank Annual Report 2023\" -->\n",
      "<!-- PageHeader=\"Letter from the Chairman of the Supervisory Board\" -->\n",
      "\n",
      "\n",
      "# Letter from the Chairman of the Supervisory Board\n",
      "\n",
      "Dear Shareholders,\n",
      "\n",
      "Last year, Deutsche Bank proved its resilience in a volatile environment, further increasing revenues and delivering its best\n",
      "pre-tax profit in 16 years. Thanks to its prudent risk management, the bank has a strong and stable balance sheet and has\n",
      "further strengthened its capital base. As a result, we are this year once again in a position to substantially increase capital\n",
      "distributions to shareholders and we are pleased that the Supervisory Board and Management Board will propose to you a\n",
      "50% increase in the dividend to € 0.45 per share at this year's Annual General Meeting. In this economic environment, the resilience and sustainable profitability of our bank were also focus topics for the Supervisory\n",
      "Board. It was the Risk Committee's task to keep an eye on our capital adequacy as well as to oversee the bank's risk\n",
      "management and the development of non-financial risks. Another priority was to set the course for future growth. The\n",
      "Supervisory Board closely monitored the strategic development of the bank's culture and business model together with its\n",
      "financial targets and capital objectives up to 2025. The Supervisory Board expressly supports the bank's even sharper focus\n",
      "on its role as a Global Hausbank. Part of this is supporting clients in their sustainable and digital transformation. This strategy\n",
      "not only enables the bank to play its role within the German and European economy but also - of this the Supervisory Board\n",
      "is convinced - it is the right way to generate sustainable profits and returns for you as shareholders. In this context, the\n",
      "Supervisory Board welcomes and supports the Management Board's work on clearly defining the bank's purpose, its vision\n",
      "and aspirational culture, guided by the conviction that our top priority must be an even stronger focus on placing our clients at\n",
      "the center of everything we do. Effective controls protect both our bank and our clients. Further improving these controls was another important topic last\n",
      "year. The Supervisory Board regularly discussed significant regulatory issues as well as progress in the processing of material\n",
      "litigation cases. We are aware that there is still more to do.\n",
      "\n",
      "\n",
      " chunk 1\n",
      "\n",
      "\n",
      "The Management Board and Supervisory Board are in close\n",
      "dialogue with regulators and are focused on delivering the necessary improvements. To achieve this, the bank spent about\n",
      "€ 1.2 billion on controls in 2023 and hired around 1,000 dedicated professionals across all regions. More details on these\n",
      "important issues can be found in Deutsche Bank's Non-Financial Report, which is published in parallel with this Annual Report. One of the issues that the Supervisory Board addressed intensively last year was the restrictions for our clients following the\n",
      "migration of Postbank's IT to a common platform. The Management Board regularly reported to the Supervisory Board on the\n",
      "progress made in resolving the backlogs that had arisen, which were able to be reduced substantially over the past months. Nevertheless, it is clear that we have not lived up to our service and quality standards here and have disappointed our clients. On behalf of the Supervisory Board I would like to express my sincere apologies for the delays and problems caused to our\n",
      "clients. The Supervisory Board has taken action as a result and reduced the variable compensation of several current and\n",
      "departed Management Board members. Details can be found in our Compensation Report. There you will also find information on how we intend to develop the Management Board compensation system for 2024 and\n",
      "beyond. In our review, we incorporated feedback from investors and are addressing two main concerns: first, we want to\n",
      "simplify the system, making it more transparent for our external stakeholders, by significantly reducing the number of targets\n",
      "and indicators on which variable compensation depends. Second, we aim to align how we evaluate Management Board\n",
      "members' performance even more closely with the interests of our shareholders. This applies above all to the long-term\n",
      "component of variable compensation, which in future will no longer be measured against past years' results. In the new system,\n",
      "both financial and ESG targets will be forward-looking over a period of three years. In addition, we aim to be more ambitious\n",
      "when it comes to setting targets for certain key performance indicators. We will submit the revised compensation system to\n",
      "you for voting at the Annual General Meeting in May; it is to be applied as early as this year. In 2023, the Supervisory Board also addressed personnel decisions in the Management Board. At the Annual General\n",
      "Meeting, we bid farewell to Christiana Riley, Americas CEO, and Karl von Rohr, President and Head of Private Bank, who left\n",
      "the bank at the end of October after 25 years of service. Claudio de Sanctis subsequently assumed responsibility for the\n",
      "Private Bank and joined the Management Board in July. He has been with Deutsche Bank since 2018 and has successfully\n",
      "transformed the International Private Bank in recent years and focused it on its strengths in the advisory business. Stefan\n",
      "Simon assumed responsibility for the Americas region - in addition to his global responsibility for Legal, Regulatory Affairs\n",
      "and Anti-Financial Crime. Besides client coverage, the structure of the US market requires significant coordination and\n",
      "dialogue with regulators. Responsible for maintaining closer connections between the regions and our home market is\n",
      "Alexander von zur Mühlen. He assumed responsibility for Germany and Europe, Middle East and Africa (EMEA) in July. He\n",
      "also continues to oversee the Asia-Pacific region. Rebecca Short was given an extended mandate on the Management Board\n",
      "with a view to making the bank more efficient. In addition to her responsibility for Human Resources, she was appointed Chief\n",
      "Operating Officer with overall responsibility for the Group's costs. <!-- PageNumber=\"VI\" -->\n",
      "<!-- PageBreak -->\n",
      "\n",
      "<!-- PageHeader=\"Deutsche Bank Annual Report 2023\" -->\n",
      "<!-- PageHeader=\"Letter from the Chairman of the Supervisory Board\" -->\n",
      "\n",
      "As part of personnel reorganization measures, the Management Board was reduced from ten to nine members to make it\n",
      "more efficient. With this new composition, we do, however, fall short of our own commitment regarding the share of women\n",
      "on the Management Board. The Supervisory Board is focused on raising the proportion of women in leadership roles, both at\n",
      "Management Board level and below. As part of the bank's new compensation system, we seek to integrate the latter more\n",
      "firmly into the performance goals of our Management Board members. On the Supervisory Board, there was a routine change as a result of last year's elections, with Susanne Bleidt, Claudia Fieber,\n",
      "Brigit Laumen, Gerlinde Siebert, Frank Schulze, Stephan Szukalski and Jürgen Tögel being newly elected as employee\n",
      "representatives, while Jan Duscheck, Manja Eifert and Timo Heider were re-elected for a further term of office. In January\n",
      "2024, Birgit Laumen resigned from her mandate and the court subsequently appointed Florian Haggenmiller as her successor. I would like to once again welcome all those who joined the Supervisory Board. My special thanks go to Frank Schulze, one\n",
      "of my deputies, for the close cooperation and partnership since the very beginning. On the shareholder side, continuity was the order of the day. Four shareholder representatives, whose term of office expired\n",
      "in 2023, were each re-elected by the Annual General Meeting for another four years. We look forward to continuing our\n",
      "valuable collaboration with Mayree Clark, John Thain, Michele Trogni and Norbert Winkeljohann. In 2024, our Annual General Meeting will again be held virtually. The experience of the past few years has convinced us to\n",
      "take this step; this inclusive format offers numerous benefits. We have received recognition for the transparent implementation\n",
      "and quality of the answers to shareholder questions, which will again be submitted in advance this year. At the same time, we\n",
      "aim to enable an enhanced dialogue with shareholders on the day of the Annual General Meeting. Dear shareholders, the Supervisory Board is confident that your Deutsche Bank is on the right track. The bank has the right\n",
      "set-up and a strong management team. We will do everything we can to support them in the next phase of their growth strategy\n",
      "and to put our clients at the heart of everything we do. I am convinced that if we focus on our clients and our strengths, we will\n",
      "continue to create sustainable value for you, our shareholders. Sincerely,\n",
      "\n",
      "Alex Wynandts\n",
      "\n",
      "Alex Wynaendts\n",
      "\n",
      "Chairman of the Supervisory Board\n",
      "\n",
      "<!-- PageNumber=\"VII\" -->\n",
      "\n"
     ]
    }
   ],
   "source": [
    "print(str(len(docs_jinav2_interquartile)))\n",
    "\n",
    "for i in range(len(docs_jinav2_interquartile)):\n",
    "    print(\"\\n\\n chunk \"+str(i) + \"\\n\\n\")\n",
    "    print(docs_jinav2_interquartile[i].page_content)"
   ]
  },
  {
   "cell_type": "code",
   "execution_count": 48,
   "metadata": {},
   "outputs": [
    {
     "name": "stdout",
     "output_type": "stream",
     "text": [
      "2\n",
      "\n",
      "\n",
      " chunk 0\n",
      "\n",
      "\n",
      "<!-- PageHeader=\"Deutsche Bank Annual Report 2023\" -->\n",
      "<!-- PageHeader=\"Letter from the Chairman of the Supervisory Board\" -->\n",
      "\n",
      "\n",
      "# Letter from the Chairman of the Supervisory Board\n",
      "\n",
      "Dear Shareholders,\n",
      "\n",
      "Last year, Deutsche Bank proved its resilience in a volatile environment, further increasing revenues and delivering its best\n",
      "pre-tax profit in 16 years. Thanks to its prudent risk management, the bank has a strong and stable balance sheet and has\n",
      "further strengthened its capital base. As a result, we are this year once again in a position to substantially increase capital\n",
      "distributions to shareholders and we are pleased that the Supervisory Board and Management Board will propose to you a\n",
      "50% increase in the dividend to € 0.45 per share at this year's Annual General Meeting. In this economic environment, the resilience and sustainable profitability of our bank were also focus topics for the Supervisory\n",
      "Board. It was the Risk Committee's task to keep an eye on our capital adequacy as well as to oversee the bank's risk\n",
      "management and the development of non-financial risks. Another priority was to set the course for future growth. The\n",
      "Supervisory Board closely monitored the strategic development of the bank's culture and business model together with its\n",
      "financial targets and capital objectives up to 2025. The Supervisory Board expressly supports the bank's even sharper focus\n",
      "on its role as a Global Hausbank. Part of this is supporting clients in their sustainable and digital transformation. This strategy\n",
      "not only enables the bank to play its role within the German and European economy but also - of this the Supervisory Board\n",
      "is convinced - it is the right way to generate sustainable profits and returns for you as shareholders. In this context, the\n",
      "Supervisory Board welcomes and supports the Management Board's work on clearly defining the bank's purpose, its vision\n",
      "and aspirational culture, guided by the conviction that our top priority must be an even stronger focus on placing our clients at\n",
      "the center of everything we do. Effective controls protect both our bank and our clients. Further improving these controls was another important topic last\n",
      "year. The Supervisory Board regularly discussed significant regulatory issues as well as progress in the processing of material\n",
      "litigation cases. We are aware that there is still more to do.\n",
      "\n",
      "\n",
      " chunk 1\n",
      "\n",
      "\n",
      "The Management Board and Supervisory Board are in close\n",
      "dialogue with regulators and are focused on delivering the necessary improvements. To achieve this, the bank spent about\n",
      "€ 1.2 billion on controls in 2023 and hired around 1,000 dedicated professionals across all regions. More details on these\n",
      "important issues can be found in Deutsche Bank's Non-Financial Report, which is published in parallel with this Annual Report. One of the issues that the Supervisory Board addressed intensively last year was the restrictions for our clients following the\n",
      "migration of Postbank's IT to a common platform. The Management Board regularly reported to the Supervisory Board on the\n",
      "progress made in resolving the backlogs that had arisen, which were able to be reduced substantially over the past months. Nevertheless, it is clear that we have not lived up to our service and quality standards here and have disappointed our clients. On behalf of the Supervisory Board I would like to express my sincere apologies for the delays and problems caused to our\n",
      "clients. The Supervisory Board has taken action as a result and reduced the variable compensation of several current and\n",
      "departed Management Board members. Details can be found in our Compensation Report. There you will also find information on how we intend to develop the Management Board compensation system for 2024 and\n",
      "beyond. In our review, we incorporated feedback from investors and are addressing two main concerns: first, we want to\n",
      "simplify the system, making it more transparent for our external stakeholders, by significantly reducing the number of targets\n",
      "and indicators on which variable compensation depends. Second, we aim to align how we evaluate Management Board\n",
      "members' performance even more closely with the interests of our shareholders. This applies above all to the long-term\n",
      "component of variable compensation, which in future will no longer be measured against past years' results. In the new system,\n",
      "both financial and ESG targets will be forward-looking over a period of three years. In addition, we aim to be more ambitious\n",
      "when it comes to setting targets for certain key performance indicators. We will submit the revised compensation system to\n",
      "you for voting at the Annual General Meeting in May; it is to be applied as early as this year. In 2023, the Supervisory Board also addressed personnel decisions in the Management Board. At the Annual General\n",
      "Meeting, we bid farewell to Christiana Riley, Americas CEO, and Karl von Rohr, President and Head of Private Bank, who left\n",
      "the bank at the end of October after 25 years of service. Claudio de Sanctis subsequently assumed responsibility for the\n",
      "Private Bank and joined the Management Board in July. He has been with Deutsche Bank since 2018 and has successfully\n",
      "transformed the International Private Bank in recent years and focused it on its strengths in the advisory business. Stefan\n",
      "Simon assumed responsibility for the Americas region - in addition to his global responsibility for Legal, Regulatory Affairs\n",
      "and Anti-Financial Crime. Besides client coverage, the structure of the US market requires significant coordination and\n",
      "dialogue with regulators. Responsible for maintaining closer connections between the regions and our home market is\n",
      "Alexander von zur Mühlen. He assumed responsibility for Germany and Europe, Middle East and Africa (EMEA) in July. He\n",
      "also continues to oversee the Asia-Pacific region. Rebecca Short was given an extended mandate on the Management Board\n",
      "with a view to making the bank more efficient. In addition to her responsibility for Human Resources, she was appointed Chief\n",
      "Operating Officer with overall responsibility for the Group's costs. <!-- PageNumber=\"VI\" -->\n",
      "<!-- PageBreak -->\n",
      "\n",
      "<!-- PageHeader=\"Deutsche Bank Annual Report 2023\" -->\n",
      "<!-- PageHeader=\"Letter from the Chairman of the Supervisory Board\" -->\n",
      "\n",
      "As part of personnel reorganization measures, the Management Board was reduced from ten to nine members to make it\n",
      "more efficient. With this new composition, we do, however, fall short of our own commitment regarding the share of women\n",
      "on the Management Board. The Supervisory Board is focused on raising the proportion of women in leadership roles, both at\n",
      "Management Board level and below. As part of the bank's new compensation system, we seek to integrate the latter more\n",
      "firmly into the performance goals of our Management Board members. On the Supervisory Board, there was a routine change as a result of last year's elections, with Susanne Bleidt, Claudia Fieber,\n",
      "Brigit Laumen, Gerlinde Siebert, Frank Schulze, Stephan Szukalski and Jürgen Tögel being newly elected as employee\n",
      "representatives, while Jan Duscheck, Manja Eifert and Timo Heider were re-elected for a further term of office. In January\n",
      "2024, Birgit Laumen resigned from her mandate and the court subsequently appointed Florian Haggenmiller as her successor. I would like to once again welcome all those who joined the Supervisory Board. My special thanks go to Frank Schulze, one\n",
      "of my deputies, for the close cooperation and partnership since the very beginning. On the shareholder side, continuity was the order of the day. Four shareholder representatives, whose term of office expired\n",
      "in 2023, were each re-elected by the Annual General Meeting for another four years. We look forward to continuing our\n",
      "valuable collaboration with Mayree Clark, John Thain, Michele Trogni and Norbert Winkeljohann. In 2024, our Annual General Meeting will again be held virtually. The experience of the past few years has convinced us to\n",
      "take this step; this inclusive format offers numerous benefits. We have received recognition for the transparent implementation\n",
      "and quality of the answers to shareholder questions, which will again be submitted in advance this year. At the same time, we\n",
      "aim to enable an enhanced dialogue with shareholders on the day of the Annual General Meeting. Dear shareholders, the Supervisory Board is confident that your Deutsche Bank is on the right track. The bank has the right\n",
      "set-up and a strong management team. We will do everything we can to support them in the next phase of their growth strategy\n",
      "and to put our clients at the heart of everything we do. I am convinced that if we focus on our clients and our strengths, we will\n",
      "continue to create sustainable value for you, our shareholders. Sincerely,\n",
      "\n",
      "Alex Wynandts\n",
      "\n",
      "Alex Wynaendts\n",
      "\n",
      "Chairman of the Supervisory Board\n",
      "\n",
      "<!-- PageNumber=\"VII\" -->\n",
      "\n"
     ]
    }
   ],
   "source": [
    "print(str(len(docs_jinav3_interquartile)))\n",
    "\n",
    "for i in range(len(docs_jinav3_interquartile)):\n",
    "    print(\"\\n\\n chunk \"+str(i) + \"\\n\\n\")\n",
    "    print(docs_jinav3_interquartile[i].page_content)"
   ]
  },
  {
   "cell_type": "markdown",
   "metadata": {},
   "source": [
    "#### Result\n",
    "- Not always clear how semantic chunks are formed\n",
    "- Not a reliable method for a very diverse set of documents"
   ]
  },
  {
   "cell_type": "markdown",
   "metadata": {},
   "source": [
    "#### Retrieving information using bsm25"
   ]
  },
  {
   "cell_type": "code",
   "execution_count": 238,
   "metadata": {},
   "outputs": [
    {
     "name": "stdout",
     "output_type": "stream",
     "text": [
      "[[0.09234125, -0.020624638, -0.07215761, -0.009417766, -0.09074647, -0.08303894, 0.012980129, 0.031084483, 0.08295075, 0.038250897, 0.026059218, 0.1567836, -0.08838612, -0.060042936, -0.086772, -0.09602743, -0.051868558, 0.047813382, 0.028388524, 0.028649503, -0.09785338, -0.0047002435, -0.048641775, 0.09698936, -0.16722304, 0.13970885, -0.0014439016, 0.019277645, 0.018069973, 0.022192316, 0.14754723, -0.04572537, -0.022311307, 0.040001385, 0.08446499, 0.065918475, 0.0048235953, -0.04113975, -0.08592552, 0.0056984653, 0.09095852, 0.014211502, 0.040794812, -0.077058926, 0.015809406, 0.014883626, 0.042879414, -0.04746528, -0.026445655, 0.016886745, -0.045485813, 0.047336966, -0.00069244194, 0.015523258, 0.11506895, 0.004104685, 0.019576095, -0.051812068, -0.0014778159, 0.03568633, -0.07871223, 0.0006425867, -0.04107848, 0.037021667, -0.008445955, 0.117248915, 0.05292652, 0.01803505, -0.015876848, 0.006184083, -0.07261282, 0.0023806205, 0.017344968, 0.021480821, 0.005024519, -0.026465982, 0.01955729, -0.02293306, -0.031713437, -0.022683453, 0.03970283, 0.07362834, 0.046865314, -0.0020855067, -0.008135503, -0.04852861, -0.049564213, -0.034677237, -0.05241701, 0.015532553, -0.019020928, -0.055915162, 0.05543357, 0.012448754, 0.040026117, -0.018713344, -0.045450408, 0.028139906, 0.048487157, 0.07235002, 0.043910515, 0.023541793, -0.06553576, -0.007245573, 0.02129617, 0.008772404, 0.0745075, -0.025493067, -0.04195323, 0.043674197, -0.030018797, 0.0034641395, -0.05015447, 0.049082406, 0.0067457953, -0.030489866, 0.058478333, -0.0054496774, 0.07844252, -0.054688185, 0.020580176, -0.042247068, -0.048666894, 0.04399753, 0.0013214414, -0.0687317, -0.051900037, -0.003626711, 0.009909683, -0.0070275078, -0.06192194, 0.037843227, -0.011615526, 0.04134249, 0.0028533437, 0.0037487475, 0.007877281, 0.017654046, 0.04214317, 0.03906615, -0.0037441317, -0.008038355, -0.090019524, 0.026079401, -0.008108296, -0.029001813, -0.08063367, -0.06210586, -0.011317617, -0.009801613, 0.014496161, 0.028198052, -0.059921697, -0.03477902, -0.02287049, -0.0040575233, -0.027692871, 0.04608188, -0.040349837, 0.024162028, 0.010309739, -0.019361587, 0.0093137985, -0.04725246, -0.025790952, -0.021613657, -0.0024090547, -0.005953283, -0.01720934, -0.0023117056, -0.019169977, -0.012220048, 0.053851537, -0.019454865, 0.019245848, -0.0095955, 0.008760001, 0.039052255, 0.03776381, 0.045187384, -0.033968292, 0.064405195, -0.05971726, 0.074570075, 0.04051043, 0.006898986, -0.03914351, 0.049001712, 0.009489591, -0.017335607, -0.033635285, 0.001151109, 0.009301002, 0.0031568364, -0.01962026, 0.0021200243, -0.023366164, -0.074231915, 0.041004743, 0.0083714435, 0.021975586, 0.0050038765, 0.07429196, 0.03681431, -0.001960634, 0.0051642037, 0.005166934, -0.027815841, -0.049473424, -0.01946442, -0.036786113, 0.045996796, 0.04441252, 8.1875274e-05, -0.07338828, 0.040760282, -0.022275532, -0.022604035, 0.02678567, 0.032202423, -0.013445912, 0.031256955, -0.061888855, 0.010353174, -0.03938983, -0.03470117, 0.0048046885, -0.020544162, -0.0047843372, -0.019608986, 0.025325676, 0.024631392, 0.0061529186, -0.017822329, 0.03754191, -0.002389041, -0.009834008, -0.025583934, -0.00774718, 0.05049373, -0.016894177, -0.036401413, -0.016102731, -0.02879222, -0.035984557, -0.0012021839, 0.01881389, -0.097337484, -0.06133271, -0.07721027, -0.027032658, -0.00013425236, 0.075153835, -0.0778807, -0.026365036, -0.006639884, 0.015475799, -0.04565683, -0.029277897, 0.00930725, -0.005156365, -0.0019724667, 0.029823698, 0.027022751, -6.8672045e-05, -0.005732634, 0.010929911, -0.017031439, -0.007789895, -0.029390905, -0.036026806, 0.05341569, 0.038251575, -0.022421097, -0.029344765, -0.0012374321, 0.026202701, 0.038289454, -0.0071400916, -0.006487568, -0.011434903, -0.030875914, -0.028935535, -0.01136582, -0.016031481, -0.014135574, -0.039244406, 0.04673075, 0.0057634213, -0.008879161, -0.0003341573, 0.03231319, 0.057083618, 0.015261625, -0.007888917, 0.01604998, 0.00041188908, -0.00398651, 0.017776128, 0.033773713, 0.004730736, 0.041252602, 0.0356198, 0.022746468, 0.027806938, 0.0038214813, -0.057731777, -0.011412674, -0.01371116, 0.015179294, 0.027117616, -0.0034467878, -0.012722898, -0.03656254, -0.009724787, -0.017834976, -0.015260793, 0.040210526, -0.02283071, 0.016247824, 0.017765647, -0.030183833, 0.01902881, 0.03940264, 0.030598607, -0.014081274, -0.028878132, -0.014652336, -0.029239962, -0.0048704096, -0.0040396554, -0.028720718, 0.039395206, 0.057437494, 0.0009331885, 0.011888959, -0.09243446, 0.02554242, 0.04202092, 0.0021913077, 0.019114763, 0.0136182625, 0.0054643955, 0.03515179, 0.009461601, -0.00022220188, -0.014862657, 0.0124726, 0.009075875, -0.0071506496, -0.011891882, 0.06256677, -0.04759807, 0.004564346, -0.0054924353, 0.08450913, -0.02565232, -0.01949622, 0.020050783, -0.028514901, -1.2993991e-05, -0.05007283, -0.009833223, 0.03310162, 0.013500266, 0.002659908, -0.012352841, 0.0048353155, -0.020025764, -0.04053981, 0.00803678, -6.867602e-05, -0.008098163, 0.04323452, -0.018367343, 0.029059567, 0.04184546, 0.04945677, 0.01088669, -0.0035182359, -0.035429187, -0.0073553096, -0.0133439675, -0.051436882, -0.016891263, 0.026062181, 0.035131954, -0.008782015, 0.023271436, 0.0144690145, -0.00010632443, 0.010515508, -0.006669325, -0.014054319, -0.04053733, 0.012140743, 0.016003415, -0.054275375, 0.019590197, 0.031141276, 0.0030044853, 0.04934505, -0.0016711814, -0.03836897, 0.055256072, 0.016343558, -0.024044069, 0.026494673, -0.020947326, -0.0032624262, -0.008911813, -0.008132347, -0.02059064, 0.008848167, -0.017467877, -0.006617613, 0.012703629, -0.014781572, 0.00965153, 0.01974365, 0.021183947, -0.021033932, 0.002180082, 0.02578218, 0.042924535, 0.02655142, -0.036476508, -0.01911112, -0.041862234, -0.0009111127, 0.0072912346, 0.030456958, -0.0028565365, -0.019065194, 0.0042477804, 0.009811439, 0.036068786, 0.0042866934, -0.018083429, 0.035768542, 0.036920633, 0.020403398, -0.016009167, -0.037302997, 0.00095151854, 0.0044202884, 0.029397348, -0.0022201198, -0.015375662, -0.012340588, -0.01569226, 0.035285816, -0.006096831, 0.005717325, -0.006874239, -0.034189053, -0.002530707, 0.019898877, 0.0059047174, 0.04320254, -0.040655494, 0.0090303, 0.020789746, 0.013700216, 0.031732038, 0.018203573, 0.026982654, -0.05015989, -0.01755152, 0.0057032728, 0.08292571, -0.0045856666, -0.003127505, 0.022803938, 0.042636152, 0.0054587047, -0.0013234494, 0.046476543, 0.0065938784, 0.0125749875, 0.015103509, 0.01855696, 0.015006588, 0.037556488, -0.005037034, 0.03177104, -0.011164844, 0.032538734, 0.07571257, -0.0013152157, 0.043545388, -0.00746205, -0.019857174, 0.025609456, 0.035758294, -0.06347595, -0.010850239, 0.012965856, -0.011458079, 0.00047275587, -0.031155169, -0.00040645408, -0.010042988, -0.023074301, 0.027031045, -0.025217168, -0.020805145, -0.0108770775, -0.012683828, -0.014016419, -0.0079315165, 0.020609988, -0.015307875, -0.04007592, 0.026851581, 0.0034787008, -0.0022613031, -0.01799506, -0.04440882, -0.0021992028, 0.011182443, -0.019607734, 0.018342333, -0.007952219, 0.014211625, 0.04756158, 0.0074085174, -0.033054896, -0.0065479246, -0.02748339, -0.034593094, 0.008562006, 0.034429207, -0.037997622, -0.024127677, 0.022181127, -0.009397631, 0.004705001, -0.010399046, 0.020661166, 0.014108386, -0.019104393, -0.02297765, -0.04091319, -0.0020053692, 0.0068012397, -0.0024439038, -0.052515745, 0.04026581, 0.0060522584, -0.040655836, -0.008678366, -0.02017374, 0.008524773, 0.017453225, -0.0065723946, 0.011764388, 0.014729562, -0.01091848, -0.030404232, -0.004531909, -0.040911593, -0.031688612, 0.023813574, 0.008396995, -0.017931478, 0.0200663, -0.01471097, -0.028080449, 0.0049117366, 0.022265475, 0.032018423, 0.045886938, -0.020383, 0.0076326844, -0.008156383, -0.00362423, 0.0013243281, -0.030408254, -0.03308629, 0.03136351, 0.024009515, 0.0125440145, 0.018240795, 0.00483149, 0.027442893, -0.016859472, 0.0052932883, -0.0057148943, -0.029124895, -0.0041692434, 0.028673906, -0.0036011045, 0.007746282, -0.00673948, 0.013196745, -0.023017714, -0.0015014726, -0.029094473, -0.03841606, -0.01588829, -0.048103858, 0.021838062, 0.008369808, 0.055326987, 0.0029698526, 0.022971513, -0.035410766, 0.00831899, -0.020598896, -0.023280408, -0.013113346, -0.018276349, 0.0019683335, 0.019050654, -0.019384015, 0.018956915, 0.001749756, -0.0047164364, 0.020296536, 0.0013050174, -0.024086867, 0.026915189, 0.0038599882, -0.039000228, 0.0011821482, -0.038640723, 0.014332258, -0.00980863, 0.01342886, -0.00388512, 0.0061653885, -0.056138754, 0.004868504, 0.05334938, 0.013822751, -0.0284015, 0.018065268, 0.020182375, 0.03648549, 0.016621806, 0.010649485, -0.021284638, -0.02394779, -0.013096224, 0.007084926, 0.020873934, 0.008445008, -0.029254306, -0.04569772, -0.042984374, 0.033570834, -0.036519248, -0.0032692174, 0.013003249, -0.00027162812, -0.042843368, -0.011521739, 0.0046795383, -0.0010511521, -0.006497607, -0.017550508, 0.031904384, -0.009984565, -0.0044843135, -0.0055155978, -0.0061783176, -0.010728526, 0.004299548, -0.013012087, 0.040224776, 0.03346703, 0.0376108, -0.036946647, -0.028192246, 0.0024162673, 0.013690145, -0.00052816945, -0.044348687, 0.008037235, -0.032788135, -0.039102286, 0.018459277, 8.077798e-05, -0.005203161, -0.057635266, 0.04241771, -0.036841556, 0.022630338, 0.05046722, 0.0457251, 0.011430653, -0.02891489, 0.009623561, -0.012914113, -0.0015840953, 0.019442206, -0.0073642232, 0.045157325, 0.0054945014, -0.025213595, -0.022879843, 0.009301986, 0.005666353, -0.021827599, 0.043806046, -0.008709037, 0.01063247, -0.022257332, 0.034109633, -0.010637793, -0.010774843, 0.012266361, -0.03769396, -0.019189078, -0.015833976, -0.005029477, 0.014446391, 0.045606364, 0.01000622, 0.013511558, -0.014820016, 0.044630386, 0.03125337, -0.025075423, -0.002571927, 0.02973525, 0.021218495, -0.015800154, -0.006820504, 0.010116438, -0.04632431, 0.020597352, 0.04114721, -0.011362571, -0.019053603, -0.0047574686, 0.014815837, 0.01118049, -0.0033996163, -0.013237568, 0.044180892, 0.0064658364, -0.011885065, -0.0042177415, -0.022385743, 0.041031785, 0.00786886, 0.01487209, 0.014838852, -0.031469386, -0.017913066, 0.006209272, 0.066188954, 0.0064902315, 0.029401982, -0.018856822, -0.00075306935, -0.0044542914, -0.0038139638, -0.022092279, 0.0015368642, 0.0072030053, 0.06067326, 0.017365824, 0.020003382, -0.051216614, -0.018008122, -0.003690409, 0.004692241, -0.0017159876, -0.026645038, 0.03505791, 0.0034040236, 0.014484867, 0.026065784, 0.0039108912, 0.007854035, 0.0136045115, 0.0010341603, -0.04736578, 0.0060164067, 0.01797023, -0.0040343036, 0.022560041, -0.03315398, 0.009665196, 0.01148864, 0.003936523, -0.03220725, -0.0065121274, 0.014265101, -0.0057620103, 0.013172147, 0.013953745, -0.0028687038, -0.004894071, -0.016813599, -0.0071515953, -0.009034558, 0.04322576, 0.012984254, -0.033930678, -0.013433971, 0.033276748, -0.0182107, 0.058805544, 0.013151713, -0.046222128, -0.03261369, 0.02109265, 0.009924599, 0.019134475, -0.047069967, 0.005904171, 0.012219676, 0.022565376, -0.0022820714, -0.012013064, -0.00650343, -0.0065343715, -0.009456603, -0.01387236, -0.00626611, 0.008386619, 0.04705344, -0.030258758, 0.0039649243, 0.009669685, 0.0304191, 0.045790177, 0.038200665, 0.039086655, -0.0079025375, -0.01001069, -0.047046356, 0.0025962796, -0.018321734, -0.01430126, -0.012198195, 0.007213669, -0.014126816, -0.00067647925, -0.006783371, -0.01829299, 0.025239171, -0.031554643, 0.0035478706, -0.013729947, -0.0353712, -0.012594533, 0.017681988, 0.0043695187, 0.018174248, 0.029534137, -0.029353566, 0.020484604, -0.00019099475, 0.02610224, -0.012396358, -0.018145636, -0.008758196, -0.038997103, -0.009802332, 0.02898975, -0.003925679, -0.007285508, -0.0013151667, -0.030281229, -0.0050679357, 0.009919743, 0.009370852, 0.02807614, -0.014226065, -0.032631833, -0.021931715, 0.003100287, -0.021707283, -0.03890577, -0.029077899, 0.030715274, 0.03429018, -0.0060504675, 0.016269375, 0.011064336, -0.023781024, -0.0060877926, -0.0010026501, -0.0009174789, 0.020494342, -0.0034652702, -0.00043762097, 0.018438814, -0.0192537, -0.011796474, -0.013078368, -0.04886638, -0.009640748, 0.019165415, -0.008332461, -0.023506928, 0.011705448, 0.008835058, 0.0138622755, -0.016924744, -0.025311584, -0.014860071, -0.01549516, 0.034466647, -0.0109621305, 0.038836695, -0.020658407, 0.021228574, 0.006595503, 0.0071595353, 0.01630456, 0.03150061, -0.014709842, -0.025736345, -0.025704885, -0.00062653894, 0.026068078, 0.011372215, -0.0031535344, 0.015061568, 0.0024208403, 0.0019175617, -0.01050296, -0.031010084, -0.017040042, -0.012954852, -0.0044616982, 0.0019065609, 0.0031827637, 0.0026951907, -0.046107616, 0.006433488, 0.0049216, 0.041607484, 0.059097935, -0.015245336, -0.0002938021, -0.026947504, 0.014929989, -0.001081425, -0.046529762, -0.014606643, -0.013324954, -0.028297113, -0.011019849, 0.006929056, 0.016473662, -0.005177408, 0.024940867, 0.046705727, -0.02268176, 0.0007288339, 0.036285106, -0.026050275, 0.013177856, -0.014348882, 0.02847196, -0.008365429, 0.03336953, 0.039154384, -0.020754127, 0.0067652464, 0.01409093, -0.0065730955, -0.020100087, 0.0067366497, -0.0070737936, -0.0054894476, 0.015601881, -0.0036871613, 0.0050086547, -0.005975975, -2.3802424e-05, -0.006394708, 0.0012174167, -0.004748702, 0.007359013, 0.038372602, -0.037750788, 0.010263837, 0.012828614, 0.010073626, 0.02053294, 0.030799404, 0.010923313, 0.0010087125, -0.024014624, -0.03572187, 0.013733954, 0.0008204096, -0.0021965406, -0.02621224, 0.023738546, -0.017201256, 0.003736532, -0.027459066, 0.011006145, 0.022083707, -0.0065891864, -0.03463719, 0.011508592, 0.023686947, -0.0047021685, 0.012321364, 0.007762432, 0.0048205513, 0.033087846, 0.012271345, 0.004238037, 0.01327028, 0.025126006, 0.00577059, 0.0003499622, -0.027991714, -0.015132523, -0.021383591, -0.027648654, -0.026168162, 0.021837404]]\n"
     ]
    }
   ],
   "source": [
    "# Generate embeddings\n",
    "embeddings = embedding_model.embed_documents([result_original['content']])\n",
    "\n",
    "# Display the embeddings\n",
    "print(embeddings)"
   ]
  },
  {
   "cell_type": "code",
   "execution_count": 91,
   "metadata": {},
   "outputs": [
    {
     "data": {
      "text/plain": [
       "{'bbox_coordinates': [0.8758,\n",
       "  2.0298,\n",
       "  1.9059,\n",
       "  2.035,\n",
       "  1.9052,\n",
       "  2.1761,\n",
       "  0.8751,\n",
       "  2.1709],\n",
       " 'reading_order': 0,\n",
       " 'page_title': 'Letter from the Chairman of the Supervisory Board',\n",
       " 'section_heading': None,\n",
       " 'text': {'raw_text': 'Dear Shareholders,'}}"
      ]
     },
     "execution_count": 91,
     "metadata": {},
     "output_type": "execute_result"
    }
   ],
   "source": [
    "result_processed['pages'][0]['bboxes'][0]"
   ]
  },
  {
   "cell_type": "markdown",
   "metadata": {},
   "source": [
    "### Information retrieval with BM25"
   ]
  },
  {
   "cell_type": "markdown",
   "metadata": {},
   "source": [
    "##### Chunking by page, no overlap"
   ]
  },
  {
   "cell_type": "code",
   "execution_count": 6,
   "metadata": {},
   "outputs": [
    {
     "data": {
      "application/vnd.jupyter.widget-view+json": {
       "model_id": "213a5bb9c61f43c1870bb596d4266d67",
       "version_major": 2,
       "version_minor": 0
      },
      "text/plain": [
       "Split strings:   0%|          | 0/1 [00:00<?, ?it/s]"
      ]
     },
     "metadata": {},
     "output_type": "display_data"
    },
    {
     "data": {
      "application/vnd.jupyter.widget-view+json": {
       "model_id": "5ba4686fab6a4faa9beb83ba3971822d",
       "version_major": 2,
       "version_minor": 0
      },
      "text/plain": [
       "BM25S Count Tokens:   0%|          | 0/1 [00:00<?, ?it/s]"
      ]
     },
     "metadata": {},
     "output_type": "display_data"
    },
    {
     "data": {
      "application/vnd.jupyter.widget-view+json": {
       "model_id": "2c63c5ffe6c240d0988087b7a311d4b6",
       "version_major": 2,
       "version_minor": 0
      },
      "text/plain": [
       "BM25S Compute Scores:   0%|          | 0/1 [00:00<?, ?it/s]"
      ]
     },
     "metadata": {},
     "output_type": "display_data"
    },
    {
     "data": {
      "application/vnd.jupyter.widget-view+json": {
       "model_id": "1dc0e94e707844cea225aa4887d09173",
       "version_major": 2,
       "version_minor": 0
      },
      "text/plain": [
       "Split strings:   0%|          | 0/1 [00:00<?, ?it/s]"
      ]
     },
     "metadata": {},
     "output_type": "display_data"
    },
    {
     "data": {
      "application/vnd.jupyter.widget-view+json": {
       "model_id": "0a903bfb1f5f4aaabf7840a8aebfaee6",
       "version_major": 2,
       "version_minor": 0
      },
      "text/plain": [
       "BM25S Retrieve:   0%|          | 0/1 [00:00<?, ?it/s]"
      ]
     },
     "metadata": {},
     "output_type": "display_data"
    },
    {
     "data": {
      "application/vnd.jupyter.widget-view+json": {
       "model_id": "05140bc35e0e4fa999541c8a924ea68d",
       "version_major": 2,
       "version_minor": 0
      },
      "text/plain": [
       "Split strings:   0%|          | 0/1 [00:00<?, ?it/s]"
      ]
     },
     "metadata": {},
     "output_type": "display_data"
    },
    {
     "data": {
      "application/vnd.jupyter.widget-view+json": {
       "model_id": "5ef81bf37c6b4da78bdbc9954590996d",
       "version_major": 2,
       "version_minor": 0
      },
      "text/plain": [
       "BM25S Count Tokens:   0%|          | 0/1 [00:00<?, ?it/s]"
      ]
     },
     "metadata": {},
     "output_type": "display_data"
    },
    {
     "data": {
      "application/vnd.jupyter.widget-view+json": {
       "model_id": "f284a338c9c944df9a1e927f76b99c03",
       "version_major": 2,
       "version_minor": 0
      },
      "text/plain": [
       "BM25S Compute Scores:   0%|          | 0/1 [00:00<?, ?it/s]"
      ]
     },
     "metadata": {},
     "output_type": "display_data"
    },
    {
     "data": {
      "application/vnd.jupyter.widget-view+json": {
       "model_id": "c39b1fdb033a475295fc2b395b84621a",
       "version_major": 2,
       "version_minor": 0
      },
      "text/plain": [
       "Split strings:   0%|          | 0/1 [00:00<?, ?it/s]"
      ]
     },
     "metadata": {},
     "output_type": "display_data"
    },
    {
     "data": {
      "application/vnd.jupyter.widget-view+json": {
       "model_id": "f6717c59e69e417f9a0c4b4fd65779df",
       "version_major": 2,
       "version_minor": 0
      },
      "text/plain": [
       "BM25S Retrieve:   0%|          | 0/1 [00:00<?, ?it/s]"
      ]
     },
     "metadata": {},
     "output_type": "display_data"
    },
    {
     "data": {
      "application/vnd.jupyter.widget-view+json": {
       "model_id": "e305b855b8ba4423a96cda3ba68689ae",
       "version_major": 2,
       "version_minor": 0
      },
      "text/plain": [
       "Split strings:   0%|          | 0/1 [00:00<?, ?it/s]"
      ]
     },
     "metadata": {},
     "output_type": "display_data"
    },
    {
     "data": {
      "application/vnd.jupyter.widget-view+json": {
       "model_id": "3f02e03f51204d7583be27eaf61e9603",
       "version_major": 2,
       "version_minor": 0
      },
      "text/plain": [
       "BM25S Count Tokens:   0%|          | 0/1 [00:00<?, ?it/s]"
      ]
     },
     "metadata": {},
     "output_type": "display_data"
    },
    {
     "data": {
      "application/vnd.jupyter.widget-view+json": {
       "model_id": "fc25f72326f2483ca07eb0e2efccdd0c",
       "version_major": 2,
       "version_minor": 0
      },
      "text/plain": [
       "BM25S Compute Scores:   0%|          | 0/1 [00:00<?, ?it/s]"
      ]
     },
     "metadata": {},
     "output_type": "display_data"
    },
    {
     "data": {
      "application/vnd.jupyter.widget-view+json": {
       "model_id": "bdc0ea6941a94cfe8ebac8287331c60f",
       "version_major": 2,
       "version_minor": 0
      },
      "text/plain": [
       "Split strings:   0%|          | 0/1 [00:00<?, ?it/s]"
      ]
     },
     "metadata": {},
     "output_type": "display_data"
    },
    {
     "data": {
      "application/vnd.jupyter.widget-view+json": {
       "model_id": "344e75f65c4d4ce49185dfb225af5154",
       "version_major": 2,
       "version_minor": 0
      },
      "text/plain": [
       "BM25S Retrieve:   0%|          | 0/1 [00:00<?, ?it/s]"
      ]
     },
     "metadata": {},
     "output_type": "display_data"
    },
    {
     "data": {
      "application/vnd.jupyter.widget-view+json": {
       "model_id": "8c65be63d2a849f690b335294d7c4e16",
       "version_major": 2,
       "version_minor": 0
      },
      "text/plain": [
       "Split strings:   0%|          | 0/1 [00:00<?, ?it/s]"
      ]
     },
     "metadata": {},
     "output_type": "display_data"
    },
    {
     "data": {
      "application/vnd.jupyter.widget-view+json": {
       "model_id": "a178cfdd5e6f4cf197cb8262c1593fcb",
       "version_major": 2,
       "version_minor": 0
      },
      "text/plain": [
       "BM25S Count Tokens:   0%|          | 0/1 [00:00<?, ?it/s]"
      ]
     },
     "metadata": {},
     "output_type": "display_data"
    },
    {
     "data": {
      "application/vnd.jupyter.widget-view+json": {
       "model_id": "b991893085894013b3bc511686c0bf02",
       "version_major": 2,
       "version_minor": 0
      },
      "text/plain": [
       "BM25S Compute Scores:   0%|          | 0/1 [00:00<?, ?it/s]"
      ]
     },
     "metadata": {},
     "output_type": "display_data"
    },
    {
     "data": {
      "application/vnd.jupyter.widget-view+json": {
       "model_id": "8cba4702da394681bc4da2cacce5a03a",
       "version_major": 2,
       "version_minor": 0
      },
      "text/plain": [
       "Split strings:   0%|          | 0/1 [00:00<?, ?it/s]"
      ]
     },
     "metadata": {},
     "output_type": "display_data"
    },
    {
     "data": {
      "application/vnd.jupyter.widget-view+json": {
       "model_id": "dfa666c451e54387a5f1e707867016e8",
       "version_major": 2,
       "version_minor": 0
      },
      "text/plain": [
       "BM25S Retrieve:   0%|          | 0/1 [00:00<?, ?it/s]"
      ]
     },
     "metadata": {},
     "output_type": "display_data"
    },
    {
     "data": {
      "application/vnd.jupyter.widget-view+json": {
       "model_id": "3784633ddd644775a4aa15da59e4f48c",
       "version_major": 2,
       "version_minor": 0
      },
      "text/plain": [
       "Split strings:   0%|          | 0/1 [00:00<?, ?it/s]"
      ]
     },
     "metadata": {},
     "output_type": "display_data"
    },
    {
     "data": {
      "application/vnd.jupyter.widget-view+json": {
       "model_id": "443ae944fd864dde9e6af3d0488ef9fd",
       "version_major": 2,
       "version_minor": 0
      },
      "text/plain": [
       "BM25S Count Tokens:   0%|          | 0/1 [00:00<?, ?it/s]"
      ]
     },
     "metadata": {},
     "output_type": "display_data"
    },
    {
     "data": {
      "application/vnd.jupyter.widget-view+json": {
       "model_id": "48fd9c6517b343f9acbd9756d1a639ba",
       "version_major": 2,
       "version_minor": 0
      },
      "text/plain": [
       "BM25S Compute Scores:   0%|          | 0/1 [00:00<?, ?it/s]"
      ]
     },
     "metadata": {},
     "output_type": "display_data"
    },
    {
     "data": {
      "application/vnd.jupyter.widget-view+json": {
       "model_id": "5b88948adeb74eeead30f24838c78bcf",
       "version_major": 2,
       "version_minor": 0
      },
      "text/plain": [
       "Split strings:   0%|          | 0/1 [00:00<?, ?it/s]"
      ]
     },
     "metadata": {},
     "output_type": "display_data"
    },
    {
     "data": {
      "application/vnd.jupyter.widget-view+json": {
       "model_id": "55f4f22229854fc6a4a88780548bfe19",
       "version_major": 2,
       "version_minor": 0
      },
      "text/plain": [
       "BM25S Retrieve:   0%|          | 0/1 [00:00<?, ?it/s]"
      ]
     },
     "metadata": {},
     "output_type": "display_data"
    },
    {
     "data": {
      "application/vnd.jupyter.widget-view+json": {
       "model_id": "75d768ec7f554a5bb9bccc25bd821347",
       "version_major": 2,
       "version_minor": 0
      },
      "text/plain": [
       "Split strings:   0%|          | 0/1 [00:00<?, ?it/s]"
      ]
     },
     "metadata": {},
     "output_type": "display_data"
    },
    {
     "data": {
      "application/vnd.jupyter.widget-view+json": {
       "model_id": "2f12b1e1512d4ff3a84e949316fa08c7",
       "version_major": 2,
       "version_minor": 0
      },
      "text/plain": [
       "BM25S Count Tokens:   0%|          | 0/1 [00:00<?, ?it/s]"
      ]
     },
     "metadata": {},
     "output_type": "display_data"
    },
    {
     "data": {
      "application/vnd.jupyter.widget-view+json": {
       "model_id": "600e40e6c66346d69b1d256edd4fbc89",
       "version_major": 2,
       "version_minor": 0
      },
      "text/plain": [
       "BM25S Compute Scores:   0%|          | 0/1 [00:00<?, ?it/s]"
      ]
     },
     "metadata": {},
     "output_type": "display_data"
    },
    {
     "data": {
      "application/vnd.jupyter.widget-view+json": {
       "model_id": "49074afe0f1f4bb5a412f6ff8d7215cb",
       "version_major": 2,
       "version_minor": 0
      },
      "text/plain": [
       "Split strings:   0%|          | 0/1 [00:00<?, ?it/s]"
      ]
     },
     "metadata": {},
     "output_type": "display_data"
    },
    {
     "data": {
      "application/vnd.jupyter.widget-view+json": {
       "model_id": "8fcb8a9a5da34b89a4f2131710061b79",
       "version_major": 2,
       "version_minor": 0
      },
      "text/plain": [
       "BM25S Retrieve:   0%|          | 0/1 [00:00<?, ?it/s]"
      ]
     },
     "metadata": {},
     "output_type": "display_data"
    },
    {
     "data": {
      "application/vnd.jupyter.widget-view+json": {
       "model_id": "2b1eaa477c0f44779ee3cb3bdb3c6026",
       "version_major": 2,
       "version_minor": 0
      },
      "text/plain": [
       "Split strings:   0%|          | 0/1 [00:00<?, ?it/s]"
      ]
     },
     "metadata": {},
     "output_type": "display_data"
    },
    {
     "data": {
      "application/vnd.jupyter.widget-view+json": {
       "model_id": "3e1ab5060b4b4e26896dbe9b200d77a6",
       "version_major": 2,
       "version_minor": 0
      },
      "text/plain": [
       "BM25S Count Tokens:   0%|          | 0/1 [00:00<?, ?it/s]"
      ]
     },
     "metadata": {},
     "output_type": "display_data"
    },
    {
     "data": {
      "application/vnd.jupyter.widget-view+json": {
       "model_id": "8ee46fc4bd2c44768ef2692dd8cc6c13",
       "version_major": 2,
       "version_minor": 0
      },
      "text/plain": [
       "BM25S Compute Scores:   0%|          | 0/1 [00:00<?, ?it/s]"
      ]
     },
     "metadata": {},
     "output_type": "display_data"
    },
    {
     "data": {
      "application/vnd.jupyter.widget-view+json": {
       "model_id": "ed120223eb674cb995582db8dcc5ed9b",
       "version_major": 2,
       "version_minor": 0
      },
      "text/plain": [
       "Split strings:   0%|          | 0/1 [00:00<?, ?it/s]"
      ]
     },
     "metadata": {},
     "output_type": "display_data"
    },
    {
     "data": {
      "application/vnd.jupyter.widget-view+json": {
       "model_id": "084ab5e89408451ea9ae3b9b493964f6",
       "version_major": 2,
       "version_minor": 0
      },
      "text/plain": [
       "BM25S Retrieve:   0%|          | 0/1 [00:00<?, ?it/s]"
      ]
     },
     "metadata": {},
     "output_type": "display_data"
    },
    {
     "data": {
      "application/vnd.jupyter.widget-view+json": {
       "model_id": "64b5f71c8bac499f82bce718a6b20c20",
       "version_major": 2,
       "version_minor": 0
      },
      "text/plain": [
       "Split strings:   0%|          | 0/1 [00:00<?, ?it/s]"
      ]
     },
     "metadata": {},
     "output_type": "display_data"
    },
    {
     "data": {
      "application/vnd.jupyter.widget-view+json": {
       "model_id": "69e935f06a48426ca6eac76fae507240",
       "version_major": 2,
       "version_minor": 0
      },
      "text/plain": [
       "BM25S Count Tokens:   0%|          | 0/1 [00:00<?, ?it/s]"
      ]
     },
     "metadata": {},
     "output_type": "display_data"
    },
    {
     "data": {
      "application/vnd.jupyter.widget-view+json": {
       "model_id": "62c4410024974d01841422f9efa2da3c",
       "version_major": 2,
       "version_minor": 0
      },
      "text/plain": [
       "BM25S Compute Scores:   0%|          | 0/1 [00:00<?, ?it/s]"
      ]
     },
     "metadata": {},
     "output_type": "display_data"
    },
    {
     "data": {
      "application/vnd.jupyter.widget-view+json": {
       "model_id": "56444049f4574121b01f11ff3ba85cb5",
       "version_major": 2,
       "version_minor": 0
      },
      "text/plain": [
       "Split strings:   0%|          | 0/1 [00:00<?, ?it/s]"
      ]
     },
     "metadata": {},
     "output_type": "display_data"
    },
    {
     "data": {
      "application/vnd.jupyter.widget-view+json": {
       "model_id": "68832b6aaa8146e48aefc6cb604bb253",
       "version_major": 2,
       "version_minor": 0
      },
      "text/plain": [
       "BM25S Retrieve:   0%|          | 0/1 [00:00<?, ?it/s]"
      ]
     },
     "metadata": {},
     "output_type": "display_data"
    },
    {
     "data": {
      "application/vnd.jupyter.widget-view+json": {
       "model_id": "6316bddc570545ffb8ae943ca2c09f12",
       "version_major": 2,
       "version_minor": 0
      },
      "text/plain": [
       "Split strings:   0%|          | 0/1 [00:00<?, ?it/s]"
      ]
     },
     "metadata": {},
     "output_type": "display_data"
    },
    {
     "data": {
      "application/vnd.jupyter.widget-view+json": {
       "model_id": "93a7190b47fb43969f1d9b04b5ba9de2",
       "version_major": 2,
       "version_minor": 0
      },
      "text/plain": [
       "BM25S Count Tokens:   0%|          | 0/1 [00:00<?, ?it/s]"
      ]
     },
     "metadata": {},
     "output_type": "display_data"
    },
    {
     "data": {
      "application/vnd.jupyter.widget-view+json": {
       "model_id": "a2c8f3e5c3064ea088165d2f6f1706a2",
       "version_major": 2,
       "version_minor": 0
      },
      "text/plain": [
       "BM25S Compute Scores:   0%|          | 0/1 [00:00<?, ?it/s]"
      ]
     },
     "metadata": {},
     "output_type": "display_data"
    },
    {
     "data": {
      "application/vnd.jupyter.widget-view+json": {
       "model_id": "0fde7450773c4b13b8c445f29418e319",
       "version_major": 2,
       "version_minor": 0
      },
      "text/plain": [
       "Split strings:   0%|          | 0/1 [00:00<?, ?it/s]"
      ]
     },
     "metadata": {},
     "output_type": "display_data"
    },
    {
     "data": {
      "application/vnd.jupyter.widget-view+json": {
       "model_id": "a9840ce8fb8f49d1a50871e61e7bb2a8",
       "version_major": 2,
       "version_minor": 0
      },
      "text/plain": [
       "BM25S Retrieve:   0%|          | 0/1 [00:00<?, ?it/s]"
      ]
     },
     "metadata": {},
     "output_type": "display_data"
    },
    {
     "data": {
      "application/vnd.jupyter.widget-view+json": {
       "model_id": "287cd948e78b4cb9a5834eceafb12077",
       "version_major": 2,
       "version_minor": 0
      },
      "text/plain": [
       "Split strings:   0%|          | 0/1 [00:00<?, ?it/s]"
      ]
     },
     "metadata": {},
     "output_type": "display_data"
    },
    {
     "data": {
      "application/vnd.jupyter.widget-view+json": {
       "model_id": "f47e16ac2776450ca70e6182f4c50e93",
       "version_major": 2,
       "version_minor": 0
      },
      "text/plain": [
       "BM25S Count Tokens:   0%|          | 0/1 [00:00<?, ?it/s]"
      ]
     },
     "metadata": {},
     "output_type": "display_data"
    },
    {
     "data": {
      "application/vnd.jupyter.widget-view+json": {
       "model_id": "3186f788200144129c988edabec8f625",
       "version_major": 2,
       "version_minor": 0
      },
      "text/plain": [
       "BM25S Compute Scores:   0%|          | 0/1 [00:00<?, ?it/s]"
      ]
     },
     "metadata": {},
     "output_type": "display_data"
    },
    {
     "data": {
      "application/vnd.jupyter.widget-view+json": {
       "model_id": "b1687594488f460288624497f6b78405",
       "version_major": 2,
       "version_minor": 0
      },
      "text/plain": [
       "Split strings:   0%|          | 0/1 [00:00<?, ?it/s]"
      ]
     },
     "metadata": {},
     "output_type": "display_data"
    },
    {
     "data": {
      "application/vnd.jupyter.widget-view+json": {
       "model_id": "1752d2a489994ca187b243c6e5a80690",
       "version_major": 2,
       "version_minor": 0
      },
      "text/plain": [
       "BM25S Retrieve:   0%|          | 0/1 [00:00<?, ?it/s]"
      ]
     },
     "metadata": {},
     "output_type": "display_data"
    },
    {
     "data": {
      "application/vnd.jupyter.widget-view+json": {
       "model_id": "df078f5449cd47e0a49aa95dad13c86c",
       "version_major": 2,
       "version_minor": 0
      },
      "text/plain": [
       "Split strings:   0%|          | 0/1 [00:00<?, ?it/s]"
      ]
     },
     "metadata": {},
     "output_type": "display_data"
    },
    {
     "data": {
      "application/vnd.jupyter.widget-view+json": {
       "model_id": "45c2b5083daa4197a020df6e143b07ec",
       "version_major": 2,
       "version_minor": 0
      },
      "text/plain": [
       "BM25S Count Tokens:   0%|          | 0/1 [00:00<?, ?it/s]"
      ]
     },
     "metadata": {},
     "output_type": "display_data"
    },
    {
     "data": {
      "application/vnd.jupyter.widget-view+json": {
       "model_id": "46b74dcf4f5f4714a8ae59efc865984d",
       "version_major": 2,
       "version_minor": 0
      },
      "text/plain": [
       "BM25S Compute Scores:   0%|          | 0/1 [00:00<?, ?it/s]"
      ]
     },
     "metadata": {},
     "output_type": "display_data"
    },
    {
     "data": {
      "application/vnd.jupyter.widget-view+json": {
       "model_id": "93fb38b2a76043f4995466454443b91e",
       "version_major": 2,
       "version_minor": 0
      },
      "text/plain": [
       "Split strings:   0%|          | 0/1 [00:00<?, ?it/s]"
      ]
     },
     "metadata": {},
     "output_type": "display_data"
    },
    {
     "data": {
      "application/vnd.jupyter.widget-view+json": {
       "model_id": "0af2f47da1144f8c9f0e9241f502ec1e",
       "version_major": 2,
       "version_minor": 0
      },
      "text/plain": [
       "BM25S Retrieve:   0%|          | 0/1 [00:00<?, ?it/s]"
      ]
     },
     "metadata": {},
     "output_type": "display_data"
    },
    {
     "data": {
      "application/vnd.jupyter.widget-view+json": {
       "model_id": "a20648c920c046bca1bb94484347d7e3",
       "version_major": 2,
       "version_minor": 0
      },
      "text/plain": [
       "Split strings:   0%|          | 0/1 [00:00<?, ?it/s]"
      ]
     },
     "metadata": {},
     "output_type": "display_data"
    },
    {
     "data": {
      "application/vnd.jupyter.widget-view+json": {
       "model_id": "57e14ccf7c4f4d04a4cd5f2905b21b07",
       "version_major": 2,
       "version_minor": 0
      },
      "text/plain": [
       "BM25S Count Tokens:   0%|          | 0/1 [00:00<?, ?it/s]"
      ]
     },
     "metadata": {},
     "output_type": "display_data"
    },
    {
     "data": {
      "application/vnd.jupyter.widget-view+json": {
       "model_id": "164af5656a3f45d19c43376f50c3c6e1",
       "version_major": 2,
       "version_minor": 0
      },
      "text/plain": [
       "BM25S Compute Scores:   0%|          | 0/1 [00:00<?, ?it/s]"
      ]
     },
     "metadata": {},
     "output_type": "display_data"
    },
    {
     "data": {
      "application/vnd.jupyter.widget-view+json": {
       "model_id": "a1464ba0feed42f89e668d2b592c39bc",
       "version_major": 2,
       "version_minor": 0
      },
      "text/plain": [
       "Split strings:   0%|          | 0/1 [00:00<?, ?it/s]"
      ]
     },
     "metadata": {},
     "output_type": "display_data"
    },
    {
     "data": {
      "application/vnd.jupyter.widget-view+json": {
       "model_id": "0babc2d537264917a95bd28801b2e4b0",
       "version_major": 2,
       "version_minor": 0
      },
      "text/plain": [
       "BM25S Retrieve:   0%|          | 0/1 [00:00<?, ?it/s]"
      ]
     },
     "metadata": {},
     "output_type": "display_data"
    },
    {
     "data": {
      "application/vnd.jupyter.widget-view+json": {
       "model_id": "42b55966b6aa424482a3c95e28f934cf",
       "version_major": 2,
       "version_minor": 0
      },
      "text/plain": [
       "Split strings:   0%|          | 0/1 [00:00<?, ?it/s]"
      ]
     },
     "metadata": {},
     "output_type": "display_data"
    },
    {
     "data": {
      "application/vnd.jupyter.widget-view+json": {
       "model_id": "85f8ff56e6684e308411a882f694f3d1",
       "version_major": 2,
       "version_minor": 0
      },
      "text/plain": [
       "BM25S Count Tokens:   0%|          | 0/1 [00:00<?, ?it/s]"
      ]
     },
     "metadata": {},
     "output_type": "display_data"
    },
    {
     "data": {
      "application/vnd.jupyter.widget-view+json": {
       "model_id": "962f184a3c3043fdadfc1824a90a649c",
       "version_major": 2,
       "version_minor": 0
      },
      "text/plain": [
       "BM25S Compute Scores:   0%|          | 0/1 [00:00<?, ?it/s]"
      ]
     },
     "metadata": {},
     "output_type": "display_data"
    },
    {
     "data": {
      "application/vnd.jupyter.widget-view+json": {
       "model_id": "57388e20c38549bdba149aaf64870a12",
       "version_major": 2,
       "version_minor": 0
      },
      "text/plain": [
       "Split strings:   0%|          | 0/1 [00:00<?, ?it/s]"
      ]
     },
     "metadata": {},
     "output_type": "display_data"
    },
    {
     "data": {
      "application/vnd.jupyter.widget-view+json": {
       "model_id": "8ad725f9d43e430d99f93f12c732df3a",
       "version_major": 2,
       "version_minor": 0
      },
      "text/plain": [
       "BM25S Retrieve:   0%|          | 0/1 [00:00<?, ?it/s]"
      ]
     },
     "metadata": {},
     "output_type": "display_data"
    },
    {
     "data": {
      "application/vnd.jupyter.widget-view+json": {
       "model_id": "40fbb208a87e4f478cb85f191e3bed84",
       "version_major": 2,
       "version_minor": 0
      },
      "text/plain": [
       "Split strings:   0%|          | 0/1 [00:00<?, ?it/s]"
      ]
     },
     "metadata": {},
     "output_type": "display_data"
    },
    {
     "data": {
      "application/vnd.jupyter.widget-view+json": {
       "model_id": "4b7880e4fc974e829b250d804c29a319",
       "version_major": 2,
       "version_minor": 0
      },
      "text/plain": [
       "BM25S Count Tokens:   0%|          | 0/1 [00:00<?, ?it/s]"
      ]
     },
     "metadata": {},
     "output_type": "display_data"
    },
    {
     "data": {
      "application/vnd.jupyter.widget-view+json": {
       "model_id": "d943be6a6c4d423da2ac603a8f31a91f",
       "version_major": 2,
       "version_minor": 0
      },
      "text/plain": [
       "BM25S Compute Scores:   0%|          | 0/1 [00:00<?, ?it/s]"
      ]
     },
     "metadata": {},
     "output_type": "display_data"
    },
    {
     "data": {
      "application/vnd.jupyter.widget-view+json": {
       "model_id": "5d343c23abbf4b5d86ec7428f935ff9f",
       "version_major": 2,
       "version_minor": 0
      },
      "text/plain": [
       "Split strings:   0%|          | 0/1 [00:00<?, ?it/s]"
      ]
     },
     "metadata": {},
     "output_type": "display_data"
    },
    {
     "data": {
      "application/vnd.jupyter.widget-view+json": {
       "model_id": "a5ed82e557664442b857d73208ea7ca7",
       "version_major": 2,
       "version_minor": 0
      },
      "text/plain": [
       "BM25S Retrieve:   0%|          | 0/1 [00:00<?, ?it/s]"
      ]
     },
     "metadata": {},
     "output_type": "display_data"
    },
    {
     "data": {
      "application/vnd.jupyter.widget-view+json": {
       "model_id": "66e7493960c143338f8e5f9986bba090",
       "version_major": 2,
       "version_minor": 0
      },
      "text/plain": [
       "Split strings:   0%|          | 0/1 [00:00<?, ?it/s]"
      ]
     },
     "metadata": {},
     "output_type": "display_data"
    },
    {
     "data": {
      "application/vnd.jupyter.widget-view+json": {
       "model_id": "18422d638e0e48af8817fe38fba0ab64",
       "version_major": 2,
       "version_minor": 0
      },
      "text/plain": [
       "BM25S Count Tokens:   0%|          | 0/1 [00:00<?, ?it/s]"
      ]
     },
     "metadata": {},
     "output_type": "display_data"
    },
    {
     "data": {
      "application/vnd.jupyter.widget-view+json": {
       "model_id": "7e2e6db771a0492fb1da288148a45640",
       "version_major": 2,
       "version_minor": 0
      },
      "text/plain": [
       "BM25S Compute Scores:   0%|          | 0/1 [00:00<?, ?it/s]"
      ]
     },
     "metadata": {},
     "output_type": "display_data"
    },
    {
     "data": {
      "application/vnd.jupyter.widget-view+json": {
       "model_id": "fc234f0e8cb24b479e8258f0bdc11ddc",
       "version_major": 2,
       "version_minor": 0
      },
      "text/plain": [
       "Split strings:   0%|          | 0/1 [00:00<?, ?it/s]"
      ]
     },
     "metadata": {},
     "output_type": "display_data"
    },
    {
     "data": {
      "application/vnd.jupyter.widget-view+json": {
       "model_id": "36c5702f11334628b8863b486a035d75",
       "version_major": 2,
       "version_minor": 0
      },
      "text/plain": [
       "BM25S Retrieve:   0%|          | 0/1 [00:00<?, ?it/s]"
      ]
     },
     "metadata": {},
     "output_type": "display_data"
    },
    {
     "data": {
      "application/vnd.jupyter.widget-view+json": {
       "model_id": "8010e55676954de2bd2bed831cec7340",
       "version_major": 2,
       "version_minor": 0
      },
      "text/plain": [
       "Split strings:   0%|          | 0/1 [00:00<?, ?it/s]"
      ]
     },
     "metadata": {},
     "output_type": "display_data"
    },
    {
     "data": {
      "application/vnd.jupyter.widget-view+json": {
       "model_id": "97b9da0095a447b2a35027ea42c5b325",
       "version_major": 2,
       "version_minor": 0
      },
      "text/plain": [
       "BM25S Count Tokens:   0%|          | 0/1 [00:00<?, ?it/s]"
      ]
     },
     "metadata": {},
     "output_type": "display_data"
    },
    {
     "data": {
      "application/vnd.jupyter.widget-view+json": {
       "model_id": "1ccf7e3b52cc4a7883c697ce0c38f55a",
       "version_major": 2,
       "version_minor": 0
      },
      "text/plain": [
       "BM25S Compute Scores:   0%|          | 0/1 [00:00<?, ?it/s]"
      ]
     },
     "metadata": {},
     "output_type": "display_data"
    },
    {
     "data": {
      "application/vnd.jupyter.widget-view+json": {
       "model_id": "292eb2230f3144e49008fddab6f89e8b",
       "version_major": 2,
       "version_minor": 0
      },
      "text/plain": [
       "Split strings:   0%|          | 0/1 [00:00<?, ?it/s]"
      ]
     },
     "metadata": {},
     "output_type": "display_data"
    },
    {
     "data": {
      "application/vnd.jupyter.widget-view+json": {
       "model_id": "b4c14bd25ddb4050ac0f2ef6f52f1dc1",
       "version_major": 2,
       "version_minor": 0
      },
      "text/plain": [
       "BM25S Retrieve:   0%|          | 0/1 [00:00<?, ?it/s]"
      ]
     },
     "metadata": {},
     "output_type": "display_data"
    },
    {
     "data": {
      "application/vnd.jupyter.widget-view+json": {
       "model_id": "12668ecf661c46a4b7ddac51f42488c1",
       "version_major": 2,
       "version_minor": 0
      },
      "text/plain": [
       "Split strings:   0%|          | 0/1 [00:00<?, ?it/s]"
      ]
     },
     "metadata": {},
     "output_type": "display_data"
    },
    {
     "data": {
      "application/vnd.jupyter.widget-view+json": {
       "model_id": "a4635653188e4ca4855e1685265b0804",
       "version_major": 2,
       "version_minor": 0
      },
      "text/plain": [
       "BM25S Count Tokens:   0%|          | 0/1 [00:00<?, ?it/s]"
      ]
     },
     "metadata": {},
     "output_type": "display_data"
    },
    {
     "data": {
      "application/vnd.jupyter.widget-view+json": {
       "model_id": "f9e4dd99d73c48a9815b6d97904c5560",
       "version_major": 2,
       "version_minor": 0
      },
      "text/plain": [
       "BM25S Compute Scores:   0%|          | 0/1 [00:00<?, ?it/s]"
      ]
     },
     "metadata": {},
     "output_type": "display_data"
    },
    {
     "data": {
      "application/vnd.jupyter.widget-view+json": {
       "model_id": "ed0ce9d86525456db0163d61d361a65a",
       "version_major": 2,
       "version_minor": 0
      },
      "text/plain": [
       "Split strings:   0%|          | 0/1 [00:00<?, ?it/s]"
      ]
     },
     "metadata": {},
     "output_type": "display_data"
    },
    {
     "data": {
      "application/vnd.jupyter.widget-view+json": {
       "model_id": "74e41fb893664757a6e6c9390942cfe0",
       "version_major": 2,
       "version_minor": 0
      },
      "text/plain": [
       "BM25S Retrieve:   0%|          | 0/1 [00:00<?, ?it/s]"
      ]
     },
     "metadata": {},
     "output_type": "display_data"
    },
    {
     "name": "stdout",
     "output_type": "stream",
     "text": [
      "{'page_number': 1, 'relevance_confidence': 0.5279908, 'raw_text': \"Dear Shareholders,Last year, Deutsche Bank proved its resilience in a volatile environment, further increasing revenues and delivering its best pre-tax profit in 16 years. Thanks to its prudent risk management, the bank has a strong and stable balance sheet and has further strengthened its capital base. As a result, we are this year once again in a position to substantially increase capital distributions to shareholders and we are pleased that the Supervisory Board and Management Board will propose to you a 50% increase in the dividend to € 0.45 per share at this year's Annual General Meeting.In this economic environment, the resilience and sustainable profitability of our bank were also focus topics for the Supervisory Board. It was the Risk Committee's task to keep an eye on our capital adequacy as well as to oversee the bank's risk management and the development of non-financial risks. Another priority was to set the course for future growth. The Supervisory Board closely monitored the strategic development of the bank's culture and business model together with its financial targets and capital objectives up to 2025. The Supervisory Board expressly supports the bank's even sharper focus on its role as a Global Hausbank. Part of this is supporting clients in their sustainable and digital transformation. This strategy not only enables the bank to play its role within the German and European economy but also - of this the Supervisory Board is convinced - it is the right way to generate sustainable profits and returns for you as shareholders. In this context, the Supervisory Board welcomes and supports the Management Board's work on clearly defining the bank's purpose, its vision and aspirational culture, guided by the conviction that our top priority must be an even stronger focus on placing our clients at the center of everything we do.Effective controls protect both our bank and our clients. Further improving these controls was another important topic last year. The Supervisory Board regularly discussed significant regulatory issues as well as progress in the processing of material litigation cases. We are aware that there is still more to do. The Management Board and Supervisory Board are in close dialogue with regulators and are focused on delivering the necessary improvements. To achieve this, the bank spent about € 1.2 billion on controls in 2023 and hired around 1,000 dedicated professionals across all regions. More details on these important issues can be found in Deutsche Bank's Non-Financial Report, which is published in parallel with this Annual Report.One of the issues that the Supervisory Board addressed intensively last year was the restrictions for our clients following the migration of Postbank's IT to a common platform. The Management Board regularly reported to the Supervisory Board on the progress made in resolving the backlogs that had arisen, which were able to be reduced substantially over the past months. Nevertheless, it is clear that we have not lived up to our service and quality standards here and have disappointed our clients. On behalf of the Supervisory Board I would like to express my sincere apologies for the delays and problems caused to our clients. The Supervisory Board has taken action as a result and reduced the variable compensation of several current and departed Management Board members. Details can be found in our Compensation Report.There you will also find information on how we intend to develop the Management Board compensation system for 2024 and beyond. In our review, we incorporated feedback from investors and are addressing two main concerns: first, we want to simplify the system, making it more transparent for our external stakeholders, by significantly reducing the number of targets and indicators on which variable compensation depends. Second, we aim to align how we evaluate Management Board members' performance even more closely with the interests of our shareholders. This applies above all to the long-term component of variable compensation, which in future will no longer be measured against past years' results. In the new system, both financial and ESG targets will be forward-looking over a period of three years. In addition, we aim to be more ambitious when it comes to setting targets for certain key performance indicators. We will submit the revised compensation system to you for voting at the Annual General Meeting in May; it is to be applied as early as this year.In 2023, the Supervisory Board also addressed personnel decisions in the Management Board. At the Annual General Meeting, we bid farewell to Christiana Riley, Americas CEO, and Karl von Rohr, President and Head of Private Bank, who left the bank at the end of October after 25 years of service. Claudio de Sanctis subsequently assumed responsibility for the Private Bank and joined the Management Board in July. He has been with Deutsche Bank since 2018 and has successfully transformed the International Private Bank in recent years and focused it on its strengths in the advisory business. Stefan Simon assumed responsibility for the Americas region - in addition to his global responsibility for Legal, Regulatory Affairs and Anti-Financial Crime. Besides client coverage, the structure of the US market requires significant coordination and dialogue with regulators. Responsible for maintaining closer connections between the regions and our home market is Alexander von zur Mühlen. He assumed responsibility for Germany and Europe, Middle East and Africa (EMEA) in July. He also continues to oversee the Asia-Pacific region. Rebecca Short was given an extended mandate on the Management Board with a view to making the bank more efficient. In addition to her responsibility for Human Resources, she was appointed Chief Operating Officer with overall responsibility for the Group's costs.\"}\n",
      "{'page_number': 2, 'relevance_confidence': 0.46787858, 'raw_text': \"As part of personnel reorganization measures, the Management Board was reduced from ten to nine members to make it more efficient. With this new composition, we do, however, fall short of our own commitment regarding the share of women on the Management Board. The Supervisory Board is focused on raising the proportion of women in leadership roles, both at Management Board level and below. As part of the bank's new compensation system, we seek to integrate the latter more firmly into the performance goals of our Management Board members.On the Supervisory Board, there was a routine change as a result of last year's elections, with Susanne Bleidt, Claudia Fieber, Brigit Laumen, Gerlinde Siebert, Frank Schulze, Stephan Szukalski and Jürgen Tögel being newly elected as employee representatives, while Jan Duscheck, Manja Eifert and Timo Heider were re-elected for a further term of office. In January 2024, Birgit Laumen resigned from her mandate and the court subsequently appointed Florian Haggenmiller as her successor. I would like to once again welcome all those who joined the Supervisory Board. My special thanks go to Frank Schulze, one of my deputies, for the close cooperation and partnership since the very beginning.On the shareholder side, continuity was the order of the day. Four shareholder representatives, whose term of office expired in 2023, were each re-elected by the Annual General Meeting for another four years. We look forward to continuing our valuable collaboration with Mayree Clark, John Thain, Michele Trogni and Norbert Winkeljohann.In 2024, our Annual General Meeting will again be held virtually. The experience of the past few years has convinced us to take this step; this inclusive format offers numerous benefits. We have received recognition for the transparent implementation and quality of the answers to shareholder questions, which will again be submitted in advance this year. At the same time, we aim to enable an enhanced dialogue with shareholders on the day of the Annual General Meeting.Dear shareholders, the Supervisory Board is confident that your Deutsche Bank is on the right track. The bank has the right set-up and a strong management team. We will do everything we can to support them in the next phase of their growth strategy and to put our clients at the heart of everything we do. I am convinced that if we focus on our clients and our strengths, we will continue to create sustainable value for you, our shareholders.Sincerely,Alex WynandtsAlex WynaendtsChairman of the Supervisory Board\"}\n"
     ]
    }
   ],
   "source": [
    "result=result_processed\n",
    "\n",
    "retrieval_results = []\n",
    "\n",
    "for page in result['pages']:\n",
    "    page_result=''\n",
    "    page_number=page['page_number']\n",
    "    for bbox in page['bboxes']:\n",
    "        if 'text' in bbox:\n",
    "            page_result+=bbox['text'].get('raw_text')\n",
    "        if 'figure' in bbox:\n",
    "            page_result+=bbox['figure']['figure_text'].get('raw_text')\n",
    "        if 'table' in bbox:\n",
    "            page_result+=bbox['table'].get('table_raw')\n",
    "\n",
    "        retrieve_text = [page_result]\n",
    "        corpus_tokens = bm25s.tokenize(retrieve_text)\n",
    "        retriever = bm25s.BM25(corpus=retrieve_text)\n",
    "        retriever.index(corpus_tokens)\n",
    "        # You can now search the corpus with a query\n",
    "        #total=len(result[\"meta_info_file\"][\"paragraphsTotal\"])\n",
    "        query = \"Chairman of the supervisory board\"\n",
    "        query_tokens = bm25s.tokenize(query)\n",
    "        docs, scores = retriever.retrieve(query_tokens, k=1)\n",
    "        \n",
    "    retrieval_dict = {\n",
    "        \"page_number\": page_number,\n",
    "        \"relevance_confidence\": scores[0, 0],\n",
    "        \"raw_text\": retrieve_text[0]\n",
    "    }\n",
    "    \n",
    "    # Append the dictionary to the results list\n",
    "    retrieval_results.append(retrieval_dict)\n",
    "\n",
    "# Example of how to use the retrieval_results\n",
    "for result in retrieval_results:\n",
    "    print(result)\n"
   ]
  },
  {
   "cell_type": "markdown",
   "metadata": {},
   "source": [
    "Result: Confidence level for the first chunk is higher, despite that the information is contained in the second chunk."
   ]
  },
  {
   "cell_type": "markdown",
   "metadata": {},
   "source": [
    "#### Chunking by token count with overlap"
   ]
  },
  {
   "cell_type": "code",
   "execution_count": 23,
   "metadata": {},
   "outputs": [
    {
     "data": {
      "application/vnd.jupyter.widget-view+json": {
       "model_id": "52f9bbdc4bcb4889b9df58cf851aa6a2",
       "version_major": 2,
       "version_minor": 0
      },
      "text/plain": [
       "Split strings:   0%|          | 0/1 [00:00<?, ?it/s]"
      ]
     },
     "metadata": {},
     "output_type": "display_data"
    },
    {
     "data": {
      "application/vnd.jupyter.widget-view+json": {
       "model_id": "6e04197aed33480bbea5dccb9043a04c",
       "version_major": 2,
       "version_minor": 0
      },
      "text/plain": [
       "Split strings:   0%|          | 0/1 [00:00<?, ?it/s]"
      ]
     },
     "metadata": {},
     "output_type": "display_data"
    },
    {
     "data": {
      "application/vnd.jupyter.widget-view+json": {
       "model_id": "86a989f937a54e999f8fc1c4cfa9e44a",
       "version_major": 2,
       "version_minor": 0
      },
      "text/plain": [
       "Split strings:   0%|          | 0/1 [00:00<?, ?it/s]"
      ]
     },
     "metadata": {},
     "output_type": "display_data"
    },
    {
     "data": {
      "application/vnd.jupyter.widget-view+json": {
       "model_id": "b66dd8eadd6842bcb4e2b459c14a2056",
       "version_major": 2,
       "version_minor": 0
      },
      "text/plain": [
       "Split strings:   0%|          | 0/1 [00:00<?, ?it/s]"
      ]
     },
     "metadata": {},
     "output_type": "display_data"
    },
    {
     "data": {
      "application/vnd.jupyter.widget-view+json": {
       "model_id": "630f7978208745d2a619db2a80b17701",
       "version_major": 2,
       "version_minor": 0
      },
      "text/plain": [
       "Split strings:   0%|          | 0/1 [00:00<?, ?it/s]"
      ]
     },
     "metadata": {},
     "output_type": "display_data"
    },
    {
     "data": {
      "application/vnd.jupyter.widget-view+json": {
       "model_id": "35d2ad0268904b96b896daff7cf0e5b6",
       "version_major": 2,
       "version_minor": 0
      },
      "text/plain": [
       "Split strings:   0%|          | 0/1 [00:00<?, ?it/s]"
      ]
     },
     "metadata": {},
     "output_type": "display_data"
    },
    {
     "data": {
      "application/vnd.jupyter.widget-view+json": {
       "model_id": "7d4ca7f8c0df489783385c60dcd57cb4",
       "version_major": 2,
       "version_minor": 0
      },
      "text/plain": [
       "Split strings:   0%|          | 0/1 [00:00<?, ?it/s]"
      ]
     },
     "metadata": {},
     "output_type": "display_data"
    },
    {
     "data": {
      "application/vnd.jupyter.widget-view+json": {
       "model_id": "9b9d9a4d42cd4c6189db6500567ab400",
       "version_major": 2,
       "version_minor": 0
      },
      "text/plain": [
       "Split strings:   0%|          | 0/1 [00:00<?, ?it/s]"
      ]
     },
     "metadata": {},
     "output_type": "display_data"
    },
    {
     "data": {
      "application/vnd.jupyter.widget-view+json": {
       "model_id": "497b79f20bac475182cd55df0acdf99e",
       "version_major": 2,
       "version_minor": 0
      },
      "text/plain": [
       "Split strings:   0%|          | 0/1 [00:00<?, ?it/s]"
      ]
     },
     "metadata": {},
     "output_type": "display_data"
    },
    {
     "data": {
      "application/vnd.jupyter.widget-view+json": {
       "model_id": "6582b841671f4d2fb2aaa8e9a1cb8e8c",
       "version_major": 2,
       "version_minor": 0
      },
      "text/plain": [
       "Split strings:   0%|          | 0/1 [00:00<?, ?it/s]"
      ]
     },
     "metadata": {},
     "output_type": "display_data"
    },
    {
     "data": {
      "application/vnd.jupyter.widget-view+json": {
       "model_id": "1816d1ead321472ea7aee1904301b9f6",
       "version_major": 2,
       "version_minor": 0
      },
      "text/plain": [
       "Split strings:   0%|          | 0/1 [00:00<?, ?it/s]"
      ]
     },
     "metadata": {},
     "output_type": "display_data"
    },
    {
     "data": {
      "application/vnd.jupyter.widget-view+json": {
       "model_id": "552434ca565b4984b35861c21f4fba38",
       "version_major": 2,
       "version_minor": 0
      },
      "text/plain": [
       "Split strings:   0%|          | 0/1 [00:00<?, ?it/s]"
      ]
     },
     "metadata": {},
     "output_type": "display_data"
    },
    {
     "data": {
      "application/vnd.jupyter.widget-view+json": {
       "model_id": "41af9ab91ac6441fad7a01020fff4202",
       "version_major": 2,
       "version_minor": 0
      },
      "text/plain": [
       "Split strings:   0%|          | 0/1 [00:00<?, ?it/s]"
      ]
     },
     "metadata": {},
     "output_type": "display_data"
    },
    {
     "data": {
      "application/vnd.jupyter.widget-view+json": {
       "model_id": "b092b0ac27b2429fa857738dbdb537b8",
       "version_major": 2,
       "version_minor": 0
      },
      "text/plain": [
       "Split strings:   0%|          | 0/1 [00:00<?, ?it/s]"
      ]
     },
     "metadata": {},
     "output_type": "display_data"
    }
   ],
   "source": [
    "#result=result_processed\n",
    "\n",
    "\n",
    "def chunk_text_by_word_limit(data, token_limit):\n",
    "    chunked_data = []  # This will store the list of chunked text for all pages\n",
    "    \n",
    "    for page in data['pages']:\n",
    "        for bbox in page['bboxes']:\n",
    "            current_chunk = ''  # String to accumulate raw_text until we reach the word limit\n",
    "            current_token_count = 0  # Track the current word count in the chunk\n",
    "            if bbox['role'] == 'paragraph':\n",
    "                #current_reading_order=bbox['reading_order']\n",
    "                raw_text = bbox.get('raw_text')\n",
    "                # Calculate the word count of the current raw_text\n",
    "                tokenized_output = bm25s.tokenize([raw_text])  \n",
    "                tokens = tokenized_output[0][0]  \n",
    "                token_count = len(tokens)\n",
    "\n",
    "\n",
    "                # If adding the current raw_text exceeds the word limit, start a new chunk\n",
    "                if current_token_count + token_count > token_limit:\n",
    "                    # Add the current chunk to the page_chunks\n",
    "                    chunked_data.append(current_chunk.strip())\n",
    "\n",
    "                    # Reset the current chunk with the current raw_text\n",
    "                    current_chunk = raw_text\n",
    "                    current_token_count = token_count\n",
    "                else:\n",
    "                    # Add the current raw_text to the existing chunk\n",
    "                    current_chunk += ' ' + raw_text\n",
    "                    current_token_count += token_count\n",
    "\n",
    "        # After the loop, if there's any remaining text in the chunk, add it\n",
    "            if current_chunk:\n",
    "                chunked_data.append(current_chunk.strip())\n",
    "\n",
    "\n",
    "    return chunked_data\n",
    "\n",
    "\n",
    "# Chunking the text\n",
    "chunked_result = chunk_text_by_word_limit(processed_result_reordered, 200)\n"
   ]
  },
  {
   "cell_type": "code",
   "execution_count": 21,
   "metadata": {},
   "outputs": [
    {
     "data": {
      "text/plain": [
       "['Q2 2024',\n",
       " '4 vs. Q2 2023',\n",
       " '4 vs. Q1 2024',\n",
       " 'Notes: C&O - Corporate & Other, TBV - tangible book value; for footnotes refer to slides 41 and 42',\n",
       " 'Deutsche Bank. Investor Relations',\n",
       " 'Divisional revenues',\n",
       " \"> Noninterest expenses up due to the booking of Postbank takeover litigation provision, also impacting this quarter's profit and performance measures\",\n",
       " ':unselected: Net interest margin',\n",
       " 'Key banking book segment1 development',\n",
       " 'Q3 2023',\n",
       " 'Q4 2023',\n",
       " 'Q1 2024',\n",
       " 'Q2 2024',\n",
       " 'Notes: for footnotes refer to slides 41 and 42']"
      ]
     },
     "execution_count": 21,
     "metadata": {},
     "output_type": "execute_result"
    }
   ],
   "source": [
    "chunked_result"
   ]
  },
  {
   "cell_type": "code",
   "execution_count": 10,
   "metadata": {},
   "outputs": [
    {
     "data": {
      "application/vnd.jupyter.widget-view+json": {
       "model_id": "4ad9881f667345e9a99e531a53cf09a9",
       "version_major": 2,
       "version_minor": 0
      },
      "text/plain": [
       "Split strings:   0%|          | 0/14 [00:00<?, ?it/s]"
      ]
     },
     "metadata": {},
     "output_type": "display_data"
    },
    {
     "data": {
      "application/vnd.jupyter.widget-view+json": {
       "model_id": "0c3a304b35d34a868c88d28af20954fe",
       "version_major": 2,
       "version_minor": 0
      },
      "text/plain": [
       "BM25S Count Tokens:   0%|          | 0/14 [00:00<?, ?it/s]"
      ]
     },
     "metadata": {},
     "output_type": "display_data"
    },
    {
     "data": {
      "application/vnd.jupyter.widget-view+json": {
       "model_id": "c06300de24bd4f34b6bffdaa8286ce5c",
       "version_major": 2,
       "version_minor": 0
      },
      "text/plain": [
       "BM25S Compute Scores:   0%|          | 0/14 [00:00<?, ?it/s]"
      ]
     },
     "metadata": {},
     "output_type": "display_data"
    },
    {
     "data": {
      "application/vnd.jupyter.widget-view+json": {
       "model_id": "9d83ffb6174949fc80926375a90afb76",
       "version_major": 2,
       "version_minor": 0
      },
      "text/plain": [
       "Split strings:   0%|          | 0/1 [00:00<?, ?it/s]"
      ]
     },
     "metadata": {},
     "output_type": "display_data"
    },
    {
     "data": {
      "application/vnd.jupyter.widget-view+json": {
       "model_id": "29071fc5910f468887247d4ec227f06e",
       "version_major": 2,
       "version_minor": 0
      },
      "text/plain": [
       "BM25S Retrieve:   0%|          | 0/1 [00:00<?, ?it/s]"
      ]
     },
     "metadata": {},
     "output_type": "display_data"
    },
    {
     "name": "stdout",
     "output_type": "stream",
     "text": [
      "{'chunk_number': 0, 'relevance_confidence': 0.0, 'raw_text': 'Notes: for footnotes refer to slides 41 and 42'}\n",
      "{'chunk_number': 1, 'relevance_confidence': 0.0, 'raw_text': 'Q2 2024'}\n",
      "{'chunk_number': 2, 'relevance_confidence': 0.0, 'raw_text': 'Q1 2024'}\n",
      "{'chunk_number': 3, 'relevance_confidence': 0.0, 'raw_text': 'Q4 2023'}\n",
      "{'chunk_number': 4, 'relevance_confidence': 0.0, 'raw_text': 'Q3 2023'}\n",
      "{'chunk_number': 5, 'relevance_confidence': 0.0, 'raw_text': 'Key banking book segment1 development'}\n",
      "{'chunk_number': 6, 'relevance_confidence': 0.0, 'raw_text': ':unselected: Net interest margin'}\n",
      "{'chunk_number': 7, 'relevance_confidence': 0.0, 'raw_text': \"> Noninterest expenses up due to the booking of Postbank takeover litigation provision, also impacting this quarter's profit and performance measures\"}\n",
      "{'chunk_number': 8, 'relevance_confidence': 0.0, 'raw_text': 'Divisional revenues'}\n",
      "{'chunk_number': 9, 'relevance_confidence': 0.0, 'raw_text': 'Deutsche Bank. Investor Relations'}\n",
      "{'chunk_number': 10, 'relevance_confidence': 0.0, 'raw_text': 'Notes: C&O - Corporate & Other, TBV - tangible book value; for footnotes refer to slides 41 and 42'}\n",
      "{'chunk_number': 11, 'relevance_confidence': 0.0, 'raw_text': '4 vs. Q1 2024'}\n",
      "{'chunk_number': 12, 'relevance_confidence': 0.0, 'raw_text': '4 vs. Q2 2023'}\n",
      "{'chunk_number': 13, 'relevance_confidence': 0.0, 'raw_text': 'Q2 2024'}\n"
     ]
    }
   ],
   "source": [
    "# Assuming chunked_result is already created as a flat list of text chunks\n",
    "retrieval_results = []\n",
    "retrieve_text = chunked_result  # This is the flat list of chunks\n",
    "corpus_tokens = bm25s.tokenize(retrieve_text)  # Tokenize all text chunks\n",
    "retriever = bm25s.BM25(corpus=retrieve_text)  # Initialize BM25 with the corpus\n",
    "retriever.index(corpus_tokens)  # Index the tokenized corpus\n",
    "\n",
    "# Now search the corpus with a query\n",
    "query = \"revenue\"  # Query to search for\n",
    "query_tokens = bm25s.tokenize(query)  # Tokenize the query\n",
    "chunks, scores = retriever.retrieve(query_tokens, k=len(retrieve_text))  # Retrieve results for all chunks\n",
    "\n",
    "chunks=[chunk for row_chunks in chunks for chunk in row_chunks]\n",
    "scores=[score for row_scores in scores for score in row_scores]\n",
    "\n",
    "# Store the scores and text in retrieval_results\n",
    "for idx, score in enumerate(scores):  # Loop through all scores (not scores[0])\n",
    "    retrieval_dict = {\n",
    "        \"chunk_number\": idx,  # Use chunk number returned by retrieve\n",
    "        \"relevance_confidence\": score,  # Confidence score for this chunk\n",
    "        \"raw_text\": chunks[idx]  # Retrieve the corresponding chunk of text\n",
    "    }\n",
    "\n",
    "    # Append the dictionary to the results list\n",
    "    retrieval_results.append(retrieval_dict)\n",
    "\n",
    "# Example of how to use the retrieval_results\n",
    "for result in retrieval_results:\n",
    "    print(result)\n",
    "\n",
    "\n"
   ]
  },
  {
   "cell_type": "markdown",
   "metadata": {},
   "source": [
    "### Retrieving information using LLMs"
   ]
  },
  {
   "cell_type": "code",
   "execution_count": 234,
   "metadata": {},
   "outputs": [],
   "source": [
    "import dotenv\n",
    "\n",
    "# Load credentials from .env file\n",
    "AZURE_OPENAI_API_KEY = os.getenv(\"AZURE_OPENAI_API_KEY\")\n",
    "AZURE_OPENAI_ENDPOINT = os.getenv(\"AZURE_OPENAI_ENDPOINT\")"
   ]
  },
  {
   "cell_type": "code",
   "execution_count": 240,
   "metadata": {},
   "outputs": [
    {
     "name": "stdout",
     "output_type": "stream",
     "text": [
      "Yes, multiple Azure AI services support customer managed keys (CMK) to enhance data security and compliance requirements. These services typically include:\n",
      "\n",
      "1. **Azure Cognitive Services**: Many of the individual services within Azure Cognitive Services support CMK, such as Text Analytics, Computer Vision, Translator, and more.\n",
      "\n",
      "2. **Azure Machine Learning**: Azure Machine Learning allows you to use customer managed keys to encrypt data stored in the workspace.\n",
      "\n",
      "3. **Azure Cognitive Search**: This service can also utilize CMK to encrypt the indexed data.\n",
      "\n",
      "4. **Azure Synapse Analytics**: Supports CMK for encryption of data within the workspace, integrating with various AI capabilities.\n",
      "\n",
      "Customer managed keys in Azure are often integrated with Azure Key Vault, where you can manage your encryption keys. By using CMK, customers gain greater control over the encryption and decryption of their data.\n",
      "\n",
      "For specific details on how to configure and use customer managed keys with each service, it's advised to refer to the official Azure documentation relevant to the service in question.\n"
     ]
    }
   ],
   "source": [
    "import os\n",
    "from openai import AzureOpenAI\n",
    "from dotenv import load_dotenv\n",
    "\n",
    "load_dotenv()\n",
    "\n",
    "client = AzureOpenAI(\n",
    "    azure_endpoint = os.getenv(\"AZURE_OPENAI_ENDPOINT\"), \n",
    "    api_key=os.getenv(\"AZURE_OPENAI_API_KEY\"),  \n",
    "    api_version=\"2024-05-01-preview\"\n",
    ")\n",
    "\n",
    "response = client.chat.completions.create(\n",
    "    model=\"gpt-4o\", # model = \"deployment_name\".\n",
    "    messages=[\n",
    "        {\"role\": \"system\", \"content\": \"You are a helpful assistant.\"},\n",
    "        {\"role\": \"user\", \"content\": \"Does Azure OpenAI support customer managed keys?\"},\n",
    "        {\"role\": \"assistant\", \"content\": \"Yes, customer managed keys are supported by Azure OpenAI.\"},\n",
    "        {\"role\": \"user\", \"content\": \"Do other Azure AI services support this too?\"}\n",
    "    ]\n",
    ")\n",
    "\n",
    "print(response.choices[0].message.content)"
   ]
  },
  {
   "cell_type": "code",
   "execution_count": null,
   "metadata": {},
   "outputs": [],
   "source": []
  },
  {
   "cell_type": "code",
   "execution_count": null,
   "metadata": {},
   "outputs": [],
   "source": []
  },
  {
   "cell_type": "code",
   "execution_count": null,
   "metadata": {},
   "outputs": [],
   "source": []
  },
  {
   "cell_type": "code",
   "execution_count": 211,
   "metadata": {},
   "outputs": [
    {
     "data": {
      "text/plain": [
       "['<!-- PageHeader=\"Deutsche Bank Annual Report 2023\" -->\\n<!-- PageHeader=\"Letter from the Chairman of the Supervisory Board\" -->\\n\\n\\n# Letter from the Chairman of the Supervisory Board\\n\\nDear Shareholders,\\n\\nLast year, Deutsche Bank proved its resilience in a volatile environment, further increasing revenues and delivering its best\\npre-tax profit in 16 years. Thanks to its prudent risk management, the bank has a strong and stable balance sheet and has\\nfurther strengthened its capital base. As a result, we are this year once again in a position to substantially increase capital\\ndistributions to shareholders and we are pleased that the Supervisory Board and Management Board will propose to you a\\n50% increase in the dividend to € 0.45 per share at this year\\'s Annual General Meeting.\\n\\nIn this economic environment, the resilience and sustainable profitability of our bank were also focus topics for the Supervisory\\nBoard. It was the Risk Committee\\'s task to keep an eye on our capital adequacy as well as to oversee the bank\\'s risk\\nmanagement and the development of non-financial risks. Another priority was to set the course for future growth. The\\nSupervisory Board closely monitored the strategic development of the bank\\'s culture and business model together with its\\nfinancial targets and capital objectives up to 2025. The Supervisory Board expressly supports the bank\\'s even sharper focus\\non its role as a Global Hausbank. Part of this is supporting clients in their sustainable and digital transformation. This strategy\\nnot only enables the bank to play its role within the German and European economy but also - of this the Supervisory Board\\nis convinced - it is the right way to generate sustainable profits and returns for you as shareholders. In this context, the\\nSupervisory Board welcomes and supports the Management Board\\'s work on clearly defining the bank\\'s purpose, its vision\\nand aspirational culture, guided by the conviction that our top priority must be an even stronger focus on placing our clients at\\nthe center of everything we do.\\n\\nEffective controls protect both our bank and our clients. Further improving these controls was another important topic last\\nyear. The Supervisory Board regularly discussed significant regulatory issues as well as progress in the processing of material\\nlitigation cases. We are aware that there is still more to do. The Management Board and Supervisory Board are in close\\ndialogue with regulators and are focused on delivering the necessary improvements. To achieve this, the bank spent about\\n€ 1.2 billion on controls in 2023 and hired around 1,000 dedicated professionals across all regions. More details on these\\nimportant issues can be found in Deutsche Bank\\'s Non-Financial Report, which is published in parallel with this Annual Report.\\n\\nOne of the issues that the Supervisory Board addressed intensively last year was the restrictions for our clients following the\\nmigration of Postbank\\'s IT to a common platform. The Management Board regularly reported to the Supervisory Board on the\\nprogress made in resolving the backlogs that had arisen, which were able to be reduced substantially over the past months.\\nNevertheless, it is clear that we have not lived up to our service and quality standards here and have disappointed our clients.\\nOn behalf of the Supervisory Board I would like to express my sincere apologies for the delays and problems caused to our\\nclients. The Supervisory Board has taken action as a result and reduced the variable compensation of several current and\\ndeparted Management Board members. Details can be found in our Compensation Report.\\n\\nThere you will also find information on how we intend to develop the Management Board compensation system for 2024 and\\nbeyond. In our review, we incorporated feedback from investors and are addressing two main concerns: first, we want to\\nsimplify the system, making it more transparent for our external stakeholders, by significantly reducing the number of targets\\nand indicators on which variable compensation depends. Second, we aim to align how we evaluate Management Board\\nmembers\\' performance even more closely with the interests of our shareholders. This applies above all to the long-term\\ncomponent of variable compensation, which in future will no longer be measured against past years\\' results. In the new system,\\nboth financial and ESG targets will be forward-looking over a period of three years. In addition, we aim to be more ambitious\\nwhen it comes to setting targets for certain key performance indicators. We will submit the revised compensation system to\\nyou for voting at the Annual General Meeting in May; it is to be applied as early as this year.\\n\\nIn 2023, the Supervisory Board also addressed personnel decisions in the Management Board. At the Annual General\\nMeeting, we bid farewell to Christiana Riley, Americas CEO, and Karl von Rohr, President and Head of Private Bank, who left\\nthe bank at the end of October after 25 years of service. Claudio de Sanctis subsequently assumed responsibility for the\\nPrivate Bank and joined the Management Board in July. He has been with Deutsche Bank since 2018 and has successfully\\ntransformed the International Private Bank in recent years and focused it on its strengths in the advisory business. Stefan\\nSimon assumed responsibility for the Americas region - in addition to his global responsibility for Legal, Regulatory Affairs\\nand Anti-Financial Crime. Besides client coverage, the structure of the US market requires significant coordination and\\ndialogue with regulators. Responsible for maintaining closer connections between the regions and our home market is\\nAlexander von zur Mühlen. He assumed responsibility for Germany and Europe, Middle East and Africa (EMEA) in July. He\\nalso continues to oversee the Asia-Pacific region. Rebecca Short was given an extended mandate on the Management Board\\nwith a view to making the bank more efficient. In addition to her responsibility for Human Resources, she was appointed Chief\\nOperating Officer with overall responsibility for the Group\\'s costs.\\n\\n<!-- PageNumber=\"VI\" -->\\n<!-- PageBreak -->\\n\\n<!-- PageHeader=\"Deutsche Bank Annual Report 2023\" -->\\n<!-- PageHeader=\"Letter from the Chairman of the Supervisory Board\" -->\\n\\nAs part of personnel reorganization measures, the Management Board was reduced from ten to nine members to make it\\nmore efficient. With this new composition, we do, however, fall short of our own commitment regarding the share of women\\non the Management Board. The Supervisory Board is focused on raising the proportion of women in leadership roles, both at\\nManagement Board level and below. As part of the bank\\'s new compensation system, we seek to integrate the latter more\\nfirmly into the performance goals of our Management Board members.\\n\\nOn the Supervisory Board, there was a routine change as a result of last year\\'s elections, with Susanne Bleidt, Claudia Fieber,\\nBrigit Laumen, Gerlinde Siebert, Frank Schulze, Stephan Szukalski and Jürgen Tögel being newly elected as employee\\nrepresentatives, while Jan Duscheck, Manja Eifert and Timo Heider were re-elected for a further term of office. In January\\n2024, Birgit Laumen resigned from her mandate and the court subsequently appointed Florian Haggenmiller as her successor.\\nI would like to once again welcome all those who joined the Supervisory Board. My special thanks go to Frank Schulze, one\\nof my deputies, for the close cooperation and partnership since the very beginning.\\n\\nOn the shareholder side, continuity was the order of the day. Four shareholder representatives, whose term of office expired\\nin 2023, were each re-elected by the Annual General Meeting for another four years. We look forward to continuing our\\nvaluable collaboration with Mayree Clark, John Thain, Michele Trogni and Norbert Winkeljohann.\\n\\nIn 2024, our Annual General Meeting will again be held virtually. The experience of the past few years has convinced us to\\ntake this step; this inclusive format offers numerous benefits. We have received recognition for the transparent implementation\\nand quality of the answers to shareholder questions, which will again be submitted in advance this year. At the same time, we\\naim to enable an enhanced dialogue with shareholders on the day of the Annual General Meeting.\\n\\nDear shareholders, the Supervisory Board is confident that your Deutsche Bank is on the right track. The bank has the right\\nset-up and a strong management team. We will do everything we can to support them in the next phase of their growth strategy\\nand to put our clients at the heart of everything we do. I am convinced that if we focus on our clients and our strengths, we will\\ncontinue to create sustainable value for you, our shareholders.\\n\\nSincerely,\\n\\nAlex Wynandts\\n\\nAlex Wynaendts\\n\\nChairman of the Supervisory Board\\n\\n<!-- PageNumber=\"VII\" -->\\n']"
      ]
     },
     "execution_count": 211,
     "metadata": {},
     "output_type": "execute_result"
    }
   ],
   "source": [
    "[result_original['content']]"
   ]
  },
  {
   "cell_type": "code",
   "execution_count": 222,
   "metadata": {},
   "outputs": [
    {
     "name": "stderr",
     "output_type": "stream",
     "text": [
      "Created a chunk of size 1269, which is longer than the specified 1000\n",
      "Created a chunk of size 1067, which is longer than the specified 1000\n",
      "Created a chunk of size 1392, which is longer than the specified 1000\n"
     ]
    },
    {
     "name": "stdout",
     "output_type": "stream",
     "text": [
      "On the shareholder side, continuity was the order of the day. Four shareholder representatives, whose term of office expired\n",
      "in 2023, were each re-elected by the Annual General Meeting for another four years. We look forward to continuing our\n",
      "valuable collaboration with Mayree Clark, John Thain, Michele Trogni and Norbert Winkeljohann.\n",
      "\n",
      "In 2024, our Annual General Meeting will again be held virtually. The experience of the past few years has convinced us to\n",
      "take this step; this inclusive format offers numerous benefits. We have received recognition for the transparent implementation\n",
      "and quality of the answers to shareholder questions, which will again be submitted in advance this year. At the same time, we\n",
      "aim to enable an enhanced dialogue with shareholders on the day of the Annual General Meeting.\n"
     ]
    }
   ],
   "source": [
    "from langchain_experimental.text_splitter import SemanticChunker\n",
    "from langchain_openai.embeddings import OpenAIEmbeddings\n",
    "\n",
    "semantic_chunker=SemanticChunker(embed_model,breakpoint_threshold_type=\"standard_deviation\")\n",
    "\n",
    "docs = text_splitter.create_documents([result_original['content']])\n",
    "print(docs[-2].page_content)\n",
    "\n",
    "#for semantic_chunk in semantic_chunks:\n",
    "    #if \"chairman of supervisory board\" in semantic_chunk.result_original['content']:\n",
    "       # print(semantic_chunk.result_original['content'])\n",
    "       # print(len(semantic_chunk.result_original['content']))\n"
   ]
  },
  {
   "cell_type": "code",
   "execution_count": 217,
   "metadata": {},
   "outputs": [
    {
     "data": {
      "text/plain": [
       "[Document(metadata={}, page_content='<!-- PageHeader=\"Deutsche Bank Annual Report 2023\" -->\\n<!-- PageHeader=\"Letter from the Chairman of the Supervisory Board\" -->\\n\\n\\n# Letter from the Chairman of the Supervisory Board\\n\\nDear Shareholders,\\n\\nLast year, Deutsche Bank proved its resilience in a volatile environment, further increasing revenues and delivering its best\\npre-tax profit in 16 years. Thanks to its prudent risk management, the bank has a strong and stable balance sheet and has\\nfurther strengthened its capital base. As a result, we are this year once again in a position to substantially increase capital\\ndistributions to shareholders and we are pleased that the Supervisory Board and Management Board will propose to you a\\n50% increase in the dividend to € 0.45 per share at this year\\'s Annual General Meeting.'),\n",
       " Document(metadata={}, page_content=\"In this economic environment, the resilience and sustainable profitability of our bank were also focus topics for the Supervisory\\nBoard. It was the Risk Committee's task to keep an eye on our capital adequacy as well as to oversee the bank's risk\\nmanagement and the development of non-financial risks. Another priority was to set the course for future growth. The\\nSupervisory Board closely monitored the strategic development of the bank's culture and business model together with its\\nfinancial targets and capital objectives up to 2025. The Supervisory Board expressly supports the bank's even sharper focus\\non its role as a Global Hausbank. Part of this is supporting clients in their sustainable and digital transformation. This strategy\\nnot only enables the bank to play its role within the German and European economy but also - of this the Supervisory Board\\nis convinced - it is the right way to generate sustainable profits and returns for you as shareholders. In this context, the\\nSupervisory Board welcomes and supports the Management Board's work on clearly defining the bank's purpose, its vision\\nand aspirational culture, guided by the conviction that our top priority must be an even stronger focus on placing our clients at\\nthe center of everything we do.\"),\n",
       " Document(metadata={}, page_content=\"Effective controls protect both our bank and our clients. Further improving these controls was another important topic last\\nyear. The Supervisory Board regularly discussed significant regulatory issues as well as progress in the processing of material\\nlitigation cases. We are aware that there is still more to do. The Management Board and Supervisory Board are in close\\ndialogue with regulators and are focused on delivering the necessary improvements. To achieve this, the bank spent about\\n€ 1.2 billion on controls in 2023 and hired around 1,000 dedicated professionals across all regions. More details on these\\nimportant issues can be found in Deutsche Bank's Non-Financial Report, which is published in parallel with this Annual Report.\"),\n",
       " Document(metadata={}, page_content=\"One of the issues that the Supervisory Board addressed intensively last year was the restrictions for our clients following the\\nmigration of Postbank's IT to a common platform. The Management Board regularly reported to the Supervisory Board on the\\nprogress made in resolving the backlogs that had arisen, which were able to be reduced substantially over the past months.\\nNevertheless, it is clear that we have not lived up to our service and quality standards here and have disappointed our clients.\\nOn behalf of the Supervisory Board I would like to express my sincere apologies for the delays and problems caused to our\\nclients. The Supervisory Board has taken action as a result and reduced the variable compensation of several current and\\ndeparted Management Board members. Details can be found in our Compensation Report.\"),\n",
       " Document(metadata={}, page_content=\"There you will also find information on how we intend to develop the Management Board compensation system for 2024 and\\nbeyond. In our review, we incorporated feedback from investors and are addressing two main concerns: first, we want to\\nsimplify the system, making it more transparent for our external stakeholders, by significantly reducing the number of targets\\nand indicators on which variable compensation depends. Second, we aim to align how we evaluate Management Board\\nmembers' performance even more closely with the interests of our shareholders. This applies above all to the long-term\\ncomponent of variable compensation, which in future will no longer be measured against past years' results. In the new system,\\nboth financial and ESG targets will be forward-looking over a period of three years. In addition, we aim to be more ambitious\\nwhen it comes to setting targets for certain key performance indicators. We will submit the revised compensation system to\\nyou for voting at the Annual General Meeting in May; it is to be applied as early as this year.\"),\n",
       " Document(metadata={}, page_content=\"In 2023, the Supervisory Board also addressed personnel decisions in the Management Board. At the Annual General\\nMeeting, we bid farewell to Christiana Riley, Americas CEO, and Karl von Rohr, President and Head of Private Bank, who left\\nthe bank at the end of October after 25 years of service. Claudio de Sanctis subsequently assumed responsibility for the\\nPrivate Bank and joined the Management Board in July. He has been with Deutsche Bank since 2018 and has successfully\\ntransformed the International Private Bank in recent years and focused it on its strengths in the advisory business. Stefan\\nSimon assumed responsibility for the Americas region - in addition to his global responsibility for Legal, Regulatory Affairs\\nand Anti-Financial Crime. Besides client coverage, the structure of the US market requires significant coordination and\\ndialogue with regulators. Responsible for maintaining closer connections between the regions and our home market is\\nAlexander von zur Mühlen. He assumed responsibility for Germany and Europe, Middle East and Africa (EMEA) in July. He\\nalso continues to oversee the Asia-Pacific region. Rebecca Short was given an extended mandate on the Management Board\\nwith a view to making the bank more efficient. In addition to her responsibility for Human Resources, she was appointed Chief\\nOperating Officer with overall responsibility for the Group's costs.\"),\n",
       " Document(metadata={}, page_content='<!-- PageNumber=\"VI\" -->\\n<!-- PageBreak -->\\n\\n<!-- PageHeader=\"Deutsche Bank Annual Report 2023\" -->\\n<!-- PageHeader=\"Letter from the Chairman of the Supervisory Board\" -->\\n\\nAs part of personnel reorganization measures, the Management Board was reduced from ten to nine members to make it\\nmore efficient. With this new composition, we do, however, fall short of our own commitment regarding the share of women\\non the Management Board. The Supervisory Board is focused on raising the proportion of women in leadership roles, both at\\nManagement Board level and below. As part of the bank\\'s new compensation system, we seek to integrate the latter more\\nfirmly into the performance goals of our Management Board members.'),\n",
       " Document(metadata={}, page_content=\"On the Supervisory Board, there was a routine change as a result of last year's elections, with Susanne Bleidt, Claudia Fieber,\\nBrigit Laumen, Gerlinde Siebert, Frank Schulze, Stephan Szukalski and Jürgen Tögel being newly elected as employee\\nrepresentatives, while Jan Duscheck, Manja Eifert and Timo Heider were re-elected for a further term of office. In January\\n2024, Birgit Laumen resigned from her mandate and the court subsequently appointed Florian Haggenmiller as her successor.\\nI would like to once again welcome all those who joined the Supervisory Board. My special thanks go to Frank Schulze, one\\nof my deputies, for the close cooperation and partnership since the very beginning.\"),\n",
       " Document(metadata={}, page_content='On the shareholder side, continuity was the order of the day. Four shareholder representatives, whose term of office expired\\nin 2023, were each re-elected by the Annual General Meeting for another four years. We look forward to continuing our\\nvaluable collaboration with Mayree Clark, John Thain, Michele Trogni and Norbert Winkeljohann.\\n\\nIn 2024, our Annual General Meeting will again be held virtually. The experience of the past few years has convinced us to\\ntake this step; this inclusive format offers numerous benefits. We have received recognition for the transparent implementation\\nand quality of the answers to shareholder questions, which will again be submitted in advance this year. At the same time, we\\naim to enable an enhanced dialogue with shareholders on the day of the Annual General Meeting.'),\n",
       " Document(metadata={}, page_content='Dear shareholders, the Supervisory Board is confident that your Deutsche Bank is on the right track. The bank has the right\\nset-up and a strong management team. We will do everything we can to support them in the next phase of their growth strategy\\nand to put our clients at the heart of everything we do. I am convinced that if we focus on our clients and our strengths, we will\\ncontinue to create sustainable value for you, our shareholders.\\n\\nSincerely,\\n\\nAlex Wynandts\\n\\nAlex Wynaendts\\n\\nChairman of the Supervisory Board\\n\\n<!-- PageNumber=\"VII\" -->')]"
      ]
     },
     "execution_count": 217,
     "metadata": {},
     "output_type": "execute_result"
    }
   ],
   "source": [
    "docs"
   ]
  },
  {
   "cell_type": "code",
   "execution_count": null,
   "metadata": {},
   "outputs": [],
   "source": []
  },
  {
   "cell_type": "code",
   "execution_count": 31,
   "metadata": {},
   "outputs": [
    {
     "ename": "KeyError",
     "evalue": "'pages'",
     "output_type": "error",
     "traceback": [
      "\u001b[0;31m---------------------------------------------------------------------------\u001b[0m",
      "\u001b[0;31mKeyError\u001b[0m                                  Traceback (most recent call last)",
      "Cell \u001b[0;32mIn[26], line 3\u001b[0m\n\u001b[1;32m      1\u001b[0m retrieval_results \u001b[38;5;241m=\u001b[39m []\n\u001b[0;32m----> 3\u001b[0m \u001b[38;5;28;01mfor\u001b[39;00m page \u001b[38;5;129;01min\u001b[39;00m result[\u001b[38;5;124m'\u001b[39m\u001b[38;5;124mpages\u001b[39m\u001b[38;5;124m'\u001b[39m]:\n\u001b[1;32m      4\u001b[0m     page_number\u001b[38;5;241m=\u001b[39mpage[\u001b[38;5;124m'\u001b[39m\u001b[38;5;124mpage_number\u001b[39m\u001b[38;5;124m'\u001b[39m]\n\u001b[1;32m      5\u001b[0m     \u001b[38;5;28;01mfor\u001b[39;00m paragraph \u001b[38;5;129;01min\u001b[39;00m page[\u001b[38;5;124m'\u001b[39m\u001b[38;5;124mcontent_page\u001b[39m\u001b[38;5;124m'\u001b[39m][\u001b[38;5;124m'\u001b[39m\u001b[38;5;124mparagraphs\u001b[39m\u001b[38;5;124m'\u001b[39m]:\n",
      "\u001b[0;31mKeyError\u001b[0m: 'pages'"
     ]
    }
   ],
   "source": [
    "retrieval_results = []\n",
    "\n",
    "for page in result['pages']:\n",
    "    page_number=page['page_number']\n",
    "    for paragraph in page['content_page']['paragraphs']:\n",
    "        raw_text = paragraph.get('raw_text')\n",
    "        if raw_text:  # Check if raw_text is not None or empty\n",
    "            retrieve_text = [raw_text]\n",
    "            corpus_tokens = bm25s.tokenize(retrieve_text)\n",
    "            retriever = bm25s.BM25(corpus=retrieve_text)\n",
    "            retriever.index(corpus_tokens)\n",
    "            # You can now search the corpus with a query\n",
    "            #total=len(result[\"meta_info_file\"][\"paragraphsTotal\"])\n",
    "            query = \"Who is the chairman of the supervisory board?\"\n",
    "            query_tokens = bm25s.tokenize(query)\n",
    "            docs, scores = retriever.retrieve(query_tokens, k=1)\n",
    "            \n",
    "            retrieval_dict = {\n",
    "                \"page_number\": page_number,\n",
    "                \"relevance_confidence\": scores[0, 0],\n",
    "                \"raw_text\": retrieve_text[0]\n",
    "            }\n",
    "            \n",
    "            # Append the dictionary to the results list\n",
    "            retrieval_results.append(retrieval_dict)\n",
    "\n",
    "# Example of how to use the retrieval_results\n",
    "for result in retrieval_results:\n",
    "    print(result)\n"
   ]
  }
 ],
 "metadata": {
  "kernelspec": {
   "display_name": "pdfdatatoolkit",
   "language": "python",
   "name": "python3"
  },
  "language_info": {
   "codemirror_mode": {
    "name": "ipython",
    "version": 3
   },
   "file_extension": ".py",
   "mimetype": "text/x-python",
   "name": "python",
   "nbconvert_exporter": "python",
   "pygments_lexer": "ipython3",
   "version": "3.11.9"
  }
 },
 "nbformat": 4,
 "nbformat_minor": 2
}
